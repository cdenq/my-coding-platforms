{
 "cells": [
  {
   "cell_type": "markdown",
   "metadata": {},
   "source": [
    "# d"
   ]
  },
  {
   "cell_type": "code",
   "execution_count": 24,
   "metadata": {},
   "outputs": [
    {
     "data": {
      "text/plain": [
       "'\\nDifficulty: Medium\\n'"
      ]
     },
     "execution_count": 24,
     "metadata": {},
     "output_type": "execute_result"
    }
   ],
   "source": [
    "'''\n",
    "Difficulty: \n",
    "'''"
   ]
  },
  {
   "cell_type": "markdown",
   "metadata": {},
   "source": [
    "## Problem Statement"
   ]
  },
  {
   "cell_type": "code",
   "execution_count": 25,
   "metadata": {},
   "outputs": [
    {
     "data": {
      "text/plain": [
       "'\\nGiven an array of strings strs, group the anagrams together. You can return the answer in any order.\\n\\nAn Anagram is a word or phrase formed by rearranging the letters of a different word or phrase, typically using all the original letters exactly once.\\n\\nExample 1:\\nInput: strs = [\"eat\",\"tea\",\"tan\",\"ate\",\"nat\",\"bat\"]\\nOutput: [[\"bat\"],[\"nat\",\"tan\"],[\"ate\",\"eat\",\"tea\"]]\\n\\nExample 2:\\nInput: strs = [\"\"]\\nOutput: [[\"\"]]\\n\\nExample 3:\\nInput: strs = [\"a\"]\\nOutput: [[\"a\"]]\\n \\nConstraints:\\n1 <= strs.length <= 104\\n0 <= strs[i].length <= 100\\nstrs[i] consists of lowercase English letters.\\n'"
      ]
     },
     "execution_count": 25,
     "metadata": {},
     "output_type": "execute_result"
    }
   ],
   "source": [
    "'''\n",
    "\n",
    "'''"
   ]
  },
  {
   "cell_type": "markdown",
   "metadata": {},
   "source": [
    "## Given Test Cases"
   ]
  },
  {
   "cell_type": "code",
   "execution_count": 26,
   "metadata": {},
   "outputs": [
    {
     "data": {
      "text/plain": [
       "'\\nExample 1:\\nInput: strs = [\"eat\",\"tea\",\"tan\",\"ate\",\"nat\",\"bat\"]\\nOutput: [[\"bat\"],[\"nat\",\"tan\"],[\"ate\",\"eat\",\"tea\"]]\\n\\nExample 2:\\nInput: strs = [\"\"]\\nOutput: [[\"\"]]\\n\\nExample 3:\\nInput: strs = [\"a\"]\\nOutput: [[\"a\"]]\\n'"
      ]
     },
     "execution_count": 26,
     "metadata": {},
     "output_type": "execute_result"
    }
   ],
   "source": [
    "'''\n",
    "\n",
    "'''"
   ]
  },
  {
   "cell_type": "markdown",
   "metadata": {},
   "source": [
    "### Data Setup"
   ]
  },
  {
   "cell_type": "code",
   "execution_count": 27,
   "metadata": {},
   "outputs": [],
   "source": []
  },
  {
   "cell_type": "markdown",
   "metadata": {},
   "source": [
    "## Strategy and Solution"
   ]
  },
  {
   "cell_type": "markdown",
   "metadata": {},
   "source": [
    "### Brute Force Time = O() | Space = O(1)"
   ]
  },
  {
   "cell_type": "code",
   "execution_count": 29,
   "metadata": {},
   "outputs": [
    {
     "data": {
      "text/plain": [
       "\"\\nsimilar to the valid anagram problem, the brute force solution would be a triple for-loop:\\nfor every word in the list, for every letter in the that word, check for a bijective relationship against every other word for every letter.\\nanother way to imagine this: our base case is O(n^2), in which we check every other letter for every letter in our current word, and then we repeat this process m times for every word in the list.\\n\\nthus, if n is the average length of each word, and m is the length of the list of words, our runtime is O(m*n^2)\\n\\nsince it's just a comparison, we do not use any extra memory\\n\""
      ]
     },
     "execution_count": 29,
     "metadata": {},
     "output_type": "execute_result"
    }
   ],
   "source": [
    "'''\n",
    "CONCEPT\n",
    "    \n",
    "\n",
    "IMPLEMENTATION\n",
    "\n",
    "\n",
    "ANALYSIS\n",
    "    \n",
    "'''"
   ]
  },
  {
   "cell_type": "markdown",
   "metadata": {},
   "source": [
    "### Faster Solution Time = O() | Space = O(1)"
   ]
  },
  {
   "cell_type": "code",
   "execution_count": 30,
   "metadata": {},
   "outputs": [
    {
     "data": {
      "text/plain": [
       "\"\\nrecall from our previous problem statement (valid anagram), we discovered how anagrams of each other produce the same word when sorted.\\n\\nwe can attempt a similar solution here, in which we sort every word in the list, and then group all the equivalent reults together in their own sublists.\\n\\nthus, the cost to sort each word will be nlogn, and we have m words => O(m*nlogn)\\n\\nbecause the problem statement is asking us to return the anagrams themselves, our sorting cannot actually be done in place. we'd make a sorted copy of length n for each m word, meaning our total memory cost will be O(m*n)\\n\""
      ]
     },
     "execution_count": 30,
     "metadata": {},
     "output_type": "execute_result"
    }
   ],
   "source": [
    "'''\n",
    "CONCEPT\n",
    "    \n",
    "\n",
    "IMPLEMENTATION\n",
    "\n",
    "\n",
    "ANALYSIS\n",
    "    \n",
    "'''"
   ]
  },
  {
   "cell_type": "markdown",
   "metadata": {},
   "source": [
    "### Fastest Solution Time = O() | Space = O()"
   ]
  },
  {
   "cell_type": "code",
   "execution_count": 31,
   "metadata": {},
   "outputs": [
    {
     "data": {
      "text/plain": [
       "'\\nand last but not least, building off of the dictionary solution we discovered in valid anagram, we can implement a similar solution here\\n\\nCONCEPTUALLY:\\n    instead of having a dictionary with keys of the letter, we instead want keys to be the anagram itself.\\n\\n    for example: [\"eat\",\"tea\",\"tan\",\"ate\",\"nat\",\"bat\"]\\n    \"1e, 1a, 1t\" (which is the freq of letters in \"eat\") would itself be the whole key.\\n    the value to this key would be a list of the words that fit this anagram pattern.\\n\\n    thus, the idea is to spend O(n)*m to transform every word in the list into a key template and then either create a key for it in the dictionary if it doesnt exist or append it ot the list values.\\n\\n    at the end, we\\'d return all the values in the dictionary\\n\\n    the memory here would be at most O(m), because the values of the dictionary would be the entire length of the list\\n\\nIMPLEMENTATION:\\n    so when implementing the code, there are a few roadblocks we need to consider.\\n\\n    #1 is how we actually create this \"1e, 1a, 1t\" template.\\n        well, the immediate thought here is to create a freq list of all the letters in a word. we know in the problem statement that the letters are only a-z lowercase, and thus, can create an empty freq list where each index \\n        corresponds to 26 lowercase letters a-z. in code, itd be something like this:\\n        count = [0] * 26\\n        if our word is \"adz\" for eg, then our freq would be [1,0,0,1,0,0,0,0,0,0,0,0,0,0...0,1] where the len of this list is 26.\\n\\n    #1.5 how do we match a -> index 0, b -> index 1, etc. for this freq list?\\n        we could create a cipher on the side then compare, but the most direct way would be to use the builtin ord() function\\n\\n        every ASCII letter has a correpsonding unicode integer code, which we can access via ord().\\n        for eg, \"a\" is always mapped to int 97.\\n        thus, we can take advantage of this by subtracting 97 from \"a\" to determinsticaly get the result of 0, or the first index of our freq list\\n        given any lwr case letter, we can subtract 97 from this (or equivalent, ord(\"a\")) to \\'reduce\\' its corresponding code to the proper index of our freq list.\\n\\n        this allows us to accurately convert every \\n\\n    #2 is that python dict does not allow for lists as their keys.\\n        thus, we can convert this list to a tuple or a string, and then anytime a subsequent word\\'s freq_list-template comes to us, we\\'d check to see if they were the same\\n'"
      ]
     },
     "execution_count": 31,
     "metadata": {},
     "output_type": "execute_result"
    }
   ],
   "source": [
    "'''\n",
    "CONCEPT\n",
    "    \n",
    "\n",
    "IMPLEMENTATION\n",
    "\n",
    "\n",
    "ANALYSIS\n",
    "    \n",
    "'''"
   ]
  },
  {
   "cell_type": "code",
   "execution_count": 32,
   "metadata": {},
   "outputs": [],
   "source": []
  },
  {
   "cell_type": "code",
   "execution_count": 33,
   "metadata": {},
   "outputs": [
    {
     "data": {
      "text/plain": [
       "dict_values([['eat', 'tea', 'ate'], ['tan', 'nat'], ['bat']])"
      ]
     },
     "execution_count": 33,
     "metadata": {},
     "output_type": "execute_result"
    }
   ],
   "source": []
  },
  {
   "cell_type": "markdown",
   "metadata": {},
   "source": [
    "## Testing"
   ]
  },
  {
   "cell_type": "code",
   "execution_count": 34,
   "metadata": {},
   "outputs": [
    {
     "name": "stdout",
     "output_type": "stream",
     "text": [
      "dict_values([['eat', 'tea', 'ate'], ['tan', 'nat'], ['bat']])dict_values([['']])dict_values([['a']])\n"
     ]
    }
   ],
   "source": []
  },
  {
   "cell_type": "code",
   "execution_count": 35,
   "metadata": {},
   "outputs": [
    {
     "data": {
      "text/plain": [
       "'\\nPassed all test cases\\n'"
      ]
     },
     "execution_count": 35,
     "metadata": {},
     "output_type": "execute_result"
    }
   ],
   "source": [
    "'''\n",
    "Passed all test cases\n",
    "'''"
   ]
  }
 ],
 "metadata": {
  "interpreter": {
   "hash": "bc3210eb0411503d9a54e82308439f2538c49d86b5a7c00e1ae895fbe28c5986"
  },
  "kernelspec": {
   "display_name": "Python 3.8.12 ('PythonData')",
   "language": "python",
   "name": "python3"
  },
  "language_info": {
   "codemirror_mode": {
    "name": "ipython",
    "version": 3
   },
   "file_extension": ".py",
   "mimetype": "text/x-python",
   "name": "python",
   "nbconvert_exporter": "python",
   "pygments_lexer": "ipython3",
   "version": "3.8.12"
  },
  "orig_nbformat": 4
 },
 "nbformat": 4,
 "nbformat_minor": 2
}
