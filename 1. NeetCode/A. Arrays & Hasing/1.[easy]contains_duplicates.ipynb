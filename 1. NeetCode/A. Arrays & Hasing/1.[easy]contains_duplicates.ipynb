{
 "cells": [
  {
   "cell_type": "markdown",
   "metadata": {},
   "source": [
    "# Contains Duplicate"
   ]
  },
  {
   "cell_type": "code",
   "execution_count": 18,
   "metadata": {},
   "outputs": [
    {
     "data": {
      "text/plain": [
       "'\\nDifficulty: Easy\\n'"
      ]
     },
     "execution_count": 18,
     "metadata": {},
     "output_type": "execute_result"
    }
   ],
   "source": [
    "'''\n",
    "Difficulty: Easy\n",
    "'''"
   ]
  },
  {
   "cell_type": "markdown",
   "metadata": {},
   "source": [
    "## Problem Statement"
   ]
  },
  {
   "cell_type": "code",
   "execution_count": 19,
   "metadata": {},
   "outputs": [
    {
     "data": {
      "text/plain": [
       "'\\nGiven an integer array nums, return true if any value appears at least twice in the array, and return false if every element is distinct.\\n\\nExample 1:\\nInput: nums = [1,2,3,1]\\nOutput: true\\n\\nExample 2:\\nInput: nums = [1,2,3,4]\\nOutput: false\\n\\nExample 3:\\nInput: nums = [1,1,1,3,3,4,3,2,4,2]\\nOutput: true\\n \\n\\nConstraints:\\n1 <= nums.length <= 10^5\\n-10^9 <= nums[i] <= 10^9\\n'"
      ]
     },
     "execution_count": 19,
     "metadata": {},
     "output_type": "execute_result"
    }
   ],
   "source": [
    "'''\n",
    "Given an integer array nums, return true if any value appears at least twice in the array, and return false if every element is distinct.\n",
    "\n",
    "Example 1:\n",
    "Input: nums = [1,2,3,1]\n",
    "Output: true\n",
    "\n",
    "Example 2:\n",
    "Input: nums = [1,2,3,4]\n",
    "Output: false\n",
    "\n",
    "Example 3:\n",
    "Input: nums = [1,1,1,3,3,4,3,2,4,2]\n",
    "Output: true\n",
    " \n",
    "\n",
    "Constraints:\n",
    "1 <= nums.length <= 10^5\n",
    "-10^9 <= nums[i] <= 10^9\n",
    "'''"
   ]
  },
  {
   "cell_type": "markdown",
   "metadata": {},
   "source": [
    "## Given Test Cases"
   ]
  },
  {
   "cell_type": "code",
   "execution_count": 20,
   "metadata": {},
   "outputs": [
    {
     "data": {
      "text/plain": [
       "'\\nExample 1:\\nInput: nums = [1,2,3,1]\\nOutput: true\\n\\nExample 2:\\nInput: nums = [1,2,3,4]\\nOutput: false\\n\\nExample 3:\\nInput: nums = [1,1,1,3,3,4,3,2,4,2]\\nOutput: true\\n'"
      ]
     },
     "execution_count": 20,
     "metadata": {},
     "output_type": "execute_result"
    }
   ],
   "source": [
    "'''\n",
    "Example 1:\n",
    "Input: nums = [1,2,3,1]\n",
    "Output: true\n",
    "\n",
    "Example 2:\n",
    "Input: nums = [1,2,3,4]\n",
    "Output: false\n",
    "\n",
    "Example 3:\n",
    "Input: nums = [1,1,1,3,3,4,3,2,4,2]\n",
    "Output: true\n",
    "'''"
   ]
  },
  {
   "cell_type": "markdown",
   "metadata": {},
   "source": [
    "### Data Setup"
   ]
  },
  {
   "cell_type": "code",
   "execution_count": 21,
   "metadata": {},
   "outputs": [],
   "source": [
    "nums1 = [1,2,3,1]\n",
    "nums2 = [1,2,3,4]\n",
    "nums3 = [1,1,1,3,3,4,3,2,4,2]"
   ]
  },
  {
   "cell_type": "markdown",
   "metadata": {},
   "source": [
    "## Strategy and Solution"
   ]
  },
  {
   "cell_type": "markdown",
   "metadata": {},
   "source": [
    "### Brute Force Time = O(n2) | Space = O(1)"
   ]
  },
  {
   "cell_type": "code",
   "execution_count": 1,
   "metadata": {},
   "outputs": [
    {
     "data": {
      "text/plain": [
       "\"\\ndouble for-loop. for the every int in nums, iterate through every other nums to see if there is a duplicate\\n\\nwe can heavily improve on this because the sample space that we're checking is so large\\n\\nno extra memory is needed, so O(1)\\n\""
      ]
     },
     "execution_count": 1,
     "metadata": {},
     "output_type": "execute_result"
    }
   ],
   "source": [
    "'''\n",
    "CONCEPT\n",
    "    the naive approach would be to compare each integer with every other integer. mathematically, this means we're taking total combinations of 2 pairs of ints.\n",
    "    nC2 = n! / 2!(n-2)! = (n * (n-1)) / 2 = (n2 - n) / 2 total combinations\n",
    "\n",
    "IMPLEMENTATION\n",
    "    double for-loop. for the every int in nums, iterate through every other nums to see if there is a duplicate\n",
    "\n",
    "ANALYSIS\n",
    "    since we're touching (n2 - n) / 2 total combinations, our total sample space is within class of O(n2) as a worst case\n",
    "    no extra memory is needed, so O(1)\n",
    "'''"
   ]
  },
  {
   "cell_type": "markdown",
   "metadata": {},
   "source": [
    "### Faster Solution Time = O(nlogn) | Space = O(1)"
   ]
  },
  {
   "cell_type": "code",
   "execution_count": 23,
   "metadata": {},
   "outputs": [
    {
     "data": {
      "text/plain": [
       "'\\nsort nums O(nlogn).\\n\\nthis ensures that duplicates will be adjacent because they are the same value\\n\\nthen, iterate through the list O(n), checking to see if current int is the same as as the next int. the moment they match, return the value.\\n\\nthis reduces our search space to only O(n), but we spend O(nlogn) time sorting it. can still be improved\\n'"
      ]
     },
     "execution_count": 23,
     "metadata": {},
     "output_type": "execute_result"
    }
   ],
   "source": [
    "'''\n",
    "CONCEPT\n",
    "    we can heavily improve on this because the sample space that we're checking is so large\n",
    "\n",
    "    one way to reduce the number of ints that we check is introduce some sort of logic in terms of the sequence in which we check things.\n",
    "\n",
    "    for eg. if we were to check the numbers in order, it would ensure that all the duplicates would be the adjacent to each other, and we would be able to catch those duplicates much faster\n",
    "\n",
    "IMPLEMENTATION\n",
    "    sort nums O(nlogn).\n",
    "\n",
    "    then, iterate through the list O(n), checking to see if current int is the same as as the next int. the moment they match, return the value.\n",
    "\n",
    "ANALYSIS\n",
    "    this reduces our search space to only O(n), but we spend O(nlogn) time sorting it. can still be improved\n",
    "\n",
    "    the sort is \"inplace\" and thus, we don't need any extra memory\n",
    "'''"
   ]
  },
  {
   "cell_type": "markdown",
   "metadata": {},
   "source": [
    "### Fastest Solution Time = O(n), all cases is O(n) | Space = O(n)"
   ]
  },
  {
   "cell_type": "code",
   "execution_count": 1,
   "metadata": {},
   "outputs": [
    {
     "data": {
      "text/plain": [
       "\"\\nCONCEPT\\n    another clever solution would be to take advnatage of other types of data we have: the length of the list.\\n    observe how if we were to have a list of only unique values, it would always be equal to or shorter than the length of the same list without the guarentee of unique values.\\n\\n    in other words, if we were to have a list (unknown if duplicates) and the same list that for sure did not have duplicates, we could simply compare their lengths\\n\\nIMPL\\nrather than sorting it, we can take advantage of a native Python function -> set()\\n\\nO(n) looping through the array to convert it into a set.\\n\\nafterwards, O(1) to check if the length of the set is the same as the length of original.\\n\\nif is it, return False; else return True.\\n\\nfirstly, this strategy removes the nlogn sort time.\\nnext, we can transform the array (using O(n) time) into another structure that gives us insight\\nlastly, we can reduce our search time to O(1) when we compare the lengths of these structures\\n\\nregarding memory, we need to create the set, so we'll use O(n) extra memory worst case, and best case is just O(1) -> eg [1,1,1,1,1,1,1,1]\\n\""
      ]
     },
     "execution_count": 1,
     "metadata": {},
     "output_type": "execute_result"
    }
   ],
   "source": [
    "'''\n",
    "CONCEPT\n",
    "    another clever solution would be to take advnatage of other types of data we have: the length of the list.\n",
    "    observe how if we were to have a list of only unique values, it would always be equal to or shorter than the length of the same list without the guarentee of unique values.\n",
    "\n",
    "    in other words, if we were to have a list (unknown if duplicates) and the same list that for sure did not have duplicates, we could simply compare their lengths\n",
    "\n",
    "IMPLEMENTATION:\n",
    "    rather than sorting it, we can take advantage of a native Python function -> set()\n",
    "\n",
    "    O(n) looping through the array to convert it into a set.\n",
    "\n",
    "    afterwards, O(1) to check if the length of the set is the same as the length of original.\n",
    "\n",
    "    if is it, return False; else return True.\n",
    "\n",
    "ANALYSIS\n",
    "    firstly, this strategy removes the nlogn sort time.\n",
    "    next, we can transform the array (using O(n) time) into another structure that gives us insight\n",
    "    lastly, we can reduce our search time to O(1) when we compare the lengths of these structures\n",
    "\n",
    "    regarding memory, we need to create the set, so we'll use O(n) extra memory worst case, and best case is just O(1) -> eg [1,1,1,1,1,1,1,1]\n",
    "'''"
   ]
  },
  {
   "cell_type": "code",
   "execution_count": 25,
   "metadata": {},
   "outputs": [],
   "source": [
    "def containsDuplicate(nums):\n",
    "    set_nums = set(nums)\n",
    "    if len(set_nums) != set(nums):\n",
    "        return True\n",
    "    else:\n",
    "        return False"
   ]
  },
  {
   "cell_type": "code",
   "execution_count": null,
   "metadata": {},
   "outputs": [],
   "source": [
    "#cleaner code\n",
    "def containsDuplicate(nums):\n",
    "    return len(nums) > len(set(nums))"
   ]
  },
  {
   "cell_type": "markdown",
   "metadata": {},
   "source": [
    "### Fastest Solution O(n), best case is O(1), worst case is O(n)"
   ]
  },
  {
   "cell_type": "code",
   "execution_count": 26,
   "metadata": {},
   "outputs": [
    {
     "data": {
      "text/plain": [
       "'\\nwe can make a minor improvement by tweaking to the code to stop early if it doesnt need to traverse the whole nums array\\n\\nthe issue with the above solution is that it will always recreate the set, which in turn will always take O(n) runtime.\\n\\nwe can improve upon this manually coding the creation of the set ourselves. this way, we can add an early break in the code if we identify a duplicate before the entire completion of the set\\n'"
      ]
     },
     "execution_count": 26,
     "metadata": {},
     "output_type": "execute_result"
    }
   ],
   "source": [
    "'''\n",
    "IMPLEMENTATION\n",
    "    we can make a minor improvement by tweaking to the code to stop early if it doesnt need to traverse the whole nums array\n",
    "\n",
    "    the issue with the above solution is that it will always recreate the set, which in turn will always take O(n) runtime.\n",
    "\n",
    "    we can improve upon this manually coding the creation of the set ourselves. this way, we can add an early break in the code if we identify a duplicate before the entire completion of the set\n",
    "\n",
    "    the memory remains the same as the above\n",
    "'''"
   ]
  },
  {
   "cell_type": "code",
   "execution_count": 27,
   "metadata": {},
   "outputs": [],
   "source": [
    "def containsDuplicate2(nums):\n",
    "    set_nums = []\n",
    "    for i in nums:\n",
    "        if i in set_nums:\n",
    "            return True\n",
    "        else:\n",
    "            set_nums.append(i)\n",
    "    return False"
   ]
  },
  {
   "cell_type": "markdown",
   "metadata": {},
   "source": [
    "## Testing"
   ]
  },
  {
   "cell_type": "code",
   "execution_count": 28,
   "metadata": {},
   "outputs": [
    {
     "name": "stdout",
     "output_type": "stream",
     "text": [
      "TrueFalseTrue\n"
     ]
    }
   ],
   "source": [
    "print(f\"\\\n",
    "{containsDuplicate2(nums1)}\\\n",
    "{containsDuplicate2(nums2)}\\\n",
    "{containsDuplicate2(nums3)}\")"
   ]
  },
  {
   "cell_type": "code",
   "execution_count": 29,
   "metadata": {},
   "outputs": [
    {
     "data": {
      "text/plain": [
       "'\\nPassed all test cases\\n'"
      ]
     },
     "execution_count": 29,
     "metadata": {},
     "output_type": "execute_result"
    }
   ],
   "source": [
    "'''\n",
    "Passed all test cases\n",
    "'''"
   ]
  }
 ],
 "metadata": {
  "interpreter": {
   "hash": "bc3210eb0411503d9a54e82308439f2538c49d86b5a7c00e1ae895fbe28c5986"
  },
  "kernelspec": {
   "display_name": "Python 3.8.12 ('PythonData')",
   "language": "python",
   "name": "python3"
  },
  "language_info": {
   "codemirror_mode": {
    "name": "ipython",
    "version": 3
   },
   "file_extension": ".py",
   "mimetype": "text/x-python",
   "name": "python",
   "nbconvert_exporter": "python",
   "pygments_lexer": "ipython3",
   "version": "3.8.12"
  },
  "orig_nbformat": 4
 },
 "nbformat": 4,
 "nbformat_minor": 2
}
