{
 "cells": [
  {
   "cell_type": "markdown",
   "metadata": {},
   "source": [
    "# Valid Anagram"
   ]
  },
  {
   "cell_type": "code",
   "execution_count": 44,
   "metadata": {},
   "outputs": [
    {
     "data": {
      "text/plain": [
       "'\\nDifficulty: Easy\\n'"
      ]
     },
     "execution_count": 44,
     "metadata": {},
     "output_type": "execute_result"
    }
   ],
   "source": [
    "'''\n",
    "Difficulty: Easy\n",
    "'''"
   ]
  },
  {
   "cell_type": "markdown",
   "metadata": {},
   "source": [
    "## Problem Statement"
   ]
  },
  {
   "cell_type": "code",
   "execution_count": 45,
   "metadata": {},
   "outputs": [
    {
     "data": {
      "text/plain": [
       "'\\nGiven two strings s and t, return true if t is an anagram of s, and false otherwise.\\n\\nAn Anagram is a word or phrase formed by rearranging the letters of a different word or phrase, typically using all the original letters exactly once.\\n\\nExample 1:\\nInput: s = \"anagram\", t = \"nagaram\"\\nOutput: true\\n\\nExample 2:\\nInput: s = \"rat\", t = \"car\"\\nOutput: false\\n \\nConstraints:\\n1 <= s.length, t.length <= 5 * 104\\ns and t consist of lowercase English letters.\\n'"
      ]
     },
     "execution_count": 45,
     "metadata": {},
     "output_type": "execute_result"
    }
   ],
   "source": [
    "'''\n",
    "Given two strings s and t, return true if t is an anagram of s, and false otherwise.\n",
    "\n",
    "An Anagram is a word or phrase formed by rearranging the letters of a different word or phrase, typically using all the original letters exactly once.\n",
    "\n",
    "Example 1:\n",
    "Input: s = \"anagram\", t = \"nagaram\"\n",
    "Output: true\n",
    "\n",
    "Example 2:\n",
    "Input: s = \"rat\", t = \"car\"\n",
    "Output: false\n",
    " \n",
    "Constraints:\n",
    "1 <= s.length, t.length <= 5 * 104\n",
    "s and t consist of lowercase English letters.\n",
    "'''"
   ]
  },
  {
   "cell_type": "markdown",
   "metadata": {},
   "source": [
    "## Given Test Cases"
   ]
  },
  {
   "cell_type": "code",
   "execution_count": 46,
   "metadata": {},
   "outputs": [
    {
     "data": {
      "text/plain": [
       "'\\nExample 1:\\nInput: s = \"anagram\", t = \"nagaram\"\\nOutput: true\\n\\nExample 2:\\nInput: s = \"rat\", t = \"car\"\\nOutput: false\\n'"
      ]
     },
     "execution_count": 46,
     "metadata": {},
     "output_type": "execute_result"
    }
   ],
   "source": [
    "'''\n",
    "Example 1:\n",
    "Input: s = \"anagram\", t = \"nagaram\"\n",
    "Output: true\n",
    "\n",
    "Example 2:\n",
    "Input: s = \"rat\", t = \"car\"\n",
    "Output: false\n",
    "'''"
   ]
  },
  {
   "cell_type": "markdown",
   "metadata": {},
   "source": [
    "### Data Setup"
   ]
  },
  {
   "cell_type": "code",
   "execution_count": 47,
   "metadata": {},
   "outputs": [],
   "source": [
    "s1, t1 = \"anagram\", \"nagaram\"\n",
    "s2, t2 = \"rat\", \"car\""
   ]
  },
  {
   "cell_type": "markdown",
   "metadata": {},
   "source": [
    "## Strategy and Solution"
   ]
  },
  {
   "cell_type": "markdown",
   "metadata": {},
   "source": [
    "### Brute Force Time = O(n * m) | Space = O(1)"
   ]
  },
  {
   "cell_type": "code",
   "execution_count": 48,
   "metadata": {},
   "outputs": [
    {
     "data": {
      "text/plain": [
       "'\\nobserve that from the problem statement, we just need to check if the second string t shares the anagram letters with s, not whether s makes a word.\\n\\nanother way to put it, we don\\'t care if s is \"abcd\" and not a word, we just care that t is some permutation of \"abcd\"\\n\\nwith this in mind, the brute force solution would be to iterate through s, and on every chr, check to see if that chr exists bijectively in t.\\n\\nthe moment we don\\'t find a chr, return false. if we make it through the double loop, return true.\\n\\nwe are doing a comparison between the strings, and thus, don\\'t need extra memory\\n'"
      ]
     },
     "execution_count": 48,
     "metadata": {},
     "output_type": "execute_result"
    }
   ],
   "source": [
    "'''\n",
    "observe that from the problem statement, we just need to check if the second string t shares the anagram letters with s, not whether s makes a word.\n",
    "\n",
    "another way to put it, we don't care if s is \"abcd\" and not a word, we just care that t is some permutation of \"abcd\"\n",
    "\n",
    "with this in mind, the brute force solution would be to iterate through s, and on every chr, check to see if that chr exists bijectively in t.\n",
    "\n",
    "the moment we don't find a chr, return false. if we make it through the double loop, return true.\n",
    "\n",
    "we are doing a comparison between the strings, and thus, don't need extra memory\n",
    "'''"
   ]
  },
  {
   "cell_type": "markdown",
   "metadata": {},
   "source": [
    "### Faster Solution Time = O(nlogn) + O(mlogm) | Space = O(1)"
   ]
  },
  {
   "cell_type": "code",
   "execution_count": 49,
   "metadata": {},
   "outputs": [
    {
     "data": {
      "text/plain": [
       "\"\\nas mentioned above, we don't actually care about setting parameters of the what consistutes a word--we only need to double check if the chrs in string t have a bijective relationship with string s\\n\\none of the easiest case of this bijective comparison would be to sort both strings, since it ensures the same types of relationships between each chr\\n\\nnotice how in this case, if the strs are anagrams, a sort would actually return the same two strings at the end, in which we can just check if they were equal to establish that bijective rleationship\\n\\nthus, sort both, and if they return the same string, return true.\\n\\nNOTE on edge cases:\\nthe strings could be different lengths. we know to immediately return false in this case because there would be no bijective relationship.\\n\\nregarding memory, since we are sorting inplace, we don't need next memory here either\\n\""
      ]
     },
     "execution_count": 49,
     "metadata": {},
     "output_type": "execute_result"
    }
   ],
   "source": [
    "'''\n",
    "as mentioned above, we don't actually care about setting parameters of the what consistutes a word--we only need to double check if the chrs in string t have a bijective relationship with string s\n",
    "\n",
    "one of the easiest case of this bijective comparison would be to sort both strings, since it ensures the same types of relationships between each chr\n",
    "\n",
    "notice how in this case, if the strs are anagrams, a sort would actually return the same two strings at the end, in which we can just check if they were equal to establish that bijective rleationship\n",
    "\n",
    "thus, sort both, and if they return the same string, return true.\n",
    "\n",
    "NOTE on edge cases:\n",
    "the strings could be different lengths. we know to immediately return false in this case because there would be no bijective relationship.\n",
    "\n",
    "regarding memory, since we are sorting inplace, we don't need next memory here either\n",
    "'''"
   ]
  },
  {
   "cell_type": "code",
   "execution_count": 50,
   "metadata": {},
   "outputs": [],
   "source": [
    "def isAnagram(s, t):\n",
    "    s, t = sorted(s), sorted(t)\n",
    "    if s == t:\n",
    "        return True\n",
    "    return False"
   ]
  },
  {
   "cell_type": "code",
   "execution_count": 51,
   "metadata": {},
   "outputs": [],
   "source": [
    "# cleaner code\n",
    "def isAnagram(s, t):\n",
    "    return sorted(s) == sorted(t)"
   ]
  },
  {
   "cell_type": "markdown",
   "metadata": {},
   "source": [
    "### Fastest Solution Time = O(n + m) | Space = O(n) or O(m), whichever has more distinct values"
   ]
  },
  {
   "cell_type": "code",
   "execution_count": 52,
   "metadata": {},
   "outputs": [
    {
     "data": {
      "text/plain": [
       "\"\\nrather than spending nlogn time to sort, we can improve about this by transforming each list into a freq dict, which will cost O(n)*2. \\n\\nspecifically, we can iterate through both strings and keep the key of the chr and value of a list of both freqs.\\neg. key = [freq of occurence in s, freq of occurence in t] \\n\\nonce we've created this dictionary, we just iterate thought the dictionary to check that both values in the list are the same.\\n\""
      ]
     },
     "execution_count": 52,
     "metadata": {},
     "output_type": "execute_result"
    }
   ],
   "source": [
    "'''\n",
    "rather than spending nlogn time to sort, we can improve about this by transforming each list into a freq dict, which will cost O(n)*2. \n",
    "\n",
    "specifically, we can iterate through both strings and keep the key of the chr and value of a list of both freqs.\n",
    "eg. key = [freq of occurence in s, freq of occurence in t] \n",
    "\n",
    "once we've created this dictionary, we just iterate thought the dictionary to check that both values in the list are the same.\n",
    "'''"
   ]
  },
  {
   "cell_type": "code",
   "execution_count": 53,
   "metadata": {},
   "outputs": [],
   "source": [
    "def isAnagram2(s, t):\n",
    "    freq = {}\n",
    "    for i in s:\n",
    "        if i not in freq.keys():\n",
    "            freq[i] = [1, 0]\n",
    "        else:\n",
    "            freq[i][0] += 1\n",
    "    \n",
    "    for i in t:\n",
    "        if i not in freq.keys():\n",
    "            freq[i] = [0, 1]\n",
    "        else:\n",
    "            freq[i][1] += 1\n",
    "\n",
    "    for i in freq:\n",
    "        if freq[i][0] != freq[i][1]:\n",
    "            return False\n",
    "    return True"
   ]
  },
  {
   "cell_type": "markdown",
   "metadata": {},
   "source": [
    "## Testing"
   ]
  },
  {
   "cell_type": "code",
   "execution_count": 54,
   "metadata": {},
   "outputs": [
    {
     "name": "stdout",
     "output_type": "stream",
     "text": [
      "TrueFalse\n"
     ]
    }
   ],
   "source": [
    "print(f\"\\\n",
    "{isAnagram2(s1, t1)}\\\n",
    "{isAnagram2(s2, t2)}\")"
   ]
  },
  {
   "cell_type": "code",
   "execution_count": 55,
   "metadata": {},
   "outputs": [
    {
     "data": {
      "text/plain": [
       "'\\nPassed all test cases\\n'"
      ]
     },
     "execution_count": 55,
     "metadata": {},
     "output_type": "execute_result"
    }
   ],
   "source": [
    "'''\n",
    "Passed all test cases\n",
    "'''"
   ]
  }
 ],
 "metadata": {
  "interpreter": {
   "hash": "bc3210eb0411503d9a54e82308439f2538c49d86b5a7c00e1ae895fbe28c5986"
  },
  "kernelspec": {
   "display_name": "Python 3.8.12 ('PythonData')",
   "language": "python",
   "name": "python3"
  },
  "language_info": {
   "codemirror_mode": {
    "name": "ipython",
    "version": 3
   },
   "file_extension": ".py",
   "mimetype": "text/x-python",
   "name": "python",
   "nbconvert_exporter": "python",
   "pygments_lexer": "ipython3",
   "version": "3.8.12"
  },
  "orig_nbformat": 4
 },
 "nbformat": 4,
 "nbformat_minor": 2
}
