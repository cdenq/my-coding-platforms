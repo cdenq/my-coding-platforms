{
 "cells": [
  {
   "cell_type": "markdown",
   "metadata": {},
   "source": [
    "# Two Sum"
   ]
  },
  {
   "cell_type": "code",
   "execution_count": 30,
   "metadata": {},
   "outputs": [
    {
     "data": {
      "text/plain": [
       "'\\nDifficulty: Easy\\n'"
      ]
     },
     "execution_count": 30,
     "metadata": {},
     "output_type": "execute_result"
    }
   ],
   "source": [
    "'''\n",
    "Difficulty: Easy\n",
    "'''"
   ]
  },
  {
   "cell_type": "markdown",
   "metadata": {},
   "source": [
    "## Problem Statement"
   ]
  },
  {
   "cell_type": "code",
   "execution_count": 31,
   "metadata": {},
   "outputs": [
    {
     "data": {
      "text/plain": [
       "'\\nGiven an array of integers nums and an integer target, return indices of the two numbers such that they add up to target.\\n\\nYou may assume that each input would have exactly one solution, and you may not use the same element twice.\\n\\nYou can return the answer in any order.\\n\\nExample 1:\\nInput: nums = [2,7,11,15], target = 9\\nOutput: [0,1]\\nExplanation: Because nums[0] + nums[1] == 9, we return [0, 1].\\n\\nExample 2:\\nInput: nums = [3,2,4], target = 6\\nOutput: [1,2]\\n\\nExample 3:\\nInput: nums = [3,3], target = 6\\nOutput: [0,1]\\n \\nConstraints:\\n2 <= nums.length <= 104\\n-109 <= nums[i] <= 109\\n-109 <= target <= 109\\n\\nOnly one valid answer exists.\\n'"
      ]
     },
     "execution_count": 31,
     "metadata": {},
     "output_type": "execute_result"
    }
   ],
   "source": [
    "'''\n",
    "Given an array of integers nums and an integer target, return indices of the two numbers such that they add up to target.\n",
    "\n",
    "You may assume that each input would have exactly one solution, and you may not use the same element twice.\n",
    "\n",
    "You can return the answer in any order.\n",
    "\n",
    "Example 1:\n",
    "Input: nums = [2,7,11,15], target = 9\n",
    "Output: [0,1]\n",
    "Explanation: Because nums[0] + nums[1] == 9, we return [0, 1].\n",
    "\n",
    "Example 2:\n",
    "Input: nums = [3,2,4], target = 6\n",
    "Output: [1,2]\n",
    "\n",
    "Example 3:\n",
    "Input: nums = [3,3], target = 6\n",
    "Output: [0,1]\n",
    " \n",
    "Constraints:\n",
    "2 <= nums.length <= 104\n",
    "-109 <= nums[i] <= 109\n",
    "-109 <= target <= 109\n",
    "\n",
    "Only one valid answer exists.\n",
    "\n",
    "Follow-up: Can you come up with an algorithm that is less than O(n2) time complexity?\n",
    "'''"
   ]
  },
  {
   "cell_type": "markdown",
   "metadata": {},
   "source": [
    "## Given Test Cases"
   ]
  },
  {
   "cell_type": "code",
   "execution_count": 32,
   "metadata": {},
   "outputs": [
    {
     "data": {
      "text/plain": [
       "'\\nExample 1:\\nInput: nums = [2,7,11,15], target = 9\\nOutput: [0,1]\\nExplanation: Because nums[0] + nums[1] == 9, we return [0, 1].\\n\\nExample 2:\\nInput: nums = [3,2,4], target = 6\\nOutput: [1,2]\\n\\nExample 3:\\nInput: nums = [3,3], target = 6\\nOutput: [0,1]\\n'"
      ]
     },
     "execution_count": 32,
     "metadata": {},
     "output_type": "execute_result"
    }
   ],
   "source": [
    "'''\n",
    "Example 1:\n",
    "Input: nums = [2,7,11,15], target = 9\n",
    "Output: [0,1]\n",
    "Explanation: Because nums[0] + nums[1] == 9, we return [0, 1].\n",
    "\n",
    "Example 2:\n",
    "Input: nums = [3,2,4], target = 6\n",
    "Output: [1,2]\n",
    "\n",
    "Example 3:\n",
    "Input: nums = [3,3], target = 6\n",
    "Output: [0,1]\n",
    "'''"
   ]
  },
  {
   "cell_type": "markdown",
   "metadata": {},
   "source": [
    "### Data Setup"
   ]
  },
  {
   "cell_type": "code",
   "execution_count": 33,
   "metadata": {},
   "outputs": [],
   "source": [
    "nums1, target1 = [2,7,11,15], 9\n",
    "nums2, target2 = [3,2,4], 6\n",
    "nums3, target3 = [3,3], 6"
   ]
  },
  {
   "cell_type": "markdown",
   "metadata": {},
   "source": [
    "## Strategy and Solution"
   ]
  },
  {
   "cell_type": "markdown",
   "metadata": {},
   "source": [
    "### Brute Force Time = O(n2) | Space = O(1)"
   ]
  },
  {
   "cell_type": "code",
   "execution_count": 34,
   "metadata": {},
   "outputs": [
    {
     "data": {
      "text/plain": [
       "'\\nbrute force would be to check every single combination of ints within nums\\nnC2 = n! / 2!(n-2)! = (n * (n-1)) / 2 = (n2 - n) / 2 total combinations\\n\\nwe can generate this sample space by using a double for-loop:\\nfor each int in nums, compare with every int after the current num.\\n\\nat the end, if none of them add up to target, return false\\n\\nruntime would be within class of O(n2), and since its just comparison, dont use extra memory\\n'"
      ]
     },
     "execution_count": 34,
     "metadata": {},
     "output_type": "execute_result"
    }
   ],
   "source": [
    "'''\n",
    "CONCEPT\n",
    "    brute force would be to check every single combination of ints within nums\n",
    "    nC2 = n! / 2!(n-2)! = (n * (n-1)) / 2 = (n2 - n) / 2 total combinations\n",
    "\n",
    "IMPLEMENTATION\n",
    "    we can generate this sample space by using a double for-loop:\n",
    "    for each int in nums, compare with every int after the current num.\n",
    "\n",
    "    at the end, if none of them add up to target, return false\n",
    "\n",
    "ANALYSIS\n",
    "    runtime would be within class of O(n2), since we're touching (n2 - n) / 2 total combinations\n",
    "    since its just comparison, dont use extra memory\n",
    "'''"
   ]
  },
  {
   "cell_type": "markdown",
   "metadata": {},
   "source": [
    "### Faster Solution Time = O(nlogn) | Space = O(n)"
   ]
  },
  {
   "cell_type": "code",
   "execution_count": 35,
   "metadata": {},
   "outputs": [
    {
     "data": {
      "text/plain": [
       "'\\nthe issue with checking every combination is that we\\'re doing a lot of recalculations and needless calculations.\\n\\nfor eg. if target is 10, and one of our pairs of combinations is (1,4) = 5, we DEFINITELY know we don\\'t need to check (1,3) or (1,2) or (1,1) etc. since we know this would for sure be lower than the target.\\n\\nthus, we can improve our sample space by introducing some sort of logic that will help determine which next pair we should check.\\n\\nobserve how by sorting nums in ascending order, we estbalish an ordering between the numbers that the mentioned above logic can act on.\\n\\nwe can start calulcating the sum as such:\\ntake the leftmost (smallest int) and rightmost (biggest int) and add them together.\\n\\nif our current sum is larger than the target, we know we need to reduce at least one of the compoenents of our pair (which the only component that could be reduced is our biggest int).\\nthus, we can shift the rightmost pointer down to slot ot the 2nd-rightmost int--the 2nd largest number.\\n\\nwe know determinstically that this sum will bring us one step closer to the target without ever \"overshooting\" (aka, this new sum will either give us our target OR it will always be larger than our target and thus we\\nnever need to backtrack). these features are implied from using the 2nd largest number, and sorting ensures that when we decrement the rightmost pointer, we always get the 2nd largest number\\n\\non the flip side, if our sum is smaller than the target, we can increment the pointer of our leftmost int to the 2nd smallest int for the same line of reasoning as above.\\n\\nif we traverse the whole list, going inwards from both sides aka O(n) time cost and we dont find the sum, then there is never a valid solutin. we reach this point once the pointers cross one another.\\n\\nonce we found the target and the indexes within the sorted nums list, we need to retrieve the original index of these numbers.\\n\\nwe can do so with a built-in index position\\nNOTE: index will return the first occurence of an item, so if the list is [3,3] target = 6, it will return [0,0] instead of the expected [0,1]\\nwe can solve this by coding in a manual search of another O(n)\\n\\noverall, runtime is O(nlogn) + O(n) + O(n) for the indexing\\n\\nour memory is O(n) because we are storing the sorted nums alongside the original.\\n'"
      ]
     },
     "execution_count": 35,
     "metadata": {},
     "output_type": "execute_result"
    }
   ],
   "source": [
    "'''\n",
    "CONCEPT\n",
    "    the issue with checking every combination is that we're doing a lot of recalculations and needless calculations.\n",
    "\n",
    "    for eg. if target is 10, and one of our pairs of combinations is (1,4) = 5, we DEFINITELY know we don't need to check (1,3) or (1,2) or (1,1) etc. since we know this would for sure be lower than the target.\n",
    "\n",
    "    thus, we can improve our sample space by introducing some sort of logic that will help determine which next pair we should check.\n",
    "\n",
    "IMPLEMENTATION\n",
    "    observe how by sorting nums in ascending order, we estbalish an ordering between the numbers that the mentioned above logic can act on.\n",
    "\n",
    "    we can start calulcating the sum as such:\n",
    "    take the leftmost (smallest int) and rightmost (biggest int) and add them together.\n",
    "\n",
    "    if our current sum is larger than the target, we know we need to reduce at least one of the compoenents of our pair (which the only component that could be reduced is our biggest int).\n",
    "    thus, we can shift the rightmost pointer down to slot ot the 2nd-rightmost int--the 2nd largest number.\n",
    "\n",
    "    we know determinstically that this sum will bring us one step closer to the target without ever \"overshooting\" (aka, this new sum will either give us our target OR it will always be larger than our target and thus we\n",
    "    never need to backtrack). these features are implied from using the 2nd largest number, and sorting ensures that when we decrement the rightmost pointer, we always get the 2nd largest number\n",
    "\n",
    "    on the flip side, if our sum is smaller than the target, we can increment the pointer of our leftmost int to the 2nd smallest int for the same line of reasoning as above.\n",
    "\n",
    "    if we traverse the whole list, going inwards from both sides aka O(n) time cost and we dont find the sum, then there is never a valid solutin. we reach this point once the pointers cross one another.\n",
    "\n",
    "    once we found the target and the indexes within the sorted nums list, we need to retrieve the original index of these numbers.\n",
    "\n",
    "    we can do so with a built-in index position\n",
    "    NOTE: index will return the first occurence of an item, so if the list is [3,3] target = 6, it will return [0,0] instead of the expected [0,1]\n",
    "    we can solve this by coding in a manual search of another O(n)\n",
    "\n",
    "ANALYSIS\n",
    "    overall, runtime is O(nlogn) + O(n) + O(n) for the indexing\n",
    "    our memory is O(n) because we are storing the sorted nums alongside the original.\n",
    "'''"
   ]
  },
  {
   "cell_type": "code",
   "execution_count": 36,
   "metadata": {},
   "outputs": [],
   "source": [
    "def twoSum(nums, target):\n",
    "    sorted_nums = sorted(nums)\n",
    "    i, j = 0, len(sorted_nums) - 1\n",
    "    while i != j:\n",
    "        curr_sum = sorted_nums[i] + sorted_nums[j]\n",
    "        if curr_sum > target:\n",
    "            j -= 1\n",
    "        elif curr_sum < target:\n",
    "            i += 1\n",
    "        else: #sum is the target\n",
    "            a, b = nums.index(sorted_nums[i]), nums.index(sorted_nums[j])\n",
    "            if a != b: #index method won't return the same index\n",
    "                return [a, b]\n",
    "            else:\n",
    "                kth_occurence = 0\n",
    "                for index, element in enumerate(nums):\n",
    "                    if element == sorted_nums[j]:\n",
    "                        kth_occurence += 1\n",
    "                        if kth_occurence == 2:\n",
    "                            return[a, index]\n",
    "    return False"
   ]
  },
  {
   "cell_type": "markdown",
   "metadata": {},
   "source": [
    "### Fastest Solution Time = O(n) | Space = O(n)"
   ]
  },
  {
   "cell_type": "code",
   "execution_count": 37,
   "metadata": {},
   "outputs": [
    {
     "data": {
      "text/plain": [
       "\"\\nwe can actually skip the cost of sorting entirely by transofrming the list into a dictionary, which will help us locate our required values faster.\\n\\ntransforimg will cost O(n) time worst case, as we're iterating through nums to do our check.\\n\\nas we iterate through, on every int, we can take target - curr_int to calculate the required complement to our curr_int to make up target.\\n\\nif this complement exists in our dictionary, we can spend O(1) to instantly return that value's index and our current index. otherwise, store the curr_int and its index position into the dictionary.\\n\\nthe memory of this would be O(n), since we are creating a dictionary. \\n\""
      ]
     },
     "execution_count": 37,
     "metadata": {},
     "output_type": "execute_result"
    }
   ],
   "source": [
    "'''\n",
    "CONCEPT\n",
    "    we can actually skip the cost of sorting entirely by transofrming the list into a dictionary, which will help us locate our required values faster.\n",
    "\n",
    "    transforimg will cost O(n) time worst case, as we're iterating through nums to do our check.\n",
    "\n",
    "IMPLEMENTATION\n",
    "    as we iterate through, on every int, we can take target - curr_int to calculate the required complement to our curr_int to make up target.\n",
    "\n",
    "    if this complement exists in our dictionary, we can spend O(1) to instantly return that value's index and our current index. otherwise, store the curr_int and its index position into the dictionary.\n",
    "\n",
    "ANALYSIS\n",
    "    total runtime, as mentioned above, will sum up to O(n) + O(1) = O(n)\n",
    "    the memory of this would be O(n), since we are creating a dictionary. \n",
    "'''"
   ]
  },
  {
   "cell_type": "code",
   "execution_count": 38,
   "metadata": {},
   "outputs": [],
   "source": [
    "def twoSum2(nums, target):\n",
    "    postition_dict = {}\n",
    "    for i, e in enumerate(nums):\n",
    "        if target - e in postition_dict.keys():\n",
    "            return [postition_dict[target - e], i]\n",
    "        else:\n",
    "            postition_dict[e] = i\n",
    "    return False"
   ]
  },
  {
   "cell_type": "markdown",
   "metadata": {},
   "source": [
    "### Follow-up: Faster than O(n2)?"
   ]
  },
  {
   "cell_type": "code",
   "execution_count": null,
   "metadata": {},
   "outputs": [],
   "source": [
    "'''\n",
    "addressed, since we have a solution at O(n)\n",
    "'''"
   ]
  },
  {
   "cell_type": "markdown",
   "metadata": {},
   "source": [
    "## Testing"
   ]
  },
  {
   "cell_type": "code",
   "execution_count": 39,
   "metadata": {},
   "outputs": [
    {
     "name": "stdout",
     "output_type": "stream",
     "text": [
      "[0, 1][1, 2]\n"
     ]
    }
   ],
   "source": [
    "print(f\"\\\n",
    "{twoSum2(nums1, target1)}\\\n",
    "{twoSum2(nums2, target2)}\")"
   ]
  },
  {
   "cell_type": "code",
   "execution_count": 40,
   "metadata": {},
   "outputs": [
    {
     "data": {
      "text/plain": [
       "'\\nPassed all test cases\\n'"
      ]
     },
     "execution_count": 40,
     "metadata": {},
     "output_type": "execute_result"
    }
   ],
   "source": [
    "'''\n",
    "Passed all test cases\n",
    "'''"
   ]
  }
 ],
 "metadata": {
  "interpreter": {
   "hash": "bc3210eb0411503d9a54e82308439f2538c49d86b5a7c00e1ae895fbe28c5986"
  },
  "kernelspec": {
   "display_name": "Python 3.8.12 ('PythonData')",
   "language": "python",
   "name": "python3"
  },
  "language_info": {
   "codemirror_mode": {
    "name": "ipython",
    "version": 3
   },
   "file_extension": ".py",
   "mimetype": "text/x-python",
   "name": "python",
   "nbconvert_exporter": "python",
   "pygments_lexer": "ipython3",
   "version": "3.8.12"
  },
  "orig_nbformat": 4
 },
 "nbformat": 4,
 "nbformat_minor": 2
}
