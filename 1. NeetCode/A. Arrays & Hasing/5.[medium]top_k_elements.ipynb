{
 "cells": [
  {
   "cell_type": "markdown",
   "metadata": {},
   "source": [
    "# Top K Frequent Elements"
   ]
  },
  {
   "cell_type": "code",
   "execution_count": 1,
   "metadata": {},
   "outputs": [
    {
     "data": {
      "text/plain": [
       "'\\nDifficulty: Medium\\n'"
      ]
     },
     "execution_count": 1,
     "metadata": {},
     "output_type": "execute_result"
    }
   ],
   "source": [
    "'''\n",
    "Difficulty: Medium\n",
    "'''"
   ]
  },
  {
   "cell_type": "markdown",
   "metadata": {},
   "source": [
    "## Problem Statement"
   ]
  },
  {
   "cell_type": "code",
   "execution_count": 2,
   "metadata": {},
   "outputs": [
    {
     "data": {
      "text/plain": [
       "\"\\nGiven an integer array nums and an integer k, return the k most frequent elements. You may return the answer in any order.\\n\\nExample 1:\\nInput: nums = [1,1,1,2,2,3], k = 2\\nOutput: [1,2]\\n\\nExample 2:\\nInput: nums = [1], k = 1\\nOutput: [1]\\n \\nConstraints:\\n1 <= nums.length <= 105\\nk is in the range [1, the number of unique elements in the array].\\nIt is guaranteed that the answer is unique.\\n \\nFollow up: Your algorithm's time complexity must be better than O(n log n), where n is the array's size.\\n\""
      ]
     },
     "execution_count": 2,
     "metadata": {},
     "output_type": "execute_result"
    }
   ],
   "source": [
    "'''\n",
    "Given an integer array nums and an integer k, return the k most frequent elements. You may return the answer in any order.\n",
    "\n",
    "Example 1:\n",
    "Input: nums = [1,1,1,2,2,3], k = 2\n",
    "Output: [1,2]\n",
    "\n",
    "Example 2:\n",
    "Input: nums = [1], k = 1\n",
    "Output: [1]\n",
    " \n",
    "Constraints:\n",
    "1 <= nums.length <= 105\n",
    "k is in the range [1, the number of unique elements in the array].\n",
    "It is guaranteed that the answer is unique.\n",
    " \n",
    "Follow up: Your algorithm's time complexity must be better than O(n log n), where n is the array's size.\n",
    "'''"
   ]
  },
  {
   "cell_type": "markdown",
   "metadata": {},
   "source": [
    "## Given Test Cases"
   ]
  },
  {
   "cell_type": "code",
   "execution_count": 3,
   "metadata": {},
   "outputs": [
    {
     "data": {
      "text/plain": [
       "'\\nExample 1:\\nInput: nums = [1,1,1,2,2,3], k = 2\\nOutput: [1,2]\\n\\nExample 2:\\nInput: nums = [1], k = 1\\nOutput: [1]\\n'"
      ]
     },
     "execution_count": 3,
     "metadata": {},
     "output_type": "execute_result"
    }
   ],
   "source": [
    "'''\n",
    "Example 1:\n",
    "Input: nums = [1,1,1,2,2,3], k = 2\n",
    "Output: [1,2]\n",
    "\n",
    "Example 2:\n",
    "Input: nums = [1], k = 1\n",
    "Output: [1]\n",
    "'''"
   ]
  },
  {
   "cell_type": "markdown",
   "metadata": {},
   "source": [
    "### Data Setup"
   ]
  },
  {
   "cell_type": "code",
   "execution_count": 4,
   "metadata": {},
   "outputs": [],
   "source": [
    "nums1, k1 = [1,1,1,2,2,3], 2\n",
    "nums2, k2 = [1], 1"
   ]
  },
  {
   "cell_type": "markdown",
   "metadata": {},
   "source": [
    "## Strategy and Solution"
   ]
  },
  {
   "cell_type": "markdown",
   "metadata": {},
   "source": [
    "### Brute Force Time = O(nlogn) | Space = O(n)"
   ]
  },
  {
   "cell_type": "code",
   "execution_count": 5,
   "metadata": {},
   "outputs": [
    {
     "data": {
      "text/plain": [
       "'\\nCONCEPT\\n    the brute force solution would be the most direct way to do this:\\n    count the freq of every number in the list, then sort those numbers by their freq, and then return the top k values\\n\\nIMPLEMENTATION\\n    create a freq dictionary\\n    O(n) spent to traverse the list, using the numbers as keys and the freq of that num as the value. return the values as a list\\n    O(nlogn) to sort the list values of dictionary in descending order\\n    O(k) return the first k values of this list\\n\\nANALYSIS\\n    as mentioned above, our runtime is going to be worst case in the class of O(nlogn)\\n    at worst case, we spend O(n) space for the dictionary, and another O(n) for the sorted list (aka every value is unique), and thus, O(2n) is in the class of O(n)\\n'"
      ]
     },
     "execution_count": 5,
     "metadata": {},
     "output_type": "execute_result"
    }
   ],
   "source": [
    "'''\n",
    "CONCEPT\n",
    "    the brute force solution would be the most direct way to do this:\n",
    "    count the freq of every number in the list, then sort those numbers by their freq, and then return the top k values\n",
    "\n",
    "IMPLEMENTATION\n",
    "    create a freq dictionary\n",
    "    O(n) spent to traverse the list, using the numbers as keys and the freq of that num as the value. return the values as a list\n",
    "    O(nlogn) to sort the list values of dictionary in descending order\n",
    "    O(k) return the first k values of this list\n",
    "\n",
    "ANALYSIS\n",
    "    as mentioned above, our runtime is going to be nlogn+n+k, or worst case, in the class of O(nlogn)\n",
    "    at worst case, we spend O(n) space for the dictionary, and another O(n) for the sorted list (aka every value is unique), and thus, O(2n) is in the class of O(n)\n",
    "'''"
   ]
  },
  {
   "cell_type": "code",
   "execution_count": 25,
   "metadata": {},
   "outputs": [],
   "source": [
    "def topKFrequent(nums, k):\n",
    "    freq_dict = {}\n",
    "\n",
    "    for int in nums:\n",
    "        if int in freq_dict.keys():\n",
    "            freq_dict[int] += 1\n",
    "        else:\n",
    "            freq_dict[int] = 1\n",
    "\n",
    "    freq_list = list(freq_dict.items())\n",
    "    freq_list = sorted(freq_list, key = lambda x : x[1], reverse=True)\n",
    "    \n",
    "    return [freq_list[i][0] for i in range(k)]"
   ]
  },
  {
   "cell_type": "code",
   "execution_count": 24,
   "metadata": {},
   "outputs": [
    {
     "name": "stdout",
     "output_type": "stream",
     "text": [
      "[1, 1, 1, 2, 2, 3]\n",
      "[(1, 3), (2, 2), (3, 1)]\n"
     ]
    },
    {
     "data": {
      "text/plain": [
       "[1, 2]"
      ]
     },
     "execution_count": 24,
     "metadata": {},
     "output_type": "execute_result"
    }
   ],
   "source": [
    "print(nums1)\n",
    "topKFrequent(nums1, k1)"
   ]
  },
  {
   "cell_type": "markdown",
   "metadata": {},
   "source": [
    "### Faster Solution Time = O(nlogn) | Space = O(n)"
   ]
  },
  {
   "cell_type": "code",
   "execution_count": 8,
   "metadata": {},
   "outputs": [
    {
     "data": {
      "text/plain": [
       "'\\nCONCEPT \\n\\nIMPLEMENTATION\\n\\nMEMORY\\n\\n\\n'"
      ]
     },
     "execution_count": 8,
     "metadata": {},
     "output_type": "execute_result"
    }
   ],
   "source": [
    "'''\n",
    "CONCEPT \n",
    "\n",
    "IMPLEMENTATION\n",
    "\n",
    "MEMORY\n",
    "\n",
    "\n",
    "'''"
   ]
  },
  {
   "cell_type": "code",
   "execution_count": 9,
   "metadata": {},
   "outputs": [],
   "source": [
    "def twoSum(nums, target):\n",
    "    sorted_nums = sorted(nums)\n",
    "    i, j = 0, len(sorted_nums) - 1\n",
    "    while i != j:\n",
    "        curr_sum = sorted_nums[i] + sorted_nums[j]\n",
    "        if curr_sum > target:\n",
    "            j -= 1\n",
    "        elif curr_sum < target:\n",
    "            i += 1\n",
    "        else: #sum is the target\n",
    "            a, b = nums.index(sorted_nums[i]), nums.index(sorted_nums[j])\n",
    "            if a != b: #index method won't return the same index\n",
    "                return [a, b]\n",
    "            else:\n",
    "                kth_occurence = 0\n",
    "                for index, element in enumerate(nums):\n",
    "                    if element == sorted_nums[j]:\n",
    "                        kth_occurence += 1\n",
    "                        if kth_occurence == 2:\n",
    "                            return[a, index]\n",
    "    return False"
   ]
  },
  {
   "cell_type": "markdown",
   "metadata": {},
   "source": [
    "### Fastest Solution Time = O(n) | Space = O(n)"
   ]
  },
  {
   "cell_type": "code",
   "execution_count": 10,
   "metadata": {},
   "outputs": [
    {
     "data": {
      "text/plain": [
       "\"\\nwe can actually skip the cost of sorting entirely by transofrming the list into a dictionary, which will help us locate our required values faster.\\n\\ntransforimg will cost O(n) time worst case, as we're iterating through nums to do our check.\\n\\nas we iterate through, on every int, we can take target - curr_int to calculate the required complement to our curr_int to make up target.\\n\\nif this complement exists in our dictionary, we can spend O(1) to instantly return that value's index and our current index. otherwise, store the curr_int and its index position into the dictionary.\\n\\nthe memory of this would be O(n), since we are creating a dictionary. \\n\""
      ]
     },
     "execution_count": 10,
     "metadata": {},
     "output_type": "execute_result"
    }
   ],
   "source": [
    "'''\n",
    "we can actually skip the cost of sorting entirely by transofrming the list into a dictionary, which will help us locate our required values faster.\n",
    "\n",
    "transforimg will cost O(n) time worst case, as we're iterating through nums to do our check.\n",
    "\n",
    "as we iterate through, on every int, we can take target - curr_int to calculate the required complement to our curr_int to make up target.\n",
    "\n",
    "if this complement exists in our dictionary, we can spend O(1) to instantly return that value's index and our current index. otherwise, store the curr_int and its index position into the dictionary.\n",
    "\n",
    "the memory of this would be O(n), since we are creating a dictionary. \n",
    "'''"
   ]
  },
  {
   "cell_type": "code",
   "execution_count": 11,
   "metadata": {},
   "outputs": [],
   "source": [
    "def twoSum2(nums, target):\n",
    "    postition_dict = {}\n",
    "    for i, e in enumerate(nums):\n",
    "        if target - e in postition_dict.keys():\n",
    "            return [postition_dict[target - e], i]\n",
    "        else:\n",
    "            postition_dict[e] = i\n",
    "    return False"
   ]
  },
  {
   "cell_type": "markdown",
   "metadata": {},
   "source": [
    "## Testing"
   ]
  },
  {
   "cell_type": "code",
   "execution_count": 12,
   "metadata": {},
   "outputs": [
    {
     "ename": "NameError",
     "evalue": "name 'target1' is not defined",
     "output_type": "error",
     "traceback": [
      "\u001b[1;31m---------------------------------------------------------------------------\u001b[0m",
      "\u001b[1;31mNameError\u001b[0m                                 Traceback (most recent call last)",
      "\u001b[1;32mC:\\Users\\CHRISM~1\\AppData\\Local\\Temp/ipykernel_5336/1768576696.py\u001b[0m in \u001b[0;36m<module>\u001b[1;34m\u001b[0m\n\u001b[0;32m      1\u001b[0m print(f\"\\\n\u001b[1;32m----> 2\u001b[1;33m \u001b[1;33m{\u001b[0m\u001b[0mtwoSum2\u001b[0m\u001b[1;33m(\u001b[0m\u001b[0mnums1\u001b[0m\u001b[1;33m,\u001b[0m \u001b[0mtarget1\u001b[0m\u001b[1;33m)\u001b[0m\u001b[1;33m}\u001b[0m\u001b[0;31m\\\u001b[0m\u001b[1;33m\u001b[0m\u001b[1;33m\u001b[0m\u001b[0m\n\u001b[0m\u001b[0;32m      3\u001b[0m {twoSum2(nums2, target2)}\")\n",
      "\u001b[1;31mNameError\u001b[0m: name 'target1' is not defined"
     ]
    }
   ],
   "source": [
    "print(f\"\\\n",
    "{twoSum2(nums1, target1)}\\\n",
    "{twoSum2(nums2, target2)}\")"
   ]
  },
  {
   "cell_type": "code",
   "execution_count": null,
   "metadata": {},
   "outputs": [
    {
     "data": {
      "text/plain": [
       "'\\nPassed all test cases\\n'"
      ]
     },
     "execution_count": 40,
     "metadata": {},
     "output_type": "execute_result"
    }
   ],
   "source": [
    "'''\n",
    "Passed all test cases\n",
    "'''"
   ]
  }
 ],
 "metadata": {
  "interpreter": {
   "hash": "bc3210eb0411503d9a54e82308439f2538c49d86b5a7c00e1ae895fbe28c5986"
  },
  "kernelspec": {
   "display_name": "Python 3.8.12 ('PythonData')",
   "language": "python",
   "name": "python3"
  },
  "language_info": {
   "codemirror_mode": {
    "name": "ipython",
    "version": 3
   },
   "file_extension": ".py",
   "mimetype": "text/x-python",
   "name": "python",
   "nbconvert_exporter": "python",
   "pygments_lexer": "ipython3",
   "version": "3.8.12"
  },
  "orig_nbformat": 4
 },
 "nbformat": 4,
 "nbformat_minor": 2
}
