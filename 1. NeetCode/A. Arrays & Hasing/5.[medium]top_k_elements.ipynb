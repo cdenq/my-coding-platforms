{
 "cells": [
  {
   "cell_type": "markdown",
   "metadata": {},
   "source": [
    "# Top K Frequent Elements"
   ]
  },
  {
   "cell_type": "code",
   "execution_count": 1,
   "metadata": {},
   "outputs": [
    {
     "data": {
      "text/plain": [
       "'\\nDifficulty: Medium\\n'"
      ]
     },
     "execution_count": 1,
     "metadata": {},
     "output_type": "execute_result"
    }
   ],
   "source": [
    "'''\n",
    "Difficulty: Medium\n",
    "'''"
   ]
  },
  {
   "cell_type": "markdown",
   "metadata": {},
   "source": [
    "## Problem Statement"
   ]
  },
  {
   "cell_type": "code",
   "execution_count": 2,
   "metadata": {},
   "outputs": [
    {
     "data": {
      "text/plain": [
       "\"\\nGiven an integer array nums and an integer k, return the k most frequent elements. You may return the answer in any order.\\n\\nExample 1:\\nInput: nums = [1,1,1,2,2,3], k = 2\\nOutput: [1,2]\\n\\nExample 2:\\nInput: nums = [1], k = 1\\nOutput: [1]\\n \\nConstraints:\\n1 <= nums.length <= 105\\nk is in the range [1, the number of unique elements in the array].\\nIt is guaranteed that the answer is unique.\\n \\nFollow up: Your algorithm's time complexity must be better than O(n log n), where n is the array's size.\\n\""
      ]
     },
     "execution_count": 2,
     "metadata": {},
     "output_type": "execute_result"
    }
   ],
   "source": [
    "'''\n",
    "Given an integer array nums and an integer k, return the k most frequent elements. You may return the answer in any order.\n",
    "\n",
    "Example 1:\n",
    "Input: nums = [1,1,1,2,2,3], k = 2\n",
    "Output: [1,2]\n",
    "\n",
    "Example 2:\n",
    "Input: nums = [1], k = 1\n",
    "Output: [1]\n",
    " \n",
    "Constraints:\n",
    "1 <= nums.length <= 105\n",
    "k is in the range [1, the number of unique elements in the array].\n",
    "It is guaranteed that the answer is unique.\n",
    " \n",
    "Follow up: Your algorithm's time complexity must be better than O(n log n), where n is the array's size.\n",
    "'''"
   ]
  },
  {
   "cell_type": "markdown",
   "metadata": {},
   "source": [
    "## Given Test Cases"
   ]
  },
  {
   "cell_type": "code",
   "execution_count": 3,
   "metadata": {},
   "outputs": [
    {
     "data": {
      "text/plain": [
       "'\\nExample 1:\\nInput: nums = [1,1,1,2,2,3], k = 2\\nOutput: [1,2]\\n\\nExample 2:\\nInput: nums = [1], k = 1\\nOutput: [1]\\n'"
      ]
     },
     "execution_count": 3,
     "metadata": {},
     "output_type": "execute_result"
    }
   ],
   "source": [
    "'''\n",
    "Example 1:\n",
    "Input: nums = [1,1,1,2,2,3], k = 2\n",
    "Output: [1,2]\n",
    "\n",
    "Example 2:\n",
    "Input: nums = [1], k = 1\n",
    "Output: [1]\n",
    "'''"
   ]
  },
  {
   "cell_type": "markdown",
   "metadata": {},
   "source": [
    "### Data Setup"
   ]
  },
  {
   "cell_type": "code",
   "execution_count": 4,
   "metadata": {},
   "outputs": [],
   "source": [
    "nums1, k1 = [1,1,1,2,2,3], 2\n",
    "nums2, k2 = [1], 1"
   ]
  },
  {
   "cell_type": "markdown",
   "metadata": {},
   "source": [
    "## Strategy and Solution"
   ]
  },
  {
   "cell_type": "markdown",
   "metadata": {},
   "source": [
    "### Brute Force Time = O(nlogn) | Space = O(n)"
   ]
  },
  {
   "cell_type": "code",
   "execution_count": 5,
   "metadata": {},
   "outputs": [
    {
     "data": {
      "text/plain": [
       "'\\nCONCEPT\\n    the brute force solution would be the most direct way to do this:\\n    count the freq of every number in the list, then sort those numbers by their freq, and then return the top k values\\n\\nIMPLEMENTATION\\n    create a freq dictionary\\n    O(n) spent to traverse the list, using the numbers as keys and the freq of that num as the value. return the values as a list\\n    O(nlogn) to sort the list values of dictionary in descending order\\n    O(k) return the first k values of this list\\n\\nANALYSIS\\n    as mentioned above, our runtime is going to be nlogn+n+k, or worst case, in the class of O(nlogn)\\n    at worst case, we spend O(n) space for the dictionary, and another O(n) for the sorted list (aka every value is unique), and thus, O(2n) is in the class of O(n)\\n'"
      ]
     },
     "execution_count": 5,
     "metadata": {},
     "output_type": "execute_result"
    }
   ],
   "source": [
    "'''\n",
    "CONCEPT\n",
    "    the brute force solution would be the most direct way to do this:\n",
    "    count the freq of every number in the list, then sort those numbers by their freq, and then return the top k values\n",
    "\n",
    "IMPLEMENTATION\n",
    "    create a freq dictionary\n",
    "    O(n) spent to traverse the list, using the numbers as keys and the freq of that num as the value. return the values as a list\n",
    "    O(nlogn) to sort the list values of dictionary in descending order\n",
    "    O(k) return the first k values of this list\n",
    "\n",
    "ANALYSIS\n",
    "    as mentioned above, our runtime is going to be nlogn+n+k, or worst case, in the class of O(nlogn)\n",
    "    at worst case, we spend O(n) space for the dictionary, and another O(n) for the sorted list (aka every value is unique), and thus, O(2n) is in the class of O(n)\n",
    "'''"
   ]
  },
  {
   "cell_type": "code",
   "execution_count": 6,
   "metadata": {},
   "outputs": [],
   "source": [
    "def topKFrequent(nums, k):\n",
    "    freq_dict = {}\n",
    "\n",
    "    for int in nums:\n",
    "        if int in freq_dict.keys():\n",
    "            freq_dict[int] += 1\n",
    "        else:\n",
    "            freq_dict[int] = 1\n",
    "\n",
    "    freq_list = list(freq_dict.items())\n",
    "    freq_list = sorted(freq_list, key = lambda x : x[1], reverse=True)\n",
    "    \n",
    "    return [freq_list[i][0] for i in range(k)]"
   ]
  },
  {
   "cell_type": "code",
   "execution_count": 7,
   "metadata": {},
   "outputs": [
    {
     "name": "stdout",
     "output_type": "stream",
     "text": [
      "[1, 1, 1, 2, 2, 3]\n"
     ]
    },
    {
     "data": {
      "text/plain": [
       "[1, 2]"
      ]
     },
     "execution_count": 7,
     "metadata": {},
     "output_type": "execute_result"
    }
   ],
   "source": [
    "print(nums1)\n",
    "topKFrequent(nums1, k1)"
   ]
  },
  {
   "cell_type": "markdown",
   "metadata": {},
   "source": [
    "### Faster Solution Time = O(klogn) | Space = O(n)"
   ]
  },
  {
   "cell_type": "code",
   "execution_count": 8,
   "metadata": {},
   "outputs": [
    {
     "data": {
      "text/plain": [
       "'\\nCONCEPT \\n    we can further improve upon the runtime because we dont need to sort the entire array (rather, only need to return the first k sorted elements, not all sorted elements).\\n    we thus want to think of a way to manipulate the values in such a way that only requires us to work with the first k elements, reducing our total sample space.\\n\\nIMPLEMENTATION\\n    one way we can do this is with a transofmration.\\n    similarly like the above, O(n) to grab the freq of all the occurences\\n    then, heapify that into a max heap in O(n) time, using the freq as the key by which we heapify\\n    with our max heap established, we can then pop the first k elements to get the largest k. each pop worst case will be logn  \\n\\nMEMORY\\n    thus, our total runtime is O(n) + O(n) + k * O(logn), which simplifies to O(klogn). this would be faster than our original solution as long as k < n\\n    our memory would be O(n) for the size of the max heap\\n'"
      ]
     },
     "execution_count": 8,
     "metadata": {},
     "output_type": "execute_result"
    }
   ],
   "source": [
    "'''\n",
    "CONCEPT \n",
    "    we can further improve upon the runtime because we dont need to sort the entire array (rather, only need to return the first k sorted elements, not all sorted elements).\n",
    "    we thus want to think of a way to manipulate the values in such a way that only requires us to work with the first k elements, reducing our total sample space.\n",
    "\n",
    "IMPLEMENTATION\n",
    "    one way we can do this is with a transofmration.\n",
    "    similarly like the above, O(n) to grab the freq of all the occurences\n",
    "    then, heapify that into a max heap in O(n) time, using the freq as the key by which we heapify\n",
    "    with our max heap established, we can then pop the first k elements to get the largest k. each pop worst case will be logn  \n",
    "\n",
    "MEMORY\n",
    "    thus, our total runtime is O(n) + O(n) + k * O(logn), which simplifies to O(klogn). this would be faster than our original solution as long as k < n\n",
    "    our memory would be O(n) for the size of the max heap\n",
    "'''"
   ]
  },
  {
   "cell_type": "markdown",
   "metadata": {},
   "source": [
    "### Fastest Solution Time = O(n) | Space = O(n)"
   ]
  },
  {
   "cell_type": "code",
   "execution_count": 9,
   "metadata": {},
   "outputs": [
    {
     "data": {
      "text/plain": [
       "'\\nCONCEPT \\n    currently, the greatest timesink is klogn, which is involved in the lookup time from a heap\\n    we can improve on this time with an O(n) lookup time in either a dictionary or in a list from lowest to highest k already\\n    observe how in our previous iteration, we have already have a freq list (aka a list where the index is the chr and the value is the freq)\\n    by transforming this list into a new one in which the index is the freq and the values are lists of all the chrs of that freq, we can create a list that is ordered\\n    from lowest to highest k already. \\n\\nIMPLEMENTATION\\n    quick note: it sounds like we\\'re sorting the freq list by its values, which should take nlogn at the fastest.\\n    the key to realize here is that in any given list, the range of all the possible freq\\'s of every chr is going to be from 1 to n.\\n    eg) [1,2,2,4]\\n    the highest freq possible is going to be 4 (in the case where its [1,1,1,1]) and the lowest is going ot be 1 (in the case where its [1,2,3,4])\\n    the range of the freq is directly linearly proportional to the length of the list, meaning we can transform our freq list in O(n) by itearting through ti and placing it\\n    in a predefined index\\n\\n    in implementation, we transform our given list into a freq dictionary, where (key, value) = (chr, freq)\\n    next, we can transform this freq dictionary into a \"sorted k list\", where the max length of this \"sorted k list\" is deterministically the length of our given list.\\n    \"sorted k list\" is where the (index, value) = (freq, sub list of all chrs that have this freq). \\n\\n    because the index is our k in order, we start counting from the back of this \"sorted k list\" to get the top k elements\\n\\nMEMORY\\n    freq dictionary = O(n), \"sorted k list\" = O(n), lookup = O(n) = 3n = O(n)\\n    memory would be 2*O(n) for the freq dictionary and \"sorted k list\", which = O(n)\\n'"
      ]
     },
     "execution_count": 9,
     "metadata": {},
     "output_type": "execute_result"
    }
   ],
   "source": [
    "'''\n",
    "CONCEPT \n",
    "    currently, the greatest timesink is klogn, which is involved in the lookup time from a heap\n",
    "    we can improve on this time with an O(n) lookup time in either a dictionary or in a list from lowest to highest k already\n",
    "    observe how in our previous iteration, we have already have a freq list (aka a list where the index is the chr and the value is the freq)\n",
    "    by transforming this list into a new one in which the index is the freq and the values are lists of all the chrs of that freq, we can create a list that is ordered\n",
    "    from lowest to highest k already. \n",
    "\n",
    "IMPLEMENTATION\n",
    "    quick note: it sounds like we're sorting the freq list by its values, which should take nlogn at the fastest.\n",
    "    the key to realize here is that in any given list, the range of all the possible freq's of every chr is going to be from 1 to n.\n",
    "    eg) [1,2,2,4]\n",
    "    the highest freq possible is going to be 4 (in the case where its [1,1,1,1]) and the lowest is going ot be 1 (in the case where its [1,2,3,4])\n",
    "    the range of the freq is directly linearly proportional to the length of the list, meaning we can transform our freq list in O(n) by itearting through ti and placing it\n",
    "    in a predefined index\n",
    "\n",
    "    in implementation, we transform our given list into a freq dictionary, where (key, value) = (chr, freq)\n",
    "    next, we can transform this freq dictionary into a \"sorted k list\", where the max length of this \"sorted k list\" is deterministically the length of our given list.\n",
    "    \"sorted k list\" is where the (index, value) = (freq, sub list of all chrs that have this freq). \n",
    "\n",
    "    because the index is our k in order, we start counting from the back of this \"sorted k list\" to get the top k elements\n",
    "\n",
    "MEMORY\n",
    "    freq dictionary = O(n), \"sorted k list\" = O(n), lookup = O(n) = 3n = O(n)\n",
    "    memory would be 2*O(n) for the freq dictionary and \"sorted k list\", which = O(n)\n",
    "'''"
   ]
  },
  {
   "cell_type": "code",
   "execution_count": 69,
   "metadata": {},
   "outputs": [],
   "source": [
    "def topKFrequent(nums, k):\n",
    "    freq_dict = {}\n",
    "    for int in nums:\n",
    "        if int in freq_dict.keys():\n",
    "            freq_dict[int] += 1\n",
    "        else:\n",
    "            freq_dict[int] = 1\n",
    "    \n",
    "    sorted_k_list = [[] for _ in range(len(nums) + 1)]\n",
    "    for key, value in freq_dict.items():\n",
    "        sorted_k_list[value].append(key)\n",
    "    \n",
    "    top_k = []\n",
    "    for i in range(len(sorted_k_list)-1, 0, -1): #iterating starting from back of list\n",
    "        for j in range(len(sorted_k_list[i])):\n",
    "            top_k.append(sorted_k_list[i][j])\n",
    "            if len(top_k) == k:\n",
    "                return top_k"
   ]
  },
  {
   "cell_type": "code",
   "execution_count": 70,
   "metadata": {},
   "outputs": [
    {
     "name": "stdout",
     "output_type": "stream",
     "text": [
      "[1, 1, 1, 2, 2, 3]\n"
     ]
    },
    {
     "data": {
      "text/plain": [
       "[1, 2]"
      ]
     },
     "execution_count": 70,
     "metadata": {},
     "output_type": "execute_result"
    }
   ],
   "source": [
    "print(nums1)\n",
    "topKFrequent(nums1, k1)"
   ]
  },
  {
   "cell_type": "markdown",
   "metadata": {},
   "source": [
    "## Testing"
   ]
  },
  {
   "cell_type": "code",
   "execution_count": 71,
   "metadata": {},
   "outputs": [
    {
     "name": "stdout",
     "output_type": "stream",
     "text": [
      "[1, 2][1]\n"
     ]
    }
   ],
   "source": [
    "print(f\"\\\n",
    "{topKFrequent(nums1, k1)}\\\n",
    "{topKFrequent(nums2, k2)}\")"
   ]
  },
  {
   "cell_type": "code",
   "execution_count": null,
   "metadata": {},
   "outputs": [
    {
     "data": {
      "text/plain": [
       "'\\nPassed all test cases\\n'"
      ]
     },
     "execution_count": 40,
     "metadata": {},
     "output_type": "execute_result"
    }
   ],
   "source": [
    "'''\n",
    "Passed all test cases\n",
    "'''"
   ]
  }
 ],
 "metadata": {
  "interpreter": {
   "hash": "bc3210eb0411503d9a54e82308439f2538c49d86b5a7c00e1ae895fbe28c5986"
  },
  "kernelspec": {
   "display_name": "Python 3.8.12 ('PythonData')",
   "language": "python",
   "name": "python3"
  },
  "language_info": {
   "codemirror_mode": {
    "name": "ipython",
    "version": 3
   },
   "file_extension": ".py",
   "mimetype": "text/x-python",
   "name": "python",
   "nbconvert_exporter": "python",
   "pygments_lexer": "ipython3",
   "version": "3.8.13"
  },
  "orig_nbformat": 4
 },
 "nbformat": 4,
 "nbformat_minor": 2
}
