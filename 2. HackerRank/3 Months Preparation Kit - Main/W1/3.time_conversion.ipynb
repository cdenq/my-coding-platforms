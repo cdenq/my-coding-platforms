{
 "cells": [
  {
   "cell_type": "markdown",
   "metadata": {},
   "source": [
    "# Time Conversion"
   ]
  },
  {
   "cell_type": "markdown",
   "metadata": {},
   "source": [
    "## Problem Statement"
   ]
  },
  {
   "cell_type": "code",
   "execution_count": 1,
   "metadata": {},
   "outputs": [
    {
     "data": {
      "text/plain": [
       "\"\\nGiven a time in 12-hour AM/PM format, convert it to military (24-hour) time.\\n\\nNote: - 12:00:00AM on a 12-hour clock is 00:00:00 on a 24-hour clock.\\n- 12:00:00PM on a 12-hour clock is 12:00:00 on a 24-hour clock.\\n\\nExample\\ns = '12:01:00PM'\\nReturn '12:01:00'.\\n\\ns = '12:01:00AM'\\nReturn '00:01:00'.\\n\\nFunction Description\\n\\nComplete the timeConversion function in the editor below. It should return a new string representing the input time in 24 hour format.\\n\\ntimeConversion has the following parameter(s):\\n\\nstring s: a time in 12 hour format\\nReturns\\n\\nstring: the time in 24 hour format\\nInput Format\\n\\nA single string s that represents a time in 12-hour clock format (i.e.: hh:mm:ssAM or hh:mm:ssPM).\\n\\nConstraints\\nAll input times are valid\\n\""
      ]
     },
     "execution_count": 1,
     "metadata": {},
     "output_type": "execute_result"
    }
   ],
   "source": [
    "'''\n",
    "Given a time in 12-hour AM/PM format, convert it to military (24-hour) time.\n",
    "\n",
    "Note: - 12:00:00AM on a 12-hour clock is 00:00:00 on a 24-hour clock.\n",
    "- 12:00:00PM on a 12-hour clock is 12:00:00 on a 24-hour clock.\n",
    "\n",
    "Example\n",
    "s = '12:01:00PM'\n",
    "Return '12:01:00'.\n",
    "\n",
    "s = '12:01:00AM'\n",
    "Return '00:01:00'.\n",
    "\n",
    "Function Description\n",
    "\n",
    "Complete the timeConversion function in the editor below. It should return a new string representing the input time in 24 hour format.\n",
    "\n",
    "timeConversion has the following parameter(s):\n",
    "string s: a time in 12 hour format\n",
    "\n",
    "Returns\n",
    "string: the time in 24 hour format\n",
    "\n",
    "Input Format\n",
    "A single string s that represents a time in 12-hour clock format (i.e.: hh:mm:ssAM or hh:mm:ssPM).\n",
    "\n",
    "Constraints\n",
    "All input times are valid\n",
    "'''"
   ]
  },
  {
   "cell_type": "markdown",
   "metadata": {},
   "source": [
    "## Given Test Cases"
   ]
  },
  {
   "cell_type": "code",
   "execution_count": 13,
   "metadata": {},
   "outputs": [
    {
     "data": {
      "text/plain": [
       "'\\nSample Input\\n1 2 3 4 5\\n\\nSample Output\\n10 14\\n'"
      ]
     },
     "execution_count": 13,
     "metadata": {},
     "output_type": "execute_result"
    }
   ],
   "source": [
    "'''\n",
    "Sample Input\n",
    "07:05:45PM\n",
    "\n",
    "Sample Output\n",
    "19:05:45\n",
    "'''"
   ]
  },
  {
   "cell_type": "markdown",
   "metadata": {},
   "source": [
    "### Data Setup"
   ]
  },
  {
   "cell_type": "code",
   "execution_count": 2,
   "metadata": {},
   "outputs": [],
   "source": [
    "s = '07:05:45PM'"
   ]
  },
  {
   "cell_type": "markdown",
   "metadata": {},
   "source": [
    "## Strategy and Solution"
   ]
  },
  {
   "cell_type": "markdown",
   "metadata": {},
   "source": [
    "### Brute Force"
   ]
  },
  {
   "cell_type": "code",
   "execution_count": 4,
   "metadata": {},
   "outputs": [
    {
     "data": {
      "text/plain": [
       "'\\niterate through the entire array, counting all the (-) values and divide the counter by the len.\\n\\ndo the same two more times with (+), (0)\\n'"
      ]
     },
     "execution_count": 4,
     "metadata": {},
     "output_type": "execute_result"
    }
   ],
   "source": [
    "'''\n",
    "from the s, we know that the edited portion will only be the hr, so we can extract the hr from the string\n",
    "\n",
    "then, check if PM/AM of the string, which will determine how we manipulate the string\n",
    "\n",
    "restitch the string back together afterwards\n",
    "'''"
   ]
  },
  {
   "cell_type": "code",
   "execution_count": 14,
   "metadata": {},
   "outputs": [],
   "source": [
    "def timeConversion(s):\n",
    "    hr = int(s.split(':', 1)[0])\n",
    "    if ('P' in s):\n",
    "        if (hr == 12):\n",
    "            return s[0:-2]\n",
    "        else:\n",
    "            return f\"{hr + 12}:{s.split(':', 1)[1][0:-2]}\"\n",
    "    else:\n",
    "        if (hr == 12):\n",
    "            return f\"{hr - 12}0:{s.split(':', 1)[1][0:-2]}\"\n",
    "        else:\n",
    "            return s[0:-2]"
   ]
  },
  {
   "cell_type": "markdown",
   "metadata": {},
   "source": [
    "## Testing"
   ]
  },
  {
   "cell_type": "code",
   "execution_count": 8,
   "metadata": {},
   "outputs": [
    {
     "data": {
      "text/plain": [
       "'\\nInput (stdin)\\n6\\n-4 3 -9 0 4 1\\n\\nExpected Output\\n0.5\\n0.333333\\n0.166667\\n'"
      ]
     },
     "execution_count": 8,
     "metadata": {},
     "output_type": "execute_result"
    }
   ],
   "source": [
    "'''\n",
    "Sample Input\n",
    "07:05:45PM\n",
    "\n",
    "Sample Output\n",
    "19:05:45\n",
    "'''"
   ]
  },
  {
   "cell_type": "code",
   "execution_count": 18,
   "metadata": {},
   "outputs": [
    {
     "name": "stdout",
     "output_type": "stream",
     "text": [
      "10 14\n"
     ]
    }
   ],
   "source": [
    "timeConversion(s)"
   ]
  }
 ],
 "metadata": {
  "interpreter": {
   "hash": "bc3210eb0411503d9a54e82308439f2538c49d86b5a7c00e1ae895fbe28c5986"
  },
  "kernelspec": {
   "display_name": "Python 3.8.12 ('PythonData')",
   "language": "python",
   "name": "python3"
  },
  "language_info": {
   "codemirror_mode": {
    "name": "ipython",
    "version": 3
   },
   "file_extension": ".py",
   "mimetype": "text/x-python",
   "name": "python",
   "nbconvert_exporter": "python",
   "pygments_lexer": "ipython3",
   "version": "3.8.12"
  },
  "orig_nbformat": 4
 },
 "nbformat": 4,
 "nbformat_minor": 2
}
