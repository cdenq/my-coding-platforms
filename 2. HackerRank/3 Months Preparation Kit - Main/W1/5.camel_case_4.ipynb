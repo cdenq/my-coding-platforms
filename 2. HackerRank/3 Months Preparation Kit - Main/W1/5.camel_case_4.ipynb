{
 "cells": [
  {
   "cell_type": "markdown",
   "metadata": {},
   "source": [
    "# Camel Case 4"
   ]
  },
  {
   "cell_type": "markdown",
   "metadata": {},
   "source": [
    "## Problem Statement"
   ]
  },
  {
   "cell_type": "code",
   "execution_count": 1,
   "metadata": {},
   "outputs": [
    {
     "data": {
      "text/plain": [
       "'\\nMaria plays college basketball and wants to go pro. Each season she maintains a record of her play. She tabulates the number of times she breaks her season record for most points and least points in a game. Points scored in the first game establish her record for the season, and she begins counting from there.\\n\\nExample\\nscores = [12,24,10,24]\\n\\nScores are in the same order as the games played. She tabulates her results as follows:\\n\\n                                     Count\\n    Game  Score  Minimum  Maximum   Min Max\\n     0      12     12       12       0   0\\n     1      24     12       24       0   1\\n     2      10     10       24       1   1\\n     3      24     10       24       1   1\\nGiven the scores for a season, determine the number of times Maria breaks her records for most and least points scored during the season.\\n\\nFunction Description\\nComplete the breakingRecords function in the editor below.\\n\\nbreakingRecords has the following parameter(s):\\nint scores[n]: points scored per game\\n\\nReturns\\nint[2]: An array with the numbers of times she broke her records. Index 0 is for breaking most points records, and index 1 is for breaking least points records.\\nInput Format\\n\\nThe first line contains an integer n, the number of games.\\nThe second line contains n space-separated integers describing the respective values of score0, score1, ..., score(n-1).\\n\\nConstraints\\n1 <= n <= 1000\\n0 <= scores[i] <= 10^8\\n'"
      ]
     },
     "execution_count": 1,
     "metadata": {},
     "output_type": "execute_result"
    }
   ],
   "source": [
    "'''\n",
    "Camel Case is a naming style common in many programming languages. In Java, method and variable names typically start with a lowercase letter,\n",
    "with all subsequent words starting with a capital letter (example: startThread). Names of classes follow the same pattern, except that they\n",
    "start with a capital letter (example: BlueCar).\n",
    "\n",
    "Your task is to write a program that creates or splits Camel Case variable, method, and class names.\n",
    "\n",
    "Input Format\n",
    "Each line of the input file will begin with an operation (S or C) followed by a semi-colon followed by M, C, or V followed by a semi-colon followed by the words you'll need to operate on.\n",
    "The operation will either be S (split) or C (combine)\n",
    "M indicates method, C indicates class, and V indicates variable\n",
    "In the case of a split operation, the words will be a camel case method, class or variable name that you need to split into a space-delimited list of words starting with a lowercase letter.\n",
    "In the case of a combine operation, the words will be a space-delimited list of words starting with lowercase letters that you need to combine into the appropriate camel case String.\n",
    "Methods should end with an empty set of parentheses to differentiate them from variable names.\n",
    "\n",
    "Output Format\n",
    "\n",
    "For each input line, your program should print either the space-delimited list of words (in the case of a split operation) or the appropriate camel case string (in the case of a combine operation).\n",
    "\n",
    "Sample Input\n",
    "S;M;plasticCup()\n",
    "C;V;mobile phone\n",
    "C;C;coffee machine\n",
    "S;C;LargeSoftwareBook\n",
    "C;M;white sheet of paper\n",
    "S;V;pictureFrame\n",
    "\n",
    "Sample Output\n",
    "plastic cup\n",
    "mobilePhone\n",
    "CoffeeMachine\n",
    "large software book\n",
    "whiteSheetOfPaper()\n",
    "picture frame\n",
    "\n",
    "Explanation\n",
    "Use Scanner to read in all information as if it were coming from the keyboard.\n",
    "Print all information to the console using standard output (System.out.print() or System.out.println()).\n",
    "\n",
    "Outputs must be exact (exact spaces and casing).\n",
    "'''"
   ]
  },
  {
   "cell_type": "markdown",
   "metadata": {},
   "source": [
    "## Given Test Cases"
   ]
  },
  {
   "cell_type": "code",
   "execution_count": 13,
   "metadata": {},
   "outputs": [
    {
     "data": {
      "text/plain": [
       "'\\nSample Input\\n1 2 3 4 5\\n\\nSample Output\\n10 14\\n'"
      ]
     },
     "execution_count": 13,
     "metadata": {},
     "output_type": "execute_result"
    }
   ],
   "source": [
    "'''\n",
    "N/A\n",
    "'''"
   ]
  },
  {
   "cell_type": "markdown",
   "metadata": {},
   "source": [
    "### Data Setup"
   ]
  },
  {
   "cell_type": "code",
   "execution_count": 6,
   "metadata": {},
   "outputs": [],
   "source": [
    "# NA"
   ]
  },
  {
   "cell_type": "markdown",
   "metadata": {},
   "source": [
    "## Strategy and Solution"
   ]
  },
  {
   "cell_type": "markdown",
   "metadata": {},
   "source": [
    "### Brute Force"
   ]
  },
  {
   "cell_type": "code",
   "execution_count": 4,
   "metadata": {},
   "outputs": [
    {
     "data": {
      "text/plain": [
       "'\\niterate through the entire array, counting all the (-) values and divide the counter by the len.\\n\\ndo the same two more times with (+), (0)\\n'"
      ]
     },
     "execution_count": 4,
     "metadata": {},
     "output_type": "execute_result"
    }
   ],
   "source": [
    "'''\n",
    "we can check the instructions by searching specifically for the keywords \"S\" and \"C\". then perform splits and upr/lwr case swaps as necessary.\n",
    "'''"
   ]
  },
  {
   "cell_type": "code",
   "execution_count": 1,
   "metadata": {},
   "outputs": [
    {
     "name": "stdout",
     "output_type": "stream",
     "text": [
      "i pad\n",
      "mousePad()\n",
      "CodeSwarm\n",
      "orange highlighter\n"
     ]
    }
   ],
   "source": [
    "while True:\n",
    "    try:\n",
    "        user_input = input().strip()  \n",
    "        split_ls = user_input.split(';')\n",
    "        if (split_ls[0] == 'S'): #splitting\n",
    "            index_of_upr, split_of_upr = [], []\n",
    "            split_ls[2] = split_ls[2].replace('()', '') #remove method's ()\n",
    "            for index, character in enumerate(split_ls[2]):\n",
    "                if (character.isupper()):\n",
    "                    split_ls[2] = split_ls[2].replace(character, ' ' + character.lower())\n",
    "            split_ls[2] = split_ls[2].strip()\n",
    "            print(split_ls[2])\n",
    "        else: #combining\n",
    "            split_ls[2] = split_ls[2].split(' ')\n",
    "            for i in range(len(split_ls[2])):\n",
    "                split_ls[2][i] = split_ls[2][i].title()\n",
    "            if (split_ls[1] == 'C'): #class\n",
    "                print(''.join(split_ls[2]))\n",
    "            else: #method,variable\n",
    "                split_ls[2][0] = split_ls[2][0].lower()\n",
    "                if (split_ls[1] == 'V'): #variable\n",
    "                    print(''.join(split_ls[2]))\n",
    "                else: #method\n",
    "                    print(''.join(split_ls[2]) + '()')\n",
    "    except:\n",
    "        break"
   ]
  },
  {
   "cell_type": "markdown",
   "metadata": {},
   "source": [
    "## Testing"
   ]
  },
  {
   "cell_type": "code",
   "execution_count": 7,
   "metadata": {},
   "outputs": [
    {
     "data": {
      "text/plain": [
       "'\\nSample Input\\n9\\n10 5 20 20 4 5 2 25 1\\n\\nSample Output\\n2 4\\n'"
      ]
     },
     "execution_count": 7,
     "metadata": {},
     "output_type": "execute_result"
    }
   ],
   "source": [
    "'''\n",
    "Sample Input\n",
    "S;V;iPad\n",
    "C;M;mouse pad\n",
    "C;C;code swarm\n",
    "S;C;OrangeHighlighter\n",
    "\n",
    "Sample Output\n",
    "i pad\n",
    "mousePad()\n",
    "CodeSwarm\n",
    "orange highlighter\n",
    "'''"
   ]
  }
 ],
 "metadata": {
  "interpreter": {
   "hash": "bc3210eb0411503d9a54e82308439f2538c49d86b5a7c00e1ae895fbe28c5986"
  },
  "kernelspec": {
   "display_name": "Python 3.8.12 ('PythonData')",
   "language": "python",
   "name": "python3"
  },
  "language_info": {
   "codemirror_mode": {
    "name": "ipython",
    "version": 3
   },
   "file_extension": ".py",
   "mimetype": "text/x-python",
   "name": "python",
   "nbconvert_exporter": "python",
   "pygments_lexer": "ipython3",
   "version": "3.8.12"
  },
  "orig_nbformat": 4
 },
 "nbformat": 4,
 "nbformat_minor": 2
}
