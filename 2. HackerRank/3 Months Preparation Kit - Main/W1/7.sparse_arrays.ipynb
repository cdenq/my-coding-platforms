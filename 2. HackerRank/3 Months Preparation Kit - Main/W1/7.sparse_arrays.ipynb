{
 "cells": [
  {
   "cell_type": "markdown",
   "metadata": {},
   "source": [
    "# Sparse Arrays"
   ]
  },
  {
   "cell_type": "markdown",
   "metadata": {},
   "source": [
    "## Problem Statement"
   ]
  },
  {
   "cell_type": "code",
   "execution_count": 13,
   "metadata": {},
   "outputs": [
    {
     "data": {
      "text/plain": [
       "'\\nThere is a collection of input strings and a collection of query strings. For each query string, determine how many times it occurs in the list of input strings. Return an array of the results.\\n\\nExample\\nstrings = [\"ab\", \"ab\", \"abc\"]\\nqueries = [\"ab\", \"abc\",\"bc\"]\\n\\nThere are 2 instances of \"ab\", 1 of \"abc\" and 0 of \"bc. For each query, add an element to the return array, [2,1,0].\\n\\nFunction Description\\n\\nComplete the function matchingStrings in the editor below. The function must return an array of integers representing the frequency of occurrence of each query string in strings.\\n\\nmatchingStrings has the following parameters:\\n\\nstring strings[n] - an array of strings to search\\nstring queries[q] - an array of query strings\\n\\nReturns\\nint[q]: an array of results for each query\\nInput Format\\n\\nThe first line contains and integer n, the size of strings[].\\nEach of the next n lines contains a string strings[i].\\nThe next line contains q, the size of queries[].\\nEach of the next q lines contains a string queries[i].\\n\\nConstraints\\n1 <= n <= 100\\n1 <= q <= 100\\n1 <= |strings[i]|, |queries[i]| <= 100\\n'"
      ]
     },
     "execution_count": 13,
     "metadata": {},
     "output_type": "execute_result"
    }
   ],
   "source": [
    "'''\n",
    "There is a collection of input strings and a collection of query strings. For each query string, determine how many times it occurs in the list of input strings. Return an array of the results.\n",
    "\n",
    "Example\n",
    "strings = [\"ab\", \"ab\", \"abc\"]\n",
    "queries = [\"ab\", \"abc\",\"bc\"]\n",
    "\n",
    "There are 2 instances of \"ab\", 1 of \"abc\" and 0 of \"bc. For each query, add an element to the return array, [2,1,0].\n",
    "\n",
    "Function Description\n",
    "\n",
    "Complete the function matchingStrings in the editor below. The function must return an array of integers representing the frequency of occurrence of each query string in strings.\n",
    "\n",
    "matchingStrings has the following parameters:\n",
    "\n",
    "string strings[n] - an array of strings to search\n",
    "string queries[q] - an array of query strings\n",
    "\n",
    "Returns\n",
    "int[q]: an array of results for each query\n",
    "Input Format\n",
    "\n",
    "The first line contains and integer n, the size of strings[].\n",
    "Each of the next n lines contains a string strings[i].\n",
    "The next line contains q, the size of queries[].\n",
    "Each of the next q lines contains a string queries[i].\n",
    "\n",
    "Constraints\n",
    "1 <= n <= 100\n",
    "1 <= q <= 100\n",
    "1 <= |strings[i]|, |queries[i]| <= 100\n",
    "'''"
   ]
  },
  {
   "cell_type": "markdown",
   "metadata": {},
   "source": [
    "## Given Test Cases"
   ]
  },
  {
   "cell_type": "code",
   "execution_count": 14,
   "metadata": {},
   "outputs": [
    {
     "data": {
      "text/plain": [
       "'\\nSample Input\\n4\\naba\\nbaba\\naba\\nxzxb\\n3\\naba\\nxzxb\\nab\\n\\nSample Output\\n2\\n1\\n0\\n'"
      ]
     },
     "execution_count": 14,
     "metadata": {},
     "output_type": "execute_result"
    }
   ],
   "source": [
    "'''\n",
    "Sample Input\n",
    "4\n",
    "aba\n",
    "baba\n",
    "aba\n",
    "xzxb\n",
    "3\n",
    "aba\n",
    "xzxb\n",
    "ab\n",
    "\n",
    "Sample Output\n",
    "2\n",
    "1\n",
    "0\n",
    "'''"
   ]
  },
  {
   "cell_type": "markdown",
   "metadata": {},
   "source": [
    "### Data Setup"
   ]
  },
  {
   "cell_type": "code",
   "execution_count": 15,
   "metadata": {},
   "outputs": [],
   "source": [
    "arr = ['aba', 'baba', 'aba', 'xzxb']\n",
    "q = ['aba', 'xzxb', 'ab']"
   ]
  },
  {
   "cell_type": "markdown",
   "metadata": {},
   "source": [
    "## Strategy and Solution"
   ]
  },
  {
   "cell_type": "markdown",
   "metadata": {},
   "source": [
    "### Brute Force (On^2)"
   ]
  },
  {
   "cell_type": "code",
   "execution_count": 16,
   "metadata": {},
   "outputs": [
    {
     "data": {
      "text/plain": [
       "'\\nthe brute force method would be to compare every query with every item in arr for a match; increment a counter if there is a match and then return.\\n\\nluckily, we can either manually code out the nested for-loops or we can use the builtin .count function from python \\n'"
      ]
     },
     "execution_count": 16,
     "metadata": {},
     "output_type": "execute_result"
    }
   ],
   "source": [
    "'''\n",
    "the brute force method would be to compare every query with every item in arr for a match; increment a counter if there is a match and then return.\n",
    "\n",
    "luckily, we can either manually code out the nested for-loops or we can use the builtin .count function from python \n",
    "'''"
   ]
  },
  {
   "cell_type": "code",
   "execution_count": 17,
   "metadata": {},
   "outputs": [],
   "source": [
    "def matchingStrings_manual(strings, queries):\n",
    "    output = []\n",
    "    for query in queries:\n",
    "        temp_counter = 0\n",
    "        for string in strings:\n",
    "            if (query == string):\n",
    "                temp_counter += 1\n",
    "        output.append(temp_counter)\n",
    "    return output"
   ]
  },
  {
   "cell_type": "code",
   "execution_count": 18,
   "metadata": {},
   "outputs": [],
   "source": [
    "def matchingStrings_func(strings, queries):\n",
    "    return [strings.count(q) for q in queries]"
   ]
  },
  {
   "cell_type": "code",
   "execution_count": 19,
   "metadata": {},
   "outputs": [
    {
     "name": "stdout",
     "output_type": "stream",
     "text": [
      "[2, 1, 0]\n",
      "[2, 1, 0]\n"
     ]
    }
   ],
   "source": [
    "print(matchingStrings_manual(arr, q))\n",
    "print(matchingStrings_func(arr, q))"
   ]
  },
  {
   "cell_type": "markdown",
   "metadata": {},
   "source": [
    "## Testing"
   ]
  },
  {
   "cell_type": "code",
   "execution_count": 20,
   "metadata": {},
   "outputs": [
    {
     "data": {
      "text/plain": [
       "'\\nSample Input\\n3\\ndef\\nde\\nfgh\\n3\\nde\\nlmn\\nfgh\\n\\nSample Output\\n1\\n0\\n1\\n'"
      ]
     },
     "execution_count": 20,
     "metadata": {},
     "output_type": "execute_result"
    }
   ],
   "source": [
    "'''\n",
    "Sample Input\n",
    "3\n",
    "def\n",
    "de\n",
    "fgh\n",
    "3\n",
    "de\n",
    "lmn\n",
    "fgh\n",
    "\n",
    "Sample Output\n",
    "1\n",
    "0\n",
    "1\n",
    "'''"
   ]
  },
  {
   "cell_type": "code",
   "execution_count": 21,
   "metadata": {},
   "outputs": [
    {
     "name": "stdout",
     "output_type": "stream",
     "text": [
      "[1, 0, 1]\n"
     ]
    }
   ],
   "source": [
    "arr1 = ['def','de','fgh']\n",
    "q1 = ['de','lmn','fgh']\n",
    "print(matchingStrings_func(arr1, q1))"
   ]
  },
  {
   "cell_type": "code",
   "execution_count": 22,
   "metadata": {},
   "outputs": [
    {
     "data": {
      "text/plain": [
       "'\\nSample Input\\n13\\nabcde\\nsdaklfj\\nasdjf\\nna\\nbasdn\\nsdaklfj\\nasdjf\\nna\\nasdjf\\nna\\nbasdn\\nsdaklfj\\nasdjf\\n5\\nabcde\\nsdaklfj\\nasdjf\\nna\\nbasdn\\n\\nSample Output\\n1\\n3\\n4\\n3\\n2\\n'"
      ]
     },
     "execution_count": 22,
     "metadata": {},
     "output_type": "execute_result"
    }
   ],
   "source": [
    "'''\n",
    "Sample Input\n",
    "13\n",
    "abcde\n",
    "sdaklfj\n",
    "asdjf\n",
    "na\n",
    "basdn\n",
    "sdaklfj\n",
    "asdjf\n",
    "na\n",
    "asdjf\n",
    "na\n",
    "basdn\n",
    "sdaklfj\n",
    "asdjf\n",
    "5\n",
    "abcde\n",
    "sdaklfj\n",
    "asdjf\n",
    "na\n",
    "basdn\n",
    "\n",
    "Sample Output\n",
    "1\n",
    "3\n",
    "4\n",
    "3\n",
    "2\n",
    "'''"
   ]
  },
  {
   "cell_type": "code",
   "execution_count": 23,
   "metadata": {},
   "outputs": [
    {
     "name": "stdout",
     "output_type": "stream",
     "text": [
      "[1, 3, 4, 3, 2]\n"
     ]
    }
   ],
   "source": [
    "arr2 = ['abcde','sdaklfj','asdjf','na','basdn','sdaklfj','asdjf','na','asdjf','na','basdn','sdaklfj','asdjf']\n",
    "q2 = ['abcde','sdaklfj','asdjf','na','basdn']\n",
    "print(matchingStrings_func(arr2, q2))"
   ]
  },
  {
   "cell_type": "code",
   "execution_count": 24,
   "metadata": {},
   "outputs": [
    {
     "data": {
      "text/plain": [
       "'\\nPassed all test cases\\n'"
      ]
     },
     "execution_count": 24,
     "metadata": {},
     "output_type": "execute_result"
    }
   ],
   "source": [
    "'''\n",
    "Passed all test cases\n",
    "'''"
   ]
  }
 ],
 "metadata": {
  "interpreter": {
   "hash": "bc3210eb0411503d9a54e82308439f2538c49d86b5a7c00e1ae895fbe28c5986"
  },
  "kernelspec": {
   "display_name": "Python 3.8.12 ('PythonData')",
   "language": "python",
   "name": "python3"
  },
  "language_info": {
   "codemirror_mode": {
    "name": "ipython",
    "version": 3
   },
   "file_extension": ".py",
   "mimetype": "text/x-python",
   "name": "python",
   "nbconvert_exporter": "python",
   "pygments_lexer": "ipython3",
   "version": "3.8.12"
  },
  "orig_nbformat": 4
 },
 "nbformat": 4,
 "nbformat_minor": 2
}
