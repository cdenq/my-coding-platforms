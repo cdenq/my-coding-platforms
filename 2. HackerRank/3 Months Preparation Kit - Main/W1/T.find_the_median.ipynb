{
 "cells": [
  {
   "cell_type": "markdown",
   "metadata": {},
   "source": [
    "# Find the Median"
   ]
  },
  {
   "cell_type": "markdown",
   "metadata": {},
   "source": [
    "## Problem Statement"
   ]
  },
  {
   "cell_type": "code",
   "execution_count": 1,
   "metadata": {},
   "outputs": [
    {
     "data": {
      "text/plain": [
       "\"\\nThe median of a list of numbers is essentially its middle element after sorting. The same number of elements occur after it as before. Given a list of numbers with an odd number of elements, find the median?\\n\\nExample\\narr = [5,3,1,2,4]\\nThe sorted array arr'= [1,2,3,4,5]. The middle element and the median is 3.\\n\\nFunction Description\\nComplete the findMedian function in the editor below.\\n\\nfindMedian has the following parameter(s):\\nint arr[n]: an unsorted array of integers\\n\\nReturns\\nint: the median of the array\\n\\nInput Format\\nThe first line contains the integer n, the size of arr.\\nThe second line contains n space-separated integers arr[i]\\n\\nConstraints\\n1 <= n <= 1000001\\nn is odd\\n-10000 <= arr[i] <= 10000\\n\""
      ]
     },
     "execution_count": 1,
     "metadata": {},
     "output_type": "execute_result"
    }
   ],
   "source": [
    "'''\n",
    "The median of a list of numbers is essentially its middle element after sorting. The same number of elements occur after it as before. Given a list of numbers with an odd number of elements, find the median?\n",
    "\n",
    "Example\n",
    "arr = [5,3,1,2,4]\n",
    "The sorted array arr'= [1,2,3,4,5]. The middle element and the median is 3.\n",
    "\n",
    "Function Description\n",
    "Complete the findMedian function in the editor below.\n",
    "\n",
    "findMedian has the following parameter(s):\n",
    "int arr[n]: an unsorted array of integers\n",
    "\n",
    "Returns\n",
    "int: the median of the array\n",
    "\n",
    "Input Format\n",
    "The first line contains the integer n, the size of arr.\n",
    "The second line contains n space-separated integers arr[i]\n",
    "\n",
    "Constraints\n",
    "1 <= n <= 1000001\n",
    "n is odd\n",
    "-10000 <= arr[i] <= 10000\n",
    "'''"
   ]
  },
  {
   "cell_type": "markdown",
   "metadata": {},
   "source": [
    "## Given Test Cases"
   ]
  },
  {
   "cell_type": "code",
   "execution_count": 2,
   "metadata": {},
   "outputs": [
    {
     "data": {
      "text/plain": [
       "'\\nSample Input 0\\n7\\n0 1 2 4 6 5 3\\n\\nSample Output 0\\n3\\n'"
      ]
     },
     "execution_count": 2,
     "metadata": {},
     "output_type": "execute_result"
    }
   ],
   "source": [
    "'''\n",
    "Sample Input 0\n",
    "7\n",
    "0 1 2 4 6 5 3\n",
    "\n",
    "Sample Output 0\n",
    "3\n",
    "'''"
   ]
  },
  {
   "cell_type": "markdown",
   "metadata": {},
   "source": [
    "### Data Setup"
   ]
  },
  {
   "cell_type": "code",
   "execution_count": 3,
   "metadata": {},
   "outputs": [],
   "source": [
    "arr = [0,1,2,4,6,5,3]"
   ]
  },
  {
   "cell_type": "markdown",
   "metadata": {},
   "source": [
    "## Strategy and Solution"
   ]
  },
  {
   "cell_type": "markdown",
   "metadata": {},
   "source": [
    "### Brute Force (On^2)"
   ]
  },
  {
   "cell_type": "code",
   "execution_count": 16,
   "metadata": {},
   "outputs": [
    {
     "data": {
      "text/plain": [
       "'\\nthe brute force method would be to compare every query with every item in arr for a match; increment a counter if there is a match and then return.\\n\\nluckily, we can either manually code out the nested for-loops or we can use the builtin .count function from python \\n'"
      ]
     },
     "execution_count": 16,
     "metadata": {},
     "output_type": "execute_result"
    }
   ],
   "source": [
    "'''\n",
    "In a nutshell, this is testing the speed of sorting algorithms.\n",
    "\n",
    "Bubble Sort, Insertion Sort etc. are common naive solutions that sort with two for loops.\n",
    "'''"
   ]
  },
  {
   "cell_type": "markdown",
   "metadata": {},
   "source": [
    "### Traditional \"Optimal\" Solutions (O n logn) or O(n) average"
   ]
  },
  {
   "cell_type": "code",
   "execution_count": 4,
   "metadata": {},
   "outputs": [
    {
     "data": {
      "text/plain": [
       "'\\nfollowing suit, we know that the best sorting algorithm is going to be a quick sort, which comes out to Onlogn. while this is fast, it is not the fastest solution.\\n'"
      ]
     },
     "execution_count": 4,
     "metadata": {},
     "output_type": "execute_result"
    }
   ],
   "source": [
    "'''\n",
    "following suit, we know that the best sorting algorithm is going to be a quick sort, which comes out to Onlogn\n",
    "\n",
    "since we dont need to actually sort the list, we can reduce this down to an average of O(n) time with quick-select algorithm.\n",
    "'''"
   ]
  },
  {
   "cell_type": "code",
   "execution_count": null,
   "metadata": {},
   "outputs": [],
   "source": [
    "def quickselect():\n",
    "    return"
   ]
  },
  {
   "cell_type": "code",
   "execution_count": 5,
   "metadata": {},
   "outputs": [],
   "source": [
    "# we can use python's built in sort function (TimSort) to condense the code even more\n",
    "def findMedian(arr):\n",
    "    sorted_arr = sorted(arr)\n",
    "    return sorted_arr[int(len(sorted_arr)/2 - 0.5)]"
   ]
  },
  {
   "cell_type": "code",
   "execution_count": null,
   "metadata": {},
   "outputs": [],
   "source": [
    "'''\n",
    "the issue with quick-select is that its over-dependent on the pivot selection being good.\n",
    "\n",
    "for eg, in quickselect implementation above, it is possible that we select a pivot such that we only remove 1 term from our search, effectively boiling the runtime down to O(n^2)\n",
    "\n",
    "we can improve upon the above by writing another piece of code to determine the optimal pivot selection everytime, and thereby guarenteeing quickselect is going to run O(n) in ALL CASES.\n",
    "\n",
    "this method is called median-of-medians.\n",
    "'''"
   ]
  },
  {
   "cell_type": "markdown",
   "metadata": {},
   "source": [
    "### Most Optimal Determininistic (On)"
   ]
  },
  {
   "cell_type": "code",
   "execution_count": null,
   "metadata": {},
   "outputs": [],
   "source": [
    "'''\n",
    "As mentioned above, quickselect gives an average of O(n) but it is heavily reliant on picking non-bad pivots. In the worst case, the pivots picked will only remove 1 item from the search,\n",
    "meaning you end up with a O(n^2) runtime.\n",
    "\n",
    "Thus, we can improve upon quick select by giving a solution that optimizes the picking of the best pivots, which is called the median-of-medians approach.\n",
    "\n",
    "\n",
    "'''"
   ]
  },
  {
   "cell_type": "markdown",
   "metadata": {},
   "source": [
    "## Testing"
   ]
  },
  {
   "cell_type": "code",
   "execution_count": 20,
   "metadata": {},
   "outputs": [
    {
     "data": {
      "text/plain": [
       "'\\nSample Input\\n3\\ndef\\nde\\nfgh\\n3\\nde\\nlmn\\nfgh\\n\\nSample Output\\n1\\n0\\n1\\n'"
      ]
     },
     "execution_count": 20,
     "metadata": {},
     "output_type": "execute_result"
    }
   ],
   "source": [
    "'''\n",
    "Sample Input\n",
    "3\n",
    "def\n",
    "de\n",
    "fgh\n",
    "3\n",
    "de\n",
    "lmn\n",
    "fgh\n",
    "\n",
    "Sample Output\n",
    "1\n",
    "0\n",
    "1\n",
    "'''"
   ]
  },
  {
   "cell_type": "code",
   "execution_count": 21,
   "metadata": {},
   "outputs": [
    {
     "name": "stdout",
     "output_type": "stream",
     "text": [
      "[1, 0, 1]\n"
     ]
    }
   ],
   "source": [
    "arr1 = ['def','de','fgh']\n",
    "q1 = ['de','lmn','fgh']\n",
    "print(matchingStrings_func(arr1, q1))"
   ]
  },
  {
   "cell_type": "code",
   "execution_count": 22,
   "metadata": {},
   "outputs": [
    {
     "data": {
      "text/plain": [
       "'\\nSample Input\\n13\\nabcde\\nsdaklfj\\nasdjf\\nna\\nbasdn\\nsdaklfj\\nasdjf\\nna\\nasdjf\\nna\\nbasdn\\nsdaklfj\\nasdjf\\n5\\nabcde\\nsdaklfj\\nasdjf\\nna\\nbasdn\\n\\nSample Output\\n1\\n3\\n4\\n3\\n2\\n'"
      ]
     },
     "execution_count": 22,
     "metadata": {},
     "output_type": "execute_result"
    }
   ],
   "source": [
    "'''\n",
    "Sample Input\n",
    "13\n",
    "abcde\n",
    "sdaklfj\n",
    "asdjf\n",
    "na\n",
    "basdn\n",
    "sdaklfj\n",
    "asdjf\n",
    "na\n",
    "asdjf\n",
    "na\n",
    "basdn\n",
    "sdaklfj\n",
    "asdjf\n",
    "5\n",
    "abcde\n",
    "sdaklfj\n",
    "asdjf\n",
    "na\n",
    "basdn\n",
    "\n",
    "Sample Output\n",
    "1\n",
    "3\n",
    "4\n",
    "3\n",
    "2\n",
    "'''"
   ]
  },
  {
   "cell_type": "code",
   "execution_count": 23,
   "metadata": {},
   "outputs": [
    {
     "name": "stdout",
     "output_type": "stream",
     "text": [
      "[1, 3, 4, 3, 2]\n"
     ]
    }
   ],
   "source": [
    "arr2 = ['abcde','sdaklfj','asdjf','na','basdn','sdaklfj','asdjf','na','asdjf','na','basdn','sdaklfj','asdjf']\n",
    "q2 = ['abcde','sdaklfj','asdjf','na','basdn']\n",
    "print(matchingStrings_func(arr2, q2))"
   ]
  },
  {
   "cell_type": "code",
   "execution_count": 24,
   "metadata": {},
   "outputs": [
    {
     "data": {
      "text/plain": [
       "'\\nPassed all test cases\\n'"
      ]
     },
     "execution_count": 24,
     "metadata": {},
     "output_type": "execute_result"
    }
   ],
   "source": [
    "'''\n",
    "Passed all test cases\n",
    "'''"
   ]
  }
 ],
 "metadata": {
  "interpreter": {
   "hash": "bc3210eb0411503d9a54e82308439f2538c49d86b5a7c00e1ae895fbe28c5986"
  },
  "kernelspec": {
   "display_name": "Python 3.8.12 ('PythonData')",
   "language": "python",
   "name": "python3"
  },
  "language_info": {
   "codemirror_mode": {
    "name": "ipython",
    "version": 3
   },
   "file_extension": ".py",
   "mimetype": "text/x-python",
   "name": "python",
   "nbconvert_exporter": "python",
   "pygments_lexer": "ipython3",
   "version": "3.8.12"
  },
  "orig_nbformat": 4
 },
 "nbformat": 4,
 "nbformat_minor": 2
}
