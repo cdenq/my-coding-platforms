{
 "cells": [
  {
   "cell_type": "markdown",
   "metadata": {},
   "source": [
    "# Flipping Bits"
   ]
  },
  {
   "cell_type": "markdown",
   "metadata": {},
   "source": [
    "## Problem Statement"
   ]
  },
  {
   "cell_type": "code",
   "execution_count": 16,
   "metadata": {},
   "outputs": [
    {
     "data": {
      "text/plain": [
       "\"\\nYou will be given a list of 32 bit unsigned integers. Flip all the bits (1 -> 0 and 0 -> 1) and return the result as an unsigned integer.\\n\\nExample\\nn = 9base10. \\n9base10 = 1001base2. We're working with 32 bits so:\\n00000000000000000000000000001001base2 = 9base10\\n11111111111111111111111111110110base10 = 4294967286base10\\n\\nReturn 4294967286.\\n\\nFunction Description\\n\\nComplete the flippingBits function in the editor below.\\nflippingBits has the following parameter(s):\\n\\nint n: an integer\\n\\nReturns\\nint: the unsigned decimal integer result\\n\\nInput Format\\nThe first line of the input contains q, the number of queries.\\nEach of the next  lines contain an integer, , to process.\\n\\nConstraints\\n1 <= q <= 100\\n0 <= n < 2^32|\\n\""
      ]
     },
     "execution_count": 16,
     "metadata": {},
     "output_type": "execute_result"
    }
   ],
   "source": [
    "'''\n",
    "You will be given a list of 32 bit unsigned integers. Flip all the bits (1 -> 0 and 0 -> 1) and return the result as an unsigned integer.\n",
    "\n",
    "Example\n",
    "n = 9base10. \n",
    "9base10 = 1001base2. We're working with 32 bits so:\n",
    "00000000000000000000000000001001base2 = 9base10\n",
    "11111111111111111111111111110110base10 = 4294967286base10\n",
    "\n",
    "Return 4294967286.\n",
    "\n",
    "Function Description\n",
    "\n",
    "Complete the flippingBits function in the editor below.\n",
    "flippingBits has the following parameter(s):\n",
    "\n",
    "int n: an integer\n",
    "\n",
    "Returns\n",
    "int: the unsigned decimal integer result\n",
    "\n",
    "Input Format\n",
    "The first line of the input contains q, the number of queries.\n",
    "Each of the next  lines contain an integer, , to process.\n",
    "\n",
    "Constraints\n",
    "1 <= q <= 100\n",
    "0 <= n < 2^32\n",
    "'''"
   ]
  },
  {
   "cell_type": "markdown",
   "metadata": {},
   "source": [
    "## Given Test Cases"
   ]
  },
  {
   "cell_type": "code",
   "execution_count": 17,
   "metadata": {},
   "outputs": [
    {
     "data": {
      "text/plain": [
       "'\\nSample Input\\n3\\n2147483647 \\n1 \\n0\\n\\nSample Output\\n2147483648 \\n4294967294 \\n4294967295\\n'"
      ]
     },
     "execution_count": 17,
     "metadata": {},
     "output_type": "execute_result"
    }
   ],
   "source": [
    "'''\n",
    "Sample Input\n",
    "3\n",
    "2147483647 \n",
    "1 \n",
    "0\n",
    "\n",
    "Sample Output\n",
    "2147483648 \n",
    "4294967294 \n",
    "4294967295\n",
    "'''"
   ]
  },
  {
   "cell_type": "markdown",
   "metadata": {},
   "source": [
    "### Data Setup"
   ]
  },
  {
   "cell_type": "code",
   "execution_count": 18,
   "metadata": {},
   "outputs": [],
   "source": [
    "n1 = 2147483647\n",
    "n2 = 1\n",
    "n3 = 0"
   ]
  },
  {
   "cell_type": "markdown",
   "metadata": {},
   "source": [
    "## Strategy and Solution"
   ]
  },
  {
   "cell_type": "markdown",
   "metadata": {},
   "source": [
    "### Brute Force (O3n) = O(n)"
   ]
  },
  {
   "cell_type": "code",
   "execution_count": 19,
   "metadata": {},
   "outputs": [
    {
     "data": {
      "text/plain": [
       "\"\\nwe can use a built in python function to convert the number into 32bits and then a string\\n\\nthen, iterate through the string and replace the all the 0's with a temporary var, then replace all the 1's with 0's, and then replace the dummy variables with the 1's.\\n\""
      ]
     },
     "execution_count": 19,
     "metadata": {},
     "output_type": "execute_result"
    }
   ],
   "source": [
    "'''\n",
    "we can use a built in python function to convert the number into 32bits and then a string\n",
    "\n",
    "then, iterate through the string and replace the all the 0's with a temporary var, then replace all the 1's with 0's, and then replace the dummy variables with the 1's.\n",
    "'''"
   ]
  },
  {
   "cell_type": "code",
   "execution_count": 20,
   "metadata": {},
   "outputs": [],
   "source": [
    "def brute(n):\n",
    "    bin_n = format(n, '032b')\n",
    "    new_n = bin_n.replace('0', 'a').replace('1', '0').replace('a', '1')\n",
    "    return int(new_n, 2)"
   ]
  },
  {
   "cell_type": "code",
   "execution_count": 21,
   "metadata": {},
   "outputs": [
    {
     "name": "stdout",
     "output_type": "stream",
     "text": [
      "2147483648\n",
      "4294967294\n",
      "4294967295\n"
     ]
    }
   ],
   "source": [
    "print(brute(n1))\n",
    "print(brute(n2))\n",
    "print(brute(n3))"
   ]
  },
  {
   "cell_type": "markdown",
   "metadata": {},
   "source": [
    "### Optimized O(1)"
   ]
  },
  {
   "cell_type": "code",
   "execution_count": 22,
   "metadata": {},
   "outputs": [
    {
     "data": {
      "text/plain": [
       "'\\nobvserve that the two numbers, via the \"flipping process\" are actually complements to the largest 32bit number\\n4294967295\\n\\nThus, we can simply take the given number and do 4294967295 - that number to get the result.\\n'"
      ]
     },
     "execution_count": 22,
     "metadata": {},
     "output_type": "execute_result"
    }
   ],
   "source": [
    "'''\n",
    "obvserve that the two numbers, via the \"flipping process\" are actually complements of the largest 32bit number\n",
    "4294967295\n",
    "\n",
    "Thus, we can simply take the given number and do 4294967295 - that number to get the result.\n",
    "'''"
   ]
  },
  {
   "cell_type": "code",
   "execution_count": 23,
   "metadata": {},
   "outputs": [],
   "source": [
    "def optimized(n):\n",
    "    return 4294967295 - n"
   ]
  },
  {
   "cell_type": "code",
   "execution_count": 24,
   "metadata": {},
   "outputs": [
    {
     "name": "stdout",
     "output_type": "stream",
     "text": [
      "2147483648\n",
      "4294967294\n",
      "4294967295\n"
     ]
    }
   ],
   "source": [
    "print(optimized(n1))\n",
    "print(optimized(n2))\n",
    "print(optimized(n3))"
   ]
  },
  {
   "cell_type": "markdown",
   "metadata": {},
   "source": [
    "## Testing"
   ]
  },
  {
   "cell_type": "code",
   "execution_count": 25,
   "metadata": {},
   "outputs": [
    {
     "data": {
      "text/plain": [
       "'\\nSample Input\\n2\\n4\\n123456\\n\\nSample Output\\n4294967291\\n4294843839\\n'"
      ]
     },
     "execution_count": 25,
     "metadata": {},
     "output_type": "execute_result"
    }
   ],
   "source": [
    "'''\n",
    "Sample Input\n",
    "2\n",
    "4\n",
    "123456\n",
    "\n",
    "Sample Output\n",
    "4294967291\n",
    "4294843839\n",
    "'''"
   ]
  },
  {
   "cell_type": "code",
   "execution_count": 26,
   "metadata": {},
   "outputs": [
    {
     "name": "stdout",
     "output_type": "stream",
     "text": [
      "4294967291\n",
      "4294843839\n"
     ]
    }
   ],
   "source": [
    "a1 = 4\n",
    "a2 = 123456\n",
    "print(optimized(a1))\n",
    "print(optimized(a2))"
   ]
  },
  {
   "cell_type": "code",
   "execution_count": 27,
   "metadata": {},
   "outputs": [
    {
     "data": {
      "text/plain": [
       "'\\nSample Input\\n3\\n0\\n802743475\\n35601423\\n\\nSample Output\\n4294967295\\n3492223820\\n4259365872\\n'"
      ]
     },
     "execution_count": 27,
     "metadata": {},
     "output_type": "execute_result"
    }
   ],
   "source": [
    "'''\n",
    "Sample Input\n",
    "3\n",
    "0\n",
    "802743475\n",
    "35601423\n",
    "\n",
    "Sample Output\n",
    "4294967295\n",
    "3492223820\n",
    "4259365872\n",
    "'''"
   ]
  },
  {
   "cell_type": "code",
   "execution_count": 28,
   "metadata": {},
   "outputs": [
    {
     "name": "stdout",
     "output_type": "stream",
     "text": [
      "4294967295\n",
      "3492223820\n",
      "4259365872\n"
     ]
    }
   ],
   "source": [
    "b1 = 0\n",
    "b2 = 802743475\n",
    "b3 = 35601423\n",
    "print(optimized(b1))\n",
    "print(optimized(b2))\n",
    "print(optimized(b3))"
   ]
  },
  {
   "cell_type": "code",
   "execution_count": 29,
   "metadata": {},
   "outputs": [
    {
     "data": {
      "text/plain": [
       "'\\nPassed all test cases\\n'"
      ]
     },
     "execution_count": 29,
     "metadata": {},
     "output_type": "execute_result"
    }
   ],
   "source": [
    "'''\n",
    "Passed all test cases\n",
    "'''"
   ]
  }
 ],
 "metadata": {
  "interpreter": {
   "hash": "bc3210eb0411503d9a54e82308439f2538c49d86b5a7c00e1ae895fbe28c5986"
  },
  "kernelspec": {
   "display_name": "Python 3.8.12 ('PythonData')",
   "language": "python",
   "name": "python3"
  },
  "language_info": {
   "codemirror_mode": {
    "name": "ipython",
    "version": 3
   },
   "file_extension": ".py",
   "mimetype": "text/x-python",
   "name": "python",
   "nbconvert_exporter": "python",
   "pygments_lexer": "ipython3",
   "version": "3.8.12"
  },
  "orig_nbformat": 4
 },
 "nbformat": 4,
 "nbformat_minor": 2
}
