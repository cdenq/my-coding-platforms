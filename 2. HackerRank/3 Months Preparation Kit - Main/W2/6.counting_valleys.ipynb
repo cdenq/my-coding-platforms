{
 "cells": [
  {
   "cell_type": "markdown",
   "metadata": {},
   "source": [
    "# Counting Valleys"
   ]
  },
  {
   "cell_type": "markdown",
   "metadata": {},
   "source": [
    "## Problem Statement"
   ]
  },
  {
   "cell_type": "code",
   "execution_count": 1,
   "metadata": {},
   "outputs": [
    {
     "data": {
      "text/plain": [
       "'\\nAn avid hiker keeps meticulous records of their hikes. During the last hike that took exactly steps steps, \\nfor every step it was noted if it was an uphill, U, or a downhill, D step. Hikes always start and end at sea level, \\nand each step up or down represents a 1 unit change in altitude. We define the following terms:\\n\\nA mountain is a sequence of consecutive steps above sea level, starting with a step up from sea level and ending with a step down to sea level.\\nA valley is a sequence of consecutive steps below sea level, starting with a step down from sea level and ending with a step up to sea level.\\nGiven the sequence of up and down steps during a hike, find and print the number of valleys walked through.\\n\\nExample\\nsteps = 8 path = [DDUUUUDD]\\n\\nThe hiker first enters a valley 2 units deep. Then they climb out and up onto a mountain 2 units high. Finally, the hiker returns to sea level and ends the hike.\\n\\nFunction Description\\n\\nComplete the countingValleys function in the editor below.\\n\\ncountingValleys has the following parameter(s):\\nint steps: the number of steps on the hike\\nstring path: a string describing the path\\n\\nReturns\\nint: the number of valleys traversed\\n\\nInput Format\\nThe first line contains an integer steps, the number of steps in the hike.\\nThe second line contains a single string path, of steps characters that describe the path.\\n\\nConstraints\\n2 <= steps <= 10^6\\npath[i] within set {UD}\\n'"
      ]
     },
     "execution_count": 1,
     "metadata": {},
     "output_type": "execute_result"
    }
   ],
   "source": [
    "'''\n",
    "An avid hiker keeps meticulous records of their hikes. During the last hike that took exactly steps steps, \n",
    "for every step it was noted if it was an uphill, U, or a downhill, D step. Hikes always start and end at sea level, \n",
    "and each step up or down represents a 1 unit change in altitude. We define the following terms:\n",
    "\n",
    "A mountain is a sequence of consecutive steps above sea level, starting with a step up from sea level and ending with a step down to sea level.\n",
    "A valley is a sequence of consecutive steps below sea level, starting with a step down from sea level and ending with a step up to sea level.\n",
    "Given the sequence of up and down steps during a hike, find and print the number of valleys walked through.\n",
    "\n",
    "Example\n",
    "steps = 8 path = [DDUUUUDD]\n",
    "\n",
    "The hiker first enters a valley 2 units deep. Then they climb out and up onto a mountain 2 units high. Finally, the hiker returns to sea level and ends the hike.\n",
    "\n",
    "Function Description\n",
    "\n",
    "Complete the countingValleys function in the editor below.\n",
    "\n",
    "countingValleys has the following parameter(s):\n",
    "int steps: the number of steps on the hike\n",
    "string path: a string describing the path\n",
    "\n",
    "Returns\n",
    "int: the number of valleys traversed\n",
    "\n",
    "Input Format\n",
    "The first line contains an integer steps, the number of steps in the hike.\n",
    "The second line contains a single string path, of steps characters that describe the path.\n",
    "\n",
    "Constraints\n",
    "2 <= steps <= 10^6\n",
    "path[i] within set {UD}\n",
    "'''"
   ]
  },
  {
   "cell_type": "markdown",
   "metadata": {},
   "source": [
    "## Given Test Cases"
   ]
  },
  {
   "cell_type": "code",
   "execution_count": 2,
   "metadata": {},
   "outputs": [
    {
     "data": {
      "text/plain": [
       "'\\nSample Input\\n8\\nUDDDUDUU\\n\\nSample Output\\n1\\n'"
      ]
     },
     "execution_count": 2,
     "metadata": {},
     "output_type": "execute_result"
    }
   ],
   "source": [
    "'''\n",
    "Sample Input\n",
    "8\n",
    "UDDDUDUU\n",
    "\n",
    "Sample Output\n",
    "1\n",
    "'''"
   ]
  },
  {
   "cell_type": "markdown",
   "metadata": {},
   "source": [
    "### Data Setup"
   ]
  },
  {
   "cell_type": "code",
   "execution_count": 3,
   "metadata": {},
   "outputs": [],
   "source": [
    "path = \"UDDDUDUU\""
   ]
  },
  {
   "cell_type": "markdown",
   "metadata": {},
   "source": [
    "## Strategy and Solution"
   ]
  },
  {
   "cell_type": "markdown",
   "metadata": {},
   "source": [
    "### Brute Force O(n)"
   ]
  },
  {
   "cell_type": "code",
   "execution_count": 4,
   "metadata": {},
   "outputs": [
    {
     "data": {
      "text/plain": [
       "\"\\nwe can use a built in python function to convert the number into 32bits and then a string\\n\\nthen, iterate through the string and replace the all the 0's with a temporary var, then replace all the 1's with 0's, and then replace the dummy variables with the 1's.\\n\""
      ]
     },
     "execution_count": 4,
     "metadata": {},
     "output_type": "execute_result"
    }
   ],
   "source": [
    "'''\n",
    "lets model this path as y(t), where t is time and y is the height. we know that all paths start at height = 0, and has takes t = steps time.\n",
    "\n",
    "thus, from the problem statement, valleys will be the segments of y(t) in which y starts at 0, becomes negative, and then ends at 0. this is important because we thus\n",
    "only need to check the steps at which y = 0, since everything inbetween wont matter. more specifically, we only need to find the steps where y(t) = 0 and y(t-1) = -1\n",
    "\n",
    "in other words, if the step that turns height into 0 is a U, (aka we're stepping up onto sea level), we have just exited a valley.\n",
    "\n",
    "with this in mind, we first instantiate counters to track:\n",
    "- height (aka y)\n",
    "- num of valleys (aka output)\n",
    "\n",
    "we then can iterate through the paths string, applying each step to the counters.\n",
    "'''"
   ]
  },
  {
   "cell_type": "code",
   "execution_count": 7,
   "metadata": {},
   "outputs": [],
   "source": [
    "def brute(path):\n",
    "    height, valleys = 0, 0\n",
    "    for i in range(len(path)):\n",
    "        if path[i] == 'D':\n",
    "            height -= 1\n",
    "        else:\n",
    "            height += 1\n",
    "        if (height == 0) and (path[i] == 'U'):\n",
    "            valleys += 1\n",
    "    return valleys"
   ]
  },
  {
   "cell_type": "code",
   "execution_count": 8,
   "metadata": {},
   "outputs": [
    {
     "name": "stdout",
     "output_type": "stream",
     "text": [
      "1\n"
     ]
    }
   ],
   "source": [
    "print(brute(path))"
   ]
  },
  {
   "cell_type": "markdown",
   "metadata": {},
   "source": [
    "## Testing"
   ]
  },
  {
   "cell_type": "code",
   "execution_count": null,
   "metadata": {},
   "outputs": [
    {
     "data": {
      "text/plain": [
       "'\\nSample Input\\n2\\n4\\n123456\\n\\nSample Output\\n4294967291\\n4294843839\\n'"
      ]
     },
     "execution_count": 25,
     "metadata": {},
     "output_type": "execute_result"
    }
   ],
   "source": [
    "'''\n",
    "Sample Input\n",
    "8\n",
    "UDDDUDUU\n",
    "\n",
    "Sample Output\n",
    "1\n",
    "'''"
   ]
  },
  {
   "cell_type": "code",
   "execution_count": null,
   "metadata": {},
   "outputs": [
    {
     "name": "stdout",
     "output_type": "stream",
     "text": [
      "4294967291\n",
      "4294843839\n"
     ]
    }
   ],
   "source": [
    "print(brute(path))"
   ]
  },
  {
   "cell_type": "code",
   "execution_count": null,
   "metadata": {},
   "outputs": [
    {
     "data": {
      "text/plain": [
       "'\\nSample Input\\n3\\n0\\n802743475\\n35601423\\n\\nSample Output\\n4294967295\\n3492223820\\n4259365872\\n'"
      ]
     },
     "execution_count": 27,
     "metadata": {},
     "output_type": "execute_result"
    }
   ],
   "source": [
    "'''\n",
    "Sample Input\n",
    "12\n",
    "DDUUDDUDUUUD\n",
    "\n",
    "Sample Output\n",
    "2\n",
    "'''"
   ]
  },
  {
   "cell_type": "code",
   "execution_count": 10,
   "metadata": {},
   "outputs": [],
   "source": [
    "path2 = 'DDUUDDUDUUUD'"
   ]
  },
  {
   "cell_type": "code",
   "execution_count": 11,
   "metadata": {},
   "outputs": [
    {
     "name": "stdout",
     "output_type": "stream",
     "text": [
      "2\n"
     ]
    }
   ],
   "source": [
    "print(brute(path2))"
   ]
  },
  {
   "cell_type": "code",
   "execution_count": null,
   "metadata": {},
   "outputs": [
    {
     "data": {
      "text/plain": [
       "'\\nPassed all test cases\\n'"
      ]
     },
     "execution_count": 29,
     "metadata": {},
     "output_type": "execute_result"
    }
   ],
   "source": [
    "'''\n",
    "Passed all test cases\n",
    "'''"
   ]
  }
 ],
 "metadata": {
  "interpreter": {
   "hash": "bc3210eb0411503d9a54e82308439f2538c49d86b5a7c00e1ae895fbe28c5986"
  },
  "kernelspec": {
   "display_name": "Python 3.8.12 ('PythonData')",
   "language": "python",
   "name": "python3"
  },
  "language_info": {
   "codemirror_mode": {
    "name": "ipython",
    "version": 3
   },
   "file_extension": ".py",
   "mimetype": "text/x-python",
   "name": "python",
   "nbconvert_exporter": "python",
   "pygments_lexer": "ipython3",
   "version": "3.8.12"
  },
  "orig_nbformat": 4
 },
 "nbformat": 4,
 "nbformat_minor": 2
}
