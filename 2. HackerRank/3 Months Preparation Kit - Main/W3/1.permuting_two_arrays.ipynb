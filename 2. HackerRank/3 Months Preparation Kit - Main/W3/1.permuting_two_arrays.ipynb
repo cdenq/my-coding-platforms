{
 "cells": [
  {
   "cell_type": "markdown",
   "metadata": {},
   "source": [
    "# Permuting Two Arrays"
   ]
  },
  {
   "cell_type": "markdown",
   "metadata": {},
   "source": [
    "## Problem Statement"
   ]
  },
  {
   "cell_type": "code",
   "execution_count": 2,
   "metadata": {},
   "outputs": [
    {
     "data": {
      "text/plain": [
       "'\\nGiven an array of integers, where all elements but one occur twice, find the unique element.\\n\\nExample\\na = [1,2,3,4,3,2,1]\\nThe unique element is 4.\\n\\nFunction Description\\nComplete the lonelyinteger function in the editor below.\\n\\nlonelyinteger has the following parameter(s):\\nint a[n]: an array of integers\\n\\nReturns\\nint: the element that occurs only once\\nInput Format\\n\\nThe first line contains a single integer, n, the number of integers in the array.\\nThe second line contains n space-separated integers that describe the values in a.\\n\\nConstraints\\n1 <= n < 100\\nIt is guaranteed that n is an odd number and that there is one unique element.\\n0 <= a[i] <= 100, where 0 <= i < n.\\n'"
      ]
     },
     "execution_count": 2,
     "metadata": {},
     "output_type": "execute_result"
    }
   ],
   "source": [
    "'''\n",
    "There are two n-element arrays of integers, A and B. Permute them into some A' and B' such that the relation A'[i] + B'[i] >= k holds for all i where 0 <= i < n.\n",
    "\n",
    "There will be q queries consisting of A, B, and k. For each query, return YES if some permutation A', B' satisfying the relation exists. Otherwise, return NO.\n",
    "\n",
    "Example\n",
    "A = [0,1]\n",
    "B = [0,2]\n",
    "k = 1\n",
    "\n",
    "A valid A',B' is A' = [1,0] and B' = [0,2]: 1 + 0 >= 1 and 0 + 2 >= 1. Return YES.\n",
    "\n",
    "Function Description\n",
    "Complete the twoArrays function in the editor below. It should return a string, either YES or NO.\n",
    "\n",
    "twoArrays has the following parameter(s):\n",
    "int k: an integer\n",
    "int A[n]: an array of integers\n",
    "int B[n]: an array of integers\n",
    "\n",
    "Returns\n",
    "- string: either YES or NO\n",
    "\n",
    "Input Format\n",
    "The first line contains an integer q, the number of queries.\n",
    "The next q sets of 3 lines are as follows:\n",
    "\n",
    "The first line contains two space-separated integers n and k, the size of both arrays A and B, and the relation variable.\n",
    "The second line contains n space-separated integers A[i].\n",
    "The third line contains n space-separated integers B[i].\n",
    "\n",
    "Constraints\n",
    "1 <= q <= 10\n",
    "1 <= n <= 1000\n",
    "1 <= k <= 10^9\n",
    "0 <= A[i], B[i] <= 10^9\n",
    "'''"
   ]
  },
  {
   "cell_type": "markdown",
   "metadata": {},
   "source": [
    "## Given Test Cases"
   ]
  },
  {
   "cell_type": "code",
   "execution_count": 3,
   "metadata": {},
   "outputs": [
    {
     "data": {
      "text/plain": [
       "'\\nSample Input\\n7\\n1 2 3 4 3 2 1\\n\\nSample Output\\n4\\n'"
      ]
     },
     "execution_count": 3,
     "metadata": {},
     "output_type": "execute_result"
    }
   ],
   "source": [
    "'''\n",
    "Sample Input\n",
    "STDIN       Function\n",
    "-----       --------\n",
    "2           q = 2\n",
    "3 10        A[] and B[] size n = 3, k = 10\n",
    "2 1 3       A = [2, 1, 3]\n",
    "7 8 9       B = [7, 8, 9]\n",
    "4 5         A[] and B[] size n = 4, k = 5\n",
    "1 2 2 1     A = [1, 2, 2, 1]\n",
    "3 3 3 4     B = [3, 3, 3, 4]\n",
    "\n",
    "Sample Output\n",
    "YES\n",
    "NO\n",
    "'''"
   ]
  },
  {
   "cell_type": "markdown",
   "metadata": {},
   "source": [
    "### Data Setup"
   ]
  },
  {
   "cell_type": "code",
   "execution_count": 1,
   "metadata": {},
   "outputs": [],
   "source": [
    "a1 = [2,1,3]\n",
    "a2 = [7,8,9]\n",
    "ka = 10\n",
    "b1 = [1,2,2,1]\n",
    "b2 = [3,3,3,4]\n",
    "kb = 5"
   ]
  },
  {
   "cell_type": "markdown",
   "metadata": {},
   "source": [
    "## Strategy and Solution"
   ]
  },
  {
   "cell_type": "markdown",
   "metadata": {},
   "source": [
    "### Brute Force O(n! x n!)"
   ]
  },
  {
   "cell_type": "code",
   "execution_count": 2,
   "metadata": {},
   "outputs": [
    {
     "data": {
      "text/plain": [
       "'\\nwe can iterate through every possible ordering of elements in the first array with every possible ordering of the second. when we compare these two arrays at every possible\\npermutation-pair, we check their sums against k, and return YES the moment we get through a whole comparison with no errors.\\n\\ngiven n, we know that there are nPn permutations (aka orderings) of the elements, or n!\\n\\nfor each n! permutation in the first array, we would then compare it to each element in the second array of n!, giving the final time complexity of O(n!^2)\\n'"
      ]
     },
     "execution_count": 2,
     "metadata": {},
     "output_type": "execute_result"
    }
   ],
   "source": [
    "'''\n",
    "we can iterate through every possible ordering of elements in the first array with every possible ordering of the second. when we compare these two arrays at every possible\n",
    "permutation-pair, we check their sums against k, and return YES the moment we get through a whole comparison with no errors.\n",
    "\n",
    "given n, we know that there are nPn permutations (aka orderings) of the elements, or n!\n",
    "\n",
    "for each n! permutation in the first array, we would then compare it to each element in the second array of n!, giving the final time complexity of O(n!^2)\n",
    "'''"
   ]
  },
  {
   "cell_type": "markdown",
   "metadata": {},
   "source": [
    "### Optimized O(2nlogn + n) = O(nlogn)"
   ]
  },
  {
   "cell_type": "code",
   "execution_count": 4,
   "metadata": {},
   "outputs": [
    {
     "data": {
      "text/plain": [
       "'\\nintuitively, we can optimize this approach significantly by narrowing down our sample size of permutations to check. thus, our goal is to identify specific key permutations that \\nare \"worthy\" of being checked.\\n\\nour next step is to try to establish some rules or conditions that will lead to those \"worthy\" key permutations, which we can arrive at by investigating the underlying\\nlogic provided by the problem statement.\\n\\nfrom the problem set, we need ALL instances of A[i] + B[i] >= k. this means that even in the \"worst casewe want a scenario \\n\\nobserve that \\n\\nthus, we can sort the first arr and reverse sort the second arr. this way, when we compare A[i] and B[i], they would already be in the optimal configuration.\\n\\nwe would need to do 2nlogn for the sorting of both arrays and then n to iterate through the zip(A[i], B[i]) to check if \\n'"
      ]
     },
     "execution_count": 4,
     "metadata": {},
     "output_type": "execute_result"
    }
   ],
   "source": [
    "'''\n",
    "intuitively, we can optimize this approach significantly by narrowing down our sample size of permutations to check. thus, our goal is to identify specific key permutations that \n",
    "are \"worthy\" of being checked.\n",
    "\n",
    "our next step is to try to establish some rules or conditions that will lead to those \"worthy\" key permutations, which we can arrive at by investigating the underlying\n",
    "logic provided by the problem statement.\n",
    "\n",
    "from the problem set, we need ALL instances of A[i] + B[i] >= k. this logically means that even in the \"worst case\" scenario, this A[i] + B[i] >= k statement is still true.\n",
    "additionally, it means that if we can prove or if we solve that the \"worst case scenario\" still fulfills the conditions, all other conditions are also fulfilled.\n",
    "\n",
    "thus our goal now is establish the specific \"worst case\" permutations that enable us to check this A[i] + B[i] >= k condition.\n",
    "\n",
    "observe that \n",
    "\n",
    "thus, we can sort the first arr and reverse sort the second arr. this way, when we compare A[i] and B[i], they would already be in the optimal configuration.\n",
    "\n",
    "we would need to do 2nlogn for the sorting of both arrays and then n to iterate through the zip(A[i], B[i]) to check if \n",
    "'''"
   ]
  },
  {
   "cell_type": "code",
   "execution_count": 3,
   "metadata": {},
   "outputs": [],
   "source": [
    "def twoArrays(k, A, B):\n",
    "    s_A = sorted(A)\n",
    "    s_B = sorted(B, reverse = True)\n",
    "    for i in range(len(s_A)):\n",
    "        if s_A[i] + s_B[i] < k:\n",
    "            return 'NO'\n",
    "    return 'YES'"
   ]
  },
  {
   "cell_type": "code",
   "execution_count": 4,
   "metadata": {},
   "outputs": [
    {
     "name": "stdout",
     "output_type": "stream",
     "text": [
      "YES\n"
     ]
    }
   ],
   "source": [
    "print(twoArrays(ka, a1, a2))"
   ]
  },
  {
   "cell_type": "markdown",
   "metadata": {},
   "source": [
    "## Testing"
   ]
  },
  {
   "cell_type": "code",
   "execution_count": 20,
   "metadata": {},
   "outputs": [
    {
     "data": {
      "text/plain": [
       "'\\nSample Input\\n1\\n1\\n\\nSample Output\\n1\\n'"
      ]
     },
     "execution_count": 20,
     "metadata": {},
     "output_type": "execute_result"
    }
   ],
   "source": [
    "'''\n",
    "Sample Input\n",
    "STDIN       Function\n",
    "-----       --------\n",
    "2           q = 2\n",
    "3 10        A[] and B[] size n = 3, k = 10\n",
    "2 1 3       A = [2, 1, 3]\n",
    "7 8 9       B = [7, 8, 9]\n",
    "4 5         A[] and B[] size n = 4, k = 5\n",
    "1 2 2 1     A = [1, 2, 2, 1]\n",
    "3 3 3 4     B = [3, 3, 3, 4]\n",
    "\n",
    "Sample Output\n",
    "YES\n",
    "NO\n",
    "'''"
   ]
  },
  {
   "cell_type": "code",
   "execution_count": 5,
   "metadata": {},
   "outputs": [
    {
     "name": "stdout",
     "output_type": "stream",
     "text": [
      "YES\n",
      "NO\n"
     ]
    }
   ],
   "source": [
    "print(twoArrays(ka, a1, a2))\n",
    "print(twoArrays(kb, b1, b2))"
   ]
  },
  {
   "cell_type": "code",
   "execution_count": null,
   "metadata": {},
   "outputs": [
    {
     "data": {
      "text/plain": [
       "'\\nPassed all test cases\\n'"
      ]
     },
     "execution_count": 24,
     "metadata": {},
     "output_type": "execute_result"
    }
   ],
   "source": [
    "'''\n",
    "Passed all test cases\n",
    "'''"
   ]
  }
 ],
 "metadata": {
  "interpreter": {
   "hash": "bc3210eb0411503d9a54e82308439f2538c49d86b5a7c00e1ae895fbe28c5986"
  },
  "kernelspec": {
   "display_name": "Python 3.8.12 ('PythonData')",
   "language": "python",
   "name": "python3"
  },
  "language_info": {
   "codemirror_mode": {
    "name": "ipython",
    "version": 3
   },
   "file_extension": ".py",
   "mimetype": "text/x-python",
   "name": "python",
   "nbconvert_exporter": "python",
   "pygments_lexer": "ipython3",
   "version": "3.8.12"
  },
  "orig_nbformat": 4
 },
 "nbformat": 4,
 "nbformat_minor": 2
}
