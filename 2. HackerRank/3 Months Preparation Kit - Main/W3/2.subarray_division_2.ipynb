{
 "cells": [
  {
   "cell_type": "markdown",
   "metadata": {},
   "source": [
    "# Subarray Division 2"
   ]
  },
  {
   "cell_type": "markdown",
   "metadata": {},
   "source": [
    "## Problem Statement"
   ]
  },
  {
   "cell_type": "code",
   "execution_count": 30,
   "metadata": {},
   "outputs": [
    {
     "data": {
      "text/plain": [
       "\"\\nTwo children, Lily and Ron, want to share a chocolate bar. Each of the squares has an integer on it.\\n\\nLily decides to share a contiguous segment of the bar selected such that:\\n\\nThe length of the segment matches Ron's birth month, and,\\nThe sum of the integers on the squares is equal to his birth day.\\nDetermine how many ways she can divide the chocolate.\\n\\nExample\\ns = [2,2,1,3,2]\\nd = 4 \\nm = 2 \\n\\nLily wants to find segments summing to Ron's birth day, d=4  with a length equalling his birth month, m = 2. In this case, there are two segments meeting her criteria: [2,2] and [1,3].\\n\\nFunction Description\\n\\nComplete the birthday function in the editor below.\\n\\nbirthday has the following parameter(s):\\n\\nint s[n]: the numbers on each of the squares of chocolate\\nint d: Ron's birth day\\nint m: Ron's birth month\\n\\nReturns\\nint: the number of ways the bar can be divided\\n\\nInput Format\\nThe first line contains an integer n, the number of squares in the chocolate bar.\\nThe second line contains n space-separated integers s[i], the numbers on the chocolate squares where 0 <= i < n.\\nThe third line contains two space-separated integers, d and m, Ron's birth day and his birth month.\\n\\nConstraints\\n1 <= n <= 100\\n1 <= s[j] <= 5, where 0 <= i < n\\n1 <= d <= 31\\n1 <= m <= 12\\n\""
      ]
     },
     "execution_count": 30,
     "metadata": {},
     "output_type": "execute_result"
    }
   ],
   "source": [
    "'''\n",
    "Two children, Lily and Ron, want to share a chocolate bar. Each of the squares has an integer on it.\n",
    "\n",
    "Lily decides to share a contiguous segment of the bar selected such that:\n",
    "\n",
    "The length of the segment matches Ron's birth month, and,\n",
    "The sum of the integers on the squares is equal to his birth day.\n",
    "Determine how many ways she can divide the chocolate.\n",
    "\n",
    "Example\n",
    "s = [2,2,1,3,2]\n",
    "d = 4 \n",
    "m = 2 \n",
    "\n",
    "Lily wants to find segments summing to Ron's birth day, d=4  with a length equalling his birth month, m = 2. In this case, there are two segments meeting her criteria: [2,2] and [1,3].\n",
    "\n",
    "Function Description\n",
    "\n",
    "Complete the birthday function in the editor below.\n",
    "\n",
    "birthday has the following parameter(s):\n",
    "\n",
    "int s[n]: the numbers on each of the squares of chocolate\n",
    "int d: Ron's birth day\n",
    "int m: Ron's birth month\n",
    "\n",
    "Returns\n",
    "int: the number of ways the bar can be divided\n",
    "\n",
    "Input Format\n",
    "The first line contains an integer n, the number of squares in the chocolate bar.\n",
    "The second line contains n space-separated integers s[i], the numbers on the chocolate squares where 0 <= i < n.\n",
    "The third line contains two space-separated integers, d and m, Ron's birth day and his birth month.\n",
    "\n",
    "Constraints\n",
    "1 <= n <= 100\n",
    "1 <= s[j] <= 5, where 0 <= i < n\n",
    "1 <= d <= 31\n",
    "1 <= m <= 12\n",
    "'''"
   ]
  },
  {
   "cell_type": "markdown",
   "metadata": {},
   "source": [
    "## Given Test Cases"
   ]
  },
  {
   "cell_type": "code",
   "execution_count": 31,
   "metadata": {},
   "outputs": [
    {
     "data": {
      "text/plain": [
       "'\\nSample Input\\n5\\n2 2 1 3 2\\n4 2\\n\\nSample Output\\n2\\n'"
      ]
     },
     "execution_count": 31,
     "metadata": {},
     "output_type": "execute_result"
    }
   ],
   "source": [
    "'''\n",
    "Sample Input\n",
    "5\n",
    "2 2 1 3 2\n",
    "4 2\n",
    "\n",
    "Sample Output\n",
    "2\n",
    "'''"
   ]
  },
  {
   "cell_type": "markdown",
   "metadata": {},
   "source": [
    "### Data Setup"
   ]
  },
  {
   "cell_type": "code",
   "execution_count": 32,
   "metadata": {},
   "outputs": [],
   "source": [
    "s = [2,2,1,3,2]\n",
    "d = 4\n",
    "m = 2\n"
   ]
  },
  {
   "cell_type": "markdown",
   "metadata": {},
   "source": [
    "## Strategy and Solution"
   ]
  },
  {
   "cell_type": "markdown",
   "metadata": {},
   "source": [
    "### Brute Force O(n-m+1) = O(n)"
   ]
  },
  {
   "cell_type": "code",
   "execution_count": 33,
   "metadata": {},
   "outputs": [
    {
     "data": {
      "text/plain": [
       "\"\\nwe can look at every possible combination such that the number of the elements we want is equal to m and the sum of those elements is equal to d\\n\\nin code, we can iterate through the array: check the sum of arr[i], arr[i+1], arr[i+2], etc. such that the number of elements is equal to m, and see if that sum is equal to d.\\nif it does, increment the counter and move forward to the next element.\\n\\nwe will iterate from i=0 to i=(n-m), aka (n-m+1) for the length. thus, it's O(n-m+1)\\n\""
      ]
     },
     "execution_count": 33,
     "metadata": {},
     "output_type": "execute_result"
    }
   ],
   "source": [
    "'''\n",
    "we can look at every possible combination such that the number of the elements we want is equal to m and the sum of those elements is equal to d\n",
    "\n",
    "in code, we can iterate through the array: check the sum of arr[i], arr[i+1], arr[i+2], etc. such that the number of elements is equal to m, and see if that sum is equal to d.\n",
    "if it does, increment the counter and move forward to the next element.\n",
    "\n",
    "we will iterate from i=0 to i=(n-m), aka (n-m+1) for the length. thus, it's O(n-m+1)\n",
    "'''"
   ]
  },
  {
   "cell_type": "code",
   "execution_count": 34,
   "metadata": {},
   "outputs": [],
   "source": [
    "def brute(s, d, m):\n",
    "    counter = 0\n",
    "    for i in range(len(s)-m+1):\n",
    "        if sum(s[i:i+m]) == d:\n",
    "            counter += 1\n",
    "    return counter"
   ]
  },
  {
   "cell_type": "code",
   "execution_count": 35,
   "metadata": {},
   "outputs": [
    {
     "name": "stdout",
     "output_type": "stream",
     "text": [
      "2\n"
     ]
    }
   ],
   "source": [
    "print(brute(s,d,m))"
   ]
  },
  {
   "cell_type": "markdown",
   "metadata": {},
   "source": [
    "## Testing"
   ]
  },
  {
   "cell_type": "code",
   "execution_count": 36,
   "metadata": {},
   "outputs": [
    {
     "data": {
      "text/plain": [
       "'\\nSample Input\\n5\\n1 2 1 3 2\\n3 2\\n\\nSample Output\\n2\\n'"
      ]
     },
     "execution_count": 36,
     "metadata": {},
     "output_type": "execute_result"
    }
   ],
   "source": [
    "'''\n",
    "Sample Input\n",
    "5\n",
    "1 2 1 3 2\n",
    "3 2\n",
    "\n",
    "Sample Output\n",
    "2\n",
    "'''"
   ]
  },
  {
   "cell_type": "code",
   "execution_count": 37,
   "metadata": {},
   "outputs": [
    {
     "data": {
      "text/plain": [
       "2"
      ]
     },
     "execution_count": 37,
     "metadata": {},
     "output_type": "execute_result"
    }
   ],
   "source": [
    "s1=[1,2,1,3,2]\n",
    "d1=3\n",
    "m1=2\n",
    "brute(s1,d1,m1)"
   ]
  },
  {
   "cell_type": "code",
   "execution_count": 38,
   "metadata": {},
   "outputs": [
    {
     "data": {
      "text/plain": [
       "'\\nSample Input\\n6\\n1 1 1 1 1 1\\n3 2\\n\\nSample Output\\n0\\n'"
      ]
     },
     "execution_count": 38,
     "metadata": {},
     "output_type": "execute_result"
    }
   ],
   "source": [
    "'''\n",
    "Sample Input\n",
    "6\n",
    "1 1 1 1 1 1\n",
    "3 2\n",
    "\n",
    "Sample Output\n",
    "0\n",
    "'''"
   ]
  },
  {
   "cell_type": "code",
   "execution_count": 39,
   "metadata": {},
   "outputs": [
    {
     "data": {
      "text/plain": [
       "2"
      ]
     },
     "execution_count": 39,
     "metadata": {},
     "output_type": "execute_result"
    }
   ],
   "source": [
    "s2=[1,1,1,1,1,1]\n",
    "d2=3\n",
    "m2=2\n",
    "brute(s1,d1,m1)"
   ]
  },
  {
   "cell_type": "code",
   "execution_count": 40,
   "metadata": {},
   "outputs": [
    {
     "data": {
      "text/plain": [
       "'\\nSample Input\\n1\\n4\\n4 1\\n\\nSample Output\\n1\\n'"
      ]
     },
     "execution_count": 40,
     "metadata": {},
     "output_type": "execute_result"
    }
   ],
   "source": [
    "'''\n",
    "Sample Input\n",
    "1\n",
    "4\n",
    "4 1\n",
    "\n",
    "Sample Output\n",
    "1\n",
    "'''"
   ]
  },
  {
   "cell_type": "code",
   "execution_count": 41,
   "metadata": {},
   "outputs": [
    {
     "data": {
      "text/plain": [
       "1"
      ]
     },
     "execution_count": 41,
     "metadata": {},
     "output_type": "execute_result"
    }
   ],
   "source": [
    "s3=[4]\n",
    "d3=4\n",
    "m3=1\n",
    "brute(s3,d3,m3)"
   ]
  },
  {
   "cell_type": "code",
   "execution_count": 42,
   "metadata": {},
   "outputs": [
    {
     "data": {
      "text/plain": [
       "'\\nPassed all test cases\\n'"
      ]
     },
     "execution_count": 42,
     "metadata": {},
     "output_type": "execute_result"
    }
   ],
   "source": [
    "'''\n",
    "Passed all test cases\n",
    "'''"
   ]
  }
 ],
 "metadata": {
  "interpreter": {
   "hash": "bc3210eb0411503d9a54e82308439f2538c49d86b5a7c00e1ae895fbe28c5986"
  },
  "kernelspec": {
   "display_name": "Python 3.8.12 ('PythonData')",
   "language": "python",
   "name": "python3"
  },
  "language_info": {
   "codemirror_mode": {
    "name": "ipython",
    "version": 3
   },
   "file_extension": ".py",
   "mimetype": "text/x-python",
   "name": "python",
   "nbconvert_exporter": "python",
   "pygments_lexer": "ipython3",
   "version": "3.8.12"
  },
  "orig_nbformat": 4
 },
 "nbformat": 4,
 "nbformat_minor": 2
}
