{
 "cells": [
  {
   "cell_type": "markdown",
   "metadata": {},
   "source": [
    "# Sales by Match"
   ]
  },
  {
   "cell_type": "markdown",
   "metadata": {},
   "source": [
    "## Problem Statement"
   ]
  },
  {
   "cell_type": "code",
   "execution_count": 22,
   "metadata": {},
   "outputs": [
    {
     "data": {
      "text/plain": [
       "'\\nThere is a large pile of socks that must be paired by color. Given an array of integers representing the color of each sock, determine how many pairs of socks with matching colors there are.\\n\\nExample\\nn = 7\\narr = [1,2,1,2,1,3,2]\\n\\nThere is one pair of color 1 and one of color 2. There are three odd socks left, one of each color. The number of pairs is 2.\\n\\nFunction Description\\nComplete the sockMerchant function in the editor below.\\n\\nsockMerchant has the following parameter(s):\\nint n: the number of socks in the pile\\nint ar[n]: the colors of each sock\\n\\nReturns\\nint: the number of pairs\\n\\nInput Format\\nThe first line contains an integer n, the number of socks represented in arr.\\nThe second line contains n space-separated integers, arr[i], the colors of the socks in the pile.\\n\\nConstraints\\n1 <= n <= 100\\n1 <= arr[i] <= 100, where 0 <= i < n\\n'"
      ]
     },
     "execution_count": 22,
     "metadata": {},
     "output_type": "execute_result"
    }
   ],
   "source": [
    "'''\n",
    "There is a large pile of socks that must be paired by color. Given an array of integers representing the color of each sock, determine how many pairs of socks with matching colors there are.\n",
    "\n",
    "Example\n",
    "n = 7\n",
    "arr = [1,2,1,2,1,3,2]\n",
    "\n",
    "There is one pair of color 1 and one of color 2. There are three odd socks left, one of each color. The number of pairs is 2.\n",
    "\n",
    "Function Description\n",
    "Complete the sockMerchant function in the editor below.\n",
    "\n",
    "sockMerchant has the following parameter(s):\n",
    "int n: the number of socks in the pile\n",
    "int ar[n]: the colors of each sock\n",
    "\n",
    "Returns\n",
    "int: the number of pairs\n",
    "\n",
    "Input Format\n",
    "The first line contains an integer n, the number of socks represented in arr.\n",
    "The second line contains n space-separated integers, arr[i], the colors of the socks in the pile.\n",
    "\n",
    "Constraints\n",
    "1 <= n <= 100\n",
    "1 <= arr[i] <= 100, where 0 <= i < n\n",
    "'''"
   ]
  },
  {
   "cell_type": "markdown",
   "metadata": {},
   "source": [
    "## Given Test Cases"
   ]
  },
  {
   "cell_type": "code",
   "execution_count": 23,
   "metadata": {},
   "outputs": [
    {
     "data": {
      "text/plain": [
       "'\\nSample Input\\nSTDIN                       Function\\n-----                       --------\\n9                           n = 9\\n10 20 20 10 10 30 50 10 20  ar = [10, 20, 20, 10, 10, 30, 50, 10, 20]\\n\\nSample Output\\n3\\n'"
      ]
     },
     "execution_count": 23,
     "metadata": {},
     "output_type": "execute_result"
    }
   ],
   "source": [
    "'''\n",
    "Sample Input\n",
    "STDIN                       Function\n",
    "-----                       --------\n",
    "9                           n = 9\n",
    "10 20 20 10 10 30 50 10 20  ar = [10, 20, 20, 10, 10, 30, 50, 10, 20]\n",
    "\n",
    "Sample Output\n",
    "3\n",
    "'''"
   ]
  },
  {
   "cell_type": "markdown",
   "metadata": {},
   "source": [
    "### Data Setup"
   ]
  },
  {
   "cell_type": "code",
   "execution_count": 24,
   "metadata": {},
   "outputs": [],
   "source": [
    "arr = [10, 20, 20, 10, 10, 30, 50, 10, 20]"
   ]
  },
  {
   "cell_type": "markdown",
   "metadata": {},
   "source": [
    "## Strategy and Solution"
   ]
  },
  {
   "cell_type": "markdown",
   "metadata": {},
   "source": [
    "### Brute Force O(n)"
   ]
  },
  {
   "cell_type": "code",
   "execution_count": 25,
   "metadata": {},
   "outputs": [
    {
     "data": {
      "text/plain": [
       "'\\nfirst, we can create a dictionary where the key is the sock color (aka the value of the element in the arr) and the value is the frequency (number of times a specific element occurs in the arr)\\n\\niterate through the array, incrementing the freq of the sock color everytime we encounter it\\n\\nat the end of hte loop, we return the sum of every frequyency that has at least one pair in it (freq//2)\\n'"
      ]
     },
     "execution_count": 25,
     "metadata": {},
     "output_type": "execute_result"
    }
   ],
   "source": [
    "'''\n",
    "first, we can create a dictionary where the key is the sock color (aka the value of the element in the arr) and the value is the frequency (number of times a specific element occurs in the arr)\n",
    "\n",
    "iterate through the array, incrementing the freq of the sock color everytime we encounter it\n",
    "\n",
    "at the end of hte loop, we return the sum of every frequyency that has at least one pair in it (freq//2)\n",
    "'''"
   ]
  },
  {
   "cell_type": "code",
   "execution_count": 26,
   "metadata": {},
   "outputs": [],
   "source": [
    "def sockMerchant(n, arr):\n",
    "    num_pairs = 0\n",
    "    freq_dict = {}\n",
    "    for sock in arr:\n",
    "        if sock in freq_dict.keys():\n",
    "            freq_dict[sock] += 1\n",
    "        else:\n",
    "            freq_dict[sock] = 1\n",
    "    for freq in freq_dict.values():\n",
    "        num_pairs += freq // 2\n",
    "    return num_pairs"
   ]
  },
  {
   "cell_type": "code",
   "execution_count": 27,
   "metadata": {},
   "outputs": [
    {
     "data": {
      "text/plain": [
       "3"
      ]
     },
     "execution_count": 27,
     "metadata": {},
     "output_type": "execute_result"
    }
   ],
   "source": [
    "n = 0 #set to 0 because we don't actually need n in our function\n",
    "sockMerchant(n,arr)"
   ]
  },
  {
   "cell_type": "markdown",
   "metadata": {},
   "source": [
    "## Testing"
   ]
  },
  {
   "cell_type": "code",
   "execution_count": 28,
   "metadata": {},
   "outputs": [
    {
     "data": {
      "text/plain": [
       "'\\nSample Input\\n9\\n10 20 20 10 10 30 50 10 20\\n\\nSample Output\\n3\\n'"
      ]
     },
     "execution_count": 28,
     "metadata": {},
     "output_type": "execute_result"
    }
   ],
   "source": [
    "'''\n",
    "Sample Input\n",
    "9\n",
    "10 20 20 10 10 30 50 10 20\n",
    "\n",
    "Sample Output\n",
    "3\n",
    "'''"
   ]
  },
  {
   "cell_type": "code",
   "execution_count": 29,
   "metadata": {},
   "outputs": [
    {
     "data": {
      "text/plain": [
       "3"
      ]
     },
     "execution_count": 29,
     "metadata": {},
     "output_type": "execute_result"
    }
   ],
   "source": [
    "n1 = 9\n",
    "arr1 = [10,20,20,10,10,30,50,10,20]\n",
    "sockMerchant(n1,arr1)"
   ]
  },
  {
   "cell_type": "code",
   "execution_count": 30,
   "metadata": {},
   "outputs": [
    {
     "data": {
      "text/plain": [
       "'\\nSample Input\\n10\\n1 1 3 1 2 1 3 3 3 3\\n\\nSample Output\\n3\\n'"
      ]
     },
     "execution_count": 30,
     "metadata": {},
     "output_type": "execute_result"
    }
   ],
   "source": [
    "'''\n",
    "Sample Input\n",
    "10\n",
    "1 1 3 1 2 1 3 3 3 3\n",
    "\n",
    "Sample Output\n",
    "3\n",
    "'''"
   ]
  },
  {
   "cell_type": "code",
   "execution_count": 31,
   "metadata": {},
   "outputs": [
    {
     "data": {
      "text/plain": [
       "4"
      ]
     },
     "execution_count": 31,
     "metadata": {},
     "output_type": "execute_result"
    }
   ],
   "source": [
    "n2 = 10\n",
    "arr2 = [1,1,3,1,2,1,3,3,3,3]\n",
    "sockMerchant(n2,arr2)"
   ]
  },
  {
   "cell_type": "code",
   "execution_count": 32,
   "metadata": {},
   "outputs": [
    {
     "data": {
      "text/plain": [
       "'\\nSample Input\\nn = 7\\narr = 1 2 1 2 1 3 2\\n\\nSample Output\\n2\\n'"
      ]
     },
     "execution_count": 32,
     "metadata": {},
     "output_type": "execute_result"
    }
   ],
   "source": [
    "'''\n",
    "Sample Input\n",
    "n = 7\n",
    "arr = 1 2 1 2 1 3 2\n",
    "\n",
    "Sample Output\n",
    "2\n",
    "'''"
   ]
  },
  {
   "cell_type": "code",
   "execution_count": 33,
   "metadata": {},
   "outputs": [
    {
     "data": {
      "text/plain": [
       "2"
      ]
     },
     "execution_count": 33,
     "metadata": {},
     "output_type": "execute_result"
    }
   ],
   "source": [
    "n3 = 7\n",
    "arr3 = [1,2,1,2,1,3,2]\n",
    "sockMerchant(n3, arr3)"
   ]
  },
  {
   "cell_type": "code",
   "execution_count": 34,
   "metadata": {},
   "outputs": [
    {
     "data": {
      "text/plain": [
       "'\\nPassed all test cases\\n'"
      ]
     },
     "execution_count": 34,
     "metadata": {},
     "output_type": "execute_result"
    }
   ],
   "source": [
    "'''\n",
    "Passed all test cases\n",
    "'''"
   ]
  }
 ],
 "metadata": {
  "interpreter": {
   "hash": "bc3210eb0411503d9a54e82308439f2538c49d86b5a7c00e1ae895fbe28c5986"
  },
  "kernelspec": {
   "display_name": "Python 3.8.12 ('PythonData')",
   "language": "python",
   "name": "python3"
  },
  "language_info": {
   "codemirror_mode": {
    "name": "ipython",
    "version": 3
   },
   "file_extension": ".py",
   "mimetype": "text/x-python",
   "name": "python",
   "nbconvert_exporter": "python",
   "pygments_lexer": "ipython3",
   "version": "3.8.12"
  },
  "orig_nbformat": 4
 },
 "nbformat": 4,
 "nbformat_minor": 2
}
