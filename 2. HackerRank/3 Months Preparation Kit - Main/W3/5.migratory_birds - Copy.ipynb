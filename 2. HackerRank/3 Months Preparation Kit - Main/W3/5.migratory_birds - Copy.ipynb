{
 "cells": [
  {
   "cell_type": "markdown",
   "metadata": {},
   "source": [
    "# Migratory Birds"
   ]
  },
  {
   "cell_type": "markdown",
   "metadata": {},
   "source": [
    "## Problem Statement"
   ]
  },
  {
   "cell_type": "code",
   "execution_count": 12,
   "metadata": {},
   "outputs": [
    {
     "data": {
      "text/plain": [
       "'\\nGiven an array of bird sightings where every element represents a bird type id, determine the id of the most frequently sighted type.\\nIf more than 1 type has been spotted that maximum amount, return the smallest of their ids.\\n\\nExample\\narr = [1,1,2,2,3]\\n\\nThere are two each of types 1 and 2, and one sighting of type 3. Pick the lower of the two types seen twice: type 1.\\n\\nFunction Description\\nComplete the migratoryBirds function in the editor below.\\n\\nmigratoryBirds has the following parameter(s):\\nint arr[n]: the types of birds sighted\\n\\nReturns\\nint: the lowest type id of the most frequently sighted birds\\n\\nInput Format\\nThe first line contains an integer, n, the size of arr.\\nThe second line describes arr as n space-separated integers, each a type number of the bird sighted.\\n\\nConstraints\\n5 <= n <= 2 x 10^5\\nIt is guaranteed that each type is 1, 2, 3, 4, or 5.\\n'"
      ]
     },
     "execution_count": 12,
     "metadata": {},
     "output_type": "execute_result"
    }
   ],
   "source": [
    "'''\n",
    "Given an array of bird sightings where every element represents a bird type id, determine the id of the most frequently sighted type.\n",
    "If more than 1 type has been spotted that maximum amount, return the smallest of their ids.\n",
    "\n",
    "Example\n",
    "arr = [1,1,2,2,3]\n",
    "\n",
    "There are two each of types 1 and 2, and one sighting of type 3. Pick the lower of the two types seen twice: type 1.\n",
    "\n",
    "Function Description\n",
    "Complete the migratoryBirds function in the editor below.\n",
    "\n",
    "migratoryBirds has the following parameter(s):\n",
    "int arr[n]: the types of birds sighted\n",
    "\n",
    "Returns\n",
    "int: the lowest type id of the most frequently sighted birds\n",
    "\n",
    "Input Format\n",
    "The first line contains an integer, n, the size of arr.\n",
    "The second line describes arr as n space-separated integers, each a type number of the bird sighted.\n",
    "\n",
    "Constraints\n",
    "5 <= n <= 2 x 10^5\n",
    "It is guaranteed that each type is 1, 2, 3, 4, or 5.\n",
    "'''"
   ]
  },
  {
   "cell_type": "markdown",
   "metadata": {},
   "source": [
    "## Given Test Cases"
   ]
  },
  {
   "cell_type": "code",
   "execution_count": 13,
   "metadata": {},
   "outputs": [
    {
     "data": {
      "text/plain": [
       "'\\nN/A\\n'"
      ]
     },
     "execution_count": 13,
     "metadata": {},
     "output_type": "execute_result"
    }
   ],
   "source": [
    "'''\n",
    "N/A\n",
    "'''"
   ]
  },
  {
   "cell_type": "markdown",
   "metadata": {},
   "source": [
    "### Data Setup"
   ]
  },
  {
   "cell_type": "code",
   "execution_count": 14,
   "metadata": {},
   "outputs": [],
   "source": [
    "#N/A"
   ]
  },
  {
   "cell_type": "markdown",
   "metadata": {},
   "source": [
    "## Strategy and Solution"
   ]
  },
  {
   "cell_type": "markdown",
   "metadata": {},
   "source": [
    "### Brute Force O(n)"
   ]
  },
  {
   "cell_type": "code",
   "execution_count": 15,
   "metadata": {},
   "outputs": [
    {
     "data": {
      "text/plain": [
       "'\\ncreate a list of size 5, with each elemetnt corresponding ot the freq of that id.\\n\\nfor every id we encounter, incremenet the index of that freq list. at the end of the list, find the max of freq list and then return index of that max. due to how python operates, we will return the first value that matches\\nthe max, which case will be the lower ID in case there is any tie.\\n'"
      ]
     },
     "execution_count": 15,
     "metadata": {},
     "output_type": "execute_result"
    }
   ],
   "source": [
    "'''\n",
    "create a list of size 5, with each elemetnt corresponding ot the freq of that id.\n",
    "\n",
    "for every id we encounter, incremenet the index of that freq list. at the end of the list, find the max of freq list and then return index of that max. due to how python operates, we will return the first value that matches\n",
    "the max, which case will be the lower ID in case there is any tie.\n",
    "'''"
   ]
  },
  {
   "cell_type": "code",
   "execution_count": 16,
   "metadata": {},
   "outputs": [],
   "source": [
    "def migratoryBirds(arr):\n",
    "    freq_list = [0 for i in range(0,5)]\n",
    "    for id in arr:\n",
    "        freq_list[id-1] += 1\n",
    "    return freq_list.index(max(freq_list)) + 1"
   ]
  },
  {
   "cell_type": "code",
   "execution_count": 17,
   "metadata": {},
   "outputs": [
    {
     "data": {
      "text/plain": [
       "1"
      ]
     },
     "execution_count": 17,
     "metadata": {},
     "output_type": "execute_result"
    }
   ],
   "source": [
    "arr = [1,1,2,2,3]\n",
    "migratoryBirds(arr)"
   ]
  },
  {
   "cell_type": "markdown",
   "metadata": {},
   "source": [
    "## Testing"
   ]
  },
  {
   "cell_type": "code",
   "execution_count": 18,
   "metadata": {},
   "outputs": [
    {
     "data": {
      "text/plain": [
       "'\\nSample Input\\n6\\n1 4 4 4 5 3\\n\\nSample Output\\n4\\n'"
      ]
     },
     "execution_count": 18,
     "metadata": {},
     "output_type": "execute_result"
    }
   ],
   "source": [
    "'''\n",
    "Sample Input\n",
    "6\n",
    "1 4 4 4 5 3\n",
    "\n",
    "Sample Output\n",
    "4\n",
    "'''"
   ]
  },
  {
   "cell_type": "code",
   "execution_count": 19,
   "metadata": {},
   "outputs": [
    {
     "data": {
      "text/plain": [
       "3"
      ]
     },
     "execution_count": 19,
     "metadata": {},
     "output_type": "execute_result"
    }
   ],
   "source": [
    "arr1 = [1,2,3,4,5,4,3,2,1,3,4]\n",
    "migratoryBirds(arr1)"
   ]
  },
  {
   "cell_type": "code",
   "execution_count": 20,
   "metadata": {},
   "outputs": [
    {
     "data": {
      "text/plain": [
       "'\\nSample Input\\n11\\n1 2 3 4 5 4 3 2 1 3 4\\n\\nSample Output\\n3\\n'"
      ]
     },
     "execution_count": 20,
     "metadata": {},
     "output_type": "execute_result"
    }
   ],
   "source": [
    "'''\n",
    "Sample Input\n",
    "11\n",
    "1 2 3 4 5 4 3 2 1 3 4\n",
    "\n",
    "Sample Output\n",
    "3\n",
    "'''"
   ]
  },
  {
   "cell_type": "code",
   "execution_count": 21,
   "metadata": {},
   "outputs": [
    {
     "data": {
      "text/plain": [
       "4"
      ]
     },
     "execution_count": 21,
     "metadata": {},
     "output_type": "execute_result"
    }
   ],
   "source": [
    "arr2 = [1,4,4,4,5,3]\n",
    "migratoryBirds(arr2)"
   ]
  },
  {
   "cell_type": "code",
   "execution_count": 22,
   "metadata": {},
   "outputs": [
    {
     "data": {
      "text/plain": [
       "'\\nPassed all test cases\\n'"
      ]
     },
     "execution_count": 22,
     "metadata": {},
     "output_type": "execute_result"
    }
   ],
   "source": [
    "'''\n",
    "Passed all test cases\n",
    "'''"
   ]
  }
 ],
 "metadata": {
  "interpreter": {
   "hash": "bc3210eb0411503d9a54e82308439f2538c49d86b5a7c00e1ae895fbe28c5986"
  },
  "kernelspec": {
   "display_name": "Python 3.8.12 ('PythonData')",
   "language": "python",
   "name": "python3"
  },
  "language_info": {
   "codemirror_mode": {
    "name": "ipython",
    "version": 3
   },
   "file_extension": ".py",
   "mimetype": "text/x-python",
   "name": "python",
   "nbconvert_exporter": "python",
   "pygments_lexer": "ipython3",
   "version": "3.8.12"
  },
  "orig_nbformat": 4
 },
 "nbformat": 4,
 "nbformat_minor": 2
}
