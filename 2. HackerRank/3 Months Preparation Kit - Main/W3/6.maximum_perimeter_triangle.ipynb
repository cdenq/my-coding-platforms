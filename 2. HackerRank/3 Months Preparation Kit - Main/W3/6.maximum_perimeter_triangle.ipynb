{
 "cells": [
  {
   "cell_type": "markdown",
   "metadata": {},
   "source": [
    "# Maximum Perimeter Triangle"
   ]
  },
  {
   "cell_type": "markdown",
   "metadata": {},
   "source": [
    "## Problem Statement"
   ]
  },
  {
   "cell_type": "code",
   "execution_count": 15,
   "metadata": {},
   "outputs": [
    {
     "data": {
      "text/plain": [
       "'\\nGiven an array of stick lengths, use 3 of them to construct a non-degenerate triangle with the maximum possible perimeter.\\nReturn an array of the lengths of its sides as 3 integers in non-decreasing order.\\n\\nIf there are several valid triangles having the maximum perimeter:\\n\\nChoose the one with the longest maximum side.\\nIf more than one has that maximum, choose from them the one with the longest minimum side.\\nIf more than one has that maximum as well, print any one them.\\nIf no non-degenerate triangle exists, return [-1].\\n\\nExample\\nsticks = [1,2,3,4,5,10]\\nThe triplet (1,2,3) will not form a triangle. Neither will (4,5,10) or (2,3,5), so the problem is reduced to (2,3,4) and (3,4,5). The longer perimeter is 3+4+5=12.\\n\\nFunction Description\\nComplete the maximumPerimeterTriangle function in the editor below.\\n\\nmaximumPerimeterTriangle has the following parameter(s):\\nint sticks[n]: the lengths of sticks available\\n\\nReturns\\nint[3] or int[1]: the side lengths of the chosen triangle in non-decreasing order or -1\\n\\nInput Format\\nThe first line contains single integer n, the size of array sticks.\\nThe second line contains n space-separated integers sticks[i], each a stick length.\\n\\nConstraints\\n3 <= n <= 50\\n1 <= sticks[i] <= 10^9\\n'"
      ]
     },
     "execution_count": 15,
     "metadata": {},
     "output_type": "execute_result"
    }
   ],
   "source": [
    "'''\n",
    "Given an array of stick lengths, use 3 of them to construct a non-degenerate triangle with the maximum possible perimeter.\n",
    "Return an array of the lengths of its sides as 3 integers in non-decreasing order.\n",
    "\n",
    "If there are several valid triangles having the maximum perimeter:\n",
    "\n",
    "Choose the one with the longest maximum side.\n",
    "If more than one has that maximum, choose from them the one with the longest minimum side.\n",
    "If more than one has that maximum as well, print any one them.\n",
    "If no non-degenerate triangle exists, return [-1].\n",
    "\n",
    "Example\n",
    "sticks = [1,2,3,4,5,10]\n",
    "The triplet (1,2,3) will not form a triangle. Neither will (4,5,10) or (2,3,5), so the problem is reduced to (2,3,4) and (3,4,5). The longer perimeter is 3+4+5=12.\n",
    "\n",
    "Function Description\n",
    "Complete the maximumPerimeterTriangle function in the editor below.\n",
    "\n",
    "maximumPerimeterTriangle has the following parameter(s):\n",
    "int sticks[n]: the lengths of sticks available\n",
    "\n",
    "Returns\n",
    "int[3] or int[1]: the side lengths of the chosen triangle in non-decreasing order or -1\n",
    "\n",
    "Input Format\n",
    "The first line contains single integer n, the size of array sticks.\n",
    "The second line contains n space-separated integers sticks[i], each a stick length.\n",
    "\n",
    "Constraints\n",
    "3 <= n <= 50\n",
    "1 <= sticks[i] <= 10^9\n",
    "'''"
   ]
  },
  {
   "cell_type": "markdown",
   "metadata": {},
   "source": [
    "## Given Test Cases"
   ]
  },
  {
   "cell_type": "code",
   "execution_count": 16,
   "metadata": {},
   "outputs": [
    {
     "data": {
      "text/plain": [
       "'\\nN/A\\n'"
      ]
     },
     "execution_count": 16,
     "metadata": {},
     "output_type": "execute_result"
    }
   ],
   "source": [
    "'''\n",
    "N/A\n",
    "'''"
   ]
  },
  {
   "cell_type": "markdown",
   "metadata": {},
   "source": [
    "### Data Setup"
   ]
  },
  {
   "cell_type": "code",
   "execution_count": 17,
   "metadata": {},
   "outputs": [],
   "source": [
    "#N/A"
   ]
  },
  {
   "cell_type": "markdown",
   "metadata": {},
   "source": [
    "## Strategy and Solution"
   ]
  },
  {
   "cell_type": "markdown",
   "metadata": {},
   "source": [
    "### Brute Force O(n^2)"
   ]
  },
  {
   "cell_type": "code",
   "execution_count": 18,
   "metadata": {},
   "outputs": [
    {
     "data": {
      "text/plain": [
       "'\\nsince we are generating non-degenerate traingles, the only valid three lengths are those such that any two of lengths must always be larger than three.\\neg. [a,b,c]\\na+b > c\\nb+c > a\\nc+a > b\\n\\nwith this in mind, a brute force would be to take every combination of 3 lengths in the array and check to see if they are a valid triangle (from above).\\nIf it is a valid triangle, we can calculate its perimenter and store its individual lengths.\\n\\nonce done with every combination, we would have a comprehensive list of every valid triangle and their perimenters; return the largest perimeter, if tie, then return\\nthe longest max length, and if tied, then return the longest min length.\\n'"
      ]
     },
     "execution_count": 18,
     "metadata": {},
     "output_type": "execute_result"
    }
   ],
   "source": [
    "'''\n",
    "since we are generating non-degenerate traingles, the only valid three lengths are those such that any two of lengths must always be larger than three.\n",
    "eg. [a,b,c]\n",
    "a+b > c\n",
    "b+c > a\n",
    "c+a > b\n",
    "\n",
    "with this in mind, a brute force would be to take every combination of 3 lengths in the array and check to see if they are a valid triangle (from above).\n",
    "If it is a valid triangle, we can calculate its perimenter and store its individual lengths.\n",
    "\n",
    "once done with every combination, we would have a comprehensive list of every valid triangle and their perimenters; return the largest perimeter, if tie, then return\n",
    "the longest max length, and if tied, then return the longest min length.\n",
    "'''"
   ]
  },
  {
   "cell_type": "markdown",
   "metadata": {},
   "source": [
    "### Optimized O(nlogn)"
   ]
  },
  {
   "cell_type": "code",
   "execution_count": 19,
   "metadata": {},
   "outputs": [
    {
     "data": {
      "text/plain": [
       "'\\ngiven the large sample space of combinations, we can optimized this reducing the sample size for the get-go.\\n\\nwe know that we should only check valid triangles, and thus, can begin with checking only those lengths that match the valid triangle condition. eg\\na+b > c\\nb+c > a\\nc+a > b\\n\\nadditionally, since we want the maximum perimeter triangle, we should start off by checking the maximum 3 lenghts in a triangle.\\n\\nluckily, because the order of the lengths in the array doesnt matter, we can actually reverse sort the array such that the highest three lengths are\\nat the front of the array. we can then start checking the triangle condition from the start of the array.\\n\\nnotice how when the list is reverse sorted, [a, b, c, d... etc]\\na is the largest length, b is the 2nd largest, and c is the 3rd largest. mathematically...\\na >= b >= c.\\n\\nwith this ordering, we actually only need to check if b + c > a since we the other combinations \\na + b > c\\na + c > b\\nis already true if a >= b, c\\n\\nthis way, we ensure that we are checking for valid triangles and the maximum perimeter simultaneously as we iterate down the list, and only need to check the one condition:\\nb + c > a.\\n'"
      ]
     },
     "execution_count": 19,
     "metadata": {},
     "output_type": "execute_result"
    }
   ],
   "source": [
    "'''\n",
    "given the large sample space of combinations, we can optimized this reducing the sample size for the get-go.\n",
    "\n",
    "we know that we should only check valid triangles, and thus, can begin with checking only those lengths that match the valid triangle condition. eg\n",
    "a+b > c\n",
    "b+c > a\n",
    "c+a > b\n",
    "\n",
    "additionally, since we want the maximum perimeter triangle, we should start off by checking the maximum 3 lenghts in a triangle.\n",
    "\n",
    "luckily, because the order of the lengths in the array doesnt matter, we can actually reverse sort the array such that the highest three lengths are\n",
    "at the front of the array. we can then start checking the triangle condition from the start of the array.\n",
    "\n",
    "notice how when the list is reverse sorted, [a, b, c, d... etc]\n",
    "a is the largest length, b is the 2nd largest, and c is the 3rd largest. mathematically...\n",
    "a >= b >= c.\n",
    "\n",
    "with this ordering, we actually only need to check if b + c > a since we the other combinations \n",
    "a + b > c\n",
    "a + c > b\n",
    "is already true if a >= b, c\n",
    "\n",
    "this way, we ensure that we are checking for valid triangles and the maximum perimeter simultaneously as we iterate down the list, and only need to check the one condition:\n",
    "b + c > a.\n",
    "'''"
   ]
  },
  {
   "cell_type": "code",
   "execution_count": 20,
   "metadata": {},
   "outputs": [],
   "source": [
    "def maximumPerimeterTriangle(sticks):\n",
    "    s_sticks = sorted(sticks)[::-1]\n",
    "    for i in range(len(s_sticks) - 2):\n",
    "        if (s_sticks[i+1] + s_sticks[i+2] > s_sticks[i]):\n",
    "            return [s_sticks[i+2], s_sticks[i+1], s_sticks[i]]\n",
    "    return [-1]"
   ]
  },
  {
   "cell_type": "markdown",
   "metadata": {},
   "source": [
    "## Testing"
   ]
  },
  {
   "cell_type": "code",
   "execution_count": 21,
   "metadata": {},
   "outputs": [
    {
     "data": {
      "text/plain": [
       "'\\nSample Input\\n5\\n1 1 1 3 3\\n\\nSample Output\\n1 3 3\\n'"
      ]
     },
     "execution_count": 21,
     "metadata": {},
     "output_type": "execute_result"
    }
   ],
   "source": [
    "'''\n",
    "Sample Input\n",
    "5\n",
    "1 1 1 3 3\n",
    "\n",
    "Sample Output\n",
    "1 3 3\n",
    "'''"
   ]
  },
  {
   "cell_type": "code",
   "execution_count": 22,
   "metadata": {},
   "outputs": [
    {
     "data": {
      "text/plain": [
       "[1, 3, 3]"
      ]
     },
     "execution_count": 22,
     "metadata": {},
     "output_type": "execute_result"
    }
   ],
   "source": [
    "sticks1 = [1,1,1,3,3]\n",
    "maximumPerimeterTriangle(sticks1)"
   ]
  },
  {
   "cell_type": "code",
   "execution_count": 23,
   "metadata": {},
   "outputs": [
    {
     "data": {
      "text/plain": [
       "'\\nSample Input\\n6\\n1 1 1 2 3 5\\n\\nSample Output\\n1 1 1\\n'"
      ]
     },
     "execution_count": 23,
     "metadata": {},
     "output_type": "execute_result"
    }
   ],
   "source": [
    "'''\n",
    "Sample Input\n",
    "6\n",
    "1 1 1 2 3 5\n",
    "\n",
    "Sample Output\n",
    "1 1 1\n",
    "'''"
   ]
  },
  {
   "cell_type": "code",
   "execution_count": 24,
   "metadata": {},
   "outputs": [
    {
     "data": {
      "text/plain": [
       "[1, 1, 1]"
      ]
     },
     "execution_count": 24,
     "metadata": {},
     "output_type": "execute_result"
    }
   ],
   "source": [
    "sticks2 = [1,1,1,2,3,5]\n",
    "maximumPerimeterTriangle(sticks2)"
   ]
  },
  {
   "cell_type": "code",
   "execution_count": 25,
   "metadata": {},
   "outputs": [
    {
     "data": {
      "text/plain": [
       "'\\nSample Input\\n3\\n1 2 3\\n\\nSample Output\\n-1\\n'"
      ]
     },
     "execution_count": 25,
     "metadata": {},
     "output_type": "execute_result"
    }
   ],
   "source": [
    "'''\n",
    "Sample Input\n",
    "3\n",
    "1 2 3\n",
    "\n",
    "Sample Output\n",
    "-1\n",
    "'''"
   ]
  },
  {
   "cell_type": "code",
   "execution_count": 26,
   "metadata": {},
   "outputs": [
    {
     "data": {
      "text/plain": [
       "[-1]"
      ]
     },
     "execution_count": 26,
     "metadata": {},
     "output_type": "execute_result"
    }
   ],
   "source": [
    "sticks3 = [1,2,3]\n",
    "maximumPerimeterTriangle(sticks3)"
   ]
  },
  {
   "cell_type": "code",
   "execution_count": 27,
   "metadata": {},
   "outputs": [
    {
     "data": {
      "text/plain": [
       "'\\nPassed all test cases\\n'"
      ]
     },
     "execution_count": 27,
     "metadata": {},
     "output_type": "execute_result"
    }
   ],
   "source": [
    "'''\n",
    "Passed all test cases\n",
    "'''"
   ]
  }
 ],
 "metadata": {
  "interpreter": {
   "hash": "bc3210eb0411503d9a54e82308439f2538c49d86b5a7c00e1ae895fbe28c5986"
  },
  "kernelspec": {
   "display_name": "Python 3.8.12 ('PythonData')",
   "language": "python",
   "name": "python3"
  },
  "language_info": {
   "codemirror_mode": {
    "name": "ipython",
    "version": 3
   },
   "file_extension": ".py",
   "mimetype": "text/x-python",
   "name": "python",
   "nbconvert_exporter": "python",
   "pygments_lexer": "ipython3",
   "version": "3.8.12"
  },
  "orig_nbformat": 4
 },
 "nbformat": 4,
 "nbformat_minor": 2
}
