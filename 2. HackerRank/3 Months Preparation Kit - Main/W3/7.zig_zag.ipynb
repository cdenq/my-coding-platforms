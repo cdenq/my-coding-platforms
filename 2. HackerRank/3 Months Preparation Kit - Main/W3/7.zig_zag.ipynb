{
 "cells": [
  {
   "cell_type": "markdown",
   "metadata": {},
   "source": [
    "# Zig Zag"
   ]
  },
  {
   "cell_type": "markdown",
   "metadata": {},
   "source": [
    "## Problem Statement"
   ]
  },
  {
   "cell_type": "code",
   "execution_count": 15,
   "metadata": {},
   "outputs": [
    {
     "data": {
      "text/plain": [
       "'\\nGiven an array of stick lengths, use 3 of them to construct a non-degenerate triangle with the maximum possible perimeter.\\nReturn an array of the lengths of its sides as 3 integers in non-decreasing order.\\n\\nIf there are several valid triangles having the maximum perimeter:\\n\\nChoose the one with the longest maximum side.\\nIf more than one has that maximum, choose from them the one with the longest minimum side.\\nIf more than one has that maximum as well, print any one them.\\nIf no non-degenerate triangle exists, return [-1].\\n\\nExample\\nsticks = [1,2,3,4,5,10]\\nThe triplet (1,2,3) will not form a triangle. Neither will (4,5,10) or (2,3,5), so the problem is reduced to (2,3,4) and (3,4,5). The longer perimeter is 3+4+5=12.\\n\\nFunction Description\\nComplete the maximumPerimeterTriangle function in the editor below.\\n\\nmaximumPerimeterTriangle has the following parameter(s):\\nint sticks[n]: the lengths of sticks available\\n\\nReturns\\nint[3] or int[1]: the side lengths of the chosen triangle in non-decreasing order or -1\\n\\nInput Format\\nThe first line contains single integer n, the size of array sticks.\\nThe second line contains n space-separated integers sticks[i], each a stick length.\\n\\nConstraints\\n3 <= n <= 50\\n1 <= sticks[i] <= 10^9\\n'"
      ]
     },
     "execution_count": 15,
     "metadata": {},
     "output_type": "execute_result"
    }
   ],
   "source": [
    "'''\n",
    "In this challenge, the task is to debug the existing code to successfully execute all provided test files.\n",
    "\n",
    "Given an array of n distinct integers, transform the array into a zig zag sequence by permuting the array elements. \n",
    "A sequence will be called a zig zag sequence if the first k elements in the sequence are in increasing order and the last k elements are in decreasing order, where k=(n+1)/2. \n",
    "You need to find the lexicographically smallest zig zag sequence of the given array.\n",
    "\n",
    "Example.\n",
    "a = [2,3,5,1,4]\n",
    "\n",
    "Now if we permute the array as [1,4,5,3,2], the result is a zig zag sequence.\n",
    "\n",
    "Debug the given function findZigZagSequence to return the appropriate zig zag sequence for the given input array.\n",
    "\n",
    "Note: You can modify at most three lines in the given code. You cannot add or remove lines of code.\n",
    "\n",
    "To restore the original code, click on the icon to the right of the language selector.\n",
    "\n",
    "Input Format\n",
    "\n",
    "The first line contains t the number of test cases.\n",
    "The first line of each test case contains an integer n, denoting the number of array elements. The next line of the test case contains n elements of array a.\n",
    "\n",
    "Constraints\n",
    "1 <= t <= 20\n",
    "1 <= n <= 10000 (n is always odd)\n",
    "1 <= ai <= 10^9\n",
    "'''"
   ]
  },
  {
   "cell_type": "markdown",
   "metadata": {},
   "source": [
    "## Given Test Cases"
   ]
  },
  {
   "cell_type": "code",
   "execution_count": 16,
   "metadata": {},
   "outputs": [
    {
     "data": {
      "text/plain": [
       "'\\nN/A\\n'"
      ]
     },
     "execution_count": 16,
     "metadata": {},
     "output_type": "execute_result"
    }
   ],
   "source": [
    "'''\n",
    "N/A\n",
    "'''"
   ]
  },
  {
   "cell_type": "markdown",
   "metadata": {},
   "source": [
    "### Data Setup"
   ]
  },
  {
   "cell_type": "code",
   "execution_count": 17,
   "metadata": {},
   "outputs": [],
   "source": [
    "#N/A"
   ]
  },
  {
   "cell_type": "markdown",
   "metadata": {},
   "source": [
    "## Strategy and Solution"
   ]
  },
  {
   "cell_type": "markdown",
   "metadata": {},
   "source": [
    "### Brute Force"
   ]
  },
  {
   "cell_type": "code",
   "execution_count": 18,
   "metadata": {},
   "outputs": [
    {
     "data": {
      "text/plain": [
       "'\\nsince we are generating non-degenerate traingles, the only valid three lengths are those such that any two of lengths must always be larger than three.\\neg. [a,b,c]\\na+b > c\\nb+c > a\\nc+a > b\\n\\nwith this in mind, a brute force would be to take every combination of 3 lengths in the array and check to see if they are a valid triangle (from above).\\nIf it is a valid triangle, we can calculate its perimenter and store its individual lengths.\\n\\nonce done with every combination, we would have a comprehensive list of every valid triangle and their perimenters; return the largest perimeter, if tie, then return\\nthe longest max length, and if tied, then return the longest min length.\\n'"
      ]
     },
     "execution_count": 18,
     "metadata": {},
     "output_type": "execute_result"
    }
   ],
   "source": [
    "'''\n",
    "debugging original\n",
    "\n",
    "def findZigZagSequence(a, n):\n",
    "    a.sort()\n",
    "    mid = int(n/2)\n",
    "    a[mid], a[n-1] = a[n-1], a[mid]\n",
    "\n",
    "    st = mid + 1\n",
    "    ed = n - 2\n",
    "    while(st <= ed):\n",
    "        a[st], a[ed] = a[ed], a[st]\n",
    "        st = st + 1\n",
    "        ed = ed - 1\n",
    "\n",
    "    for i in range (n):\n",
    "        if i == n-1:\n",
    "            print(a[i])\n",
    "        else:\n",
    "            print(a[i], end = ' ')\n",
    "    return\n",
    "\n",
    "test_cases = int(input())\n",
    "for cs in range (test_cases):\n",
    "    n = int(input())\n",
    "    a = list(map(int, input().split()))\n",
    "    findZigZagSequence(a, n)\n",
    "'''"
   ]
  },
  {
   "cell_type": "code",
   "execution_count": 20,
   "metadata": {},
   "outputs": [],
   "source": [
    "def findZigZagSequence(a, n):\n",
    "    a.sort()\n",
    "    mid = int(n/2)\n",
    "    print(f\"{mid}, {a[mid]}\")\n",
    "    a[mid], a[n-1] = a[n-1], a[mid]\n",
    "\n",
    "    st = mid + 1\n",
    "    ed = n - 2\n",
    "    while(st <= ed):\n",
    "        a[st], a[ed] = a[ed], a[st]\n",
    "        st = st + 1\n",
    "        ed = ed - 1\n",
    "\n",
    "    for i in range (n):\n",
    "        if i == n-1:\n",
    "            print(a[i])\n",
    "        else:\n",
    "            print(a[i], end = ' ')\n",
    "    return\n",
    "\n",
    "# test_cases = int(input())\n",
    "# for cs in range (test_cases):\n",
    "#     n = int(input())\n",
    "#     a = list(map(int, input().split()))\n",
    "#     findZigZagSequence(a, n)"
   ]
  },
  {
   "cell_type": "markdown",
   "metadata": {},
   "source": [
    "## Testing"
   ]
  },
  {
   "cell_type": "code",
   "execution_count": 27,
   "metadata": {},
   "outputs": [
    {
     "data": {
      "text/plain": [
       "'\\nPassed all test cases\\n'"
      ]
     },
     "execution_count": 27,
     "metadata": {},
     "output_type": "execute_result"
    }
   ],
   "source": [
    "'''\n",
    "Passed all test cases\n",
    "'''"
   ]
  }
 ],
 "metadata": {
  "interpreter": {
   "hash": "bc3210eb0411503d9a54e82308439f2538c49d86b5a7c00e1ae895fbe28c5986"
  },
  "kernelspec": {
   "display_name": "Python 3.8.12 ('PythonData')",
   "language": "python",
   "name": "python3"
  },
  "language_info": {
   "codemirror_mode": {
    "name": "ipython",
    "version": 3
   },
   "file_extension": ".py",
   "mimetype": "text/x-python",
   "name": "python",
   "nbconvert_exporter": "python",
   "pygments_lexer": "ipython3",
   "version": "3.8.12"
  },
  "orig_nbformat": 4
 },
 "nbformat": 4,
 "nbformat_minor": 2
}
