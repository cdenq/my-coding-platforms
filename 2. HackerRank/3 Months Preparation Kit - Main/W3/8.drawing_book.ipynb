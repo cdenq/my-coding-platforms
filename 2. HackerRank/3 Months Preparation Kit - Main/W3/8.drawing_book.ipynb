{
 "cells": [
  {
   "cell_type": "markdown",
   "metadata": {},
   "source": [
    "# Drawing Book"
   ]
  },
  {
   "cell_type": "markdown",
   "metadata": {},
   "source": [
    "## Problem Statement"
   ]
  },
  {
   "cell_type": "code",
   "execution_count": 18,
   "metadata": {},
   "outputs": [
    {
     "data": {
      "text/plain": [
       "'\\nA teacher asks the class to open their books to a page number. A student can either start turning pages from the front of the book or from the back of the book.\\nThey always turn pages one at a time. When they open the book, page 1 is always on the right side.\\n\\nWhen they flip page 1, they see pages 2 and 3. Each page except the last page will always be printed on both sides.\\nThe last page may only be printed on the front, given the length of the book. If the book is n pages long, and a student wants to turn to page p,\\nwhat is the minimum number of pages to turn? They can start at the beginning or the end of the book.\\n\\nGiven n and p, find and print the minimum number of pages that must be turned in order to arrive at page p.\\n\\nExample\\nn = 5\\np = 3\\n\\nIf the student wants to get to page 3, they open the book to page 1, flip 1 page and they are on the correct page.\\nIf they open the book to the last page, page 5, they turn 1 page and are at the correct page. Return 1.\\n\\nFunction Description\\nComplete the pageCount function in the editor below.\\n\\npageCount has the following parameter(s):\\nint n: the number of pages in the book\\nint p: the page number to turn to\\n\\nReturns\\nint: the minimum number of pages to turn\\n\\nInput Format\\nThe first line contains an integer n, the number of pages in the book.\\nThe second line contains an integer, p, the page to turn to.\\n\\nConstraints\\n1 <= n <= 10^5\\n1 <= p <= n\\n'"
      ]
     },
     "execution_count": 18,
     "metadata": {},
     "output_type": "execute_result"
    }
   ],
   "source": [
    "'''\n",
    "A teacher asks the class to open their books to a page number. A student can either start turning pages from the front of the book or from the back of the book.\n",
    "They always turn pages one at a time. When they open the book, page 1 is always on the right side.\n",
    "\n",
    "When they flip page 1, they see pages 2 and 3. Each page except the last page will always be printed on both sides.\n",
    "The last page may only be printed on the front, given the length of the book. If the book is n pages long, and a student wants to turn to page p,\n",
    "what is the minimum number of pages to turn? They can start at the beginning or the end of the book.\n",
    "\n",
    "Given n and p, find and print the minimum number of pages that must be turned in order to arrive at page p.\n",
    "\n",
    "Example\n",
    "n = 5\n",
    "p = 3\n",
    "\n",
    "If the student wants to get to page 3, they open the book to page 1, flip 1 page and they are on the correct page.\n",
    "If they open the book to the last page, page 5, they turn 1 page and are at the correct page. Return 1.\n",
    "\n",
    "Function Description\n",
    "Complete the pageCount function in the editor below.\n",
    "\n",
    "pageCount has the following parameter(s):\n",
    "int n: the number of pages in the book\n",
    "int p: the page number to turn to\n",
    "\n",
    "Returns\n",
    "int: the minimum number of pages to turn\n",
    "\n",
    "Input Format\n",
    "The first line contains an integer n, the number of pages in the book.\n",
    "The second line contains an integer, p, the page to turn to.\n",
    "\n",
    "Constraints\n",
    "1 <= n <= 10^5\n",
    "1 <= p <= n\n",
    "'''"
   ]
  },
  {
   "cell_type": "markdown",
   "metadata": {},
   "source": [
    "## Given Test Cases"
   ]
  },
  {
   "cell_type": "code",
   "execution_count": 19,
   "metadata": {},
   "outputs": [
    {
     "data": {
      "text/plain": [
       "'\\nSample Input\\n6\\n2\\n\\nSample Output\\n1\\n'"
      ]
     },
     "execution_count": 19,
     "metadata": {},
     "output_type": "execute_result"
    }
   ],
   "source": [
    "'''\n",
    "Sample Input\n",
    "6\n",
    "2\n",
    "\n",
    "Sample Output\n",
    "1\n",
    "'''"
   ]
  },
  {
   "cell_type": "code",
   "execution_count": 20,
   "metadata": {},
   "outputs": [
    {
     "data": {
      "text/plain": [
       "'\\nSample Input\\n5\\n4\\n\\nSample Output\\n0\\n'"
      ]
     },
     "execution_count": 20,
     "metadata": {},
     "output_type": "execute_result"
    }
   ],
   "source": [
    "'''\n",
    "Sample Input\n",
    "5\n",
    "4\n",
    "\n",
    "Sample Output\n",
    "0\n",
    "'''"
   ]
  },
  {
   "cell_type": "markdown",
   "metadata": {},
   "source": [
    "### Data Setup"
   ]
  },
  {
   "cell_type": "code",
   "execution_count": 21,
   "metadata": {},
   "outputs": [],
   "source": [
    "n1 = 6\n",
    "p1 = 2\n",
    "n2 = 5\n",
    "p2 = 4"
   ]
  },
  {
   "cell_type": "markdown",
   "metadata": {},
   "source": [
    "## Strategy and Solution"
   ]
  },
  {
   "cell_type": "markdown",
   "metadata": {},
   "source": [
    "### Brute Force O(n)"
   ]
  },
  {
   "cell_type": "code",
   "execution_count": 22,
   "metadata": {},
   "outputs": [
    {
     "data": {
      "text/plain": [
       "'\\nwe can manually run through the pages with a while loop until we reach out target p. starting at page 1; we add 1,2 to it to get 2,3; then check if p is in 2,3; if not, add 1,2 to get 4,5; check if p... etc.\\nwe can keep a counter that tracks the number of times we add the 1,2 to the page.\\n\\nonce we are done, we then try the reverse with the starting page at n. so lets say n is 100; we subtract 1,2 to get 99,98; then check if p is in 99,98; if not, subtract 1,2 to get 97,96; check if p... etc.\\nkeep a counter of the number of flips here as well\\n\\nonce done, we will return the lower counter\\n'"
      ]
     },
     "execution_count": 22,
     "metadata": {},
     "output_type": "execute_result"
    }
   ],
   "source": [
    "'''\n",
    "we can manually run through the pages with a while loop until we reach out target p. starting at page 1; we add 1,2 to it to get 2,3; then check if p is in 2,3; if not, add 1,2 to get 4,5; check if p... etc.\n",
    "we can keep a counter that tracks the number of times we add the 1,2 to the page.\n",
    "\n",
    "once we are done, we then try the reverse with the starting page at n. so lets say n is 100; we subtract 1,2 to get 99,98; then check if p is in 99,98; if not, subtract 1,2 to get 97,96; check if p... etc.\n",
    "keep a counter of the number of flips here as well\n",
    "\n",
    "once done, we will return the lower counter\n",
    "'''"
   ]
  },
  {
   "cell_type": "markdown",
   "metadata": {},
   "source": [
    "### Optimized O(1)"
   ]
  },
  {
   "cell_type": "code",
   "execution_count": 23,
   "metadata": {},
   "outputs": [
    {
     "data": {
      "text/plain": [
       "'\\nwe can model this page-flipping with math, which would just turn into a series of arithmatic calculations\\n\\nconceptually, lets imagine every page-pair as such...\\n[_, 1]\\n[2, 3]\\n[4, 5]\\n[6, 7]\\n...\\n[n, _] OR [_, n].\\n\\nobserve how given any target page p, we can deterministically predict which side of the page-face it will be: left or right.\\n\\neg. p = 5. if we ceonceptually remove the first page from this book of lenth 5, (remove [_, 1]), which is modeled by subtracting 1 from it, \\nthe difference is the number of remaining pages in the book. so 5 - 1 = 4.\\n\\n4 pages need to fill in the rest of the book, adn since every page face has 2 pages, we can evenly divide 4 pages onto all the page faces. an even division\\nmeans that the last page will fall on the right side of the book, as such [n-1, n] or [4, 5]. thus, if p is odd, that page will land on right hand side\\n\\nusing the above logic or via process of eliminiation (since parity only has 2 states), we know that if p is even, it will land on the left hand side.\\n\\nnow observe that flipping a page from any arbitrary starting page face [a,b], where a!=b, we will reach the page face [a+2, b+2]. this means the resulting page number is on\\na linear relationship with a slope of 2 with the number of flips. modeled via math...\\n\\nstarting_left_page + 2*flips = target_left_page\\nstarting_right_page + 2*flips = target_right_page\\n\\nwhen we solve for the number of flips...\\nflips = (target_left_page - starting_left_page)/2\\nflips = (target_right_page - starting_left_page)/2\\n\\nsince we know every book starts with a page face like this [_, 1] (or [0, 1]), we can plug in the equation as such...\\nflips = (target_left_page - 0)/2\\nflips = (target_right_page - 1)/2\\n\\nwith some formula manipulation, we can actually condense the two equations above into just one: \\nflips = (target_page)//2\\n\\nthus, this equation will directly calculate the number of flips needed to any target page, assuming we are starting from the beginning of the book.\\n----\\nnow we need to model what its like starting from the end of the book.\\n\\nusing the same logic from above when determining where a page will appear on the left or right of the page face, we can also determine whether the book will end\\nwith its last page on the left or right. explicity, we know that odd lengthed books will have its last page end on a page face like this [n-1, n] and\\neven lengthed books means the last page will be on a page face like this [n, _]\\n\\nnow looking at a starting place of [n-1, n], observe how a flip backwards results in [n-3, n-2].\\nor... \\nstarting_left_page - 2*flips = target_left_page\\nstarting_right_page - 2*flips = target_right_page\\n\\nsolving once again...\\nflips = (starting_left_page - target_left_page)/2\\nflips = (starting_right_page - target_right_page)/2\\n\\nand because the starting pages this time are [n-1, n]...\\nflips = ((n-1) - target_left_page)/2\\nflips = (n - target_right_page)/2\\n\\nor flips = (n - target_page)//2 when starting from a [n-1, n] position\\n\\nwhen starting from a [n, _] position, let us rewrite this position as [n, n+1], where we can imagine n+1 to be an invisible page\\nthat is one more than total number of pages.\\n\\nobserve how if we were to magically add 1 to the page values aka shifting the vlaue of the pages up by 1, we would get...\\n[n +1, n+1 +1] or\\n[n+1, n+2]\\nand when we look at the flip following, we would get\\n[n+1 -2, n+2 -2]\\nor \\n[n-1, n]\\n\\nnotice how this is exactly as the same position as if we had started with [n-1, n], which we had already calculated to be \\nflips = (n - target_page)//2\\n\\nthus, we know that by shifting any [n, _] cases up by one, aka turning n -> n+1, we can reduce it down to the same [n-1, n] case.\\n\\nthus, [n, _] can be sovled with flips = ((n+1) - target_page)//2\\n---\\nto sum everythign up, we can directly calculate the number of flips...\\nfrom the start of book: flips = (target_page)//2\\nfrom the back of book:\\n    if [n-1, n] or odd pages\\n         flips = (n - target_page)//2\\n    else [n, _] or even pages\\n         flips = (n+1 - target_page)//2\\n\\nwe take the min of these calculations and return the result.\\n'"
      ]
     },
     "execution_count": 23,
     "metadata": {},
     "output_type": "execute_result"
    }
   ],
   "source": [
    "'''\n",
    "we can model this page-flipping with math, which would just turn into a series of arithmatic calculations\n",
    "\n",
    "conceptually, lets imagine every page-pair as such...\n",
    "[_, 1]\n",
    "[2, 3]\n",
    "[4, 5]\n",
    "[6, 7]\n",
    "...\n",
    "[n, _] OR [_, n].\n",
    "\n",
    "observe how given any target page p, we can deterministically predict which side of the page-face it will be: left or right.\n",
    "\n",
    "eg. p = 5. if we ceonceptually remove the first page from this book of lenth 5, (remove [_, 1]), which is modeled by subtracting 1 from it, \n",
    "the difference is the number of remaining pages in the book. so 5 - 1 = 4.\n",
    "\n",
    "4 pages need to fill in the rest of the book, adn since every page face has 2 pages, we can evenly divide 4 pages onto all the page faces. an even division\n",
    "means that the last page will fall on the right side of the book, as such [n-1, n] or [4, 5]. thus, if p is odd, that page will land on right hand side\n",
    "\n",
    "using the above logic or via process of eliminiation (since parity only has 2 states), we know that if p is even, it will land on the left hand side.\n",
    "\n",
    "now observe that flipping a page from any arbitrary starting page face [a,b], where a!=b, we will reach the page face [a+2, b+2]. this means the resulting page number is on\n",
    "a linear relationship with a slope of 2 with the number of flips. modeled via math...\n",
    "\n",
    "starting_left_page + 2*flips = target_left_page\n",
    "starting_right_page + 2*flips = target_right_page\n",
    "\n",
    "when we solve for the number of flips...\n",
    "flips = (target_left_page - starting_left_page)/2\n",
    "flips = (target_right_page - starting_left_page)/2\n",
    "\n",
    "since we know every book starts with a page face like this [_, 1] (or [0, 1]), we can plug in the equation as such...\n",
    "flips = (target_left_page - 0)/2\n",
    "flips = (target_right_page - 1)/2\n",
    "\n",
    "with some formula manipulation, we can actually condense the two equations above into just one: \n",
    "flips = (target_page)//2\n",
    "\n",
    "thus, this equation will directly calculate the number of flips needed to any target page, assuming we are starting from the beginning of the book.\n",
    "----\n",
    "now we need to model what its like starting from the end of the book.\n",
    "\n",
    "using the same logic from above when determining where a page will appear on the left or right of the page face, we can also determine whether the book will end\n",
    "with its last page on the left or right. explicity, we know that odd lengthed books will have its last page end on a page face like this [n-1, n] and\n",
    "even lengthed books means the last page will be on a page face like this [n, _]\n",
    "\n",
    "now looking at a starting place of [n-1, n], observe how a flip backwards results in [n-3, n-2].\n",
    "or... \n",
    "starting_left_page - 2*flips = target_left_page\n",
    "starting_right_page - 2*flips = target_right_page\n",
    "\n",
    "solving once again...\n",
    "flips = (starting_left_page - target_left_page)/2\n",
    "flips = (starting_right_page - target_right_page)/2\n",
    "\n",
    "and because the starting pages this time are [n-1, n]...\n",
    "flips = ((n-1) - target_left_page)/2\n",
    "flips = (n - target_right_page)/2\n",
    "\n",
    "or flips = (n - target_page)//2 when starting from a [n-1, n] position\n",
    "\n",
    "when starting from a [n, _] position, let us rewrite this position as [n, n+1], where we can imagine n+1 to be an invisible page\n",
    "that is one more than total number of pages.\n",
    "\n",
    "observe how if we were to magically add 1 to the page values aka shifting the vlaue of the pages up by 1, we would get...\n",
    "[n +1, n+1 +1] or\n",
    "[n+1, n+2]\n",
    "and when we look at the flip following, we would get\n",
    "[n+1 -2, n+2 -2]\n",
    "or \n",
    "[n-1, n]\n",
    "\n",
    "notice how this is exactly as the same position as if we had started with [n-1, n], which we had already calculated to be \n",
    "flips = (n - target_page)//2\n",
    "\n",
    "thus, we know that by shifting any [n, _] cases up by one, aka turning n -> n+1, we can reduce it down to the same [n-1, n] case.\n",
    "\n",
    "thus, [n, _] can be sovled with flips = ((n+1) - target_page)//2\n",
    "---\n",
    "to sum everythign up, we can directly calculate the number of flips...\n",
    "from the start of book: flips = (target_page)//2\n",
    "from the back of book:\n",
    "    if [n-1, n] or odd pages\n",
    "         flips = (n - target_page)//2\n",
    "    else [n, _] or even pages\n",
    "         flips = (n+1 - target_page)//2\n",
    "\n",
    "we take the min of these calculations and return the result.\n",
    "'''"
   ]
  },
  {
   "cell_type": "code",
   "execution_count": 24,
   "metadata": {},
   "outputs": [],
   "source": [
    "def pageCount(n, p):\n",
    "   if n % 2 == 0:\n",
    "      return min(p//2, ((n+1 - p)//2))\n",
    "   else:\n",
    "      return min(p//2, (n - p)//2)"
   ]
  },
  {
   "cell_type": "markdown",
   "metadata": {},
   "source": [
    "## Testing"
   ]
  },
  {
   "cell_type": "code",
   "execution_count": 25,
   "metadata": {},
   "outputs": [
    {
     "data": {
      "text/plain": [
       "'\\nSample Input\\n6\\n2\\n\\nSample Output\\n1\\n'"
      ]
     },
     "execution_count": 25,
     "metadata": {},
     "output_type": "execute_result"
    }
   ],
   "source": [
    "'''\n",
    "Sample Input\n",
    "6\n",
    "2\n",
    "\n",
    "Sample Output\n",
    "1\n",
    "'''"
   ]
  },
  {
   "cell_type": "code",
   "execution_count": 26,
   "metadata": {},
   "outputs": [
    {
     "data": {
      "text/plain": [
       "1"
      ]
     },
     "execution_count": 26,
     "metadata": {},
     "output_type": "execute_result"
    }
   ],
   "source": [
    "pageCount(n1, p1)"
   ]
  },
  {
   "cell_type": "code",
   "execution_count": 27,
   "metadata": {},
   "outputs": [
    {
     "data": {
      "text/plain": [
       "'\\nSample Input\\n5\\n4\\n\\nSample Output\\n0\\n'"
      ]
     },
     "execution_count": 27,
     "metadata": {},
     "output_type": "execute_result"
    }
   ],
   "source": [
    "'''\n",
    "Sample Input\n",
    "5\n",
    "4\n",
    "\n",
    "Sample Output\n",
    "0\n",
    "'''"
   ]
  },
  {
   "cell_type": "code",
   "execution_count": 28,
   "metadata": {},
   "outputs": [
    {
     "data": {
      "text/plain": [
       "0"
      ]
     },
     "execution_count": 28,
     "metadata": {},
     "output_type": "execute_result"
    }
   ],
   "source": [
    "pageCount(n2, p2)"
   ]
  },
  {
   "cell_type": "code",
   "execution_count": null,
   "metadata": {},
   "outputs": [
    {
     "data": {
      "text/plain": [
       "'\\nPassed all test cases\\n'"
      ]
     },
     "execution_count": 46,
     "metadata": {},
     "output_type": "execute_result"
    }
   ],
   "source": [
    "'''\n",
    "Passed all test cases\n",
    "'''"
   ]
  }
 ],
 "metadata": {
  "interpreter": {
   "hash": "bc3210eb0411503d9a54e82308439f2538c49d86b5a7c00e1ae895fbe28c5986"
  },
  "kernelspec": {
   "display_name": "Python 3.8.12 ('PythonData')",
   "language": "python",
   "name": "python3"
  },
  "language_info": {
   "codemirror_mode": {
    "name": "ipython",
    "version": 3
   },
   "file_extension": ".py",
   "mimetype": "text/x-python",
   "name": "python",
   "nbconvert_exporter": "python",
   "pygments_lexer": "ipython3",
   "version": "3.8.12"
  },
  "orig_nbformat": 4
 },
 "nbformat": 4,
 "nbformat_minor": 2
}
