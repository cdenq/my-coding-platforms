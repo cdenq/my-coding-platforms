{
 "cells": [
  {
   "cell_type": "markdown",
   "metadata": {},
   "source": [
    "# Between Two Sets"
   ]
  },
  {
   "cell_type": "markdown",
   "metadata": {},
   "source": [
    "## Problem Statement"
   ]
  },
  {
   "cell_type": "code",
   "execution_count": 11,
   "metadata": {},
   "outputs": [
    {
     "data": {
      "text/plain": [
       "'\\nThere will be two arrays of integers. Determine all integers that satisfy the following two conditions:\\nThe elements of the first array are all factors of the integer being considered\\nThe integer being considered is a factor of all elements of the second array\\n\\nThese numbers are referred to as being between the two arrays. Determine how many such numbers exist.\\n\\nExample\\na = [2,6]\\nb = [24,36]\\n\\nThere are two numbers between the arrays: 6 and 12.\\n6%2 = 0, 6%6 =0, 24%6 = 0 and 36%6 = 0 for the first value.\\n12%2, 12%6 and 24%12, 36%12 for the second value. Return 2.\\n\\nFunction Description\\nComplete the getTotalX function in the editor below. It should return the number of integers that are betwen the sets.\\n\\ngetTotalX has the following parameter(s):\\n\\nint a[n]: an array of integers\\nint b[m]: an array of integers\\n\\nReturns\\nint: the number of integers that are between the sets\\n\\nInput Format\\nThe first line contains two space-separated integers, n and m, the number of elements in arrays a and b.\\nThe second line contains n distinct space-separated integers a[i] where 0<=i<n.\\nThe third line contains m distinct space-separated integers b[j] where 0<=j<m.\\n\\nConstraints\\n1 <= n,m <= 10\\n1 <= a[i] <= 100\\n1 <= b[j] <= 100\\n'"
      ]
     },
     "execution_count": 11,
     "metadata": {},
     "output_type": "execute_result"
    }
   ],
   "source": [
    "'''\n",
    "There will be two arrays of integers. Determine all integers that satisfy the following two conditions:\n",
    "The elements of the first array are all factors of the integer being considered\n",
    "The integer being considered is a factor of all elements of the second array\n",
    "\n",
    "These numbers are referred to as being between the two arrays. Determine how many such numbers exist.\n",
    "\n",
    "Example\n",
    "a = [2,6]\n",
    "b = [24,36]\n",
    "\n",
    "There are two numbers between the arrays: 6 and 12.\n",
    "6%2 = 0, 6%6 =0, 24%6 = 0 and 36%6 = 0 for the first value.\n",
    "12%2, 12%6 and 24%12, 36%12 for the second value. Return 2.\n",
    "\n",
    "Function Description\n",
    "Complete the getTotalX function in the editor below. It should return the number of integers that are betwen the sets.\n",
    "\n",
    "getTotalX has the following parameter(s):\n",
    "\n",
    "int a[n]: an array of integers\n",
    "int b[m]: an array of integers\n",
    "\n",
    "Returns\n",
    "int: the number of integers that are between the sets\n",
    "\n",
    "Input Format\n",
    "The first line contains two space-separated integers, n and m, the number of elements in arrays a and b.\n",
    "The second line contains n distinct space-separated integers a[i] where 0<=i<n.\n",
    "The third line contains m distinct space-separated integers b[j] where 0<=j<m.\n",
    "\n",
    "Constraints\n",
    "1 <= n,m <= 10\n",
    "1 <= a[i] <= 100\n",
    "1 <= b[j] <= 100\n",
    "'''"
   ]
  },
  {
   "cell_type": "markdown",
   "metadata": {},
   "source": [
    "## Given Test Cases"
   ]
  },
  {
   "cell_type": "code",
   "execution_count": 12,
   "metadata": {},
   "outputs": [
    {
     "data": {
      "text/plain": [
       "'\\nSample Input\\n2 3\\n2 4\\n16 32 96\\n\\nSample Output\\n3\\n'"
      ]
     },
     "execution_count": 12,
     "metadata": {},
     "output_type": "execute_result"
    }
   ],
   "source": [
    "'''\n",
    "Sample Input\n",
    "2 3\n",
    "2 4\n",
    "16 32 96\n",
    "\n",
    "Sample Output\n",
    "3\n",
    "'''"
   ]
  },
  {
   "cell_type": "markdown",
   "metadata": {},
   "source": [
    "### Data Setup"
   ]
  },
  {
   "cell_type": "code",
   "execution_count": 13,
   "metadata": {},
   "outputs": [],
   "source": [
    "a = [2,4]\n",
    "b = [16,32,96]"
   ]
  },
  {
   "cell_type": "markdown",
   "metadata": {},
   "source": [
    "## Strategy and Solution"
   ]
  },
  {
   "cell_type": "markdown",
   "metadata": {},
   "source": [
    "### Brute Force O(n*m) = O(n^2) if n and m are similarly sized"
   ]
  },
  {
   "cell_type": "code",
   "execution_count": 14,
   "metadata": {},
   "outputs": [
    {
     "data": {
      "text/plain": [
       "'\\n\\n'"
      ]
     },
     "execution_count": 14,
     "metadata": {},
     "output_type": "execute_result"
    }
   ],
   "source": [
    "'''\n",
    "run through every possible multiple from a and then check to see if that mutliple is also a factor of every element in b\n",
    "\n",
    "optimal runtime for determining every possible multiple <= to the min(b) would be O(logn) per element, or nlogn.\n",
    "optimal runtime for determining every possible factor would be O(sqrt(i)), where i is the integer, (aka is O(1)) per element. thus, the total runtime would just be O(m).\n",
    "\n",
    "then, we would do a double forloop to check if every value in multiples list is in the factors list, which would be some combination of O((n-a)*(m-b)), where a and b are just\n",
    "some integer reductions from n and m.\n",
    "\n",
    "this is effectively in quadratic time.\n",
    "'''"
   ]
  },
  {
   "cell_type": "markdown",
   "metadata": {},
   "source": [
    "### Optimized"
   ]
  },
  {
   "cell_type": "code",
   "execution_count": 15,
   "metadata": {},
   "outputs": [
    {
     "data": {
      "text/plain": [
       "'\\n1) Find LCM of the first array\\n2) Find GCD of the second array\\n3) Find multiples of LCM\\n'"
      ]
     },
     "execution_count": 15,
     "metadata": {},
     "output_type": "execute_result"
    }
   ],
   "source": [
    "'''\n",
    "1) Find LCM of the first array\n",
    "2) Find GCD of the second array\n",
    "3) Find multiples of LCM\n",
    "'''"
   ]
  },
  {
   "cell_type": "code",
   "execution_count": 16,
   "metadata": {},
   "outputs": [],
   "source": [
    "def getGCD2(a,b):\n",
    "    if (b == 0):\n",
    "        return a\n",
    "    else:\n",
    "        return getGCD2(b, a % b)\n",
    "    \n",
    "def getGCD(arr):\n",
    "    output = getGCD2(arr[0], arr[1])\n",
    "    for i in range(2, len(arr)):\n",
    "        output = getGCD2(output, arr[i])\n",
    "    return output\n",
    "\n",
    "def getLCM2(a,b):\n",
    "    return int((a * b) / getGCD2(a, b))\n",
    "\n",
    "def getLCM(arr):\n",
    "    output = getLCM2(arr[0], arr[1])\n",
    "    for i in range(2, len(arr)):\n",
    "        output = getLCM2(output, arr[i])\n",
    "    return output"
   ]
  },
  {
   "cell_type": "code",
   "execution_count": 17,
   "metadata": {},
   "outputs": [],
   "source": [
    "def getTotalX(a, b):\n",
    "    # get LCM of a\n",
    "    if len(a) == 1:\n",
    "        lcm_a = a[0]\n",
    "    elif len(a) == 2:\n",
    "        lcm_a = getLCM2(a[0], a[1])\n",
    "    else:\n",
    "        lcm_a = getLCM(a)\n",
    "\n",
    "    # get GCD of b\n",
    "    if len(b) == 1:\n",
    "        gcd_b = b[0]\n",
    "    elif len(b) == 2:\n",
    "        gcd_b = getGCD2(b[0], b[1])\n",
    "    else:\n",
    "        gcd_b = getGCD(b)\n",
    "    \n",
    "    # find common factors\n",
    "    output_ct, check_multiple = 0, 0\n",
    "    while (check_multiple <= gcd_b):\n",
    "        check_multiple += lcm_a\n",
    "        if (gcd_b % check_multiple == 0):\n",
    "            output_ct += 1\n",
    "    return output_ct"
   ]
  },
  {
   "cell_type": "markdown",
   "metadata": {},
   "source": [
    "# Testing"
   ]
  },
  {
   "cell_type": "code",
   "execution_count": 18,
   "metadata": {},
   "outputs": [
    {
     "data": {
      "text/plain": [
       "'\\nSample Input\\n2 3\\n2 4\\n16 32 96\\n\\nSample Output\\n3\\n'"
      ]
     },
     "execution_count": 18,
     "metadata": {},
     "output_type": "execute_result"
    }
   ],
   "source": [
    "'''\n",
    "Sample Input\n",
    "2 3\n",
    "2 4\n",
    "16 32 96\n",
    "\n",
    "Sample Output\n",
    "3\n",
    "'''"
   ]
  },
  {
   "cell_type": "code",
   "execution_count": 19,
   "metadata": {},
   "outputs": [
    {
     "data": {
      "text/plain": [
       "3"
      ]
     },
     "execution_count": 19,
     "metadata": {},
     "output_type": "execute_result"
    }
   ],
   "source": [
    "getTotalX(a,b)"
   ]
  },
  {
   "cell_type": "code",
   "execution_count": 20,
   "metadata": {},
   "outputs": [
    {
     "data": {
      "text/plain": [
       "'\\nSample Input\\n2 2\\n3 4\\n24 48\\n\\nSample Output\\n2\\n'"
      ]
     },
     "execution_count": 20,
     "metadata": {},
     "output_type": "execute_result"
    }
   ],
   "source": [
    "'''\n",
    "Sample Input\n",
    "2 2\n",
    "3 4\n",
    "24 48\n",
    "\n",
    "Sample Output\n",
    "2\n",
    "'''"
   ]
  },
  {
   "cell_type": "code",
   "execution_count": 21,
   "metadata": {},
   "outputs": [
    {
     "data": {
      "text/plain": [
       "2"
      ]
     },
     "execution_count": 21,
     "metadata": {},
     "output_type": "execute_result"
    }
   ],
   "source": [
    "c = [3,4]\n",
    "d = [24,48]\n",
    "getTotalX(c,d)"
   ]
  },
  {
   "cell_type": "code",
   "execution_count": 22,
   "metadata": {},
   "outputs": [
    {
     "data": {
      "text/plain": [
       "'\\nPassed all test cases\\n'"
      ]
     },
     "execution_count": 22,
     "metadata": {},
     "output_type": "execute_result"
    }
   ],
   "source": [
    "'''\n",
    "Passed all test cases\n",
    "'''"
   ]
  }
 ],
 "metadata": {
  "interpreter": {
   "hash": "bc3210eb0411503d9a54e82308439f2538c49d86b5a7c00e1ae895fbe28c5986"
  },
  "kernelspec": {
   "display_name": "Python 3.8.12 ('PythonData')",
   "language": "python",
   "name": "python3"
  },
  "language_info": {
   "codemirror_mode": {
    "name": "ipython",
    "version": 3
   },
   "file_extension": ".py",
   "mimetype": "text/x-python",
   "name": "python",
   "nbconvert_exporter": "python",
   "pygments_lexer": "ipython3",
   "version": "3.8.12"
  },
  "orig_nbformat": 4
 },
 "nbformat": 4,
 "nbformat_minor": 2
}
