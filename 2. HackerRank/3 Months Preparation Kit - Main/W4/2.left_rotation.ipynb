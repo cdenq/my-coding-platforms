{
 "cells": [
  {
   "cell_type": "markdown",
   "metadata": {},
   "source": [
    "# Left Rotation"
   ]
  },
  {
   "cell_type": "markdown",
   "metadata": {},
   "source": [
    "## Problem Statement"
   ]
  },
  {
   "cell_type": "code",
   "execution_count": 37,
   "metadata": {},
   "outputs": [
    {
     "data": {
      "text/plain": [
       "\"\\nA left rotation operation on an array of size nn shifts each of the array's elements 1 unit to the left.\\nGiven an integer, d, rotate the array that many steps left and return the result.\\n\\nExample\\nd = 2\\narr = [1,2,3,4,5]\\n\\nAfter 2 rotations, arr' = [3,4,5,1,2].\\n\\nFunction Description\\nComplete the rotateLeft function in the editor below.\\n\\nrotateLeft has the following parameters:\\nint d: the amount to rotate by\\nint arr[n]: the array to rotate\\n\\nReturns\\nint[n]: the rotated array\\n\\nInput Format\\nThe first line contains two space-separated integers that denote n, the number of integers, and d, the number of left rotations to perform.\\nThe second line contains n space-separated integers that describe arr[].\\n\\nConstraints\\n1 <= n <= 10^5\\n1 <= d <= n\\n1 <= a[i] <= 10^6\\n\""
      ]
     },
     "execution_count": 37,
     "metadata": {},
     "output_type": "execute_result"
    }
   ],
   "source": [
    "'''\n",
    "A left rotation operation on an array of size nn shifts each of the array's elements 1 unit to the left.\n",
    "Given an integer, d, rotate the array that many steps left and return the result.\n",
    "\n",
    "Example\n",
    "d = 2\n",
    "arr = [1,2,3,4,5]\n",
    "\n",
    "After 2 rotations, arr' = [3,4,5,1,2].\n",
    "\n",
    "Function Description\n",
    "Complete the rotateLeft function in the editor below.\n",
    "\n",
    "rotateLeft has the following parameters:\n",
    "int d: the amount to rotate by\n",
    "int arr[n]: the array to rotate\n",
    "\n",
    "Returns\n",
    "int[n]: the rotated array\n",
    "\n",
    "Input Format\n",
    "The first line contains two space-separated integers that denote n, the number of integers, and d, the number of left rotations to perform.\n",
    "The second line contains n space-separated integers that describe arr[].\n",
    "\n",
    "Constraints\n",
    "1 <= n <= 10^5\n",
    "1 <= d <= n\n",
    "1 <= a[i] <= 10^6\n",
    "'''"
   ]
  },
  {
   "cell_type": "markdown",
   "metadata": {},
   "source": [
    "## Given Test Cases"
   ]
  },
  {
   "cell_type": "code",
   "execution_count": 38,
   "metadata": {},
   "outputs": [
    {
     "data": {
      "text/plain": [
       "'\\nSample Input\\n5 4\\n1 2 3 4 5\\n\\nSample Output\\n5 1 2 3 4\\n'"
      ]
     },
     "execution_count": 38,
     "metadata": {},
     "output_type": "execute_result"
    }
   ],
   "source": [
    "'''\n",
    "Sample Input\n",
    "5 4\n",
    "1 2 3 4 5\n",
    "\n",
    "Sample Output\n",
    "5 1 2 3 4\n",
    "'''"
   ]
  },
  {
   "cell_type": "markdown",
   "metadata": {},
   "source": [
    "### Data Setup"
   ]
  },
  {
   "cell_type": "code",
   "execution_count": 39,
   "metadata": {},
   "outputs": [],
   "source": [
    "arr = [1,2,3,4,5]\n",
    "d = 4"
   ]
  },
  {
   "cell_type": "markdown",
   "metadata": {},
   "source": [
    "## Strategy and Solution"
   ]
  },
  {
   "cell_type": "markdown",
   "metadata": {},
   "source": [
    "### Brute Force O(n)"
   ]
  },
  {
   "cell_type": "code",
   "execution_count": 40,
   "metadata": {},
   "outputs": [
    {
     "data": {
      "text/plain": [
       "\"\\nwe can create a new list of the same length and then populate that list according to the rotation.\\n\\nobserve that when rotating, we can deterministically predict where the ith index will be located via (i-d)%len(arr)\\narr = [i, i+1, i+2, i+3, i+4], d=2\\narr' = [i+2, i+3, i+4, i, i+1]\\n\\ni = 0\\n(0-2)%5 = 2, which is where i ended up.\\n\""
      ]
     },
     "execution_count": 40,
     "metadata": {},
     "output_type": "execute_result"
    }
   ],
   "source": [
    "'''\n",
    "we can create a new list of the same length and then populate that list according to the rotation.\n",
    "\n",
    "observe that when rotating, we can deterministically predict where the ith index will be located via (i-d)%len(arr)\n",
    "arr = [i, i+1, i+2, i+3, i+4], d=2\n",
    "arr' = [i+2, i+3, i+4, i, i+1]\n",
    "\n",
    "i = 0\n",
    "(0-2)%5 = 2, which is where i ended up.\n",
    "'''"
   ]
  },
  {
   "cell_type": "code",
   "execution_count": 41,
   "metadata": {},
   "outputs": [],
   "source": [
    "def rotateLeft(d, arr):\n",
    "    output_arr = [0 for _ in range(len(arr))] #fill output arr w same number of items\n",
    "    for i in range(len(arr)):\n",
    "        output_arr[(i-d)%len(arr)] = arr[i]\n",
    "    return output_arr"
   ]
  },
  {
   "cell_type": "code",
   "execution_count": 42,
   "metadata": {},
   "outputs": [
    {
     "data": {
      "text/plain": [
       "'\\nluckily, python has array splitting, so we can actually take the above and write it more succintly\\n'"
      ]
     },
     "execution_count": 42,
     "metadata": {},
     "output_type": "execute_result"
    }
   ],
   "source": [
    "'''\n",
    "luckily, python has array splitting, so we can actually take the above and write it more succintly\n",
    "'''"
   ]
  },
  {
   "cell_type": "code",
   "execution_count": 43,
   "metadata": {},
   "outputs": [],
   "source": [
    "# cleaner code\n",
    "def clean_rotateLeft(d, arr):\n",
    "    return arr[d:]+arr[:d]"
   ]
  },
  {
   "cell_type": "markdown",
   "metadata": {},
   "source": [
    "## Testing"
   ]
  },
  {
   "cell_type": "code",
   "execution_count": 44,
   "metadata": {},
   "outputs": [
    {
     "data": {
      "text/plain": [
       "'\\nSample Input\\n5 4\\n1 2 3 4 5\\n\\nSample Output\\n5 1 2 3 4\\n'"
      ]
     },
     "execution_count": 44,
     "metadata": {},
     "output_type": "execute_result"
    }
   ],
   "source": [
    "'''\n",
    "Sample Input\n",
    "5 4\n",
    "1 2 3 4 5\n",
    "\n",
    "Sample Output\n",
    "5 1 2 3 4\n",
    "'''"
   ]
  },
  {
   "cell_type": "code",
   "execution_count": 45,
   "metadata": {},
   "outputs": [
    {
     "data": {
      "text/plain": [
       "[5, 1, 2, 3, 4]"
      ]
     },
     "execution_count": 45,
     "metadata": {},
     "output_type": "execute_result"
    }
   ],
   "source": [
    "arr = [1,2,3,4,5]\n",
    "d = 4\n",
    "clean_rotateLeft(d, arr)"
   ]
  },
  {
   "cell_type": "code",
   "execution_count": null,
   "metadata": {},
   "outputs": [
    {
     "data": {
      "text/plain": [
       "'\\nPassed all test cases\\n'"
      ]
     },
     "execution_count": 99,
     "metadata": {},
     "output_type": "execute_result"
    }
   ],
   "source": [
    "'''\n",
    "Passed all test cases\n",
    "'''"
   ]
  }
 ],
 "metadata": {
  "interpreter": {
   "hash": "bc3210eb0411503d9a54e82308439f2538c49d86b5a7c00e1ae895fbe28c5986"
  },
  "kernelspec": {
   "display_name": "Python 3.8.12 ('PythonData')",
   "language": "python",
   "name": "python3"
  },
  "language_info": {
   "codemirror_mode": {
    "name": "ipython",
    "version": 3
   },
   "file_extension": ".py",
   "mimetype": "text/x-python",
   "name": "python",
   "nbconvert_exporter": "python",
   "pygments_lexer": "ipython3",
   "version": "3.8.12"
  },
  "orig_nbformat": 4
 },
 "nbformat": 4,
 "nbformat_minor": 2
}
