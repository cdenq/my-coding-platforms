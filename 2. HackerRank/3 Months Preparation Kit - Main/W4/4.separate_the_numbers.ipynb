{
 "cells": [
  {
   "cell_type": "markdown",
   "metadata": {},
   "source": [
    "# Separate the Numbers"
   ]
  },
  {
   "cell_type": "markdown",
   "metadata": {},
   "source": [
    "## Problem Statement"
   ]
  },
  {
   "cell_type": "code",
   "execution_count": 3,
   "metadata": {},
   "outputs": [
    {
     "data": {
      "text/plain": [
       "'\\nA numeric string, s, is beautiful if it can be split into a sequence of two or more positive integers, a[1], a[2]... a[n] satisfying the following conditions:\\n\\n1. a[1] - a[i-1] = 1 for any 1 < i <= n (i.e., each element in the sequence is  more than the previous element).\\n2. No a[i] contains a leading zero. For example, we can split s = 10203 into the sequence {1,02,03}, but it is not beautiful because of leading zeroes.\\n3. The contents of the sequence cannot be rearranged. For example, we can split {312} into the sequence {3,1,2}, but it is not beautiful because it breaks our\\nfirst constraint (i.e., 1-3 != 1).\\n\\nPerform q queries where each query consists of some integer string s. For each query, print whether or not the string is beautiful on a new line.\\nIf it is beautiful, print YES x, where x is the first number of the increasing sequence. If there are multiple such values of x, choose the smallest.\\nOtherwise, print NO.\\n\\nFunction Description\\n\\nComplete the separateNumbers function in the editor below.\\n\\nseparateNumbers has the following parameter:\\ns: an integer value represented as a string\\n\\nPrints\\n- string: Print a string as described above. Return nothing.\\n\\nInput Format\\nThe first line contains an integer q, the number of strings to evaluate.\\nEach of the next q lines contains an integer string s to query.\\n\\nConstraints\\n1 <= q <=10\\n1 <= |s| <= 32\\ns[i] E [0-9]\\n'"
      ]
     },
     "execution_count": 3,
     "metadata": {},
     "output_type": "execute_result"
    }
   ],
   "source": [
    "'''\n",
    "A numeric string, s, is beautiful if it can be split into a sequence of two or more positive integers, a[1], a[2]... a[n] satisfying the following conditions:\n",
    "\n",
    "1. a[1] - a[i-1] = 1 for any 1 < i <= n (i.e., each element in the sequence is  more than the previous element).\n",
    "2. No a[i] contains a leading zero. For example, we can split s = 10203 into the sequence {1,02,03}, but it is not beautiful because of leading zeroes.\n",
    "3. The contents of the sequence cannot be rearranged. For example, we can split {312} into the sequence {3,1,2}, but it is not beautiful because it breaks our\n",
    "first constraint (i.e., 1-3 != 1).\n",
    "\n",
    "Perform q queries where each query consists of some integer string s. For each query, print whether or not the string is beautiful on a new line.\n",
    "If it is beautiful, print YES x, where x is the first number of the increasing sequence. If there are multiple such values of x, choose the smallest.\n",
    "Otherwise, print NO.\n",
    "\n",
    "Function Description\n",
    "\n",
    "Complete the separateNumbers function in the editor below.\n",
    "\n",
    "separateNumbers has the following parameter:\n",
    "s: an integer value represented as a string\n",
    "\n",
    "Prints\n",
    "- string: Print a string as described above. Return nothing.\n",
    "\n",
    "Input Format\n",
    "The first line contains an integer q, the number of strings to evaluate.\n",
    "Each of the next q lines contains an integer string s to query.\n",
    "\n",
    "Constraints\n",
    "1 <= q <=10\n",
    "1 <= |s| <= 32\n",
    "s[i] E [0-9]\n",
    "'''"
   ]
  },
  {
   "cell_type": "markdown",
   "metadata": {},
   "source": [
    "## Given Test Cases"
   ]
  },
  {
   "cell_type": "code",
   "execution_count": 4,
   "metadata": {},
   "outputs": [
    {
     "data": {
      "text/plain": [
       "'\\nN/A\\n'"
      ]
     },
     "execution_count": 4,
     "metadata": {},
     "output_type": "execute_result"
    }
   ],
   "source": [
    "'''\n",
    "N/A\n",
    "'''"
   ]
  },
  {
   "cell_type": "markdown",
   "metadata": {},
   "source": [
    "### Data Setup"
   ]
  },
  {
   "cell_type": "code",
   "execution_count": 5,
   "metadata": {},
   "outputs": [],
   "source": [
    "#NA"
   ]
  },
  {
   "cell_type": "markdown",
   "metadata": {},
   "source": [
    "## Strategy and Solution"
   ]
  },
  {
   "cell_type": "markdown",
   "metadata": {},
   "source": [
    "### Brute Force"
   ]
  },
  {
   "cell_type": "code",
   "execution_count": 6,
   "metadata": {},
   "outputs": [
    {
     "data": {
      "text/plain": [
       "'\\nwe can iterate through the string to check if the next substring is exactly 1 higher than the previous substring.\\n\\nif not, we \"expand\" the substring to be 2 chrs long, reset back to the start, and then check if the substring is exactly 1 higher\\n\\nobserve that in the cases where every chr in the substring is 9, we actually need to check the next i+1-digit substring.\\neg. if current chr is 99, instead of checkign the next 2 digit, we need to check the next 3 digit substring for 100.\\nwe can handle this with an exception\\n\\nalso observe from the problem statement that the require for a valid string is that it must have more than 1 number, and thus, any string that is either 0 or 1 chr long\\nis an instant NO.\\n\\nrepeat until we get to the end of the list\\n'"
      ]
     },
     "execution_count": 6,
     "metadata": {},
     "output_type": "execute_result"
    }
   ],
   "source": [
    "'''\n",
    "we can iterate through the string to check if the next substring is exactly 1 higher than the previous substring.\n",
    "\n",
    "if not, we \"expand\" the substring to be 2 chrs long, reset back to the start, and then check if the substring is exactly 1 higher\n",
    "\n",
    "observe that in the cases where every chr in the substring is 9, we actually need to check the next i+1-digit substring.\n",
    "eg. if current chr is 99, instead of checkign the next 2 digit, we need to check the next 3 digit substring for 100.\n",
    "we can handle this with an exception\n",
    "\n",
    "also observe from the problem statement that the require for a valid string is that it must have more than 1 number, and thus, any string that is either 0 or 1 chr long\n",
    "is an instant NO.\n",
    "\n",
    "repeat until we get to the end of the list\n",
    "'''"
   ]
  },
  {
   "cell_type": "markdown",
   "metadata": {},
   "source": [
    "### Slightly Optimized"
   ]
  },
  {
   "cell_type": "code",
   "execution_count": 7,
   "metadata": {},
   "outputs": [
    {
     "data": {
      "text/plain": [
       "'\\nobserve when we check the substrings, we only need to check up to the middle of the string.\\nfor eg. 9991001\\n\\n9 -> 10 (get 99) doesnt work\\n99 -> 100 (but get 910) doesnt work\\n999 -> 1000 (but get 1001) doesnt work.\\n\\nnotice how if we were to check\\n9999 -> 10000, the subsequent substring (in order to be valid) needs to be at least AS LONG AS our initial checking substring.\\nso 9999 is 4 digits, we would need at least a 8 digit string.\\n\\nthus, we know that checking anything past the middle of the string (len(str)//2) would result in automatic fails, because that initial substring would require a subsequent\\nsubstring that would longer than the original string.\\n\\nwe can code this in as an exception too\\n'"
      ]
     },
     "execution_count": 7,
     "metadata": {},
     "output_type": "execute_result"
    }
   ],
   "source": [
    "'''\n",
    "observe when we check the substrings, we only need to check up to the middle of the string.\n",
    "for eg. 9991001\n",
    "\n",
    "9 -> 10 (get 99) doesnt work\n",
    "99 -> 100 (but get 910) doesnt work\n",
    "999 -> 1000 (but get 1001) doesnt work.\n",
    "\n",
    "notice how if we were to check\n",
    "9999 -> 10000, the subsequent substring (in order to be valid) needs to be at least AS LONG AS our initial checking substring.\n",
    "so 9999 is 4 digits, we would need at least a 8 digit string.\n",
    "\n",
    "thus, we know that checking anything past the middle of the string (len(str)//2) would result in automatic fails, because that initial substring would require a subsequent\n",
    "substring that would longer than the original string.\n",
    "\n",
    "we can code this in as an exception too\n",
    "'''"
   ]
  },
  {
   "cell_type": "code",
   "execution_count": 8,
   "metadata": {},
   "outputs": [],
   "source": [
    "def check(substring, string):\n",
    "    if string == \"\":\n",
    "        return True\n",
    "    elif string.startswith(substring):\n",
    "        length = len(substring)\n",
    "        return check(str(int(substring)+1), string[length:])\n",
    "    else:\n",
    "        return False\n",
    "\n",
    "def separateNumbers(s):\n",
    "    index = 0\n",
    "    for _ in range(len(s)//2):\n",
    "        index += 1\n",
    "        if check(s[0:index], s) == True:\n",
    "            return print(f\"YES {s[0:index]}\")\n",
    "    return print('NO')"
   ]
  },
  {
   "cell_type": "markdown",
   "metadata": {},
   "source": [
    "## Testing"
   ]
  },
  {
   "cell_type": "code",
   "execution_count": 9,
   "metadata": {},
   "outputs": [
    {
     "data": {
      "text/plain": [
       "'\\nSample Input\\n7\\n1234\\n91011\\n99100\\n101103\\n010203\\n13\\n1\\n\\nSample Output\\nYES 1\\nYES 9\\nYES 99\\nNO\\nNO\\nNO\\nNO\\n'"
      ]
     },
     "execution_count": 9,
     "metadata": {},
     "output_type": "execute_result"
    }
   ],
   "source": [
    "'''\n",
    "Sample Input\n",
    "7\n",
    "1234\n",
    "91011\n",
    "99100\n",
    "101103\n",
    "010203\n",
    "13\n",
    "1\n",
    "\n",
    "Sample Output\n",
    "YES 1\n",
    "YES 9\n",
    "YES 99\n",
    "NO\n",
    "NO\n",
    "NO\n",
    "NO\n",
    "'''"
   ]
  },
  {
   "cell_type": "code",
   "execution_count": 10,
   "metadata": {},
   "outputs": [
    {
     "name": "stdout",
     "output_type": "stream",
     "text": [
      "NO\n"
     ]
    }
   ],
   "source": [
    "s = \"010203\"\n",
    "separateNumbers(s)"
   ]
  },
  {
   "cell_type": "code",
   "execution_count": null,
   "metadata": {},
   "outputs": [
    {
     "data": {
      "text/plain": [
       "'\\nPassed all test cases\\n'"
      ]
     },
     "execution_count": 23,
     "metadata": {},
     "output_type": "execute_result"
    }
   ],
   "source": [
    "'''\n",
    "Passed all test cases\n",
    "'''"
   ]
  }
 ],
 "metadata": {
  "interpreter": {
   "hash": "bc3210eb0411503d9a54e82308439f2538c49d86b5a7c00e1ae895fbe28c5986"
  },
  "kernelspec": {
   "display_name": "Python 3.8.12 ('PythonData')",
   "language": "python",
   "name": "python3"
  },
  "language_info": {
   "codemirror_mode": {
    "name": "ipython",
    "version": 3
   },
   "file_extension": ".py",
   "mimetype": "text/x-python",
   "name": "python",
   "nbconvert_exporter": "python",
   "pygments_lexer": "ipython3",
   "version": "3.8.12"
  },
  "orig_nbformat": 4
 },
 "nbformat": 4,
 "nbformat_minor": 2
}
