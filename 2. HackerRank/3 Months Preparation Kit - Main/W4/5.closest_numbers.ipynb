{
 "cells": [
  {
   "cell_type": "markdown",
   "metadata": {},
   "source": [
    "# Closest Numbers"
   ]
  },
  {
   "cell_type": "markdown",
   "metadata": {},
   "source": [
    "## Problem Statement"
   ]
  },
  {
   "cell_type": "code",
   "execution_count": 1,
   "metadata": {},
   "outputs": [
    {
     "data": {
      "text/plain": [
       "\"\\nSorting is useful as the first step in many different tasks. The most common task is to make finding things easier, but there are other uses as well.\\nIn this case, it will make it easier to determine which pair or pairs of elements have the smallest absolute difference between them.\\n\\nExample\\narr = [5,2,3,4,1]\\n\\nSorted arr' = [1,2,3,4,5]. Several pairs have the minimum difference of 1: [(1,2), (2,3), (3,4), (4,5)]. Return the array [1,2,2,3,3,4,4,5].\\n\\nNote\\nAs shown in the example, pairs may overlap.\\n\\nGiven a list of unsorted integers, arr, find the pair of elements that have the smallest absolute difference between them. If there are multiple pairs, find them all.\\n\\nFunction Description\\nComplete the closestNumbers function in the editor below.\\n\\nclosestNumbers has the following parameter(s):\\nint arr[n]: an array of integers\\n\\nReturns\\n- int[]: an array of integers as described\\n\\nInput Format\\nThe first line contains a single integer n, the length of arr.\\nThe second line contains n space-separated integers, arr[i].\\n\\nConstraints\\n2 <= n <= 200000\\n-10^7 <= arr[i] <= 10^7\\nAll a[i] are unique in arr.\\n\""
      ]
     },
     "execution_count": 1,
     "metadata": {},
     "output_type": "execute_result"
    }
   ],
   "source": [
    "'''\n",
    "Sorting is useful as the first step in many different tasks. The most common task is to make finding things easier, but there are other uses as well.\n",
    "In this case, it will make it easier to determine which pair or pairs of elements have the smallest absolute difference between them.\n",
    "\n",
    "Example\n",
    "arr = [5,2,3,4,1]\n",
    "\n",
    "Sorted arr' = [1,2,3,4,5]. Several pairs have the minimum difference of 1: [(1,2), (2,3), (3,4), (4,5)]. Return the array [1,2,2,3,3,4,4,5].\n",
    "\n",
    "Note\n",
    "As shown in the example, pairs may overlap.\n",
    "\n",
    "Given a list of unsorted integers, arr, find the pair of elements that have the smallest absolute difference between them. If there are multiple pairs, find them all.\n",
    "\n",
    "Function Description\n",
    "Complete the closestNumbers function in the editor below.\n",
    "\n",
    "closestNumbers has the following parameter(s):\n",
    "int arr[n]: an array of integers\n",
    "\n",
    "Returns\n",
    "- int[]: an array of integers as described\n",
    "\n",
    "Input Format\n",
    "The first line contains a single integer n, the length of arr.\n",
    "The second line contains n space-separated integers, arr[i].\n",
    "\n",
    "Constraints\n",
    "2 <= n <= 200000\n",
    "-10^7 <= arr[i] <= 10^7\n",
    "All a[i] are unique in arr.\n",
    "'''"
   ]
  },
  {
   "cell_type": "markdown",
   "metadata": {},
   "source": [
    "## Given Test Cases"
   ]
  },
  {
   "cell_type": "code",
   "execution_count": 2,
   "metadata": {},
   "outputs": [
    {
     "data": {
      "text/plain": [
       "'\\nSample Input\\n10\\n-20 -3916237 -357920 -3620601 7374819 -7330761 30 6246457 -6461594 266854 \\n\\nSample Output\\n-20 30\\n'"
      ]
     },
     "execution_count": 2,
     "metadata": {},
     "output_type": "execute_result"
    }
   ],
   "source": [
    "'''\n",
    "Sample Input\n",
    "10\n",
    "-20 -3916237 -357920 -3620601 7374819 -7330761 30 6246457 -6461594 266854 \n",
    "\n",
    "Sample Output\n",
    "-20 30\n",
    "'''"
   ]
  },
  {
   "cell_type": "markdown",
   "metadata": {},
   "source": [
    "### Data Setup"
   ]
  },
  {
   "cell_type": "code",
   "execution_count": 3,
   "metadata": {},
   "outputs": [],
   "source": [
    "#NA"
   ]
  },
  {
   "cell_type": "markdown",
   "metadata": {},
   "source": [
    "## Strategy and Solution"
   ]
  },
  {
   "cell_type": "markdown",
   "metadata": {},
   "source": [
    "### Brute Force"
   ]
  },
  {
   "cell_type": "code",
   "execution_count": 4,
   "metadata": {},
   "outputs": [
    {
     "data": {
      "text/plain": [
       "\"\\nthe problem statement tells us what to do in the implementation, so we'll just do that\\n\\nafter the sorting, we know that every subsequent number will be the next highest number so that wil be the min difference.\\n\\nwe can just iterate through the sorted list and then track the ones that are the lowest difference.\\n\""
      ]
     },
     "execution_count": 4,
     "metadata": {},
     "output_type": "execute_result"
    }
   ],
   "source": [
    "'''\n",
    "the problem statement tells us what to do in the implementation, so we'll just do that\n",
    "\n",
    "after the sorting, we know that every subsequent number will be the next highest number so that wil be the min difference.\n",
    "\n",
    "we can just iterate through the sorted list and then track the ones that are the lowest difference.\n",
    "'''"
   ]
  },
  {
   "cell_type": "code",
   "execution_count": 5,
   "metadata": {},
   "outputs": [],
   "source": [
    "def closestNumbers(arr):\n",
    "    s_arr = sorted(arr)\n",
    "    temp_min = abs(s_arr[0] - s_arr[1])\n",
    "    temp_ls = [s_arr[0], s_arr[1]]\n",
    "\n",
    "    for i in range(2,len(s_arr)):\n",
    "        current_diff = abs(s_arr[i-1]- s_arr[i])\n",
    "        current_pair = [s_arr[i-1], s_arr[i]]\n",
    "\n",
    "        if temp_min == current_diff:\n",
    "            for element in current_pair:\n",
    "                temp_ls.append(element)\n",
    "        elif temp_min > current_diff:\n",
    "            temp_min = current_diff\n",
    "            temp_ls = [s_arr[i-1], s_arr[i]]\n",
    "\n",
    "    return temp_ls"
   ]
  },
  {
   "cell_type": "markdown",
   "metadata": {},
   "source": [
    "## Testing"
   ]
  },
  {
   "cell_type": "code",
   "execution_count": 6,
   "metadata": {},
   "outputs": [
    {
     "data": {
      "text/plain": [
       "'\\nSample Input\\n10\\n-20 -3916237 -357920 -3620601 7374819 -7330761 30 6246457 -6461594 266854\\n\\nSample Output\\n-20 30\\n'"
      ]
     },
     "execution_count": 6,
     "metadata": {},
     "output_type": "execute_result"
    }
   ],
   "source": [
    "'''\n",
    "Sample Input\n",
    "10\n",
    "-20 -3916237 -357920 -3620601 7374819 -7330761 30 6246457 -6461594 266854\n",
    "\n",
    "Sample Output\n",
    "-20 30\n",
    "'''"
   ]
  },
  {
   "cell_type": "code",
   "execution_count": 7,
   "metadata": {},
   "outputs": [
    {
     "data": {
      "text/plain": [
       "[-20, 30]"
      ]
     },
     "execution_count": 7,
     "metadata": {},
     "output_type": "execute_result"
    }
   ],
   "source": [
    "a = [-20,-3916237,-357920,-3620601,7374819,-7330761,30,6246457,-6461594,266854]\n",
    "closestNumbers(a)"
   ]
  },
  {
   "cell_type": "code",
   "execution_count": 8,
   "metadata": {},
   "outputs": [
    {
     "data": {
      "text/plain": [
       "'\\nSample Input\\n12\\n-20 -3916237 -357920 -3620601 7374819 -7330761 30 6246457 -6461594 266854 -520 -470\\n\\nSample Output\\n-520 -470 -20 30\\n'"
      ]
     },
     "execution_count": 8,
     "metadata": {},
     "output_type": "execute_result"
    }
   ],
   "source": [
    "'''\n",
    "Sample Input\n",
    "12\n",
    "-20 -3916237 -357920 -3620601 7374819 -7330761 30 6246457 -6461594 266854 -520 -470\n",
    "\n",
    "Sample Output\n",
    "-520 -470 -20 30\n",
    "'''"
   ]
  },
  {
   "cell_type": "code",
   "execution_count": 9,
   "metadata": {},
   "outputs": [
    {
     "data": {
      "text/plain": [
       "[-520, -470, -20, 30]"
      ]
     },
     "execution_count": 9,
     "metadata": {},
     "output_type": "execute_result"
    }
   ],
   "source": [
    "b = [-20,-3916237,-357920,-3620601,7374819,-7330761,30,6246457,-6461594,266854,-520,-470]\n",
    "closestNumbers(b)"
   ]
  },
  {
   "cell_type": "code",
   "execution_count": 10,
   "metadata": {},
   "outputs": [
    {
     "data": {
      "text/plain": [
       "'\\nSample Input\\n4\\n5 4 3 2\\n\\nSample Output\\n2 3 3 4 4 5\\n'"
      ]
     },
     "execution_count": 10,
     "metadata": {},
     "output_type": "execute_result"
    }
   ],
   "source": [
    "'''\n",
    "Sample Input\n",
    "4\n",
    "5 4 3 2\n",
    "\n",
    "Sample Output\n",
    "2 3 3 4 4 5\n",
    "'''"
   ]
  },
  {
   "cell_type": "code",
   "execution_count": 11,
   "metadata": {},
   "outputs": [
    {
     "data": {
      "text/plain": [
       "[2, 3, 3, 4, 4, 5]"
      ]
     },
     "execution_count": 11,
     "metadata": {},
     "output_type": "execute_result"
    }
   ],
   "source": [
    "c = [5,4,3,2]\n",
    "closestNumbers(c)"
   ]
  },
  {
   "cell_type": "code",
   "execution_count": 12,
   "metadata": {},
   "outputs": [
    {
     "data": {
      "text/plain": [
       "'\\nPassed all test cases\\n'"
      ]
     },
     "execution_count": 12,
     "metadata": {},
     "output_type": "execute_result"
    }
   ],
   "source": [
    "'''\n",
    "Passed all test cases\n",
    "'''"
   ]
  }
 ],
 "metadata": {
  "interpreter": {
   "hash": "bc3210eb0411503d9a54e82308439f2538c49d86b5a7c00e1ae895fbe28c5986"
  },
  "kernelspec": {
   "display_name": "Python 3.8.12 ('PythonData')",
   "language": "python",
   "name": "python3"
  },
  "language_info": {
   "codemirror_mode": {
    "name": "ipython",
    "version": 3
   },
   "file_extension": ".py",
   "mimetype": "text/x-python",
   "name": "python",
   "nbconvert_exporter": "python",
   "pygments_lexer": "ipython3",
   "version": "3.8.12"
  },
  "orig_nbformat": 4
 },
 "nbformat": 4,
 "nbformat_minor": 2
}
