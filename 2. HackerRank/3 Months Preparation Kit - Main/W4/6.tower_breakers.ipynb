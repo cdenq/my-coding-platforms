{
 "cells": [
  {
   "cell_type": "markdown",
   "metadata": {},
   "source": [
    "# Tower Breakers"
   ]
  },
  {
   "cell_type": "markdown",
   "metadata": {},
   "source": [
    "## Problem Statement"
   ]
  },
  {
   "cell_type": "code",
   "execution_count": 1,
   "metadata": {},
   "outputs": [
    {
     "data": {
      "text/plain": [
       "'\\nTwo players are playing a game of Tower Breakers! Player 1 always moves first, and both players always play optimally. The rules of the game are as follows:\\n\\nInitially there are n towers.\\nEach tower is of height m.\\nThe players move in alternating turns.\\nIn each turn, a player can choose a tower of height x and reduce its height to y, where 1 <= y < x and y evenly divides x.\\nIf the current player is unable to make a move, they lose the game.\\nGiven the values of n and m, determine which player will win. If the first player wins, return 1. Otherwise, return 2.\\n\\nExample. \\nThere are 2 towers, each 6 units tall. Player 1 has a choice of two moves:\\n- remove 3 pieces from a tower to leave 3 as 6%3==0 \\n- remove 5 pieces to leave 1 \\n\\nLet Player 1 remove 3. Now the towers are 3 and 6 units tall.\\n\\nPlayer 2 matches the move. Now the towers are both 3 units tall.\\n\\nNow Player 1 has only one move.\\n\\nPlayer 1 removes 2 pieces leaving 1. Towers are 1 and 2 units tall.\\nPlayer 2 matches again. Towers are both 1 unit tall.\\n\\nPlayer 1 has no move and loses. Return 2.\\n\\nFunction Description\\nComplete the towerBreakers function in the editor below.\\n\\ntowerBreakers has the following paramter(s):\\nint n: the number of towers\\nint m: the height of each tower\\n\\nReturns\\nint: the winner of the game\\n\\nInput Format\\nThe first line contains a single integer t, the number of test cases.\\nEach of the next t lines describes a test case in the form of 3 space-separated integers, n and m.\\n\\nConstraints\\n1 <= t < 100\\n1 <= n, m <= 10^6\\n'"
      ]
     },
     "execution_count": 1,
     "metadata": {},
     "output_type": "execute_result"
    }
   ],
   "source": [
    "'''\n",
    "Two players are playing a game of Tower Breakers! Player 1 always moves first, and both players always play optimally. The rules of the game are as follows:\n",
    "\n",
    "Initially there are n towers.\n",
    "Each tower is of height m.\n",
    "The players move in alternating turns.\n",
    "In each turn, a player can choose a tower of height x and reduce its height to y, where 1 <= y < x and y evenly divides x.\n",
    "If the current player is unable to make a move, they lose the game.\n",
    "Given the values of n and m, determine which player will win. If the first player wins, return 1. Otherwise, return 2.\n",
    "\n",
    "Example. \n",
    "There are 2 towers, each 6 units tall. Player 1 has a choice of two moves:\n",
    "- remove 3 pieces from a tower to leave 3 as 6%3==0 \n",
    "- remove 5 pieces to leave 1 \n",
    "\n",
    "Let Player 1 remove 3. Now the towers are 3 and 6 units tall.\n",
    "\n",
    "Player 2 matches the move. Now the towers are both 3 units tall.\n",
    "\n",
    "Now Player 1 has only one move.\n",
    "\n",
    "Player 1 removes 2 pieces leaving 1. Towers are 1 and 2 units tall.\n",
    "Player 2 matches again. Towers are both 1 unit tall.\n",
    "\n",
    "Player 1 has no move and loses. Return 2.\n",
    "\n",
    "Function Description\n",
    "Complete the towerBreakers function in the editor below.\n",
    "\n",
    "towerBreakers has the following paramter(s):\n",
    "int n: the number of towers\n",
    "int m: the height of each tower\n",
    "\n",
    "Returns\n",
    "int: the winner of the game\n",
    "\n",
    "Input Format\n",
    "The first line contains a single integer t, the number of test cases.\n",
    "Each of the next t lines describes a test case in the form of 3 space-separated integers, n and m.\n",
    "\n",
    "Constraints\n",
    "1 <= t < 100\n",
    "1 <= n, m <= 10^6\n",
    "'''"
   ]
  },
  {
   "cell_type": "markdown",
   "metadata": {},
   "source": [
    "## Given Test Cases"
   ]
  },
  {
   "cell_type": "code",
   "execution_count": 2,
   "metadata": {},
   "outputs": [
    {
     "data": {
      "text/plain": [
       "'\\nSample Input\\n1\\n2 6\\n\\nSample Output\\n2\\n'"
      ]
     },
     "execution_count": 2,
     "metadata": {},
     "output_type": "execute_result"
    }
   ],
   "source": [
    "'''\n",
    "Sample Input\n",
    "1\n",
    "2 6\n",
    "\n",
    "Sample Output\n",
    "2\n",
    "'''"
   ]
  },
  {
   "cell_type": "markdown",
   "metadata": {},
   "source": [
    "### Data Setup"
   ]
  },
  {
   "cell_type": "code",
   "execution_count": 3,
   "metadata": {},
   "outputs": [],
   "source": [
    "n, m = 2, 6"
   ]
  },
  {
   "cell_type": "markdown",
   "metadata": {},
   "source": [
    "## Strategy and Solution"
   ]
  },
  {
   "cell_type": "markdown",
   "metadata": {},
   "source": [
    "### Brute Force"
   ]
  },
  {
   "cell_type": "code",
   "execution_count": 4,
   "metadata": {},
   "outputs": [
    {
     "data": {
      "text/plain": [
       "'\\nwe could simulate the game in such a way where we play out every move.\\n\\nfor example, we would code the players and their act of removing pieces from the tower such that it evenly divides the towers, and then create a decision tree so that we capture\\nevery possible outcome.\\n\\nthe brute force method would then analyze all possible outcomes to find that \"optimal\" movemaking somehow, and then return the winner\\n'"
      ]
     },
     "execution_count": 4,
     "metadata": {},
     "output_type": "execute_result"
    }
   ],
   "source": [
    "'''\n",
    "we could simulate the game in such a way where we play out every move.\n",
    "\n",
    "for example, we would code the players and their act of removing pieces from the tower such that it evenly divides the towers, and then create a decision tree so that we capture\n",
    "every possible outcome.\n",
    "\n",
    "the brute force method would then analyze all possible outcomes to find that \"optimal\" movemaking somehow, and then return the winner\n",
    "'''"
   ]
  },
  {
   "cell_type": "markdown",
   "metadata": {},
   "source": [
    "### Optimal"
   ]
  },
  {
   "cell_type": "code",
   "execution_count": 5,
   "metadata": {},
   "outputs": [
    {
     "data": {
      "text/plain": [
       "'\\na faster (and much less complicated) strategy would be to model the optimal strategy from the get go. let\\'s model this from the perspective of P1\\n\\nlets start with the base case of 1 tower. P1\\'s optimal strategy is to always reduce the tower to height of 1, for which P2 cannot follow up with a move and loses. P1 wins.\\n    in the 1-tower case, the opening player always wins!\\n\\nnext, lets move to the case of 2 towers. since the game is about making a move that the opponent cannot follow, the onus is on P1 to make a \"unique\" move that is un-copyable.\\nobserve that in this 2 tower case, because all towers MUST be the of the same height, P2 can always copy the move that P1 makes. P1 will eventually reduce a tower to 1,\\nP2 copies and reduces the remaining tower to 1, and P1 has no more towers to reduce. thus, P1 loses.\\n    in the 2-tower case, the opening player always loses!\\n\\nnext, looking at the case of 3 towers. observe how if P1 were to reduce tower A to 1, leaving tower B and C intact, it would reduce the situation to the 2-tower case except\\nP2 is now the opening player in this 2-tower sequence. we know that from the 2-tower case above, the player who opens is always the player who loses, and thus, the optimal\\nstrategy is for P1 to reduce the case of 3 towers to 2 towers.\\n(explicity, P1 reduces tower A to 1. P2 makes some move on some tower B. P1 simply copies P2 moves, and just like the 2 tower case, P2 will eventually reduce some tower to 1,\\nP1 follows suit, and now P2 has no towers left. P1 wins)\\n    in the 3-tower case, the opening player always wins, because the opening player would reduce it to the 2-tower case and the opponent becomes the opening player!\\n\\nlet\\'s confirm the pattern. in a case of 4 towers, what does P1 want to win? well, we know that P1 wins in the 3tower case and the 1tower case (because P1 is the opening player),\\nand thus, the question is how P1 can reduce it those states. unfortunately, P2 also knows this. whatever move P1 makes, P2 will simply copy that move. in fact, after P1\\nreduces some tower A to 1 and P2 following suit reduces tower B to 1, there will be 2 towers (C,D) remaining with P1 being the opening player once again (2-tower case). there\\nis no way for P1 to win.\\n    in the 4-tower case, the opening player always loses, because P2 always has a move to copy (reduces to 2-tower case)\\n\\n--\\nhaving established the optimal plays, the code implementation much more managable. we simply check the number of towers to determine the game.\\n'"
      ]
     },
     "execution_count": 5,
     "metadata": {},
     "output_type": "execute_result"
    }
   ],
   "source": [
    "'''\n",
    "a faster (and much less complicated) strategy would be to model the optimal strategy from the get go. let's model this from the perspective of P1\n",
    "\n",
    "lets start with the base case of 1 tower. P1's optimal strategy is to always reduce the tower to height of 1, for which P2 cannot follow up with a move and loses. P1 wins.\n",
    "    in the 1-tower case, the opening player always wins!\n",
    "\n",
    "next, lets move to the case of 2 towers. since the game is about making a move that the opponent cannot follow, the onus is on P1 to make a \"unique\" move that is un-copyable.\n",
    "observe that in this 2 tower case, because all towers MUST be the of the same height, P2 can always copy the move that P1 makes. P1 will eventually reduce a tower to 1,\n",
    "P2 copies and reduces the remaining tower to 1, and P1 has no more towers to reduce. thus, P1 loses.\n",
    "    in the 2-tower case, the opening player always loses!\n",
    "\n",
    "next, looking at the case of 3 towers. observe how if P1 were to reduce tower A to 1, leaving tower B and C intact, it would reduce the situation to the 2-tower case except\n",
    "P2 is now the opening player in this 2-tower sequence. we know that from the 2-tower case above, the player who opens is always the player who loses, and thus, the optimal\n",
    "strategy is for P1 to reduce the case of 3 towers to 2 towers.\n",
    "(explicity, P1 reduces tower A to 1. P2 makes some move on some tower B. P1 simply copies P2 moves, and just like the 2 tower case, P2 will eventually reduce some tower to 1,\n",
    "P1 follows suit, and now P2 has no towers left. P1 wins)\n",
    "    in the 3-tower case, the opening player always wins, because the opening player would reduce it to the 2-tower case and the opponent becomes the opening player!\n",
    "\n",
    "let's confirm the pattern. in a case of 4 towers, what does P1 want to win? well, we know that P1 wins in the 3tower case and the 1tower case (because P1 is the opening player),\n",
    "and thus, the question is how P1 can reduce it those states. unfortunately, P2 also knows this. whatever move P1 makes, P2 will simply copy that move. in fact, after P1\n",
    "reduces some tower A to 1 and P2 following suit reduces tower B to 1, there will be 2 towers (C,D) remaining with P1 being the opening player once again (2-tower case). there\n",
    "is no way for P1 to win.\n",
    "    in the 4-tower case, the opening player always loses, because P2 always has a move to copy (reduces to 2-tower case)\n",
    "\n",
    "--\n",
    "having established the optimal plays, the code implementation much more managable. we simply check the number of towers to determine the game.\n",
    "'''"
   ]
  },
  {
   "cell_type": "code",
   "execution_count": 6,
   "metadata": {},
   "outputs": [],
   "source": [
    "def towerBreakers(n, m):\n",
    "    if m == 1:\n",
    "        return 2\n",
    "    else:\n",
    "        if n % 2 == 0:\n",
    "            return 2\n",
    "        else:\n",
    "            return 1"
   ]
  },
  {
   "cell_type": "code",
   "execution_count": 7,
   "metadata": {},
   "outputs": [
    {
     "data": {
      "text/plain": [
       "2"
      ]
     },
     "execution_count": 7,
     "metadata": {},
     "output_type": "execute_result"
    }
   ],
   "source": [
    "towerBreakers(n, m)"
   ]
  },
  {
   "cell_type": "markdown",
   "metadata": {},
   "source": [
    "## Testing"
   ]
  },
  {
   "cell_type": "code",
   "execution_count": 8,
   "metadata": {},
   "outputs": [
    {
     "data": {
      "text/plain": [
       "'\\nSample Input\\n2\\n2 2\\n1 4\\n\\nSample Output\\n2\\n1\\n'"
      ]
     },
     "execution_count": 8,
     "metadata": {},
     "output_type": "execute_result"
    }
   ],
   "source": [
    "'''\n",
    "Sample Input\n",
    "2\n",
    "2 2\n",
    "1 4\n",
    "\n",
    "Sample Output\n",
    "2\n",
    "1\n",
    "'''"
   ]
  },
  {
   "cell_type": "code",
   "execution_count": 9,
   "metadata": {},
   "outputs": [
    {
     "name": "stdout",
     "output_type": "stream",
     "text": [
      "2\n",
      "1\n"
     ]
    }
   ],
   "source": [
    "n1, m1 = 2, 2\n",
    "n2, m2 = 1, 4\n",
    "print(towerBreakers(n1, m1))\n",
    "print(towerBreakers(n2, m2))"
   ]
  },
  {
   "cell_type": "code",
   "execution_count": 10,
   "metadata": {},
   "outputs": [
    {
     "data": {
      "text/plain": [
       "'\\nSample Input\\n2\\n1 7\\n3 7\\n\\nSample Output\\n1\\n1\\n'"
      ]
     },
     "execution_count": 10,
     "metadata": {},
     "output_type": "execute_result"
    }
   ],
   "source": [
    "'''\n",
    "Sample Input\n",
    "2\n",
    "1 7\n",
    "3 7\n",
    "\n",
    "Sample Output\n",
    "1\n",
    "1\n",
    "'''"
   ]
  },
  {
   "cell_type": "code",
   "execution_count": 11,
   "metadata": {},
   "outputs": [
    {
     "name": "stdout",
     "output_type": "stream",
     "text": [
      "1\n",
      "1\n"
     ]
    }
   ],
   "source": [
    "n3, m3 = 1, 7\n",
    "n4, m4 = 3, 7\n",
    "print(towerBreakers(n3, m3))\n",
    "print(towerBreakers(n4, m4))"
   ]
  },
  {
   "cell_type": "code",
   "execution_count": 12,
   "metadata": {},
   "outputs": [
    {
     "data": {
      "text/plain": [
       "'\\nPassed all test cases\\n'"
      ]
     },
     "execution_count": 12,
     "metadata": {},
     "output_type": "execute_result"
    }
   ],
   "source": [
    "'''\n",
    "Passed all test cases\n",
    "'''"
   ]
  }
 ],
 "metadata": {
  "interpreter": {
   "hash": "bc3210eb0411503d9a54e82308439f2538c49d86b5a7c00e1ae895fbe28c5986"
  },
  "kernelspec": {
   "display_name": "Python 3.8.12 ('PythonData')",
   "language": "python",
   "name": "python3"
  },
  "language_info": {
   "codemirror_mode": {
    "name": "ipython",
    "version": 3
   },
   "file_extension": ".py",
   "mimetype": "text/x-python",
   "name": "python",
   "nbconvert_exporter": "python",
   "pygments_lexer": "ipython3",
   "version": "3.8.12"
  },
  "orig_nbformat": 4
 },
 "nbformat": 4,
 "nbformat_minor": 2
}
