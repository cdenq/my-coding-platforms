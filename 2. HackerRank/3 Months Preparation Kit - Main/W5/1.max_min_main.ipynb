{
 "cells": [
  {
   "cell_type": "code",
   "execution_count": 1,
   "metadata": {},
   "outputs": [],
   "source": [
    "#!/bin/python3\n",
    "\n",
    "import math\n",
    "import os\n",
    "import random\n",
    "import re\n",
    "import sys\n",
    "\n",
    "#\n",
    "# Complete the 'maxMin' function below.\n",
    "#\n",
    "# The function is expected to return an INTEGER.\n",
    "# The function accepts following parameters:\n",
    "#  1. INTEGER k\n",
    "#  2. INTEGER_ARRAY arr\n",
    "#"
   ]
  },
  {
   "cell_type": "markdown",
   "metadata": {},
   "source": [
    "# Strategy\n",
    "\n",
    "Observe that within a sorted list, any sequential sublist that you would pull out of length k would provide a local min. \n",
    "For eg) k = 3, our sublist would be [x,y,z]\n",
    "\n",
    "We know that z >= y >= x, and that there are no value i between z and y or y and x due to the sorting. z - x would be the local mininum result within ALL variations of this sublist, like (y,x,z) or (z,x,y)\n",
    "\n",
    "Iterate through the sorted list with 1 pass, O(n), to compare every local min of every unique sublist to find the global minimum. "
   ]
  },
  {
   "cell_type": "code",
   "execution_count": 18,
   "metadata": {},
   "outputs": [],
   "source": [
    "def slow_maxMin(k, arr):\n",
    "    s_arr = sorted(arr)\n",
    "    # print(s_arr)\n",
    "    temp_min_unfairness = max(s_arr[0:k]) - min(s_arr[0:k])\n",
    "    # print(s_arr[0:k])\n",
    "    for i in range(1, len(s_arr)-k+1):\n",
    "        # print(s_arr[i:i+k])\n",
    "        current_unfairness = max(s_arr[i:i+k]) - min(s_arr[i:i+k])\n",
    "        if temp_min_unfairness > current_unfairness:\n",
    "            temp_min_unfairness = current_unfairness\n",
    "    return temp_min_unfairness"
   ]
  },
  {
   "cell_type": "markdown",
   "metadata": {},
   "source": [
    "# Improvement\n",
    "\n",
    "We do not need to store the substrings, we only need to store the difference of the max/min values within each substring."
   ]
  },
  {
   "cell_type": "code",
   "execution_count": 16,
   "metadata": {},
   "outputs": [],
   "source": [
    "def maxMin(k, arr):\n",
    "    s_arr = sorted(arr)\n",
    "    stored_diff = []\n",
    "    for i in range(len(s_arr)-k+1):\n",
    "        stored_diff.append(s_arr[i+k-1] - s_arr[i])\n",
    "    return min(stored_diff)"
   ]
  },
  {
   "cell_type": "code",
   "execution_count": 18,
   "metadata": {},
   "outputs": [
    {
     "data": {
      "text/plain": [
       "3"
      ]
     },
     "execution_count": 18,
     "metadata": {},
     "output_type": "execute_result"
    }
   ],
   "source": [
    "arr = [1,4,7,2]\n",
    "k = 2\n",
    "maxMin(k, arr)"
   ]
  },
  {
   "cell_type": "code",
   "execution_count": 14,
   "metadata": {},
   "outputs": [
    {
     "data": {
      "text/plain": [
       "0"
      ]
     },
     "execution_count": 14,
     "metadata": {},
     "output_type": "execute_result"
    }
   ],
   "source": [
    "arr = [9,9,9,9,9,9,9]\n",
    "k = 2\n",
    "maxMin(k, arr)"
   ]
  },
  {
   "cell_type": "code",
   "execution_count": null,
   "metadata": {},
   "outputs": [],
   "source": []
  }
 ],
 "metadata": {
  "interpreter": {
   "hash": "ea2b65024e24df10fa5992686c1c8510a4831519011fa6b2d6f1788e8385f578"
  },
  "kernelspec": {
   "display_name": "Python 3.8.12 64-bit ('PythonData': conda)",
   "language": "python",
   "name": "python3"
  },
  "language_info": {
   "codemirror_mode": {
    "name": "ipython",
    "version": 3
   },
   "file_extension": ".py",
   "mimetype": "text/x-python",
   "name": "python",
   "nbconvert_exporter": "python",
   "pygments_lexer": "ipython3",
   "version": "3.8.12"
  },
  "orig_nbformat": 4
 },
 "nbformat": 4,
 "nbformat_minor": 2
}
