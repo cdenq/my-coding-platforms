{
 "cells": [
  {
   "cell_type": "code",
   "execution_count": 1,
   "metadata": {},
   "outputs": [],
   "source": [
    "#!/bin/python3\n",
    "\n",
    "import math\n",
    "import os\n",
    "import random\n",
    "import re\n",
    "import sys\n",
    "\n",
    "#\n",
    "# Complete the 'minimumNumber' function below.\n",
    "#\n",
    "# The function is expected to return an INTEGER.\n",
    "# The function accepts following parameters:\n",
    "#  1. INTEGER n\n",
    "#  2. STRING password\n",
    "#"
   ]
  },
  {
   "cell_type": "markdown",
   "metadata": {},
   "source": [
    "# Strategy\n",
    "\n",
    "Brute force 1 pass through the given password O(n) and check if each letter is in the required letters.\n",
    "\n",
    "If so, then count it in a list of boolean values. After the password, the remaining FALSES in the boolean values equated to the number of letters to be added.\n",
    "\n",
    "If the number of letters to add + the current pass is still less than 6, then need to the difference between the two + the numbers of letters to get the total number of additions needed ot be made."
   ]
  },
  {
   "cell_type": "code",
   "execution_count": 19,
   "metadata": {},
   "outputs": [],
   "source": [
    "def minimumNumber(n, password):\n",
    "    # check against\n",
    "    required_length = 6\n",
    "    numbers = \"0123456789\"\n",
    "    lower_case = \"abcdefghijklmnopqrstuvwxyz\"\n",
    "    upper_case = \"ABCDEFGHIJKLMNOPQRSTUVWXYZ\"\n",
    "    special_characters = \"!@#$%^&*()-+\"\n",
    "\n",
    "    # check characters\n",
    "    check_list = [False, False, False, False]\n",
    "    for chr in password:\n",
    "        if (chr in numbers):\n",
    "            check_list[0] = True\n",
    "        elif (chr in lower_case):\n",
    "            check_list[1] = True\n",
    "        elif (chr in upper_case):\n",
    "            check_list[2] = True\n",
    "        elif (chr in special_characters):\n",
    "            check_list[3] = True\n",
    "    chrs_to_add = 4 - sum(check_list)\n",
    "\n",
    "    # check length\n",
    "    projected_length = n + chrs_to_add\n",
    "    if projected_length < required_length:\n",
    "        return (required_length - projected_length) + chrs_to_add\n",
    "    else:\n",
    "        return chrs_to_add"
   ]
  },
  {
   "cell_type": "code",
   "execution_count": 18,
   "metadata": {},
   "outputs": [
    {
     "data": {
      "text/plain": [
       "2"
      ]
     },
     "execution_count": 18,
     "metadata": {},
     "output_type": "execute_result"
    }
   ],
   "source": [
    "n = 1\n",
    "password = '2bbbb'\n",
    "minimumNumber(n, password)"
   ]
  },
  {
   "cell_type": "code",
   "execution_count": null,
   "metadata": {},
   "outputs": [],
   "source": []
  }
 ],
 "metadata": {
  "interpreter": {
   "hash": "ea2b65024e24df10fa5992686c1c8510a4831519011fa6b2d6f1788e8385f578"
  },
  "kernelspec": {
   "display_name": "Python 3.8.12 64-bit ('PythonData': conda)",
   "language": "python",
   "name": "python3"
  },
  "language_info": {
   "codemirror_mode": {
    "name": "ipython",
    "version": 3
   },
   "file_extension": ".py",
   "mimetype": "text/x-python",
   "name": "python",
   "nbconvert_exporter": "python",
   "pygments_lexer": "ipython3",
   "version": "3.8.12"
  },
  "orig_nbformat": 4
 },
 "nbformat": 4,
 "nbformat_minor": 2
}
