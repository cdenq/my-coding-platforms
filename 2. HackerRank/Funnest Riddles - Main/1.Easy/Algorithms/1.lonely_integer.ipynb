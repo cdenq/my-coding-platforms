{
 "cells": [
  {
   "cell_type": "markdown",
   "metadata": {},
   "source": [
    "# Lonely Integer"
   ]
  },
  {
   "cell_type": "code",
   "execution_count": 1,
   "metadata": {},
   "outputs": [
    {
     "data": {
      "text/plain": [
       "'\\nProblem-Solving: Basic\\nDifficulty: Easy\\nSubdomain: Bit Manipulation\\n'"
      ]
     },
     "execution_count": 1,
     "metadata": {},
     "output_type": "execute_result"
    }
   ],
   "source": [
    "'''\n",
    "Subdomain: Bit Manipulation\n",
    "'''"
   ]
  },
  {
   "cell_type": "markdown",
   "metadata": {},
   "source": [
    "## Problem Statement"
   ]
  },
  {
   "cell_type": "code",
   "execution_count": 2,
   "metadata": {},
   "outputs": [
    {
     "data": {
      "text/plain": [
       "'\\nGiven an array of integers, where all elements but one occur twice, find the unique element.\\n\\nExample\\na = [1,2,3,4,3,2,1]\\nThe unique element is 4.\\n\\nFunction Description\\nComplete the lonelyinteger function in the editor below.\\n\\nlonelyinteger has the following parameter(s):\\nint a[n]: an array of integers\\n\\nReturns\\nint: the element that occurs only once\\nInput Format\\n\\nThe first line contains a single integer, n, the number of integers in the array.\\nThe second line contains n space-separated integers that describe the values in a.\\n\\nConstraints\\n1 <= n < 100\\nIt is guaranteed that n is an odd number and that there is one unique element.\\n0 <= a[i] <= 100, where 0 <= i < n.\\n'"
      ]
     },
     "execution_count": 2,
     "metadata": {},
     "output_type": "execute_result"
    }
   ],
   "source": [
    "'''\n",
    "Given an array of integers, where all elements but one occur twice, find the unique element.\n",
    "\n",
    "Example\n",
    "a = [1,2,3,4,3,2,1]\n",
    "The unique element is 4.\n",
    "\n",
    "Function Description\n",
    "Complete the lonelyinteger function in the editor below.\n",
    "\n",
    "lonelyinteger has the following parameter(s):\n",
    "int a[n]: an array of integers\n",
    "\n",
    "Returns\n",
    "int: the element that occurs only once\n",
    "Input Format\n",
    "\n",
    "The first line contains a single integer, n, the number of integers in the array.\n",
    "The second line contains n space-separated integers that describe the values in a.\n",
    "\n",
    "Constraints\n",
    "1 <= n < 100\n",
    "It is guaranteed that n is an odd number and that there is one unique element.\n",
    "0 <= a[i] <= 100, where 0 <= i < n.\n",
    "'''"
   ]
  },
  {
   "cell_type": "markdown",
   "metadata": {},
   "source": [
    "## Given Test Cases"
   ]
  },
  {
   "cell_type": "code",
   "execution_count": 3,
   "metadata": {},
   "outputs": [
    {
     "data": {
      "text/plain": [
       "'\\nSample Input\\n7\\n1 2 3 4 3 2 1\\n\\nSample Output\\n4\\n'"
      ]
     },
     "execution_count": 3,
     "metadata": {},
     "output_type": "execute_result"
    }
   ],
   "source": [
    "'''\n",
    "Sample Input\n",
    "7\n",
    "1 2 3 4 3 2 1\n",
    "\n",
    "Sample Output\n",
    "4\n",
    "'''"
   ]
  },
  {
   "cell_type": "markdown",
   "metadata": {},
   "source": [
    "### Data Setup"
   ]
  },
  {
   "cell_type": "code",
   "execution_count": 4,
   "metadata": {},
   "outputs": [],
   "source": [
    "a = [1,2,3,4,3,2,1]"
   ]
  },
  {
   "cell_type": "markdown",
   "metadata": {},
   "source": [
    "## Strategy and Solution"
   ]
  },
  {
   "cell_type": "markdown",
   "metadata": {},
   "source": [
    "### Brute Force (On)"
   ]
  },
  {
   "cell_type": "code",
   "execution_count": 5,
   "metadata": {},
   "outputs": [
    {
     "data": {
      "text/plain": [
       "'\\nWe can iterate through the loop, keeping track of which numbers we have seen so far in a dictionary. once we have finished with the list, we simply return the dictionary.key that has value of 1. \\n'"
      ]
     },
     "execution_count": 5,
     "metadata": {},
     "output_type": "execute_result"
    }
   ],
   "source": [
    "'''\n",
    "We can iterate through the loop, keeping track of which numbers we have seen so far in a dictionary. once we have finished with the list,\n",
    "we simply return the dictionary.key that has value of 1. \n",
    "'''"
   ]
  },
  {
   "cell_type": "code",
   "execution_count": 13,
   "metadata": {},
   "outputs": [],
   "source": [
    "def brute(a):\n",
    "    freq = {}\n",
    "    for i in a:\n",
    "        if i not in freq.keys():\n",
    "            freq[i] = 1\n",
    "        else:\n",
    "            freq[i] += 1\n",
    "\n",
    "    for integer, frequency in freq.items():\n",
    "        if frequency == 1:\n",
    "            return integer"
   ]
  },
  {
   "cell_type": "code",
   "execution_count": 15,
   "metadata": {},
   "outputs": [],
   "source": [
    "# using builtin python function, we can condense the code\n",
    "def brute_clean(a):\n",
    "    for i in a:\n",
    "        if a.count(i) == 1:\n",
    "            return i"
   ]
  },
  {
   "cell_type": "code",
   "execution_count": 16,
   "metadata": {},
   "outputs": [
    {
     "name": "stdout",
     "output_type": "stream",
     "text": [
      "4\n",
      "4\n"
     ]
    }
   ],
   "source": [
    "print(brute(a))\n",
    "print(brute_clean(a))"
   ]
  },
  {
   "cell_type": "markdown",
   "metadata": {},
   "source": [
    "### Optimized Space Complexity (Runtime = O(n))"
   ]
  },
  {
   "cell_type": "code",
   "execution_count": null,
   "metadata": {},
   "outputs": [],
   "source": [
    "'''\n",
    "we can optimize the space complexity by not using a memory required to make a dictionary.\n",
    "\n",
    "given any set of integers... \n",
    "{a, b, b, c, c, ...}\n",
    "such that a is the only unique integer value and all other b,c,etc. values are in pairs\n",
    "\n",
    "the summation of this set is: a + 2b + 2c...\n",
    "\n",
    "observe that if we were to take only the unique values of this group of integers and sum them up, we get...\n",
    "{a, b, c, ...} = a + b + c...\n",
    "multiplying this sum by 2, we get\n",
    "\n",
    "2(a + b + c...)\n",
    "2a + 2b + 2c...\n",
    "\n",
    "thus, we can take\n",
    "2a + 2b + 2c...\n",
    "- [a + 2b + 2c...]\n",
    "=================\n",
    "a\n",
    "\n",
    "this solves for our unique value directly.\n",
    "'''"
   ]
  },
  {
   "cell_type": "code",
   "execution_count": 17,
   "metadata": {},
   "outputs": [],
   "source": [
    "def optimized(a):\n",
    "    return 2*sum(set(a)) - sum(a)"
   ]
  },
  {
   "cell_type": "code",
   "execution_count": 18,
   "metadata": {},
   "outputs": [
    {
     "data": {
      "text/plain": [
       "4"
      ]
     },
     "execution_count": 18,
     "metadata": {},
     "output_type": "execute_result"
    }
   ],
   "source": [
    "optimized(a)"
   ]
  },
  {
   "cell_type": "markdown",
   "metadata": {},
   "source": [
    "## Testing"
   ]
  },
  {
   "cell_type": "code",
   "execution_count": 20,
   "metadata": {},
   "outputs": [
    {
     "data": {
      "text/plain": [
       "'\\nSample Input\\n1\\n1\\n\\nSample Output\\n1\\n'"
      ]
     },
     "execution_count": 20,
     "metadata": {},
     "output_type": "execute_result"
    }
   ],
   "source": [
    "'''\n",
    "Sample Input\n",
    "1\n",
    "1\n",
    "\n",
    "Sample Output\n",
    "1\n",
    "'''"
   ]
  },
  {
   "cell_type": "code",
   "execution_count": 22,
   "metadata": {},
   "outputs": [
    {
     "data": {
      "text/plain": [
       "1"
      ]
     },
     "execution_count": 22,
     "metadata": {},
     "output_type": "execute_result"
    }
   ],
   "source": [
    "a1 = [1]\n",
    "optimized(a1)"
   ]
  },
  {
   "cell_type": "code",
   "execution_count": 23,
   "metadata": {},
   "outputs": [
    {
     "data": {
      "text/plain": [
       "'\\nSample Input\\n3\\n1 1 2\\n\\nSample Output\\n2\\n'"
      ]
     },
     "execution_count": 23,
     "metadata": {},
     "output_type": "execute_result"
    }
   ],
   "source": [
    "'''\n",
    "Sample Input\n",
    "3\n",
    "1 1 2\n",
    "\n",
    "Sample Output\n",
    "2\n",
    "'''"
   ]
  },
  {
   "cell_type": "code",
   "execution_count": 24,
   "metadata": {},
   "outputs": [
    {
     "data": {
      "text/plain": [
       "2"
      ]
     },
     "execution_count": 24,
     "metadata": {},
     "output_type": "execute_result"
    }
   ],
   "source": [
    "a2 = [1,1,2]\n",
    "optimized(a2)"
   ]
  },
  {
   "cell_type": "code",
   "execution_count": null,
   "metadata": {},
   "outputs": [],
   "source": [
    "'''\n",
    "Sample Input\n",
    "5\n",
    "0 0 1 2 1\n",
    "\n",
    "Sample Output\n",
    "2\n",
    "'''"
   ]
  },
  {
   "cell_type": "code",
   "execution_count": 25,
   "metadata": {},
   "outputs": [
    {
     "data": {
      "text/plain": [
       "2"
      ]
     },
     "execution_count": 25,
     "metadata": {},
     "output_type": "execute_result"
    }
   ],
   "source": [
    "a3 = [0,0,1,2,1]\n",
    "optimized(a3)"
   ]
  },
  {
   "cell_type": "code",
   "execution_count": null,
   "metadata": {},
   "outputs": [
    {
     "data": {
      "text/plain": [
       "'\\nPassed all test cases\\n'"
      ]
     },
     "execution_count": 24,
     "metadata": {},
     "output_type": "execute_result"
    }
   ],
   "source": [
    "'''\n",
    "Passed all test cases\n",
    "'''"
   ]
  }
 ],
 "metadata": {
  "interpreter": {
   "hash": "bc3210eb0411503d9a54e82308439f2538c49d86b5a7c00e1ae895fbe28c5986"
  },
  "kernelspec": {
   "display_name": "Python 3.8.12 ('PythonData')",
   "language": "python",
   "name": "python3"
  },
  "language_info": {
   "codemirror_mode": {
    "name": "ipython",
    "version": 3
   },
   "file_extension": ".py",
   "mimetype": "text/x-python",
   "name": "python",
   "nbconvert_exporter": "python",
   "pygments_lexer": "ipython3",
   "version": "3.8.12"
  },
  "orig_nbformat": 4
 },
 "nbformat": 4,
 "nbformat_minor": 2
}
