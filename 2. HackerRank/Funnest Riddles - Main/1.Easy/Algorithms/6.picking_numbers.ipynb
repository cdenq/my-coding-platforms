{
 "cells": [
  {
   "cell_type": "markdown",
   "metadata": {},
   "source": [
    "# Picking Numbers"
   ]
  },
  {
   "cell_type": "code",
   "execution_count": null,
   "metadata": {},
   "outputs": [],
   "source": [
    "'''\n",
    "Subdomain: Implementation\n",
    "'''"
   ]
  },
  {
   "cell_type": "markdown",
   "metadata": {},
   "source": [
    "## Problem Statement"
   ]
  },
  {
   "cell_type": "code",
   "execution_count": 54,
   "metadata": {},
   "outputs": [
    {
     "data": {
      "text/plain": [
       "'\\nGiven an array of integers, find the longest subarray where the absolute difference between any two elements is less than or equal to 1.\\n\\nExample\\narr = [1,1,2,2,4,4,5,5,5]\\n\\nThere are two subarrays meeting the criterion: [1,1,2,2] and [4,4,5,5,5]. The maximum length subarray has 5 elements.\\n\\nFunction Description\\n\\nComplete the pickingNumbers function in the editor below.\\n\\npickingNumbers has the following parameter(s):\\nint a[n]: an array of integers\\n\\nReturns\\nint: the length of the longest subarray that meets the criterion\\n\\nInput Format\\nThe first line contains a single integer n, the size of the array a.\\nThe second line contains n space-separated integers, each an a[i].\\n\\nConstraints\\n2 <= n <= 100\\n0 < a[i] < 100\\nThe answer will be >= 2.\\n'"
      ]
     },
     "execution_count": 54,
     "metadata": {},
     "output_type": "execute_result"
    }
   ],
   "source": [
    "'''\n",
    "Given an array of integers, find the longest subarray where the absolute difference between any two elements is less than or equal to 1.\n",
    "\n",
    "Example\n",
    "arr = [1,1,2,2,4,4,5,5,5]\n",
    "\n",
    "There are two subarrays meeting the criterion: [1,1,2,2] and [4,4,5,5,5]. The maximum length subarray has 5 elements.\n",
    "\n",
    "Function Description\n",
    "\n",
    "Complete the pickingNumbers function in the editor below.\n",
    "\n",
    "pickingNumbers has the following parameter(s):\n",
    "int a[n]: an array of integers\n",
    "\n",
    "Returns\n",
    "int: the length of the longest subarray that meets the criterion\n",
    "\n",
    "Input Format\n",
    "The first line contains a single integer n, the size of the array a.\n",
    "The second line contains n space-separated integers, each an a[i].\n",
    "\n",
    "Constraints\n",
    "2 <= n <= 100\n",
    "0 < a[i] < 100\n",
    "The answer will be >= 2.\n",
    "'''"
   ]
  },
  {
   "cell_type": "markdown",
   "metadata": {},
   "source": [
    "## Given Test Cases"
   ]
  },
  {
   "cell_type": "code",
   "execution_count": 55,
   "metadata": {},
   "outputs": [
    {
     "data": {
      "text/plain": [
       "'\\nSample Input\\n9\\n1 1 2 2 4 4 5 5 5\\n\\nSample Output\\n5\\n'"
      ]
     },
     "execution_count": 55,
     "metadata": {},
     "output_type": "execute_result"
    }
   ],
   "source": [
    "'''\n",
    "Sample Input\n",
    "9\n",
    "1 1 2 2 4 4 5 5 5\n",
    "\n",
    "Sample Output\n",
    "5\n",
    "'''"
   ]
  },
  {
   "cell_type": "markdown",
   "metadata": {},
   "source": [
    "### Data Setup"
   ]
  },
  {
   "cell_type": "code",
   "execution_count": 56,
   "metadata": {},
   "outputs": [],
   "source": [
    "arr = [1,1,2,2,4,4,5,5,5]"
   ]
  },
  {
   "cell_type": "markdown",
   "metadata": {},
   "source": [
    "## Strategy and Solution"
   ]
  },
  {
   "cell_type": "markdown",
   "metadata": {},
   "source": [
    "### Brute Force O(n2)"
   ]
  },
  {
   "cell_type": "code",
   "execution_count": 57,
   "metadata": {},
   "outputs": [
    {
     "data": {
      "text/plain": [
       "'\\niterate through every possible subarray combination and then checking to see if the elements within give the absolute difference of 1.\\n\\nif so, track the number of the elements in the subarray in a list\\n\\nat the end, return the value that has the highest\\n'"
      ]
     },
     "execution_count": 57,
     "metadata": {},
     "output_type": "execute_result"
    }
   ],
   "source": [
    "'''\n",
    "iterate through every possible subarray combination and then checking to see if the elements within give the absolute difference of 1.\n",
    "\n",
    "if so, track the number of the elements in the subarray in a list\n",
    "\n",
    "at the end, return the value that has the highest\n",
    "'''"
   ]
  },
  {
   "cell_type": "markdown",
   "metadata": {},
   "source": [
    "### Optimized O(nlogn) + O(n) = O(nlogn)"
   ]
  },
  {
   "cell_type": "code",
   "execution_count": 58,
   "metadata": {},
   "outputs": [
    {
     "data": {
      "text/plain": [
       "'\\nwe can already reduce the sample space that we need to check by setting rules on what kinds of values can even be a subarray\\n\\nobvserve that becuase any two points in the subarray must give the absolute difference of 1, we know that the values in the subarray must be i and i+1 ONLY.\\n\\nin practice, this means in a sequence of 1,2,4,6,7\\nwe know that 1 and 2 is grouped into a subarray, 4 is skipped over becuause there isnt a value +- 1, and 6,7 is another subarry\\n\\nwe can make this much easier by first sorting the array elements from the smallest to the highest.\\n\\nfirst, make a counter to track the current largest subarray length\\nthe make another counter to track the current subarray length\\n\\nnext, we can iterate through the list and map out all the sub arrays. specifically, for any arr[i], lock that as \"seed\" and then check arr[i+1]. if arr[i+1] fits the\\nabs difference, then increment the current subarray counter and check arr[i+2] until arr[i+n] does not satisify the condition.\\nwhen that happens, we can \"terminate\" that subarray and check to see if the current subarray counter is larger than the current largest subarray counter.\\nif so replace that largest subarray counter.\\nwe then reset \"seed\" to arr[i+n] and repeat the proccess as if it was arr[i]\\n\\nbecause the arr is sorted already, we are guarenteed that the subarrays would be at their max subarray length the moment we terminate, since we know that every other\\nelement would be greater than the arr[i+n] and thus, would have an even bigger abs difference. \\n'"
      ]
     },
     "execution_count": 58,
     "metadata": {},
     "output_type": "execute_result"
    }
   ],
   "source": [
    "'''\n",
    "we can already reduce the sample space that we need to check by setting rules on what kinds of values can even be a subarray\n",
    "\n",
    "obvserve that becuase any two points in the subarray must give the absolute difference of 1, we know that the values in the subarray must be i and i+1 ONLY.\n",
    "\n",
    "in practice, this means in a sequence of 1,2,4,6,7\n",
    "we know that 1 and 2 is grouped into a subarray, 4 is skipped over becuause there isnt a value +- 1, and 6,7 is another subarry\n",
    "\n",
    "we can make this much easier by first sorting the array elements from the smallest to the highest.\n",
    "\n",
    "first, make a counter to track the current largest subarray length\n",
    "the make another counter to track the current subarray length\n",
    "\n",
    "next, we can iterate through the list and map out all the sub arrays. specifically, for any arr[i], lock that as \"seed\" and then check arr[i+1]. if arr[i+1] fits the\n",
    "abs difference, then increment the current subarray counter and check arr[i+2] until arr[i+n] does not satisify the condition.\n",
    "when that happens, we can \"terminate\" that subarray and check to see if the current subarray counter is larger than the current largest subarray counter.\n",
    "if so replace that largest subarray counter.\n",
    "we then reset \"seed\" to arr[i+n] and repeat the proccess as if it was arr[i]\n",
    "\n",
    "because the arr is sorted already, we are guarenteed that the subarrays would be at their max subarray length the moment we terminate, since we know that every other\n",
    "element would be greater than the arr[i+n] and thus, would have an even bigger abs difference. \n",
    "'''"
   ]
  },
  {
   "cell_type": "code",
   "execution_count": 59,
   "metadata": {},
   "outputs": [],
   "source": [
    "def pickingNumbers(arr):\n",
    "   arr = sorted(arr)\n",
    "   curr_len, largest_len, seed = 1, 0, arr[0]\n",
    "   for i in range(1, len(arr)):\n",
    "      if abs(seed - arr[i]) <= 1:\n",
    "         curr_len += 1\n",
    "      else:\n",
    "         if curr_len > largest_len:\n",
    "            largest_len = curr_len\n",
    "         curr_len = 1\n",
    "         seed = arr[i]\n",
    "   if curr_len > largest_len:\n",
    "      largest_len = curr_len\n",
    "   return largest_len"
   ]
  },
  {
   "cell_type": "markdown",
   "metadata": {},
   "source": [
    "## Testing"
   ]
  },
  {
   "cell_type": "code",
   "execution_count": 60,
   "metadata": {},
   "outputs": [
    {
     "data": {
      "text/plain": [
       "'\\nSample Input\\n6\\n4 6 5 3 3 1\\n\\nSample Output\\n3\\n'"
      ]
     },
     "execution_count": 60,
     "metadata": {},
     "output_type": "execute_result"
    }
   ],
   "source": [
    "'''\n",
    "Sample Input\n",
    "6\n",
    "4 6 5 3 3 1\n",
    "\n",
    "Sample Output\n",
    "3\n",
    "'''"
   ]
  },
  {
   "cell_type": "code",
   "execution_count": 61,
   "metadata": {},
   "outputs": [
    {
     "data": {
      "text/plain": [
       "3"
      ]
     },
     "execution_count": 61,
     "metadata": {},
     "output_type": "execute_result"
    }
   ],
   "source": [
    "arr1 = [4,6,5,3,3,1]\n",
    "pickingNumbers(arr1)"
   ]
  },
  {
   "cell_type": "code",
   "execution_count": 62,
   "metadata": {},
   "outputs": [
    {
     "data": {
      "text/plain": [
       "'\\nSample Input\\n6\\n1 2 2 3 1 2\\n\\nSample Output\\n5\\n'"
      ]
     },
     "execution_count": 62,
     "metadata": {},
     "output_type": "execute_result"
    }
   ],
   "source": [
    "'''\n",
    "Sample Input\n",
    "6\n",
    "1 2 2 3 1 2\n",
    "\n",
    "Sample Output\n",
    "5\n",
    "'''"
   ]
  },
  {
   "cell_type": "code",
   "execution_count": 63,
   "metadata": {},
   "outputs": [
    {
     "data": {
      "text/plain": [
       "5"
      ]
     },
     "execution_count": 63,
     "metadata": {},
     "output_type": "execute_result"
    }
   ],
   "source": [
    "arr2 = [1,2,2,3,1,2]\n",
    "pickingNumbers(arr2)"
   ]
  },
  {
   "cell_type": "code",
   "execution_count": 64,
   "metadata": {},
   "outputs": [
    {
     "data": {
      "text/plain": [
       "'\\nPassed all test cases\\n'"
      ]
     },
     "execution_count": 64,
     "metadata": {},
     "output_type": "execute_result"
    }
   ],
   "source": [
    "'''\n",
    "Passed all test cases\n",
    "'''"
   ]
  }
 ],
 "metadata": {
  "interpreter": {
   "hash": "bc3210eb0411503d9a54e82308439f2538c49d86b5a7c00e1ae895fbe28c5986"
  },
  "kernelspec": {
   "display_name": "Python 3.8.12 ('PythonData')",
   "language": "python",
   "name": "python3"
  },
  "language_info": {
   "codemirror_mode": {
    "name": "ipython",
    "version": 3
   },
   "file_extension": ".py",
   "mimetype": "text/x-python",
   "name": "python",
   "nbconvert_exporter": "python",
   "pygments_lexer": "ipython3",
   "version": "3.8.12"
  },
  "orig_nbformat": 4
 },
 "nbformat": 4,
 "nbformat_minor": 2
}
