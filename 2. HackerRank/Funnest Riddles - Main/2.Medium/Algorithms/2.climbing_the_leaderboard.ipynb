{
 "cells": [
  {
   "cell_type": "markdown",
   "metadata": {},
   "source": [
    "# Climbing the Leaderboard"
   ]
  },
  {
   "cell_type": "code",
   "execution_count": 11,
   "metadata": {},
   "outputs": [
    {
     "data": {
      "text/plain": [
       "'\\nProblem-Solving: Basic\\nDifficulty: Medium\\nSubdomain: Implementation\\n'"
      ]
     },
     "execution_count": 11,
     "metadata": {},
     "output_type": "execute_result"
    }
   ],
   "source": [
    "'''\n",
    "Subdomain: Implementation\n",
    "'''"
   ]
  },
  {
   "cell_type": "markdown",
   "metadata": {},
   "source": [
    "## Problem Statement"
   ]
  },
  {
   "cell_type": "code",
   "execution_count": 12,
   "metadata": {},
   "outputs": [
    {
     "data": {
      "text/plain": [
       "\"\\nAn arcade game player wants to climb to the top of the leaderboard and track their ranking. The game uses Dense Ranking, so its leaderboard works like this:\\n\\nThe player with the highest score is ranked number 1 on the leaderboard.\\nPlayers who have equal scores receive the same ranking number, and the next player(s) receive the immediately following ranking number.\\nExample\\nranked = [100,90,90,80]\\nplayer = [70,80,106]\\n\\nThe ranked players will have ranks 1, 2, 2, and 3, respectively. If the player's scores are 70, 80, and 105, their rankings after each game are 4th, 3rd, and 1st. Return [4,3,1].\\n\\nFunction Description\\nComplete the climbingLeaderboard function in the editor below.\\n\\nclimbingLeaderboard has the following parameter(s):\\n\\nint ranked[n]: the leaderboard scores\\nint player[m]: the player's scores\\n\\nReturns\\nint[m]: the player's rank after each new score\\n\\nInput Format\\nThe first line contains an integer n, the number of players on the leaderboard.\\nThe next line contains n space-separated integers ranked[i], the leaderboard scores in decreasing order.\\nThe next line contains an integer, m, the number games the player plays.\\nThe last line contains m space-separated integers player[j], the game scores.\\n\\nConstraints\\n1 <= n <= 2x10^5\\n1 <= m <= 2x10^5\\n0 <= ranked[i] <= 10^9 for 0 <= i <= n\\n0 <= ranked[j] <= 10^9 for 0 <= j <= m\\nThe existing leaderboard, ranked, is in descending order.\\nThe player's scores, player, are in ascending order.\\n\\nSubtask\\nFor 60% of the maximum score:\\n1<= n <= 200\\n1<= m <= 200\\n\""
      ]
     },
     "execution_count": 12,
     "metadata": {},
     "output_type": "execute_result"
    }
   ],
   "source": [
    "'''\n",
    "An arcade game player wants to climb to the top of the leaderboard and track their ranking. The game uses Dense Ranking, so its leaderboard works like this:\n",
    "\n",
    "The player with the highest score is ranked number 1 on the leaderboard.\n",
    "Players who have equal scores receive the same ranking number, and the next player(s) receive the immediately following ranking number.\n",
    "Example\n",
    "ranked = [100,90,90,80]\n",
    "player = [70,80,106]\n",
    "\n",
    "The ranked players will have ranks 1, 2, 2, and 3, respectively. If the player's scores are 70, 80, and 105, their rankings after each game are 4th, 3rd, and 1st. Return [4,3,1].\n",
    "\n",
    "Function Description\n",
    "Complete the climbingLeaderboard function in the editor below.\n",
    "\n",
    "climbingLeaderboard has the following parameter(s):\n",
    "\n",
    "int ranked[n]: the leaderboard scores\n",
    "int player[m]: the player's scores\n",
    "\n",
    "Returns\n",
    "int[m]: the player's rank after each new score\n",
    "\n",
    "Input Format\n",
    "The first line contains an integer n, the number of players on the leaderboard.\n",
    "The next line contains n space-separated integers ranked[i], the leaderboard scores in decreasing order.\n",
    "The next line contains an integer, m, the number games the player plays.\n",
    "The last line contains m space-separated integers player[j], the game scores.\n",
    "\n",
    "Constraints\n",
    "1 <= n <= 2x10^5\n",
    "1 <= m <= 2x10^5\n",
    "0 <= ranked[i] <= 10^9 for 0 <= i <= n\n",
    "0 <= ranked[j] <= 10^9 for 0 <= j <= m\n",
    "The existing leaderboard, ranked, is in descending order.\n",
    "The player's scores, player, are in ascending order.\n",
    "\n",
    "Subtask\n",
    "For 60% of the maximum score:\n",
    "1<= n <= 200\n",
    "1<= m <= 200\n",
    "'''"
   ]
  },
  {
   "cell_type": "markdown",
   "metadata": {},
   "source": [
    "## Given Test Cases"
   ]
  },
  {
   "cell_type": "code",
   "execution_count": 13,
   "metadata": {},
   "outputs": [
    {
     "data": {
      "text/plain": [
       "'\\nSample Input 0\\n7\\n100 100 50 40 40 20 10\\n4\\n5 25 50 120\\n\\nSample Output 0\\n6\\n4\\n2\\n1\\n'"
      ]
     },
     "execution_count": 13,
     "metadata": {},
     "output_type": "execute_result"
    }
   ],
   "source": [
    "'''\n",
    "Sample Input 0\n",
    "7\n",
    "100 100 50 40 40 20 10\n",
    "4\n",
    "5 25 50 120\n",
    "\n",
    "Sample Output 0\n",
    "6\n",
    "4\n",
    "2\n",
    "1\n",
    "'''"
   ]
  },
  {
   "cell_type": "code",
   "execution_count": 14,
   "metadata": {},
   "outputs": [
    {
     "data": {
      "text/plain": [
       "'\\nSample Input 1\\n6\\n100 90 90 80 75 60\\n5\\n50 65 77 90 102\\n\\nSample Output 1\\n6\\n5\\n4\\n2\\n1\\n'"
      ]
     },
     "execution_count": 14,
     "metadata": {},
     "output_type": "execute_result"
    }
   ],
   "source": [
    "'''\n",
    "Sample Input 1\n",
    "6\n",
    "100 90 90 80 75 60\n",
    "5\n",
    "50 65 77 90 102\n",
    "\n",
    "Sample Output 1\n",
    "6\n",
    "5\n",
    "4\n",
    "2\n",
    "1\n",
    "'''"
   ]
  },
  {
   "cell_type": "markdown",
   "metadata": {},
   "source": [
    "### Data Setup"
   ]
  },
  {
   "cell_type": "code",
   "execution_count": 15,
   "metadata": {},
   "outputs": [],
   "source": [
    "ranked_a = [100,100,50,40,40,20,10]\n",
    "player_a = [5,25,50,120]\n",
    "\n",
    "ranked_b = [100,90,90,80,75,60]\n",
    "player_b = [50,65,77,90,102]"
   ]
  },
  {
   "cell_type": "markdown",
   "metadata": {},
   "source": [
    "## Strategy and Solution"
   ]
  },
  {
   "cell_type": "markdown",
   "metadata": {},
   "source": [
    "### Brute Force O(n*m)"
   ]
  },
  {
   "cell_type": "code",
   "execution_count": 16,
   "metadata": {},
   "outputs": [
    {
     "data": {
      "text/plain": [
       "'\\nwhen iterating through player, we loop through ranked and compare the values in ranked to the current score in player. we can store a ranking, and for each number that is passed, we can output that rank\\n'"
      ]
     },
     "execution_count": 16,
     "metadata": {},
     "output_type": "execute_result"
    }
   ],
   "source": [
    "'''\n",
    "when iterating through player, we loop through ranked and compare the values in ranked to the current score in player. we can store a ranking, and for each number that is passed, we can output that rank\n",
    "'''"
   ]
  },
  {
   "cell_type": "markdown",
   "metadata": {},
   "source": [
    "### Optimized"
   ]
  },
  {
   "cell_type": "code",
   "execution_count": 17,
   "metadata": {},
   "outputs": [
    {
     "data": {
      "text/plain": [
       "'\\nissue with brute force is that we re-loop through the ranked list too often.\\n\\nsince we know that the lists are ordered already, we can simply start checking the ranked list from the index where we last checked.\\n\\nwe can save on space complexity as well via converting the ranked list into an ordered set and replacein the player list with the rankings as we go.\\n'"
      ]
     },
     "execution_count": 17,
     "metadata": {},
     "output_type": "execute_result"
    }
   ],
   "source": [
    "'''\n",
    "issue with brute force is that we re-loop through the ranked list too often.\n",
    "\n",
    "since we know that the lists are ordered already, we can simply start checking the ranked list from the index where we last checked.\n",
    "\n",
    "we can save on space complexity as well via converting the ranked list into an ordered set and replacein the player list with the rankings as we go.\n",
    "'''"
   ]
  },
  {
   "cell_type": "code",
   "execution_count": 24,
   "metadata": {},
   "outputs": [],
   "source": [
    "def ordered_set(list):\n",
    "    # create list of unique values of ranked while still retaining the order\n",
    "    ordered_set = []\n",
    "    for i in range(0, len(list)):\n",
    "        if i == 0:\n",
    "            ordered_set.append(list[i])\n",
    "        else:\n",
    "            if list[i] != list[i-1]:\n",
    "                ordered_set.append(list[i])\n",
    "    return ordered_set"
   ]
  },
  {
   "cell_type": "code",
   "execution_count": 47,
   "metadata": {},
   "outputs": [],
   "source": [
    "def optimized(ranked, player):\n",
    "    ranked = ordered_set(ranked)\n",
    "    player = player[::-1]\n",
    "\n",
    "    index = 0\n",
    "    player_rankings = []\n",
    "\n",
    "    for score in player:\n",
    "        while (index < len(ranked)) and (score < ranked[index]):\n",
    "            index += 1\n",
    "        player_rankings.append(index + 1)\n",
    "    return player_rankings[::-1]"
   ]
  },
  {
   "cell_type": "code",
   "execution_count": 48,
   "metadata": {},
   "outputs": [
    {
     "name": "stdout",
     "output_type": "stream",
     "text": [
      "[6, 4, 2, 1]\n"
     ]
    }
   ],
   "source": [
    "print(optimized(ranked_a, player_a))"
   ]
  },
  {
   "cell_type": "markdown",
   "metadata": {},
   "source": [
    "## Testing"
   ]
  },
  {
   "cell_type": "code",
   "execution_count": null,
   "metadata": {},
   "outputs": [
    {
     "data": {
      "text/plain": [
       "'\\nSample Input 0\\n7\\n100 100 50 40 40 20 10\\n4\\n5 25 50 120\\n\\nSample Output 0\\n6\\n4\\n2\\n1\\n'"
      ]
     },
     "execution_count": 120,
     "metadata": {},
     "output_type": "execute_result"
    }
   ],
   "source": [
    "'''\n",
    "Sample Input 0\n",
    "7\n",
    "100 100 50 40 40 20 10\n",
    "4\n",
    "5 25 50 120\n",
    "\n",
    "Sample Output 0\n",
    "6\n",
    "4\n",
    "2\n",
    "1\n",
    "'''"
   ]
  },
  {
   "cell_type": "code",
   "execution_count": null,
   "metadata": {},
   "outputs": [
    {
     "name": "stdout",
     "output_type": "stream",
     "text": [
      "[6, 4, 2, 1]\n"
     ]
    }
   ],
   "source": [
    "print(optimized(ranked_a, player_a))"
   ]
  },
  {
   "cell_type": "code",
   "execution_count": null,
   "metadata": {},
   "outputs": [],
   "source": [
    "'''\n",
    "Sample Input 1\n",
    "6\n",
    "100 90 90 80 75 60\n",
    "5\n",
    "50 65 77 90 102\n",
    "\n",
    "Sample Output 1\n",
    "6\n",
    "5\n",
    "4\n",
    "2\n",
    "1\n",
    "'''"
   ]
  },
  {
   "cell_type": "code",
   "execution_count": null,
   "metadata": {},
   "outputs": [
    {
     "name": "stdout",
     "output_type": "stream",
     "text": [
      "[6, 5, 4, 2, 1]\n"
     ]
    }
   ],
   "source": [
    "print(optimized(ranked_b, player_b))"
   ]
  },
  {
   "cell_type": "code",
   "execution_count": null,
   "metadata": {},
   "outputs": [],
   "source": [
    "'''\n",
    "Passed 0-22 test cases\n",
    "'''"
   ]
  }
 ],
 "metadata": {
  "interpreter": {
   "hash": "bc3210eb0411503d9a54e82308439f2538c49d86b5a7c00e1ae895fbe28c5986"
  },
  "kernelspec": {
   "display_name": "Python 3.8.12 ('PythonData')",
   "language": "python",
   "name": "python3"
  },
  "language_info": {
   "codemirror_mode": {
    "name": "ipython",
    "version": 3
   },
   "file_extension": ".py",
   "mimetype": "text/x-python",
   "name": "python",
   "nbconvert_exporter": "python",
   "pygments_lexer": "ipython3",
   "version": "3.8.12"
  },
  "orig_nbformat": 4
 },
 "nbformat": 4,
 "nbformat_minor": 2
}
