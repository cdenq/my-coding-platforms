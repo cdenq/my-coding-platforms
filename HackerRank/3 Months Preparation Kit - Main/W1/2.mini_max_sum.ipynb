{
 "cells": [
  {
   "cell_type": "markdown",
   "metadata": {},
   "source": [
    "# Mini Max Sum"
   ]
  },
  {
   "cell_type": "markdown",
   "metadata": {},
   "source": [
    "## Problem Statement"
   ]
  },
  {
   "cell_type": "code",
   "execution_count": 12,
   "metadata": {},
   "outputs": [
    {
     "data": {
      "text/plain": [
       "'\\nGiven five positive integers, find the minimum and maximum values that can be calculated by summing exactly four of the five integers. Then print the respective minimum and maximum values as a single line of two space-separated long integers.\\n\\nExample\\narr = [1,3,5,7,9]\\nThe minimum sum is 1+3+5+7 = 16 and the maximum sum is 3+5+7+9=24. The function prints\\n16 24\\n\\nFunction Description\\nComplete the miniMaxSum function in the editor below.\\n\\nminiMaxSum has the following parameter(s):\\narr: an array of 5 integers\\n\\nPrint\\nPrint two space-separated integers on one line: the minimum sum and the maximum sum of 4 of 5 elements.\\n\\nInput Format\\nA single line of five space-separated integers.\\n\\nConstraints\\n1 <= arr[i] <= 10^9\\n\\nOutput Format\\nPrint two space-separated long integers denoting the respective minimum and maximum values that can be calculated by summing exactly four of the five integers. (The output can be greater than a 32 bit integer.)\\n'"
      ]
     },
     "execution_count": 12,
     "metadata": {},
     "output_type": "execute_result"
    }
   ],
   "source": [
    "'''\n",
    "Given five positive integers, find the minimum and maximum values that can be calculated by summing exactly four of the five integers. Then print the respective minimum and maximum values as a single line of two space-separated long integers.\n",
    "\n",
    "Example\n",
    "arr = [1,3,5,7,9]\n",
    "The minimum sum is 1+3+5+7 = 16 and the maximum sum is 3+5+7+9=24. The function prints\n",
    "16 24\n",
    "\n",
    "Function Description\n",
    "Complete the miniMaxSum function in the editor below.\n",
    "\n",
    "miniMaxSum has the following parameter(s):\n",
    "arr: an array of 5 integers\n",
    "\n",
    "Print\n",
    "Print two space-separated integers on one line: the minimum sum and the maximum sum of 4 of 5 elements.\n",
    "\n",
    "Input Format\n",
    "A single line of five space-separated integers.\n",
    "\n",
    "Constraints\n",
    "1 <= arr[i] <= 10^9\n",
    "\n",
    "Output Format\n",
    "Print two space-separated long integers denoting the respective minimum and maximum values that can be calculated by summing exactly four of the five integers. (The output can be greater than a 32 bit integer.)\n",
    "'''"
   ]
  },
  {
   "cell_type": "markdown",
   "metadata": {},
   "source": [
    "## Given Test Cases"
   ]
  },
  {
   "cell_type": "code",
   "execution_count": 13,
   "metadata": {},
   "outputs": [
    {
     "data": {
      "text/plain": [
       "'\\nSample Input\\n1 2 3 4 5\\n\\nSample Output\\n10 14\\n'"
      ]
     },
     "execution_count": 13,
     "metadata": {},
     "output_type": "execute_result"
    }
   ],
   "source": [
    "'''\n",
    "Sample Input\n",
    "1 2 3 4 5\n",
    "\n",
    "Sample Output\n",
    "10 14\n",
    "'''"
   ]
  },
  {
   "cell_type": "markdown",
   "metadata": {},
   "source": [
    "### Data Setup"
   ]
  },
  {
   "cell_type": "code",
   "execution_count": 16,
   "metadata": {},
   "outputs": [],
   "source": [
    "arr = [1,3,5,7,9]"
   ]
  },
  {
   "cell_type": "markdown",
   "metadata": {},
   "source": [
    "## Strategy and Solution"
   ]
  },
  {
   "cell_type": "markdown",
   "metadata": {},
   "source": [
    "### Brute Force"
   ]
  },
  {
   "cell_type": "code",
   "execution_count": 4,
   "metadata": {},
   "outputs": [
    {
     "data": {
      "text/plain": [
       "'\\niterate through the entire array, counting all the (-) values and divide the counter by the len.\\n\\ndo the same two more times with (+), (0)\\n'"
      ]
     },
     "execution_count": 4,
     "metadata": {},
     "output_type": "execute_result"
    }
   ],
   "source": [
    "'''\n",
    "we can iterate through every possible combination of 5 numbers, calculate the sums, and find the min and max of all those.\n",
    "\n",
    "while in this 5C4 is only 5, on scale this approach recalculates too many combinations.\n",
    "'''"
   ]
  },
  {
   "cell_type": "markdown",
   "metadata": {},
   "source": [
    "### Optimized"
   ]
  },
  {
   "cell_type": "code",
   "execution_count": 5,
   "metadata": {},
   "outputs": [
    {
     "data": {
      "text/plain": [
       "'\\niterate through the array once, keeping a counter of all the (-), (+), (0) values. then divide each by len\\n'"
      ]
     },
     "execution_count": 5,
     "metadata": {},
     "output_type": "execute_result"
    }
   ],
   "source": [
    "'''\n",
    "we can optimize the following with a little bit of math\n",
    "\n",
    "observe that if we take the sum of an unsorted list of N integers and remove 1,\n",
    "we can maximize the resulting sum by removing the smallest int\n",
    "and minimize the resulting sum by removing the biggest int\n",
    "'''"
   ]
  },
  {
   "cell_type": "code",
   "execution_count": 14,
   "metadata": {},
   "outputs": [],
   "source": [
    "def optimized(arr):\n",
    "    return print(f\"{sum(arr) - max(arr)} {sum(arr) - min(arr)}\")"
   ]
  },
  {
   "cell_type": "code",
   "execution_count": 17,
   "metadata": {},
   "outputs": [
    {
     "name": "stdout",
     "output_type": "stream",
     "text": [
      "16 24\n"
     ]
    }
   ],
   "source": [
    "optimized(arr)"
   ]
  },
  {
   "cell_type": "markdown",
   "metadata": {},
   "source": [
    "## Testing"
   ]
  },
  {
   "cell_type": "code",
   "execution_count": 8,
   "metadata": {},
   "outputs": [
    {
     "data": {
      "text/plain": [
       "'\\nInput (stdin)\\n6\\n-4 3 -9 0 4 1\\n\\nExpected Output\\n0.5\\n0.333333\\n0.166667\\n'"
      ]
     },
     "execution_count": 8,
     "metadata": {},
     "output_type": "execute_result"
    }
   ],
   "source": [
    "'''\n",
    "Input (stdin)\n",
    "1 2 3 4 5\n",
    "\n",
    "Expected Output\n",
    "10 14\n",
    "'''"
   ]
  },
  {
   "cell_type": "code",
   "execution_count": 18,
   "metadata": {},
   "outputs": [
    {
     "name": "stdout",
     "output_type": "stream",
     "text": [
      "10 14\n"
     ]
    }
   ],
   "source": [
    "a = [1,2,3,4,5]\n",
    "optimized(a)"
   ]
  },
  {
   "cell_type": "code",
   "execution_count": 10,
   "metadata": {},
   "outputs": [
    {
     "data": {
      "text/plain": [
       "'\\nInput (stdin)\\n8\\n1 2 3 -1 -2 -3 0 0\\n\\nExpected Output\\n0.375000\\n0.375000\\n0.250000\\n'"
      ]
     },
     "execution_count": 10,
     "metadata": {},
     "output_type": "execute_result"
    }
   ],
   "source": [
    "'''\n",
    "Input (stdin)\n",
    "7 69 2 221 8974\n",
    "\n",
    "Expected Output\n",
    "299 9271\n",
    "'''"
   ]
  },
  {
   "cell_type": "code",
   "execution_count": 19,
   "metadata": {},
   "outputs": [
    {
     "name": "stdout",
     "output_type": "stream",
     "text": [
      "299 9271\n"
     ]
    }
   ],
   "source": [
    "b = [7,69,2,221,8974]\n",
    "optimized(b)"
   ]
  },
  {
   "cell_type": "code",
   "execution_count": null,
   "metadata": {},
   "outputs": [],
   "source": [
    "'''\n",
    "Passed test cases 0-6\n",
    "'''"
   ]
  }
 ],
 "metadata": {
  "interpreter": {
   "hash": "bc3210eb0411503d9a54e82308439f2538c49d86b5a7c00e1ae895fbe28c5986"
  },
  "kernelspec": {
   "display_name": "Python 3.8.12 ('PythonData')",
   "language": "python",
   "name": "python3"
  },
  "language_info": {
   "codemirror_mode": {
    "name": "ipython",
    "version": 3
   },
   "file_extension": ".py",
   "mimetype": "text/x-python",
   "name": "python",
   "nbconvert_exporter": "python",
   "pygments_lexer": "ipython3",
   "version": "3.8.12"
  },
  "orig_nbformat": 4
 },
 "nbformat": 4,
 "nbformat_minor": 2
}
