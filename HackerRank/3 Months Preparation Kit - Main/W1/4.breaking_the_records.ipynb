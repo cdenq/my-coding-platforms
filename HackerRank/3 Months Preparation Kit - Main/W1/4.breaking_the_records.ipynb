{
 "cells": [
  {
   "cell_type": "markdown",
   "metadata": {},
   "source": [
    "# Breaking the Records"
   ]
  },
  {
   "cell_type": "markdown",
   "metadata": {},
   "source": [
    "## Problem Statement"
   ]
  },
  {
   "cell_type": "code",
   "execution_count": 1,
   "metadata": {},
   "outputs": [
    {
     "data": {
      "text/plain": [
       "'\\nMaria plays college basketball and wants to go pro. Each season she maintains a record of her play. She tabulates the number of times she breaks her season record for most points and least points in a game. Points scored in the first game establish her record for the season, and she begins counting from there.\\n\\nExample\\nscores = [12,24,10,24]\\n\\nScores are in the same order as the games played. She tabulates her results as follows:\\n\\n                                     Count\\n    Game  Score  Minimum  Maximum   Min Max\\n     0      12     12       12       0   0\\n     1      24     12       24       0   1\\n     2      10     10       24       1   1\\n     3      24     10       24       1   1\\nGiven the scores for a season, determine the number of times Maria breaks her records for most and least points scored during the season.\\n\\nFunction Description\\nComplete the breakingRecords function in the editor below.\\n\\nbreakingRecords has the following parameter(s):\\nint scores[n]: points scored per game\\n\\nReturns\\nint[2]: An array with the numbers of times she broke her records. Index 0 is for breaking most points records, and index 1 is for breaking least points records.\\nInput Format\\n\\nThe first line contains an integer n, the number of games.\\nThe second line contains n space-separated integers describing the respective values of score0, score1, ..., score(n-1).\\n\\nConstraints\\n1 <= n <= 1000\\n0 <= scores[i] <= 10^8\\n'"
      ]
     },
     "execution_count": 1,
     "metadata": {},
     "output_type": "execute_result"
    }
   ],
   "source": [
    "'''\n",
    "Maria plays college basketball and wants to go pro. Each season she maintains a record of her play. She tabulates the number of times she breaks her season record for most points and least points in a game.\n",
    "Points scored in the first game establish her record for the season, and she begins counting from there.\n",
    "\n",
    "Example\n",
    "scores = [12,24,10,24]\n",
    "\n",
    "Scores are in the same order as the games played. She tabulates her results as follows:\n",
    "\n",
    "                                     Count\n",
    "    Game  Score  Minimum  Maximum   Min Max\n",
    "     0      12     12       12       0   0\n",
    "     1      24     12       24       0   1\n",
    "     2      10     10       24       1   1\n",
    "     3      24     10       24       1   1\n",
    "Given the scores for a season, determine the number of times Maria breaks her records for most and least points scored during the season.\n",
    "\n",
    "Function Description\n",
    "Complete the breakingRecords function in the editor below.\n",
    "\n",
    "breakingRecords has the following parameter(s):\n",
    "int scores[n]: points scored per game\n",
    "\n",
    "Returns\n",
    "int[2]: An array with the numbers of times she broke her records. Index 0 is for breaking most points records, and index 1 is for breaking least points records.\n",
    "Input Format\n",
    "\n",
    "The first line contains an integer n, the number of games.\n",
    "The second line contains n space-separated integers describing the respective values of score0, score1, ..., score(n-1).\n",
    "\n",
    "Constraints\n",
    "1 <= n <= 1000\n",
    "0 <= scores[i] <= 10^8\n",
    "'''"
   ]
  },
  {
   "cell_type": "markdown",
   "metadata": {},
   "source": [
    "## Given Test Cases"
   ]
  },
  {
   "cell_type": "code",
   "execution_count": 13,
   "metadata": {},
   "outputs": [
    {
     "data": {
      "text/plain": [
       "'\\nSample Input\\n1 2 3 4 5\\n\\nSample Output\\n10 14\\n'"
      ]
     },
     "execution_count": 13,
     "metadata": {},
     "output_type": "execute_result"
    }
   ],
   "source": [
    "'''\n",
    "N/A\n",
    "'''"
   ]
  },
  {
   "cell_type": "markdown",
   "metadata": {},
   "source": [
    "### Data Setup"
   ]
  },
  {
   "cell_type": "code",
   "execution_count": 6,
   "metadata": {},
   "outputs": [],
   "source": [
    "# NA"
   ]
  },
  {
   "cell_type": "markdown",
   "metadata": {},
   "source": [
    "## Strategy and Solution"
   ]
  },
  {
   "cell_type": "markdown",
   "metadata": {},
   "source": [
    "### Brute Force"
   ]
  },
  {
   "cell_type": "code",
   "execution_count": 4,
   "metadata": {},
   "outputs": [
    {
     "data": {
      "text/plain": [
       "'\\niterate through the entire array, counting all the (-) values and divide the counter by the len.\\n\\ndo the same two more times with (+), (0)\\n'"
      ]
     },
     "execution_count": 4,
     "metadata": {},
     "output_type": "execute_result"
    }
   ],
   "source": [
    "'''\n",
    "iterate through the list, keeping track of the lowest and highest scores as we traverse the list + the number of times we change that list\n",
    "'''"
   ]
  },
  {
   "cell_type": "code",
   "execution_count": 3,
   "metadata": {},
   "outputs": [],
   "source": [
    "def breakingRecords(scores):\n",
    "    max_num, min_num = scores[0], scores[0]\n",
    "    max_ct, min_ct = 0, 0\n",
    "    for element in scores:\n",
    "        if (element > max_num):\n",
    "            max_num = element\n",
    "            max_ct += 1\n",
    "        elif (element < min_num):\n",
    "            min_num = element\n",
    "            min_ct += 1\n",
    "    arr = [max_ct, min_ct]\n",
    "    return arr"
   ]
  },
  {
   "cell_type": "markdown",
   "metadata": {},
   "source": [
    "## Testing"
   ]
  },
  {
   "cell_type": "code",
   "execution_count": 7,
   "metadata": {},
   "outputs": [
    {
     "data": {
      "text/plain": [
       "'\\nSample Input\\n9\\n10 5 20 20 4 5 2 25 1\\n\\nSample Output\\n2 4\\n'"
      ]
     },
     "execution_count": 7,
     "metadata": {},
     "output_type": "execute_result"
    }
   ],
   "source": [
    "'''\n",
    "Sample Input\n",
    "9\n",
    "10 5 20 20 4 5 2 25 1\n",
    "\n",
    "Sample Output\n",
    "2 4\n",
    "'''"
   ]
  },
  {
   "cell_type": "code",
   "execution_count": 8,
   "metadata": {},
   "outputs": [
    {
     "name": "stdout",
     "output_type": "stream",
     "text": [
      "[2, 4]\n"
     ]
    }
   ],
   "source": [
    "s = [10,5,20,20,4,5,2,25,1]\n",
    "print(breakingRecords(s))"
   ]
  },
  {
   "cell_type": "code",
   "execution_count": 9,
   "metadata": {},
   "outputs": [
    {
     "data": {
      "text/plain": [
       "'\\nSample Input\\n10\\n3 4 21 36 10 28 35 5 24 42\\n\\nSample Output\\n4 0\\n'"
      ]
     },
     "execution_count": 9,
     "metadata": {},
     "output_type": "execute_result"
    }
   ],
   "source": [
    "'''\n",
    "Sample Input\n",
    "10\n",
    "3 4 21 36 10 28 35 5 24 42\n",
    "\n",
    "Sample Output\n",
    "4 0\n",
    "'''"
   ]
  },
  {
   "cell_type": "code",
   "execution_count": 10,
   "metadata": {},
   "outputs": [
    {
     "name": "stdout",
     "output_type": "stream",
     "text": [
      "[4, 0]\n"
     ]
    }
   ],
   "source": [
    "s2 = [3,4,21,36,10,28,35,5,24,42]\n",
    "print(breakingRecords(s2))"
   ]
  },
  {
   "cell_type": "code",
   "execution_count": null,
   "metadata": {},
   "outputs": [],
   "source": [
    "'''\n",
    "Passed 0-14 test case\n",
    "'''"
   ]
  }
 ],
 "metadata": {
  "interpreter": {
   "hash": "bc3210eb0411503d9a54e82308439f2538c49d86b5a7c00e1ae895fbe28c5986"
  },
  "kernelspec": {
   "display_name": "Python 3.8.12 ('PythonData')",
   "language": "python",
   "name": "python3"
  },
  "language_info": {
   "codemirror_mode": {
    "name": "ipython",
    "version": 3
   },
   "file_extension": ".py",
   "mimetype": "text/x-python",
   "name": "python",
   "nbconvert_exporter": "python",
   "pygments_lexer": "ipython3",
   "version": "3.8.12"
  },
  "orig_nbformat": 4
 },
 "nbformat": 4,
 "nbformat_minor": 2
}
