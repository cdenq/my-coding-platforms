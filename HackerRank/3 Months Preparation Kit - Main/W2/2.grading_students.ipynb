{
 "cells": [
  {
   "cell_type": "markdown",
   "metadata": {},
   "source": [
    "# Grading Students"
   ]
  },
  {
   "cell_type": "markdown",
   "metadata": {},
   "source": [
    "## Problem Statement"
   ]
  },
  {
   "cell_type": "code",
   "execution_count": 1,
   "metadata": {},
   "outputs": [
    {
     "data": {
      "text/plain": [
       "\"\\nHackerLand University has the following grading policy:\\n\\nEvery student receives a grade in the inclusive range from 0 to 100.\\nAny grade less than 40 is a failing grade.\\nSam is a professor at the university and likes to round each student's grade according to these rules:\\n\\nIf the difference between the grade and the next multiple of 5 is less than 3, round grade up to the next multiple of 5.\\nIf the value of grade is less than 38, no rounding occurs as the result will still be a failing grade.\\nExamples\\ngrade = 84 round to 85 (85 - 84 is less than 3)\\ngrade = 29 do not round (result is less than 40)\\ngrade = 57 do not round (60 - 57 is 3 or higher)\\nGiven the initial value of grade for each of Sam's n students, write code to automate the rounding process.\\n\\nFunction Description\\nComplete the function gradingStudents in the editor below.\\n\\ngradingStudents has the following parameter(s):\\nint grades[n]: the grades before rounding\\n\\nReturns\\nint[n]: the grades after rounding as appropriate\\n\\nInput Format\\nThe first line contains a single integer, n, the number of students.\\nEach line i of the n subsequent lines contains a single integer, grade[i].\\n\\nConstraints\\n1 <= n <= 60\\n0 <= grades[i] <= 100\\n\""
      ]
     },
     "execution_count": 1,
     "metadata": {},
     "output_type": "execute_result"
    }
   ],
   "source": [
    "'''\n",
    "HackerLand University has the following grading policy:\n",
    "\n",
    "Every student receives a grade in the inclusive range from 0 to 100.\n",
    "Any grade less than 40 is a failing grade.\n",
    "Sam is a professor at the university and likes to round each student's grade according to these rules:\n",
    "\n",
    "If the difference between the grade and the next multiple of 5 is less than 3, round grade up to the next multiple of 5.\n",
    "If the value of grade is less than 38, no rounding occurs as the result will still be a failing grade.\n",
    "Examples\n",
    "grade = 84 round to 85 (85 - 84 is less than 3)\n",
    "grade = 29 do not round (result is less than 40)\n",
    "grade = 57 do not round (60 - 57 is 3 or higher)\n",
    "Given the initial value of grade for each of Sam's n students, write code to automate the rounding process.\n",
    "\n",
    "Function Description\n",
    "Complete the function gradingStudents in the editor below.\n",
    "\n",
    "gradingStudents has the following parameter(s):\n",
    "int grades[n]: the grades before rounding\n",
    "\n",
    "Returns\n",
    "int[n]: the grades after rounding as appropriate\n",
    "\n",
    "Input Format\n",
    "The first line contains a single integer, n, the number of students.\n",
    "Each line i of the n subsequent lines contains a single integer, grade[i].\n",
    "\n",
    "Constraints\n",
    "1 <= n <= 60\n",
    "0 <= grades[i] <= 100\n",
    "'''"
   ]
  },
  {
   "cell_type": "markdown",
   "metadata": {},
   "source": [
    "## Given Test Cases"
   ]
  },
  {
   "cell_type": "code",
   "execution_count": 3,
   "metadata": {},
   "outputs": [
    {
     "data": {
      "text/plain": [
       "'\\nSample Input\\n7\\n1 2 3 4 3 2 1\\n\\nSample Output\\n4\\n'"
      ]
     },
     "execution_count": 3,
     "metadata": {},
     "output_type": "execute_result"
    }
   ],
   "source": [
    "'''\n",
    "N/A\n",
    "'''"
   ]
  },
  {
   "cell_type": "markdown",
   "metadata": {},
   "source": [
    "### Data Setup"
   ]
  },
  {
   "cell_type": "code",
   "execution_count": 4,
   "metadata": {},
   "outputs": [],
   "source": [
    "#N/A"
   ]
  },
  {
   "cell_type": "markdown",
   "metadata": {},
   "source": [
    "## Strategy and Solution"
   ]
  },
  {
   "cell_type": "markdown",
   "metadata": {},
   "source": [
    "### Brute Force (On)"
   ]
  },
  {
   "cell_type": "code",
   "execution_count": 5,
   "metadata": {},
   "outputs": [
    {
     "data": {
      "text/plain": [
       "'\\nWe can iterate through the loop, keeping track of which numbers we have seen so far in a dictionary. once we have finished with the list, we simply return the dictionary.key that has value of 1. \\n'"
      ]
     },
     "execution_count": 5,
     "metadata": {},
     "output_type": "execute_result"
    }
   ],
   "source": [
    "'''\n",
    "iterate through the list (O(n)) and simply implement the ruleset at each line\n",
    "'''"
   ]
  },
  {
   "cell_type": "code",
   "execution_count": 3,
   "metadata": {},
   "outputs": [],
   "source": [
    "def gradingStudents(grades):\n",
    "    output = []\n",
    "    for n in grades:\n",
    "        next_n = n + (5 - n%5)\n",
    "        if (n >= 38) & (next_n - n < 3):\n",
    "            output.append(next_n)\n",
    "        else:\n",
    "            output.append(n)\n",
    "    return output"
   ]
  },
  {
   "cell_type": "markdown",
   "metadata": {},
   "source": [
    "## Testing"
   ]
  },
  {
   "cell_type": "code",
   "execution_count": 20,
   "metadata": {},
   "outputs": [
    {
     "data": {
      "text/plain": [
       "'\\nSample Input\\n1\\n1\\n\\nSample Output\\n1\\n'"
      ]
     },
     "execution_count": 20,
     "metadata": {},
     "output_type": "execute_result"
    }
   ],
   "source": [
    "'''\n",
    "Sample Input\n",
    "4\n",
    "73\n",
    "67\n",
    "38\n",
    "33\n",
    "\n",
    "Sample Output\n",
    "75\n",
    "67\n",
    "40\n",
    "33\n",
    "'''"
   ]
  },
  {
   "cell_type": "code",
   "execution_count": 4,
   "metadata": {},
   "outputs": [
    {
     "data": {
      "text/plain": [
       "[75, 67, 40, 33]"
      ]
     },
     "execution_count": 4,
     "metadata": {},
     "output_type": "execute_result"
    }
   ],
   "source": [
    "a = [73, 67, 38, 33]\n",
    "gradingStudents(a)"
   ]
  },
  {
   "cell_type": "code",
   "execution_count": null,
   "metadata": {},
   "outputs": [
    {
     "data": {
      "text/plain": [
       "'\\nPassed all test cases\\n'"
      ]
     },
     "execution_count": 24,
     "metadata": {},
     "output_type": "execute_result"
    }
   ],
   "source": [
    "'''\n",
    "Passed all test cases\n",
    "'''"
   ]
  }
 ],
 "metadata": {
  "interpreter": {
   "hash": "bc3210eb0411503d9a54e82308439f2538c49d86b5a7c00e1ae895fbe28c5986"
  },
  "kernelspec": {
   "display_name": "Python 3.8.12 ('PythonData')",
   "language": "python",
   "name": "python3"
  },
  "language_info": {
   "codemirror_mode": {
    "name": "ipython",
    "version": 3
   },
   "file_extension": ".py",
   "mimetype": "text/x-python",
   "name": "python",
   "nbconvert_exporter": "python",
   "pygments_lexer": "ipython3",
   "version": "3.8.12"
  },
  "orig_nbformat": 4
 },
 "nbformat": 4,
 "nbformat_minor": 2
}
