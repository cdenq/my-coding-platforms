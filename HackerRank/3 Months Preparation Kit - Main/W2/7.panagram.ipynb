{
 "cells": [
  {
   "cell_type": "markdown",
   "metadata": {},
   "source": [
    "# Pangram"
   ]
  },
  {
   "cell_type": "markdown",
   "metadata": {},
   "source": [
    "## Problem Statement"
   ]
  },
  {
   "cell_type": "code",
   "execution_count": 32,
   "metadata": {},
   "outputs": [
    {
     "data": {
      "text/plain": [
       "'\\nA pangram is a string that contains every letter of the alphabet. Given a sentence determine whether it is a pangram in the English alphabet.\\nIgnore case. Return either pangram or not pangram as appropriate.\\n\\nExample\\ns = \"The quick brown fox jumps over the lazy dog.\"\\nThe string contains all letters in the English alphabet, so return pangram.\\n\\nFunction Description\\n\\nComplete the function pangrams in the editor below. It should return the string pangram if the input string is a pangram. Otherwise, it should return not pangram.\\n\\npangrams has the following parameter(s):\\nstring s: a string to test\\n\\nReturns\\nstring: either pangram or not pangram\\n\\nInput Format\\nA single line with string s.\\n\\nConstraints\\n0 < length of s <= 10^3\\nEach character of s, s[i] within set of {a - z, A - Z, space}\\n'"
      ]
     },
     "execution_count": 32,
     "metadata": {},
     "output_type": "execute_result"
    }
   ],
   "source": [
    "'''\n",
    "A pangram is a string that contains every letter of the alphabet. Given a sentence determine whether it is a pangram in the English alphabet.\n",
    "Ignore case. Return either pangram or not pangram as appropriate.\n",
    "\n",
    "Example\n",
    "s = \"The quick brown fox jumps over the lazy dog.\"\n",
    "The string contains all letters in the English alphabet, so return pangram.\n",
    "\n",
    "Function Description\n",
    "\n",
    "Complete the function pangrams in the editor below. It should return the string pangram if the input string is a pangram. Otherwise, it should return not pangram.\n",
    "\n",
    "pangrams has the following parameter(s):\n",
    "string s: a string to test\n",
    "\n",
    "Returns\n",
    "string: either pangram or not pangram\n",
    "\n",
    "Input Format\n",
    "A single line with string s.\n",
    "\n",
    "Constraints\n",
    "0 < length of s <= 10^3\n",
    "Each character of s, s[i] within set of {a - z, A - Z, space}\n",
    "'''"
   ]
  },
  {
   "cell_type": "markdown",
   "metadata": {},
   "source": [
    "## Given Test Cases"
   ]
  },
  {
   "cell_type": "code",
   "execution_count": 33,
   "metadata": {},
   "outputs": [
    {
     "data": {
      "text/plain": [
       "'\\nSample Input\\nWe promptly judged antique ivory buckles for the next prize\\n\\nSample Output\\npangram\\n'"
      ]
     },
     "execution_count": 33,
     "metadata": {},
     "output_type": "execute_result"
    }
   ],
   "source": [
    "'''\n",
    "Sample Input\n",
    "We promptly judged antique ivory buckles for the next prize\n",
    "\n",
    "Sample Output\n",
    "pangram\n",
    "'''"
   ]
  },
  {
   "cell_type": "markdown",
   "metadata": {},
   "source": [
    "### Data Setup"
   ]
  },
  {
   "cell_type": "code",
   "execution_count": 34,
   "metadata": {},
   "outputs": [],
   "source": [
    "s = \"We promptly judged antique ivory buckles for the next prize\""
   ]
  },
  {
   "cell_type": "markdown",
   "metadata": {},
   "source": [
    "## Strategy and Solution"
   ]
  },
  {
   "cell_type": "markdown",
   "metadata": {},
   "source": [
    "### Brute Force O(26 * 2n) = O(n) worst case, O((26 * 2n)/2) = O(n) average case"
   ]
  },
  {
   "cell_type": "code",
   "execution_count": 35,
   "metadata": {},
   "outputs": [
    {
     "data": {
      "text/plain": [
       "'\\nwe need to do a string comaprison between the input and the alphabet, so this will be a series of for-loops via python \"in/not in\" operators\\n\\nfor simplicity sake, we can import string library\\'s ascii_letters (or manually type them out) to get a rubric.\\n\\nnext, loop through the rubric, checking if the lowercase or uppercase letter in the rubric is also in the input string. the moment we do not find a match, break the loop and return\\n\\nif the entire rubric is completed, then we know that input string is a pangram.\\n\\nNOTE: we loop through the rubric beacuse we know the rubric is a unique set of letters. worst case runtime is 26 loops.\\nif we looped through the string to check if it was in the dictionary, the string could have a lots of repeated letters, which would result in unnecessary computation.\\n'"
      ]
     },
     "execution_count": 35,
     "metadata": {},
     "output_type": "execute_result"
    }
   ],
   "source": [
    "'''\n",
    "we need to do a string comaprison between the input and the alphabet, so this will be a series of for-loops via python \"in/not in\" operators\n",
    "\n",
    "for simplicity sake, we can import string library's ascii_letters (or manually type them out) to get a rubric.\n",
    "\n",
    "next, loop through the rubric, checking if the lowercase or uppercase letter in the rubric is also in the input string. the moment we do not find a match, break the loop and return\n",
    "\n",
    "if the entire rubric is completed, then we know that input string is a pangram.\n",
    "\n",
    "NOTE: we loop through the rubric beacuse we know the rubric is a unique set of letters. worst case runtime is 26 loops.\n",
    "if we looped through the string to check if it was in the dictionary, the string could have a lots of repeated letters, which would result in unnecessary computation.\n",
    "'''"
   ]
  },
  {
   "cell_type": "code",
   "execution_count": 36,
   "metadata": {},
   "outputs": [],
   "source": [
    "def brute(s):\n",
    "    import string\n",
    "    rubric = string.ascii_letters\n",
    "    is_pangram = True\n",
    "    for i in range(int(len(rubric)/2)):\n",
    "        if (rubric[i] not in s) & (rubric[i+26] not in s):\n",
    "            is_pangram = False\n",
    "            break\n",
    "    if (is_pangram == False):\n",
    "        return 'not pangram'\n",
    "    else:\n",
    "        return 'pangram'"
   ]
  },
  {
   "cell_type": "code",
   "execution_count": 37,
   "metadata": {},
   "outputs": [
    {
     "name": "stdout",
     "output_type": "stream",
     "text": [
      "pangram\n"
     ]
    }
   ],
   "source": [
    "print(brute(s))"
   ]
  },
  {
   "cell_type": "markdown",
   "metadata": {},
   "source": [
    "### Optimized + Cleaner Code"
   ]
  },
  {
   "cell_type": "code",
   "execution_count": 38,
   "metadata": {},
   "outputs": [
    {
     "data": {
      "text/plain": [
       "'\\nWe can run a slightly faster version of the code (albeit still O(n) runtime) by using various string modifiers.\\n\\nFirstly, we can condense the string by removing all non-letter characters like white-space, spaces, and punctuation\\nNext, we can convert all letters into lowercase\\nFinally, we can take the python set of the this string, keeping only the unique letters.\\n\\nAs a result, when we take the length of this string, if the string is less than 26, we know that this is not a pangram.\\n'"
      ]
     },
     "execution_count": 38,
     "metadata": {},
     "output_type": "execute_result"
    }
   ],
   "source": [
    "'''\n",
    "We can run a slightly faster version of the code (albeit still O(n) runtime) by using various string modifiers.\n",
    "\n",
    "Firstly, we can condense the string by removing all non-letter characters like white-space, spaces, and punctuation\n",
    "Next, we can convert all letters into lowercase\n",
    "Finally, we can take the python set of the this string, keeping only the unique letters.\n",
    "\n",
    "As a result, when we take the length of this string, if the string is less than 26, we know that this is not a pangram.\n",
    "'''"
   ]
  },
  {
   "cell_type": "code",
   "execution_count": 39,
   "metadata": {},
   "outputs": [],
   "source": [
    "def optimized(s):\n",
    "    s = set(s.replace(\" \", \"\").lower())\n",
    "    if len(s) != 26:\n",
    "        return 'not pangram'\n",
    "    else: \n",
    "        return 'pangram'"
   ]
  },
  {
   "cell_type": "code",
   "execution_count": 40,
   "metadata": {},
   "outputs": [
    {
     "data": {
      "text/plain": [
       "'pangram'"
      ]
     },
     "execution_count": 40,
     "metadata": {},
     "output_type": "execute_result"
    }
   ],
   "source": [
    "optimized(s)"
   ]
  },
  {
   "cell_type": "markdown",
   "metadata": {},
   "source": [
    "## Testing"
   ]
  },
  {
   "cell_type": "code",
   "execution_count": 41,
   "metadata": {},
   "outputs": [
    {
     "data": {
      "text/plain": [
       "'\\nSample Input\\nWe promptly judged antique ivory buckles for the next prize\\n\\nSample Output\\npangram\\n'"
      ]
     },
     "execution_count": 41,
     "metadata": {},
     "output_type": "execute_result"
    }
   ],
   "source": [
    "'''\n",
    "Sample Input\n",
    "We promptly judged antique ivory buckles for the next prize\n",
    "\n",
    "Sample Output\n",
    "pangram\n",
    "'''"
   ]
  },
  {
   "cell_type": "code",
   "execution_count": 42,
   "metadata": {},
   "outputs": [
    {
     "name": "stdout",
     "output_type": "stream",
     "text": [
      "pangram\n"
     ]
    }
   ],
   "source": [
    "print(optimized(s))"
   ]
  },
  {
   "cell_type": "code",
   "execution_count": 43,
   "metadata": {},
   "outputs": [
    {
     "data": {
      "text/plain": [
       "'\\nSample Input\\nWe promptly judged antique ivory buckles for the prize\\n\\nSample Output\\nnot pangram\\n'"
      ]
     },
     "execution_count": 43,
     "metadata": {},
     "output_type": "execute_result"
    }
   ],
   "source": [
    "'''\n",
    "Sample Input\n",
    "We promptly judged antique ivory buckles for the prize\n",
    "\n",
    "Sample Output\n",
    "not pangram\n",
    "'''"
   ]
  },
  {
   "cell_type": "code",
   "execution_count": 44,
   "metadata": {},
   "outputs": [],
   "source": [
    "s2 = 'We promptly judged antique ivory buckles for the prize'"
   ]
  },
  {
   "cell_type": "code",
   "execution_count": 45,
   "metadata": {},
   "outputs": [
    {
     "name": "stdout",
     "output_type": "stream",
     "text": [
      "not pangram\n"
     ]
    }
   ],
   "source": [
    "print(optimized(s2))"
   ]
  },
  {
   "cell_type": "code",
   "execution_count": 46,
   "metadata": {},
   "outputs": [
    {
     "data": {
      "text/plain": [
       "'\\nPassed all test cases\\n'"
      ]
     },
     "execution_count": 46,
     "metadata": {},
     "output_type": "execute_result"
    }
   ],
   "source": [
    "'''\n",
    "Passed all test cases\n",
    "'''"
   ]
  }
 ],
 "metadata": {
  "interpreter": {
   "hash": "bc3210eb0411503d9a54e82308439f2538c49d86b5a7c00e1ae895fbe28c5986"
  },
  "kernelspec": {
   "display_name": "Python 3.8.12 ('PythonData')",
   "language": "python",
   "name": "python3"
  },
  "language_info": {
   "codemirror_mode": {
    "name": "ipython",
    "version": 3
   },
   "file_extension": ".py",
   "mimetype": "text/x-python",
   "name": "python",
   "nbconvert_exporter": "python",
   "pygments_lexer": "ipython3",
   "version": "3.8.12"
  },
  "orig_nbformat": 4
 },
 "nbformat": 4,
 "nbformat_minor": 2
}
