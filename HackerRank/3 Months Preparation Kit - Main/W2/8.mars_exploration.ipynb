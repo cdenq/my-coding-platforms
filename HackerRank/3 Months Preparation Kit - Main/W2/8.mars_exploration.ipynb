{
 "cells": [
  {
   "cell_type": "markdown",
   "metadata": {},
   "source": [
    "# Mars Exploration"
   ]
  },
  {
   "cell_type": "markdown",
   "metadata": {},
   "source": [
    "## Problem Statement"
   ]
  },
  {
   "cell_type": "code",
   "execution_count": 23,
   "metadata": {},
   "outputs": [
    {
     "data": {
      "text/plain": [
       "'\\nLetters in some of the SOS messages are altered by cosmic radiation during transmission.\\nGiven the signal received by Earth as a string, s, determine how many letters of the SOS message have been changed by radiation.\\n\\nExample\\ns = \"SOSTOT\"\\n\\nThe original message was SOSSOS. Two of the message\\'s characters were changed in transit.\\n\\nFunction Description\\nComplete the marsExploration function in the editor below.\\n\\nmarsExploration has the following parameter(s):\\nstring s: the string as received on Earth\\n\\nReturns\\nint: the number of letters changed during transmission\\n\\nInput Format\\nThere is one line of input: a single string, s.\\n\\nConstraints\\n1 <= length of s <= 99\\nlength of s modulo 3 = 0\\ns will contain only uppercase English letters, ascii[A-Z].\\n'"
      ]
     },
     "execution_count": 23,
     "metadata": {},
     "output_type": "execute_result"
    }
   ],
   "source": [
    "'''\n",
    "Letters in some of the SOS messages are altered by cosmic radiation during transmission.\n",
    "Given the signal received by Earth as a string, s, determine how many letters of the SOS message have been changed by radiation.\n",
    "\n",
    "Example\n",
    "s = \"SOSTOT\"\n",
    "\n",
    "The original message was SOSSOS. Two of the message's characters were changed in transit.\n",
    "\n",
    "Function Description\n",
    "Complete the marsExploration function in the editor below.\n",
    "\n",
    "marsExploration has the following parameter(s):\n",
    "string s: the string as received on Earth\n",
    "\n",
    "Returns\n",
    "int: the number of letters changed during transmission\n",
    "\n",
    "Input Format\n",
    "There is one line of input: a single string, s.\n",
    "\n",
    "Constraints\n",
    "1 <= length of s <= 99\n",
    "length of s modulo 3 = 0\n",
    "s will contain only uppercase English letters, ascii[A-Z].\n",
    "'''"
   ]
  },
  {
   "cell_type": "markdown",
   "metadata": {},
   "source": [
    "## Given Test Cases"
   ]
  },
  {
   "cell_type": "code",
   "execution_count": 24,
   "metadata": {},
   "outputs": [
    {
     "data": {
      "text/plain": [
       "'\\nSample Input\\nS = SOSSPSSQSSOR\\n\\nSample Output\\n3\\n'"
      ]
     },
     "execution_count": 24,
     "metadata": {},
     "output_type": "execute_result"
    }
   ],
   "source": [
    "'''\n",
    "Sample Input\n",
    "S = SOSSPSSQSSOR\n",
    "\n",
    "Sample Output\n",
    "3\n",
    "'''"
   ]
  },
  {
   "cell_type": "markdown",
   "metadata": {},
   "source": [
    "### Data Setup"
   ]
  },
  {
   "cell_type": "code",
   "execution_count": 25,
   "metadata": {},
   "outputs": [],
   "source": [
    "s = \"SOSSPSSQSSOR\""
   ]
  },
  {
   "cell_type": "markdown",
   "metadata": {},
   "source": [
    "## Strategy and Solution"
   ]
  },
  {
   "cell_type": "markdown",
   "metadata": {},
   "source": [
    "### Brute Force O(n)"
   ]
  },
  {
   "cell_type": "code",
   "execution_count": 26,
   "metadata": {},
   "outputs": [
    {
     "data": {
      "text/plain": [
       "\"\\nWe can do a direct chr comparison via a single for-loop. Any time we don't get a match, we can increment a counter. At the end of the loop, return the counter.\\n\\nSince the comparison changes depending on the index of the chr in relationship to the SOS pattern, we can have if-statements to make sure we are correctly comparing the chrs.\\n\\nFrom a pattern of SOS, SOS, SOS...\\nWe know that this is a cycle of 3 letters.\\nSo every third letter starting from 0 (index 0, 3, 6, etc.) will always the first S in SOS\\nevery third letter from 1 (index 1, 4, 7, etc.) will awlays be the middle O in SOS\\nand every third letter from 2 (index 2, 5, 8, etc.) will always be the last S in SOS\\n\\nThus, we can use modulo to handle the looping.\\n\""
      ]
     },
     "execution_count": 26,
     "metadata": {},
     "output_type": "execute_result"
    }
   ],
   "source": [
    "'''\n",
    "We can do a direct chr comparison via a single for-loop. Any time we don't get a match, we can increment a counter. At the end of the loop, return the counter.\n",
    "\n",
    "Since the comparison changes depending on the index of the chr in relationship to the SOS pattern, we can have if-statements to make sure we are correctly comparing the chrs.\n",
    "\n",
    "From a pattern of SOS, SOS, SOS...\n",
    "We know that this is a cycle of 3 letters.\n",
    "So every third letter starting from 0 (index 0, 3, 6, etc.) will always the first S in SOS\n",
    "every third letter from 1 (index 1, 4, 7, etc.) will awlays be the middle O in SOS\n",
    "and every third letter from 2 (index 2, 5, 8, etc.) will always be the last S in SOS\n",
    "\n",
    "Thus, we can use modulo to handle the looping.\n",
    "'''"
   ]
  },
  {
   "cell_type": "code",
   "execution_count": 27,
   "metadata": {},
   "outputs": [],
   "source": [
    "def brute(s):\n",
    "    changed_ct = 0\n",
    "    for i in range(len(s)):\n",
    "        if i % 3 == 1: #positions 1t\n",
    "            if s[i] != 'O':\n",
    "                changed_ct += 1\n",
    "        else: #positions 0t, 2t\n",
    "            if s[i] != 'S':\n",
    "                changed_ct += 1\n",
    "    return changed_ct"
   ]
  },
  {
   "cell_type": "code",
   "execution_count": 28,
   "metadata": {},
   "outputs": [
    {
     "name": "stdout",
     "output_type": "stream",
     "text": [
      "3\n"
     ]
    }
   ],
   "source": [
    "print(marsExploration(s))"
   ]
  },
  {
   "cell_type": "markdown",
   "metadata": {},
   "source": [
    "## Testing"
   ]
  },
  {
   "cell_type": "code",
   "execution_count": 29,
   "metadata": {},
   "outputs": [
    {
     "data": {
      "text/plain": [
       "'\\nSample Input\\nS = SOSSPSSQSSOR\\n\\nSample Output\\n3\\n'"
      ]
     },
     "execution_count": 29,
     "metadata": {},
     "output_type": "execute_result"
    }
   ],
   "source": [
    "'''\n",
    "Sample Input\n",
    "S = SOSSPSSQSSOR\n",
    "\n",
    "Sample Output\n",
    "3\n",
    "'''"
   ]
  },
  {
   "cell_type": "code",
   "execution_count": 30,
   "metadata": {},
   "outputs": [
    {
     "name": "stdout",
     "output_type": "stream",
     "text": [
      "3\n"
     ]
    }
   ],
   "source": [
    "print(brute(s))"
   ]
  },
  {
   "cell_type": "code",
   "execution_count": 31,
   "metadata": {},
   "outputs": [
    {
     "data": {
      "text/plain": [
       "'\\nSample Input\\nS = SOSSOT\\n\\nSample Output\\n1\\n'"
      ]
     },
     "execution_count": 31,
     "metadata": {},
     "output_type": "execute_result"
    }
   ],
   "source": [
    "'''\n",
    "Sample Input\n",
    "S = SOSSOT\n",
    "\n",
    "Sample Output\n",
    "1\n",
    "'''"
   ]
  },
  {
   "cell_type": "code",
   "execution_count": 32,
   "metadata": {},
   "outputs": [],
   "source": [
    "s2 = 'SOSSOT'"
   ]
  },
  {
   "cell_type": "code",
   "execution_count": 33,
   "metadata": {},
   "outputs": [
    {
     "name": "stdout",
     "output_type": "stream",
     "text": [
      "1\n"
     ]
    }
   ],
   "source": [
    "print(brute(s2))"
   ]
  },
  {
   "cell_type": "code",
   "execution_count": 34,
   "metadata": {},
   "outputs": [
    {
     "data": {
      "text/plain": [
       "'\\nPassed all test cases\\n'"
      ]
     },
     "execution_count": 34,
     "metadata": {},
     "output_type": "execute_result"
    }
   ],
   "source": [
    "'''\n",
    "Passed all test cases\n",
    "'''"
   ]
  }
 ],
 "metadata": {
  "interpreter": {
   "hash": "bc3210eb0411503d9a54e82308439f2538c49d86b5a7c00e1ae895fbe28c5986"
  },
  "kernelspec": {
   "display_name": "Python 3.8.12 ('PythonData')",
   "language": "python",
   "name": "python3"
  },
  "language_info": {
   "codemirror_mode": {
    "name": "ipython",
    "version": 3
   },
   "file_extension": ".py",
   "mimetype": "text/x-python",
   "name": "python",
   "nbconvert_exporter": "python",
   "pygments_lexer": "ipython3",
   "version": "3.8.12"
  },
  "orig_nbformat": 4
 },
 "nbformat": 4,
 "nbformat_minor": 2
}
