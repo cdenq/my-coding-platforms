{
 "cells": [
  {
   "cell_type": "markdown",
   "metadata": {},
   "source": [
    "# Flipping the Matrix"
   ]
  },
  {
   "cell_type": "markdown",
   "metadata": {},
   "source": [
    "## Problem Statement"
   ]
  },
  {
   "cell_type": "code",
   "execution_count": 19,
   "metadata": {},
   "outputs": [
    {
     "data": {
      "text/plain": [
       "\"\\nSean invented a game involving a 2n x 2n matrix where each cell of the matrix contains an integer.\\nHe can reverse any of its rows or columns any number of times. The goal of the game is to maximize\\nthe sum of the elements in the n x n submatrix located in the upper-left quadrant of the matrix.\\n\\nGiven the initial configurations for q matrices, help Sean reverse the rows and columns of each matrix\\nin the best possible way so that the sum of the elements in the matrix's upper-left quadrant is maximal.\\n\\nExample\\nmatrix = [[1,2], [3,4]]\\n1 2\\n3 4\\nIt is 2x2 and we want to maximize the top left quadrant, a 1x1 matrix. Reverse row 1:\\n1 2\\n4 3\\nAnd now reverse column 0:\\n4 2\\n1 3\\nThe maximal sum is 4.\\n\\nFunction Description\\nComplete the flippingMatrix function in the editor below.\\n\\nflippingMatrix has the following parameters:\\n- int matrix[2n][2n]: a 2-dimensional array of integers\\n\\nReturns\\n- int: the maximum sum possible.\\n\\nInput Format\\nThe first line contains an integer q, the number of queries.\\n\\nThe next q sets of lines are in the following format:\\n\\nThe first line of each query contains an integer, n.\\nEach of the next 2n lines contains 2n space-separated integers matrix[i][j] in row  of the matrix.\\n\\nConstraints\\n1 <= q <= 16\\n1 <= n <= 128\\n0 <= matrix[i][j] <= 4096, where 0 <= i, j < 2n\\n\""
      ]
     },
     "execution_count": 19,
     "metadata": {},
     "output_type": "execute_result"
    }
   ],
   "source": [
    "'''\n",
    "Sean invented a game involving a 2n x 2n matrix where each cell of the matrix contains an integer.\n",
    "He can reverse any of its rows or columns any number of times. The goal of the game is to maximize\n",
    "the sum of the elements in the n x n submatrix located in the upper-left quadrant of the matrix.\n",
    "\n",
    "Given the initial configurations for q matrices, help Sean reverse the rows and columns of each matrix\n",
    "in the best possible way so that the sum of the elements in the matrix's upper-left quadrant is maximal.\n",
    "\n",
    "Example\n",
    "matrix = [[1,2], [3,4]]\n",
    "1 2\n",
    "3 4\n",
    "It is 2x2 and we want to maximize the top left quadrant, a 1x1 matrix. Reverse row 1:\n",
    "1 2\n",
    "4 3\n",
    "And now reverse column 0:\n",
    "4 2\n",
    "1 3\n",
    "The maximal sum is 4.\n",
    "\n",
    "Function Description\n",
    "Complete the flippingMatrix function in the editor below.\n",
    "\n",
    "flippingMatrix has the following parameters:\n",
    "- int matrix[2n][2n]: a 2-dimensional array of integers\n",
    "\n",
    "Returns\n",
    "- int: the maximum sum possible.\n",
    "\n",
    "Input Format\n",
    "The first line contains an integer q, the number of queries.\n",
    "\n",
    "The next q sets of lines are in the following format:\n",
    "\n",
    "The first line of each query contains an integer, n.\n",
    "Each of the next 2n lines contains 2n space-separated integers matrix[i][j] in row  of the matrix.\n",
    "\n",
    "Constraints\n",
    "1 <= q <= 16\n",
    "1 <= n <= 128\n",
    "0 <= matrix[i][j] <= 4096, where 0 <= i, j < 2n\n",
    "'''"
   ]
  },
  {
   "cell_type": "markdown",
   "metadata": {},
   "source": [
    "## Given Test Cases"
   ]
  },
  {
   "cell_type": "code",
   "execution_count": 20,
   "metadata": {},
   "outputs": [
    {
     "data": {
      "text/plain": [
       "'\\nSample Input\\n1               q = 1\\n2               n = 2\\n112 42 83 119   matrix = [[112, 42, 83, 119], [56, 125, 56, 49], 56 125 56 49              [15, 78, 101, 43], [62, 98, 114, 108]]\\n15 78 101 43\\n62 98 114 108\\n\\nSample Output\\n414\\n'"
      ]
     },
     "execution_count": 20,
     "metadata": {},
     "output_type": "execute_result"
    }
   ],
   "source": [
    "'''\n",
    "Sample Input\n",
    "1               q = 1\n",
    "2               n = 2\n",
    "112 42 83 119   matrix = [[112, 42, 83, 119], [56, 125, 56, 49], \\\n",
    "56 125 56 49              [15, 78, 101, 43], [62, 98, 114, 108]]\n",
    "15 78 101 43\n",
    "62 98 114 108\n",
    "\n",
    "Sample Output\n",
    "414\n",
    "'''"
   ]
  },
  {
   "cell_type": "markdown",
   "metadata": {},
   "source": [
    "### Data Setup"
   ]
  },
  {
   "cell_type": "code",
   "execution_count": 21,
   "metadata": {},
   "outputs": [],
   "source": [
    "matrix = [[112, 42, 83, 119], [56, 125, 56, 49], [15, 78, 101, 43], [62, 98, 114, 108]]"
   ]
  },
  {
   "cell_type": "markdown",
   "metadata": {},
   "source": [
    "## Strategy and Solution"
   ]
  },
  {
   "cell_type": "markdown",
   "metadata": {},
   "source": [
    "### Brute Force"
   ]
  },
  {
   "cell_type": "code",
   "execution_count": 22,
   "metadata": {},
   "outputs": [
    {
     "data": {
      "text/plain": [
       "'\\nbrute force would be to iterate through every combination of row/col reversals, then check the top left corner n x n submatrix for its sum, then compare which has the highest\\nsum. there is a lot of recalculation.\\n'"
      ]
     },
     "execution_count": 22,
     "metadata": {},
     "output_type": "execute_result"
    }
   ],
   "source": [
    "'''\n",
    "brute force would be to iterate through every combination of row/col reversals, then check the top left corner n x n submatrix for its sum, then compare which has the highest\n",
    "sum. there is a lot of recalculation.\n",
    "'''"
   ]
  },
  {
   "cell_type": "markdown",
   "metadata": {},
   "source": [
    "### Optimized"
   ]
  },
  {
   "cell_type": "code",
   "execution_count": 23,
   "metadata": {},
   "outputs": [
    {
     "data": {
      "text/plain": [
       "'\\nintuitively, we know that the brute force does a lot of recalculation, and thus is inefficient\\n\\na better approach would be to check certain values directly, which we can narrow down by understanding the structure of a matrix undergoing a row/col reversal.\\n\\nfor example, in a 2n x 2n matrix where n=3 (aka 6x6):\\nA _ _ _ _ A\\n_         _\\n_         _\\n_         _\\n_         _\\nA _ _ _ _ A\\nObserver how the corner pieces of the matrix will only ever be the other corner pieces; in other words, using any combination of row/col reversals, the corner\\npieces will only be another corner piece. We can signify this pattern with \"A\"\\n\\nA _ _ _ _ A\\nB         B\\n_         _\\n_         _\\nB         B\\nA _ _ _ _ A\\nwhen we check the pattern for \"B\", we get a similar result. the \"B\" slot can only ever be another value in the other \"B\" slots.\\n\\nwhen we work out the entire process, we realize that every slot in the matrix can deterministically be any of the other \"mirrored\" complements in the matrix, and thus, we\\ncan directyl check the values for our n x n submatrix.\\n\\nexplicitly, we will loop through the indexes in our n x n submatrix, and for every value in the n x n submatrix, check the \"mirror\" complemenets (aka if we\\'re checking \"A\" in submatrix,\\nwe will check all the other \"A\" positions) for the max value. at the end of the n x n matrix, we will have the max integers and then we can return the sum of that.\\n\\nwe just now need to codify this pattern of finding the \"mirrored\" complements.\\n'"
      ]
     },
     "execution_count": 23,
     "metadata": {},
     "output_type": "execute_result"
    }
   ],
   "source": [
    "'''\n",
    "intuitively, we know that the brute force does a lot of recalculation, and thus is inefficient\n",
    "\n",
    "a better approach would be to check certain values directly, which we can narrow down by understanding the structure of a matrix undergoing a row/col reversal.\n",
    "\n",
    "for example, in a 2n x 2n matrix where n=3 (aka 6x6):\n",
    "A _ _ _ _ A\n",
    "_         _\n",
    "_         _\n",
    "_         _\n",
    "_         _\n",
    "A _ _ _ _ A\n",
    "Observer how the corner pieces of the matrix will only ever be the other corner pieces; in other words, using any combination of row/col reversals, the corner\n",
    "pieces will only be another corner piece. We can signify this pattern with \"A\"\n",
    "\n",
    "A _ _ _ _ A\n",
    "B         B\n",
    "_         _\n",
    "_         _\n",
    "B         B\n",
    "A _ _ _ _ A\n",
    "when we check the pattern for \"B\", we get a similar result. the \"B\" slot can only ever be another value in the other \"B\" slots.\n",
    "\n",
    "when we work out the entire process, we realize that every slot in the matrix can deterministically be any of the other \"mirrored\" complements in the matrix, and thus, we\n",
    "can directyl check the values for our n x n submatrix.\n",
    "\n",
    "explicitly, we will loop through the indexes in our n x n submatrix, and for every value in the n x n submatrix, check the \"mirror\" complemenets (aka if we're checking \"A\" in submatrix,\n",
    "we will check all the other \"A\" positions) for the max value. at the end of the n x n matrix, we will have the max integers and then we can return the sum of that.\n",
    "\n",
    "we just now need to codify this pattern of finding the \"mirrored\" complements.\n",
    "'''"
   ]
  },
  {
   "cell_type": "code",
   "execution_count": 24,
   "metadata": {},
   "outputs": [],
   "source": [
    "def flippingMatrix(matrix):\n",
    "    n = int(len(matrix) / 2) #max x,y or row,col index for n x n matrix, the -1 taken care by range\n",
    "    sum_matrix = []\n",
    "    for row in range(n):\n",
    "        for col in range(n):\n",
    "            sum_matrix.append(max(matrix[row][col], \n",
    "                                  matrix[row][2*n - 1 - col],\n",
    "                                  matrix[2*n - 1 - row][col],\n",
    "                                  matrix[2*n - 1 - row][2*n - 1 - col]))\n",
    "    return sum(sum_matrix)"
   ]
  },
  {
   "cell_type": "code",
   "execution_count": 25,
   "metadata": {},
   "outputs": [
    {
     "data": {
      "text/plain": [
       "414"
      ]
     },
     "execution_count": 25,
     "metadata": {},
     "output_type": "execute_result"
    }
   ],
   "source": [
    "flippingMatrix(matrix)"
   ]
  },
  {
   "cell_type": "markdown",
   "metadata": {},
   "source": [
    "## Testing"
   ]
  },
  {
   "cell_type": "code",
   "execution_count": 26,
   "metadata": {},
   "outputs": [
    {
     "data": {
      "text/plain": [
       "'\\nSample Input\\n1\\n2\\n112 42 83 119\\n56 125 56 49\\n15 78 101 43\\n62 98 114 108\\n\\nSample Output\\n414\\n'"
      ]
     },
     "execution_count": 26,
     "metadata": {},
     "output_type": "execute_result"
    }
   ],
   "source": [
    "'''\n",
    "Sample Input\n",
    "1\n",
    "2\n",
    "112 42 83 119\n",
    "56 125 56 49\n",
    "15 78 101 43\n",
    "62 98 114 108\n",
    "\n",
    "Sample Output\n",
    "414\n",
    "'''"
   ]
  },
  {
   "cell_type": "code",
   "execution_count": 27,
   "metadata": {},
   "outputs": [
    {
     "name": "stdout",
     "output_type": "stream",
     "text": [
      "414\n"
     ]
    }
   ],
   "source": [
    "m = [[112,42,83,119], [56,125,56,49], [15,78,101,43],[62,98,114,108]]\n",
    "print(flippingMatrix(m))"
   ]
  },
  {
   "cell_type": "code",
   "execution_count": 28,
   "metadata": {},
   "outputs": [
    {
     "data": {
      "text/plain": [
       "'\\nSample Input\\n1\\n2\\n107 54 128 15\\n12 75 110 138\\n100 96 34 85\\n75 15 28 112\\n\\nSample Output\\n488\\n'"
      ]
     },
     "execution_count": 28,
     "metadata": {},
     "output_type": "execute_result"
    }
   ],
   "source": [
    "'''\n",
    "Sample Input\n",
    "1\n",
    "2\n",
    "107 54 128 15\n",
    "12 75 110 138\n",
    "100 96 34 85\n",
    "75 15 28 112\n",
    "\n",
    "Sample Output\n",
    "488\n",
    "'''"
   ]
  },
  {
   "cell_type": "code",
   "execution_count": 29,
   "metadata": {},
   "outputs": [
    {
     "name": "stdout",
     "output_type": "stream",
     "text": [
      "488\n"
     ]
    }
   ],
   "source": [
    "m2 = [[107,54,128,15], [12,75,110,138],[100,96,34,85],[75,15,28,112]]\n",
    "print(flippingMatrix(m2))"
   ]
  },
  {
   "cell_type": "code",
   "execution_count": 30,
   "metadata": {},
   "outputs": [
    {
     "data": {
      "text/plain": [
       "'\\nPassed all test cases\\n'"
      ]
     },
     "execution_count": 30,
     "metadata": {},
     "output_type": "execute_result"
    }
   ],
   "source": [
    "'''\n",
    "Passed all test cases\n",
    "'''"
   ]
  }
 ],
 "metadata": {
  "interpreter": {
   "hash": "bc3210eb0411503d9a54e82308439f2538c49d86b5a7c00e1ae895fbe28c5986"
  },
  "kernelspec": {
   "display_name": "Python 3.8.12 ('PythonData')",
   "language": "python",
   "name": "python3"
  },
  "language_info": {
   "codemirror_mode": {
    "name": "ipython",
    "version": 3
   },
   "file_extension": ".py",
   "mimetype": "text/x-python",
   "name": "python",
   "nbconvert_exporter": "python",
   "pygments_lexer": "ipython3",
   "version": "3.8.12"
  },
  "orig_nbformat": 4
 },
 "nbformat": 4,
 "nbformat_minor": 2
}
