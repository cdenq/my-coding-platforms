{
 "cells": [
  {
   "cell_type": "markdown",
   "metadata": {},
   "source": [
    "# XOR Strings 3"
   ]
  },
  {
   "cell_type": "markdown",
   "metadata": {},
   "source": [
    "## Problem Statement"
   ]
  },
  {
   "cell_type": "code",
   "execution_count": 11,
   "metadata": {},
   "outputs": [
    {
     "data": {
      "text/plain": [
       "'\\nIn this challenge, the task is to debug the existing code to successfully execute all provided test files.\\n\\nGiven two strings consisting of digits 0 and 1 only, find the XOR of the two strings.\\n\\nTo know more about XOR Click Here\\n\\nDebug the given function strings_xor to find the XOR of the two given strings appropriately.\\n\\nNote: You can modify at most three lines in the given code and you cannot add or remove lines to the code.\\n\\nTo restore the original code, click on the icon to the right of the language selector.\\n\\nInput Format\\n\\nThe input consists of two lines. The first line of the input contains the first string, s, and the second line contains the second string, t.\\n\\nConstraints\\n1 <= |s| <= 10^4\\n|s| = |t|\\n\\nOutput Format\\nPrint the string obtained by the XOR of the two input strings in a single line.\\n'"
      ]
     },
     "execution_count": 11,
     "metadata": {},
     "output_type": "execute_result"
    }
   ],
   "source": [
    "'''\n",
    "In this challenge, the task is to debug the existing code to successfully execute all provided test files.\n",
    "\n",
    "Given two strings consisting of digits 0 and 1 only, find the XOR of the two strings.\n",
    "\n",
    "To know more about XOR Click Here\n",
    "\n",
    "Debug the given function strings_xor to find the XOR of the two given strings appropriately.\n",
    "\n",
    "Note: You can modify at most three lines in the given code and you cannot add or remove lines to the code.\n",
    "\n",
    "To restore the original code, click on the icon to the right of the language selector.\n",
    "\n",
    "Input Format\n",
    "\n",
    "The input consists of two lines. The first line of the input contains the first string, s, and the second line contains the second string, t.\n",
    "\n",
    "Constraints\n",
    "1 <= |s| <= 10^4\n",
    "|s| = |t|\n",
    "\n",
    "Output Format\n",
    "Print the string obtained by the XOR of the two input strings in a single line.\n",
    "'''"
   ]
  },
  {
   "cell_type": "markdown",
   "metadata": {},
   "source": [
    "## Given Test Cases"
   ]
  },
  {
   "cell_type": "code",
   "execution_count": 12,
   "metadata": {},
   "outputs": [
    {
     "data": {
      "text/plain": [
       "'\\nSample Input\\n10101\\n00101\\n\\nSample Output\\n10000\\n'"
      ]
     },
     "execution_count": 12,
     "metadata": {},
     "output_type": "execute_result"
    }
   ],
   "source": [
    "'''\n",
    "Sample Input\n",
    "10101\n",
    "00101\n",
    "\n",
    "Sample Output\n",
    "10000\n",
    "'''"
   ]
  },
  {
   "cell_type": "markdown",
   "metadata": {},
   "source": [
    "### Data Setup"
   ]
  },
  {
   "cell_type": "code",
   "execution_count": 13,
   "metadata": {},
   "outputs": [],
   "source": [
    "s = \"10101\"\n",
    "t = \"00101\"\n"
   ]
  },
  {
   "cell_type": "markdown",
   "metadata": {},
   "source": [
    "## Strategy and Solution"
   ]
  },
  {
   "cell_type": "markdown",
   "metadata": {},
   "source": [
    "### Brute Force"
   ]
  },
  {
   "cell_type": "code",
   "execution_count": 14,
   "metadata": {},
   "outputs": [
    {
     "data": {
      "text/plain": [
       "'\\nthis a purely an implementation exercise, since we are debugging their code\\n'"
      ]
     },
     "execution_count": 14,
     "metadata": {},
     "output_type": "execute_result"
    }
   ],
   "source": [
    "'''\n",
    "this a purely an implementation exercise, since we are debugging their code\n",
    "'''"
   ]
  },
  {
   "cell_type": "code",
   "execution_count": 15,
   "metadata": {},
   "outputs": [
    {
     "data": {
      "text/plain": [
       "'\\ndef strings_xor(s, t):\\n    res = \"\"\\n    for i in range(len(s)):\\n        if s[i] = t[i]:\\n            res = \\'0\\';\\n        else:\\n            res = \\'1\\';\\n\\n    return res\\n\\ns = input()\\nt = input()\\nprint(strings_xor(s, t))\\n'"
      ]
     },
     "execution_count": 15,
     "metadata": {},
     "output_type": "execute_result"
    }
   ],
   "source": [
    "#original\n",
    "'''\n",
    "def strings_xor(s, t):\n",
    "    res = \"\"\n",
    "    for i in range(len(s)):\n",
    "        if s[i] = t[i]:\n",
    "            res = '0';\n",
    "        else:\n",
    "            res = '1';\n",
    "\n",
    "    return res\n",
    "\n",
    "s = input()\n",
    "t = input()\n",
    "print(strings_xor(s, t))\n",
    "'''"
   ]
  },
  {
   "cell_type": "code",
   "execution_count": 16,
   "metadata": {},
   "outputs": [],
   "source": [
    "def strings_xor(s, t):\n",
    "    res = \"\"\n",
    "    for i in range(len(s)):\n",
    "        if s[i] == t[i]:\n",
    "            res += '0'\n",
    "        else:\n",
    "            res += '1'\n",
    "\n",
    "    return res\n",
    "\n",
    "# s = input()\n",
    "# t = input()\n",
    "# print(strings_xor(s, t))"
   ]
  },
  {
   "cell_type": "markdown",
   "metadata": {},
   "source": [
    "## Testing"
   ]
  },
  {
   "cell_type": "code",
   "execution_count": 17,
   "metadata": {},
   "outputs": [
    {
     "data": {
      "text/plain": [
       "'\\nSample Input\\n10101\\n00101\\n\\nSample Output\\n10000\\n'"
      ]
     },
     "execution_count": 17,
     "metadata": {},
     "output_type": "execute_result"
    }
   ],
   "source": [
    "'''\n",
    "Sample Input\n",
    "10101\n",
    "00101\n",
    "\n",
    "Sample Output\n",
    "10000\n",
    "'''"
   ]
  },
  {
   "cell_type": "code",
   "execution_count": 18,
   "metadata": {},
   "outputs": [
    {
     "name": "stdout",
     "output_type": "stream",
     "text": [
      "10000\n"
     ]
    }
   ],
   "source": [
    "print(strings_xor(s, t))"
   ]
  },
  {
   "cell_type": "code",
   "execution_count": 19,
   "metadata": {},
   "outputs": [
    {
     "data": {
      "text/plain": [
       "'\\nPassed all test cases\\n'"
      ]
     },
     "execution_count": 19,
     "metadata": {},
     "output_type": "execute_result"
    }
   ],
   "source": [
    "'''\n",
    "Passed all test cases\n",
    "'''"
   ]
  }
 ],
 "metadata": {
  "interpreter": {
   "hash": "bc3210eb0411503d9a54e82308439f2538c49d86b5a7c00e1ae895fbe28c5986"
  },
  "kernelspec": {
   "display_name": "Python 3.8.12 ('PythonData')",
   "language": "python",
   "name": "python3"
  },
  "language_info": {
   "codemirror_mode": {
    "name": "ipython",
    "version": 3
   },
   "file_extension": ".py",
   "mimetype": "text/x-python",
   "name": "python",
   "nbconvert_exporter": "python",
   "pygments_lexer": "ipython3",
   "version": "3.8.12"
  },
  "orig_nbformat": 4
 },
 "nbformat": 4,
 "nbformat_minor": 2
}
