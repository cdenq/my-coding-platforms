{
 "cells": [
  {
   "cell_type": "markdown",
   "metadata": {},
   "source": [
    "# Number Line Jumps"
   ]
  },
  {
   "cell_type": "markdown",
   "metadata": {},
   "source": [
    "## Problem Statement"
   ]
  },
  {
   "cell_type": "code",
   "execution_count": 12,
   "metadata": {},
   "outputs": [
    {
     "data": {
      "text/plain": [
       "'\\nYou are choreographing a circus show with various animals. For one act, you are given two kangaroos on a number line\\nready to jump in the positive direction (i.e, toward positive infinity).\\n\\nThe first kangaroo starts at location x1 nd moves at a rate of v1 meters per jump.\\nThe second kangaroo starts at location x2 and moves at a rate of v2 meters per jump.\\n\\nYou have to figure out a way to get both kangaroos at the same location at the same time as part of the show. If it is possible, return YES, otherwise return NO.\\n\\nExample\\nx1 = 2\\nv1 = 1\\nx2 = 1\\nv2 = 2\\n\\nAfter one jump, they are both at x=3, so the answer is YES.\\n\\nFunction Description\\nComplete the function kangaroo in the editor below.\\n\\nkangaroo has the following parameter(s):\\nint x1, int v1: starting position and jump distance for kangaroo 1\\nint x2, int v2: starting position and jump distance for kangaroo 2\\n\\nReturns\\nstring: either YES or NO\\n\\nInput Format\\nA single line of four space-separated integers denoting the respective values of x1, v1, x2, and v2.\\n\\nConstraints\\n0 <= x1 < x2 <= 10000\\n1 <= v1, v2 <= 10000\\n'"
      ]
     },
     "execution_count": 12,
     "metadata": {},
     "output_type": "execute_result"
    }
   ],
   "source": [
    "'''\n",
    "You are choreographing a circus show with various animals. For one act, you are given two kangaroos on a number line\n",
    "ready to jump in the positive direction (i.e, toward positive infinity).\n",
    "\n",
    "The first kangaroo starts at location x1 nd moves at a rate of v1 meters per jump.\n",
    "The second kangaroo starts at location x2 and moves at a rate of v2 meters per jump.\n",
    "\n",
    "You have to figure out a way to get both kangaroos at the same location at the same time as part of the show. If it is possible, return YES, otherwise return NO.\n",
    "\n",
    "Example\n",
    "x1 = 2\n",
    "v1 = 1\n",
    "x2 = 1\n",
    "v2 = 2\n",
    "\n",
    "After one jump, they are both at x=3, so the answer is YES.\n",
    "\n",
    "Function Description\n",
    "Complete the function kangaroo in the editor below.\n",
    "\n",
    "kangaroo has the following parameter(s):\n",
    "int x1, int v1: starting position and jump distance for kangaroo 1\n",
    "int x2, int v2: starting position and jump distance for kangaroo 2\n",
    "\n",
    "Returns\n",
    "string: either YES or NO\n",
    "\n",
    "Input Format\n",
    "A single line of four space-separated integers denoting the respective values of x1, v1, x2, and v2.\n",
    "\n",
    "Constraints\n",
    "0 <= x1 < x2 <= 10000\n",
    "1 <= v1, v2 <= 10000\n",
    "'''"
   ]
  },
  {
   "cell_type": "markdown",
   "metadata": {},
   "source": [
    "## Given Test Cases"
   ]
  },
  {
   "cell_type": "code",
   "execution_count": 13,
   "metadata": {},
   "outputs": [
    {
     "data": {
      "text/plain": [
       "'\\nSample Input\\n2 1 1 2\\n\\nSample Output\\nYES\\n'"
      ]
     },
     "execution_count": 13,
     "metadata": {},
     "output_type": "execute_result"
    }
   ],
   "source": [
    "'''\n",
    "Sample Input\n",
    "2 1 1 2\n",
    "\n",
    "Sample Output\n",
    "YES\n",
    "'''"
   ]
  },
  {
   "cell_type": "markdown",
   "metadata": {},
   "source": [
    "### Data Setup"
   ]
  },
  {
   "cell_type": "code",
   "execution_count": 14,
   "metadata": {},
   "outputs": [],
   "source": [
    "x1 = 2\n",
    "v1 = 1\n",
    "x2 = 1\n",
    "v2 = 2"
   ]
  },
  {
   "cell_type": "markdown",
   "metadata": {},
   "source": [
    "## Strategy and Solution"
   ]
  },
  {
   "cell_type": "markdown",
   "metadata": {},
   "source": [
    "### Brute Force"
   ]
  },
  {
   "cell_type": "code",
   "execution_count": 15,
   "metadata": {},
   "outputs": [
    {
     "data": {
      "text/plain": [
       "\"\\nwe can manually increment both x1 and x2 positions with their respective v1 and v2 velocities and check at every time step if they are at the same location.\\n\\nunfortunately, with this method, we wouldn't be able to deterministically stop (since constraints don't provide a stop condition), and thus, would never know when to return NO\\n\""
      ]
     },
     "execution_count": 15,
     "metadata": {},
     "output_type": "execute_result"
    }
   ],
   "source": [
    "'''\n",
    "we can manually increment both x1 and x2 positions with their respective v1 and v2 velocities and check at every time step if they are at the same location.\n",
    "\n",
    "unfortunately, with this method, we wouldn't be able to deterministically stop (since constraints don't provide a stop condition), and thus, would never know when to return NO\n",
    "'''"
   ]
  },
  {
   "cell_type": "markdown",
   "metadata": {},
   "source": [
    "### Optimized O(1)"
   ]
  },
  {
   "cell_type": "code",
   "execution_count": 16,
   "metadata": {},
   "outputs": [
    {
     "data": {
      "text/plain": [
       "'\\na better method would be to model their trajectories.\\n\\nobserve that both can be model with linear equations\\n(x1) + t(v1)\\n(x2) + t(v2)\\n\\nwe can set them equal to each other and solve for t, which stands for the time step\\n(x1) + t(v1) = (x2) + t(v2)\\nt = (x2 - x1)/(v1 - v2)\\n\\nwe can directly solve this equation. if t returns a positive integer, say YES. in all other cases, return NO.\\n\\nobserve that we should also add in a case to handle when they have the same velocities (and same starting positions)\\n'"
      ]
     },
     "execution_count": 16,
     "metadata": {},
     "output_type": "execute_result"
    }
   ],
   "source": [
    "'''\n",
    "a better method would be to model their trajectories.\n",
    "\n",
    "observe that both can be model with linear equations\n",
    "(x1) + t(v1)\n",
    "(x2) + t(v2)\n",
    "\n",
    "we can set them equal to each other and solve for t, which stands for the time step\n",
    "(x1) + t(v1) = (x2) + t(v2)\n",
    "t = (x2 - x1)/(v1 - v2)\n",
    "\n",
    "we can directly solve this equation. if t returns a positive integer, say YES. in all other cases, return NO.\n",
    "\n",
    "observe that we should also add in a case to handle when they have the same velocities (and same starting positions)\n",
    "'''"
   ]
  },
  {
   "cell_type": "code",
   "execution_count": 17,
   "metadata": {},
   "outputs": [],
   "source": [
    "def kangaroo(x1, v1, x2, v2):\n",
    "    if (v1 == v2):\n",
    "        if (x1 == x2):\n",
    "            return 'YES'\n",
    "        else:\n",
    "            return 'NO'\n",
    "    else:\n",
    "        t = (x2-x1)/(v1-v2)\n",
    "        if (t >= 0) & (t.is_integer()):\n",
    "            return 'YES'\n",
    "        else:\n",
    "            return 'NO'"
   ]
  },
  {
   "cell_type": "code",
   "execution_count": 18,
   "metadata": {},
   "outputs": [
    {
     "data": {
      "text/plain": [
       "'YES'"
      ]
     },
     "execution_count": 18,
     "metadata": {},
     "output_type": "execute_result"
    }
   ],
   "source": [
    "kangaroo(x1, v1, x2, v2)"
   ]
  },
  {
   "cell_type": "markdown",
   "metadata": {},
   "source": [
    "## Testing"
   ]
  },
  {
   "cell_type": "code",
   "execution_count": 19,
   "metadata": {},
   "outputs": [
    {
     "data": {
      "text/plain": [
       "'\\nSample Input\\n0 3 4 2\\n\\nSample Output\\nYES\\n'"
      ]
     },
     "execution_count": 19,
     "metadata": {},
     "output_type": "execute_result"
    }
   ],
   "source": [
    "'''\n",
    "Sample Input\n",
    "0 3 4 2\n",
    "\n",
    "Sample Output\n",
    "YES\n",
    "'''"
   ]
  },
  {
   "cell_type": "code",
   "execution_count": 20,
   "metadata": {},
   "outputs": [
    {
     "data": {
      "text/plain": [
       "'YES'"
      ]
     },
     "execution_count": 20,
     "metadata": {},
     "output_type": "execute_result"
    }
   ],
   "source": [
    "a, b, c, d = 0, 3, 4 ,2\n",
    "kangaroo(a,b,c,d)"
   ]
  },
  {
   "cell_type": "code",
   "execution_count": 21,
   "metadata": {},
   "outputs": [
    {
     "data": {
      "text/plain": [
       "'\\nSample Input\\n0 2 5 3\\n\\nSample Output\\nNO\\n'"
      ]
     },
     "execution_count": 21,
     "metadata": {},
     "output_type": "execute_result"
    }
   ],
   "source": [
    "'''\n",
    "Sample Input\n",
    "0 2 5 3\n",
    "\n",
    "Sample Output\n",
    "NO\n",
    "'''"
   ]
  },
  {
   "cell_type": "code",
   "execution_count": 22,
   "metadata": {},
   "outputs": [
    {
     "data": {
      "text/plain": [
       "'NO'"
      ]
     },
     "execution_count": 22,
     "metadata": {},
     "output_type": "execute_result"
    }
   ],
   "source": [
    "w, x, y, z = 0, 2, 5, 3\n",
    "kangaroo(w, x, y, z)"
   ]
  },
  {
   "cell_type": "code",
   "execution_count": 23,
   "metadata": {},
   "outputs": [
    {
     "data": {
      "text/plain": [
       "'\\nPassed all test cases\\n'"
      ]
     },
     "execution_count": 23,
     "metadata": {},
     "output_type": "execute_result"
    }
   ],
   "source": [
    "'''\n",
    "Passed all test cases\n",
    "'''"
   ]
  }
 ],
 "metadata": {
  "interpreter": {
   "hash": "bc3210eb0411503d9a54e82308439f2538c49d86b5a7c00e1ae895fbe28c5986"
  },
  "kernelspec": {
   "display_name": "Python 3.8.12 ('PythonData')",
   "language": "python",
   "name": "python3"
  },
  "language_info": {
   "codemirror_mode": {
    "name": "ipython",
    "version": 3
   },
   "file_extension": ".py",
   "mimetype": "text/x-python",
   "name": "python",
   "nbconvert_exporter": "python",
   "pygments_lexer": "ipython3",
   "version": "3.8.12"
  },
  "orig_nbformat": 4
 },
 "nbformat": 4,
 "nbformat_minor": 2
}
