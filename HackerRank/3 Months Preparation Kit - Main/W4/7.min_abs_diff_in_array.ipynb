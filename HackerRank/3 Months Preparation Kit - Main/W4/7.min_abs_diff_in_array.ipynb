{
 "cells": [
  {
   "cell_type": "markdown",
   "metadata": {},
   "source": [
    "# Minimum Absolute Difference in an Array"
   ]
  },
  {
   "cell_type": "markdown",
   "metadata": {},
   "source": [
    "## Problem Statement"
   ]
  },
  {
   "cell_type": "code",
   "execution_count": 2,
   "metadata": {},
   "outputs": [
    {
     "data": {
      "text/plain": [
       "'\\nThe absolute difference is the positive difference between two values a and b, is written |a - b| or |b - a| and they are equal.\\nIf a = 3 and b = 2, |3 - 2| = |2 - 3| = 1. Given an array of integers, find the minimum absolute difference between any two elements in the array.\\n\\nExample\\narr = [-2, 2, 4]\\n\\nThere are 3 pairs of numbers: [-2, 2], [-2, 4] and [2, 4]. The absolute differences for these pairs are |(-2) - 2| = 4, |(-2) - 4| = 6 and |2 - 4| = 2. The minimum absolute difference is 2.\\n\\nFunction Description\\nComplete the minimumAbsoluteDifference function in the editor below. It should return an integer that represents the minimum absolute difference between any pair of elements.\\n\\nminimumAbsoluteDifference has the following parameter(s):\\nint arr[n]: an array of integers\\n\\nReturns\\nint: the minimum absolute difference found\\n\\nInput Format\\nThe first line contains a single integer n, the size of arr.\\nThe second line contains n space-separated integers, arr[i].\\n\\nConstraints\\n2 <= n <= 10^5\\n- 10^9 <= arr[i] <= 10^9\\n'"
      ]
     },
     "execution_count": 2,
     "metadata": {},
     "output_type": "execute_result"
    }
   ],
   "source": [
    "'''\n",
    "The absolute difference is the positive difference between two values a and b, is written |a - b| or |b - a| and they are equal.\n",
    "If a = 3 and b = 2, |3 - 2| = |2 - 3| = 1. Given an array of integers, find the minimum absolute difference between any two elements in the array.\n",
    "\n",
    "Example\n",
    "arr = [-2, 2, 4]\n",
    "\n",
    "There are 3 pairs of numbers: [-2, 2], [-2, 4] and [2, 4]. The absolute differences for these pairs are |(-2) - 2| = 4, |(-2) - 4| = 6 and |2 - 4| = 2. The minimum absolute difference is 2.\n",
    "\n",
    "Function Description\n",
    "Complete the minimumAbsoluteDifference function in the editor below. It should return an integer that represents the minimum absolute difference between any pair of elements.\n",
    "\n",
    "minimumAbsoluteDifference has the following parameter(s):\n",
    "int arr[n]: an array of integers\n",
    "\n",
    "Returns\n",
    "int: the minimum absolute difference found\n",
    "\n",
    "Input Format\n",
    "The first line contains a single integer n, the size of arr.\n",
    "The second line contains n space-separated integers, arr[i].\n",
    "\n",
    "Constraints\n",
    "2 <= n <= 10^5\n",
    "- 10^9 <= arr[i] <= 10^9\n",
    "'''"
   ]
  },
  {
   "cell_type": "markdown",
   "metadata": {},
   "source": [
    "## Given Test Cases"
   ]
  },
  {
   "cell_type": "code",
   "execution_count": 3,
   "metadata": {},
   "outputs": [
    {
     "data": {
      "text/plain": [
       "'\\nN/A\\n'"
      ]
     },
     "execution_count": 3,
     "metadata": {},
     "output_type": "execute_result"
    }
   ],
   "source": [
    "'''\n",
    "N/A\n",
    "'''"
   ]
  },
  {
   "cell_type": "markdown",
   "metadata": {},
   "source": [
    "### Data Setup"
   ]
  },
  {
   "cell_type": "code",
   "execution_count": 4,
   "metadata": {},
   "outputs": [],
   "source": [
    "#NA"
   ]
  },
  {
   "cell_type": "markdown",
   "metadata": {},
   "source": [
    "## Strategy and Solution"
   ]
  },
  {
   "cell_type": "markdown",
   "metadata": {},
   "source": [
    "### Brute Force O(n^2)"
   ]
  },
  {
   "cell_type": "code",
   "execution_count": 5,
   "metadata": {},
   "outputs": [
    {
     "data": {
      "text/plain": [
       "'\\nfind every single combination of elements in the array, check their difference, and track the lowest value as you go\\n'"
      ]
     },
     "execution_count": 5,
     "metadata": {},
     "output_type": "execute_result"
    }
   ],
   "source": [
    "'''\n",
    "find every single combination of elements in the array, check their difference, and track the lowest value as you go\n",
    "'''"
   ]
  },
  {
   "cell_type": "markdown",
   "metadata": {},
   "source": [
    "### Optimal O(nlogn)"
   ]
  },
  {
   "cell_type": "code",
   "execution_count": 6,
   "metadata": {},
   "outputs": [
    {
     "data": {
      "text/plain": [
       "'\\nthe strategy is to reduce the sample space that we need to check.\\n\\nobserve how in a sorted list, each adjacent value is going to be the immediately next value from the list. this means that when we iterate through a sorted list and get differences, we will automatically\\ncheck all the necessary values that we need to check and no more.\\n\\neg. (1,5,6,19,40)\\n\\nlets take 6.\\ncheck abs of 5-6 = 1 and 6-19 = 7.\\n\\nwe know that we do not need to check anything further than immediate left/right of 6 since those values will be even lower than 5 or even hight than 19, which will give a higher absolute difference.\\n'"
      ]
     },
     "execution_count": 6,
     "metadata": {},
     "output_type": "execute_result"
    }
   ],
   "source": [
    "'''\n",
    "the strategy is to reduce the sample space that we need to check.\n",
    "\n",
    "observe how in a sorted list, each adjacent value is going to be the immediately next value from the list. this means that when we iterate through a sorted list and get differences, we will automatically\n",
    "check all the necessary values that we need to check and no more.\n",
    "\n",
    "eg. (1,5,6,19,40)\n",
    "\n",
    "lets take 6.\n",
    "check abs of 5-6 = 1 and 6-19 = 7.\n",
    "\n",
    "we know that we do not need to check anything further than immediate left/right of 6 since those values will be even lower than 5 or even hight than 19, which will give a higher absolute difference.\n",
    "'''"
   ]
  },
  {
   "cell_type": "code",
   "execution_count": 7,
   "metadata": {},
   "outputs": [],
   "source": [
    "def minimumAbsoluteDifference(arr):\n",
    "    s_arr = sorted(arr)\n",
    "    temp_min = abs(s_arr[0] - s_arr[1]) \n",
    "    for i in range(1, len(s_arr)-1):\n",
    "        if temp_min > abs(s_arr[i] - s_arr[i+1]):\n",
    "            temp_min = abs(s_arr[i] - s_arr[i+1])\n",
    "    return temp_min"
   ]
  },
  {
   "cell_type": "markdown",
   "metadata": {},
   "source": [
    "## Testing"
   ]
  },
  {
   "cell_type": "code",
   "execution_count": 8,
   "metadata": {},
   "outputs": [
    {
     "data": {
      "text/plain": [
       "'\\nSample Input\\n3\\n3 -7 0\\n\\nSample Output\\n3\\n'"
      ]
     },
     "execution_count": 8,
     "metadata": {},
     "output_type": "execute_result"
    }
   ],
   "source": [
    "'''\n",
    "Sample Input\n",
    "3\n",
    "3 -7 0\n",
    "\n",
    "Sample Output\n",
    "3\n",
    "'''"
   ]
  },
  {
   "cell_type": "code",
   "execution_count": 9,
   "metadata": {},
   "outputs": [
    {
     "data": {
      "text/plain": [
       "3"
      ]
     },
     "execution_count": 9,
     "metadata": {},
     "output_type": "execute_result"
    }
   ],
   "source": [
    "arr1 = [3,-7,0]\n",
    "minimumAbsoluteDifference(arr1)"
   ]
  },
  {
   "cell_type": "code",
   "execution_count": 10,
   "metadata": {},
   "outputs": [
    {
     "data": {
      "text/plain": [
       "'\\nSample Input\\n10\\n-59 -36 -13 1 -53 -92 -2 -96 -54 75\\n\\nSample Output\\n1\\n'"
      ]
     },
     "execution_count": 10,
     "metadata": {},
     "output_type": "execute_result"
    }
   ],
   "source": [
    "'''\n",
    "Sample Input\n",
    "10\n",
    "-59 -36 -13 1 -53 -92 -2 -96 -54 75\n",
    "\n",
    "Sample Output\n",
    "1\n",
    "'''"
   ]
  },
  {
   "cell_type": "code",
   "execution_count": 11,
   "metadata": {},
   "outputs": [
    {
     "data": {
      "text/plain": [
       "1"
      ]
     },
     "execution_count": 11,
     "metadata": {},
     "output_type": "execute_result"
    }
   ],
   "source": [
    "arr2 = [-59,-36,-13,1,-53,-92,-2,-96,-54,75]\n",
    "minimumAbsoluteDifference(arr2)"
   ]
  },
  {
   "cell_type": "code",
   "execution_count": 12,
   "metadata": {},
   "outputs": [
    {
     "data": {
      "text/plain": [
       "'\\nSample Input\\n5\\n1 -3 71 68 17\\n\\nSample Output\\n3\\n'"
      ]
     },
     "execution_count": 12,
     "metadata": {},
     "output_type": "execute_result"
    }
   ],
   "source": [
    "'''\n",
    "Sample Input\n",
    "5\n",
    "1 -3 71 68 17\n",
    "\n",
    "Sample Output\n",
    "3\n",
    "'''"
   ]
  },
  {
   "cell_type": "code",
   "execution_count": 13,
   "metadata": {},
   "outputs": [
    {
     "data": {
      "text/plain": [
       "3"
      ]
     },
     "execution_count": 13,
     "metadata": {},
     "output_type": "execute_result"
    }
   ],
   "source": [
    "arr3 = [1,-3,71,68,17]\n",
    "minimumAbsoluteDifference(arr3)"
   ]
  },
  {
   "cell_type": "code",
   "execution_count": 14,
   "metadata": {},
   "outputs": [
    {
     "data": {
      "text/plain": [
       "'\\nPassed all test cases\\n'"
      ]
     },
     "execution_count": 14,
     "metadata": {},
     "output_type": "execute_result"
    }
   ],
   "source": [
    "'''\n",
    "Passed all test cases\n",
    "'''"
   ]
  }
 ],
 "metadata": {
  "interpreter": {
   "hash": "bc3210eb0411503d9a54e82308439f2538c49d86b5a7c00e1ae895fbe28c5986"
  },
  "kernelspec": {
   "display_name": "Python 3.8.12 ('PythonData')",
   "language": "python",
   "name": "python3"
  },
  "language_info": {
   "codemirror_mode": {
    "name": "ipython",
    "version": 3
   },
   "file_extension": ".py",
   "mimetype": "text/x-python",
   "name": "python",
   "nbconvert_exporter": "python",
   "pygments_lexer": "ipython3",
   "version": "3.8.12"
  },
  "orig_nbformat": 4
 },
 "nbformat": 4,
 "nbformat_minor": 2
}
