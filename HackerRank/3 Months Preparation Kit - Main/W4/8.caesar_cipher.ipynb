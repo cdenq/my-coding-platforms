{
 "cells": [
  {
   "cell_type": "markdown",
   "metadata": {},
   "source": [
    "# Caesar Cipher"
   ]
  },
  {
   "cell_type": "markdown",
   "metadata": {},
   "source": [
    "## Problem Statement"
   ]
  },
  {
   "cell_type": "code",
   "execution_count": 44,
   "metadata": {},
   "outputs": [
    {
     "data": {
      "text/plain": [
       "\"\\nJulius Caesar protected his confidential information by encrypting it using a cipher. Caesar's cipher shifts each letter by a number of letters.\\nIf the shift takes you past the end of the alphabet, just rotate back to the front of the alphabet. In the case of a rotation by 3, w, x, y and z would map to z, a, b and c.\\n\\nOriginal alphabet:      abcdefghijklmnopqrstuvwxyz\\nAlphabet rotated +3:    defghijklmnopqrstuvwxyzabc\\nExample\\ns = There's-a-starman-waiting-in-the-sky\\nk = 3\\n\\nThe alphabet is rotated by 3, matching the mapping above. The encrypted string is:\\nWkhuh'v-d-vwdupdq-zdlwlqj-wkh-vnb\\n\\nNote: The cipher only encrypts letters; symbols, such as -, remain unencrypted.\\n\\nFunction Description\\nComplete the caesarCipher function in the editor below.\\n\\ncaesarCipher has the following parameter(s):\\nstring s: cleartext\\nint k: the alphabet rotation factor\\n\\nReturns\\nstring: the encrypted string\\n\\nInput Format\\nThe first line contains the integer, n, the length of the unencrypted string.\\nThe second line contains the unencrypted string, s.\\nThe third line contains k, the number of letters to rotate the alphabet by.\\n\\nConstraints\\n1 <= n <= 100\\n0 <= k <= 100\\ns is a valid ASCII string without any spaces.\\n\""
      ]
     },
     "execution_count": 44,
     "metadata": {},
     "output_type": "execute_result"
    }
   ],
   "source": [
    "'''\n",
    "Julius Caesar protected his confidential information by encrypting it using a cipher. Caesar's cipher shifts each letter by a number of letters.\n",
    "If the shift takes you past the end of the alphabet, just rotate back to the front of the alphabet. In the case of a rotation by 3, w, x, y and z would map to z, a, b and c.\n",
    "\n",
    "Original alphabet:      abcdefghijklmnopqrstuvwxyz\n",
    "Alphabet rotated +3:    defghijklmnopqrstuvwxyzabc\n",
    "Example\n",
    "s = There's-a-starman-waiting-in-the-sky\n",
    "k = 3\n",
    "\n",
    "The alphabet is rotated by 3, matching the mapping above. The encrypted string is:\n",
    "Wkhuh'v-d-vwdupdq-zdlwlqj-wkh-vnb\n",
    "\n",
    "Note: The cipher only encrypts letters; symbols, such as -, remain unencrypted.\n",
    "\n",
    "Function Description\n",
    "Complete the caesarCipher function in the editor below.\n",
    "\n",
    "caesarCipher has the following parameter(s):\n",
    "string s: cleartext\n",
    "int k: the alphabet rotation factor\n",
    "\n",
    "Returns\n",
    "string: the encrypted string\n",
    "\n",
    "Input Format\n",
    "The first line contains the integer, n, the length of the unencrypted string.\n",
    "The second line contains the unencrypted string, s.\n",
    "The third line contains k, the number of letters to rotate the alphabet by.\n",
    "\n",
    "Constraints\n",
    "1 <= n <= 100\n",
    "0 <= k <= 100\n",
    "s is a valid ASCII string without any spaces.\n",
    "'''"
   ]
  },
  {
   "cell_type": "markdown",
   "metadata": {},
   "source": [
    "## Given Test Cases"
   ]
  },
  {
   "cell_type": "code",
   "execution_count": 45,
   "metadata": {},
   "outputs": [
    {
     "data": {
      "text/plain": [
       "'\\nSample Input\\n11\\nmiddle-Outz\\n2\\n\\nSample Output\\nokffng-Qwvb\\n'"
      ]
     },
     "execution_count": 45,
     "metadata": {},
     "output_type": "execute_result"
    }
   ],
   "source": [
    "'''\n",
    "Sample Input\n",
    "11\n",
    "middle-Outz\n",
    "2\n",
    "\n",
    "Sample Output\n",
    "okffng-Qwvb\n",
    "'''"
   ]
  },
  {
   "cell_type": "markdown",
   "metadata": {},
   "source": [
    "### Data Setup"
   ]
  },
  {
   "cell_type": "code",
   "execution_count": 46,
   "metadata": {},
   "outputs": [],
   "source": [
    "s = \"middle-Outz\"\n",
    "k = 2"
   ]
  },
  {
   "cell_type": "markdown",
   "metadata": {},
   "source": [
    "## Strategy and Solution"
   ]
  },
  {
   "cell_type": "markdown",
   "metadata": {},
   "source": [
    "### Brute Force O(2*26) + O(2n) = O(n)"
   ]
  },
  {
   "cell_type": "code",
   "execution_count": 47,
   "metadata": {},
   "outputs": [
    {
     "data": {
      "text/plain": [
       "'\\ncreate the proper cipher, then iterate through each chr in the string, and changing it to the correct encrypted chr.\\n\\nto create the cipher, we can import all the ASCII letters (both upr and lwr) and then shift all the letters to their intended encrpyted state within a dictionary.\\nwhen we iterate through the string, we\\'re simply doing a lookup & replace.\\n\\nto accomplish this shift, we can take the current index of any chr, add k to it, and determine the resulting index of the correct encrypted chr\\neg. aBcdE\\nB is index 1, our k is 3, so the resulting index is 4, which is E.\\n\\none issue we need to handle is the \"wrapping around\" mentioned in the problem statement.\\neg. abCde_\\nC is index 2, and the shift is 3. the resulting index should be at index 5.\\nhowever, index 5 is outside the scope of string (which ends on index 4).\\n\\nwe can resolve this by using the % operation. this takes advantage of the cyclical nature of the string\\'s length to convert the \"outside of scope\" index 5 into the proper scope of index 0.\\n\\ncode with dictionary is implemented below\\n'"
      ]
     },
     "execution_count": 47,
     "metadata": {},
     "output_type": "execute_result"
    }
   ],
   "source": [
    "'''\n",
    "create the proper cipher, then iterate through each chr in the string, and changing it to the correct encrypted chr.\n",
    "\n",
    "to create the cipher, we can import all the ASCII letters (both upr and lwr) and then shift all the letters to their intended encrpyted state within a dictionary.\n",
    "when we iterate through the string, we're simply doing a lookup & replace.\n",
    "\n",
    "to accomplish this shift, we can take the current index of any chr, add k to it, and determine the resulting index of the correct encrypted chr\n",
    "eg. aBcdE\n",
    "B is index 1, our k is 3, so the resulting index is 4, which is E.\n",
    "\n",
    "one issue we need to handle is the \"wrapping around\" mentioned in the problem statement.\n",
    "eg. abCde_\n",
    "C is index 2, and the shift is 3. the resulting index should be at index 5.\n",
    "however, index 5 is outside the scope of string (which ends on index 4).\n",
    "\n",
    "we can resolve this by using the % operation. this takes advantage of the cyclical nature of the string's length to convert the \"outside of scope\" index 5 into the proper scope of index 0.\n",
    "\n",
    "code with dictionary is implemented below\n",
    "'''"
   ]
  },
  {
   "cell_type": "code",
   "execution_count": 48,
   "metadata": {},
   "outputs": [],
   "source": [
    "def caesarCipher(s, k):\n",
    "    # creating dictionary for fast lookup\n",
    "    import string\n",
    "    upr_chrs, lwr_chrs = string.ascii_uppercase, string.ascii_lowercase\n",
    "    upr_dict, lwr_dict = {}, {}\n",
    "    for i in range(len(upr_chrs)):\n",
    "        shift = i + k\n",
    "        if shift > len(upr_chrs) - 1:\n",
    "            upr_dict[upr_chrs[i]] = upr_chrs[shift % len(upr_chrs)]\n",
    "            lwr_dict[lwr_chrs[i]] = lwr_chrs[shift % len(lwr_chrs)]\n",
    "        else:\n",
    "            upr_dict[upr_chrs[i]] = upr_chrs[shift]\n",
    "            lwr_dict[lwr_chrs[i]] = lwr_chrs[shift]\n",
    "\n",
    "    # encrypting s\n",
    "    encrypted_string = \"\"\n",
    "    for j in range(len(s)):\n",
    "        if s[j] in upr_dict.keys():\n",
    "            encrypted_string += upr_dict[s[j]]\n",
    "        elif s[j] in lwr_dict.keys():\n",
    "            encrypted_string += lwr_dict[s[j]]\n",
    "        else:\n",
    "            encrypted_string += s[j]\n",
    "\n",
    "    return encrypted_string"
   ]
  },
  {
   "cell_type": "code",
   "execution_count": 51,
   "metadata": {},
   "outputs": [
    {
     "data": {
      "text/plain": [
       "'okffng-Qwvb'"
      ]
     },
     "execution_count": 51,
     "metadata": {},
     "output_type": "execute_result"
    }
   ],
   "source": [
    "caesarCipher(s, k)"
   ]
  },
  {
   "cell_type": "markdown",
   "metadata": {},
   "source": [
    "## Testing"
   ]
  },
  {
   "cell_type": "code",
   "execution_count": 52,
   "metadata": {},
   "outputs": [
    {
     "data": {
      "text/plain": [
       "'\\nSample Input\\n11\\nmiddle-Outz\\n2\\n\\nSample Output\\nokffng-Qwvb\\n'"
      ]
     },
     "execution_count": 52,
     "metadata": {},
     "output_type": "execute_result"
    }
   ],
   "source": [
    "'''\n",
    "Sample Input\n",
    "11\n",
    "middle-Outz\n",
    "2\n",
    "\n",
    "Sample Output\n",
    "okffng-Qwvb\n",
    "'''"
   ]
  },
  {
   "cell_type": "code",
   "execution_count": 53,
   "metadata": {},
   "outputs": [
    {
     "data": {
      "text/plain": [
       "'okffng-Qwvb'"
      ]
     },
     "execution_count": 53,
     "metadata": {},
     "output_type": "execute_result"
    }
   ],
   "source": [
    "s1 = \"middle-Outz\"\n",
    "k1 = 2\n",
    "caesarCipher(s1, k1)"
   ]
  },
  {
   "cell_type": "code",
   "execution_count": 54,
   "metadata": {},
   "outputs": [
    {
     "data": {
      "text/plain": [
       "'\\nSample Input\\n38\\nAlways-Look-on-the-Bright-Side-of-Life\\n5\\n\\nSample Output\\nFqbfdx-Qttp-ts-ymj-Gwnlmy-Xnij-tk-Qnkj\\n'"
      ]
     },
     "execution_count": 54,
     "metadata": {},
     "output_type": "execute_result"
    }
   ],
   "source": [
    "'''\n",
    "Sample Input\n",
    "38\n",
    "Always-Look-on-the-Bright-Side-of-Life\n",
    "5\n",
    "\n",
    "Sample Output\n",
    "Fqbfdx-Qttp-ts-ymj-Gwnlmy-Xnij-tk-Qnkj\n",
    "'''"
   ]
  },
  {
   "cell_type": "code",
   "execution_count": 55,
   "metadata": {},
   "outputs": [
    {
     "data": {
      "text/plain": [
       "'Fqbfdx-Qttp-ts-ymj-Gwnlmy-Xnij-tk-Qnkj'"
      ]
     },
     "execution_count": 55,
     "metadata": {},
     "output_type": "execute_result"
    }
   ],
   "source": [
    "s2 = \"Always-Look-on-the-Bright-Side-of-Life\"\n",
    "k2 = 5\n",
    "caesarCipher(s2, k2)"
   ]
  },
  {
   "cell_type": "code",
   "execution_count": 56,
   "metadata": {},
   "outputs": [
    {
     "data": {
      "text/plain": [
       "'\\nPassed all test cases\\n'"
      ]
     },
     "execution_count": 56,
     "metadata": {},
     "output_type": "execute_result"
    }
   ],
   "source": [
    "'''\n",
    "Passed all test cases\n",
    "'''"
   ]
  }
 ],
 "metadata": {
  "interpreter": {
   "hash": "bc3210eb0411503d9a54e82308439f2538c49d86b5a7c00e1ae895fbe28c5986"
  },
  "kernelspec": {
   "display_name": "Python 3.8.12 ('PythonData')",
   "language": "python",
   "name": "python3"
  },
  "language_info": {
   "codemirror_mode": {
    "name": "ipython",
    "version": 3
   },
   "file_extension": ".py",
   "mimetype": "text/x-python",
   "name": "python",
   "nbconvert_exporter": "python",
   "pygments_lexer": "ipython3",
   "version": "3.8.12"
  },
  "orig_nbformat": 4
 },
 "nbformat": 4,
 "nbformat_minor": 2
}
