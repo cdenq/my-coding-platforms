{
 "cells": [
  {
   "cell_type": "code",
   "execution_count": 1,
   "metadata": {},
   "outputs": [],
   "source": [
    "#!/bin/python3\n",
    "\n",
    "import math\n",
    "import os\n",
    "import random\n",
    "import re\n",
    "import sys\n",
    "\n",
    "\n",
    "\n",
    "#\n",
    "# Complete the 'anagram' function below.\n",
    "#\n",
    "# The function is expected to return an INTEGER.\n",
    "# The function accepts STRING s as parameter.\n",
    "#"
   ]
  },
  {
   "cell_type": "markdown",
   "metadata": {},
   "source": [
    "# Strategy\n",
    "\n",
    "Split s into substrings (per instruction).\n",
    "\n",
    "Loop through the letters of either substring, checking to see if that letter is \"not in\" the other substring. If not in, incremenet a counter. If it is in, remove that letter from the other substring.\n",
    "\n",
    "Return the counter."
   ]
  },
  {
   "cell_type": "code",
   "execution_count": 67,
   "metadata": {},
   "outputs": [],
   "source": [
    "def anagram(s):\n",
    "    if len(s) % 2 != 0: #if odd number of letters\n",
    "        return -1\n",
    "    else:\n",
    "        s = list(s)\n",
    "        substring_a, substring_b = s[:int(len(s)/2)], s[int(len(s)/2):]\n",
    "        \n",
    "        counter=0\n",
    "        for chr in substring_a:\n",
    "            if chr not in substring_b:\n",
    "                counter += 1\n",
    "            else:\n",
    "                substring_b.remove(chr)\n",
    "        return counter"
   ]
  },
  {
   "cell_type": "code",
   "execution_count": 68,
   "metadata": {},
   "outputs": [
    {
     "data": {
      "text/plain": [
       "5"
      ]
     },
     "execution_count": 68,
     "metadata": {},
     "output_type": "execute_result"
    }
   ],
   "source": [
    "s = 'fdhlvosfpafhalll'\n",
    "# s = 'xaxbbbxx'\n",
    "anagram(s)\n",
    "# trim('fdhlvosf', 'pafhalll',0)"
   ]
  },
  {
   "cell_type": "code",
   "execution_count": null,
   "metadata": {},
   "outputs": [],
   "source": []
  }
 ],
 "metadata": {
  "interpreter": {
   "hash": "ea2b65024e24df10fa5992686c1c8510a4831519011fa6b2d6f1788e8385f578"
  },
  "kernelspec": {
   "display_name": "Python 3.8.12 64-bit ('PythonData': conda)",
   "language": "python",
   "name": "python3"
  },
  "language_info": {
   "codemirror_mode": {
    "name": "ipython",
    "version": 3
   },
   "file_extension": ".py",
   "mimetype": "text/x-python",
   "name": "python",
   "nbconvert_exporter": "python",
   "pygments_lexer": "ipython3",
   "version": "3.8.12"
  },
  "orig_nbformat": 4
 },
 "nbformat": 4,
 "nbformat_minor": 2
}
