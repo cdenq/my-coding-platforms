{
 "cells": [
  {
   "cell_type": "markdown",
   "metadata": {},
   "source": [
    "# Forming a Magic Square"
   ]
  },
  {
   "cell_type": "code",
   "execution_count": 1,
   "metadata": {},
   "outputs": [
    {
     "data": {
      "text/plain": [
       "'\\nProblem-Solving: \\nDifficulty: \\nSubdomain: \\n'"
      ]
     },
     "execution_count": 1,
     "metadata": {},
     "output_type": "execute_result"
    }
   ],
   "source": [
    "'''\n",
    "Subdomain: Implementation\n",
    "'''"
   ]
  },
  {
   "cell_type": "markdown",
   "metadata": {},
   "source": [
    "## Problem Statement"
   ]
  },
  {
   "cell_type": "code",
   "execution_count": 1,
   "metadata": {},
   "outputs": [
    {
     "data": {
      "text/plain": [
       "'\\n'"
      ]
     },
     "execution_count": 1,
     "metadata": {},
     "output_type": "execute_result"
    }
   ],
   "source": [
    "'''\n",
    "We define a magic square to be an n x n matrix of distinct positive integers from 1 to n^2 where the sum of any row, column, or diagonal of length n is always equal to the same number: the magic constant.\n",
    "\n",
    "You will be given a 3x3 matrix s of integers in the inclusive range [1,9]. We can convert any digit a to any other digit b in the range [1,9] at cost of |a-b|. Given s, convert it into a magic square at minimal cost. Print this cost on a new line.\n",
    "\n",
    "Note: The resulting magic square must contain distinct integers in the inclusive range [1,9].\n",
    "\n",
    "Example\n",
    "\n",
    "$s = [[5, 3, 4], [1, 5, 8], [6, 4, 2]]\n",
    "\n",
    "The matrix looks like this:\n",
    "5 3 4\n",
    "1 5 8\n",
    "6 4 2\n",
    "\n",
    "We can convert it to the following magic square:\n",
    "8 3 4\n",
    "1 5 9\n",
    "6 7 2\n",
    "\n",
    "This took three replacements at a cost of |5-8| + |8-9| + |4-7| = 7.\n",
    "\n",
    "Function Description\n",
    "Complete the formingMagicSquare function in the editor below.\n",
    "\n",
    "formingMagicSquare has the following parameter(s):\n",
    "int s[3][3]: a 3x3 array of integers\n",
    "\n",
    "Returns\n",
    "int: the minimal total cost of converting the input square to a magic square\n",
    "\n",
    "Input Format\n",
    "Each of the 3 lines contains three space-separated integers of row s[i].\n",
    "\n",
    "Constraints\n",
    "s[i][j] in [1,9]\n",
    "'''"
   ]
  },
  {
   "cell_type": "markdown",
   "metadata": {},
   "source": [
    "## Given Test Cases"
   ]
  },
  {
   "cell_type": "code",
   "execution_count": 35,
   "metadata": {},
   "outputs": [],
   "source": [
    "'''\n",
    "Sample Input 0\n",
    "4 9 2\n",
    "3 5 7\n",
    "8 1 5\n",
    "\n",
    "Sample Output 0\n",
    "1\n",
    "'''"
   ]
  },
  {
   "cell_type": "code",
   "execution_count": null,
   "metadata": {},
   "outputs": [],
   "source": [
    "'''\n",
    "Sample Input 1\n",
    "4 8 2\n",
    "4 5 7\n",
    "6 1 6\n",
    "\n",
    "Sample Output 1\n",
    "4\n",
    "'''"
   ]
  },
  {
   "cell_type": "markdown",
   "metadata": {},
   "source": [
    "### Data Setup"
   ]
  },
  {
   "cell_type": "code",
   "execution_count": 1,
   "metadata": {},
   "outputs": [],
   "source": [
    "s = [[4,9,2], [3,5,7], [8,1,5]]"
   ]
  },
  {
   "cell_type": "markdown",
   "metadata": {},
   "source": [
    "## Strategy and Solution"
   ]
  },
  {
   "cell_type": "markdown",
   "metadata": {},
   "source": [
    "### Brute Force"
   ]
  },
  {
   "cell_type": "code",
   "execution_count": 37,
   "metadata": {},
   "outputs": [
    {
     "data": {
      "text/plain": [
       "'\\nLoop through list once and check if current term is less than the next term.\\n\\nIf so, increment counter; return counter at end of loop.\\n'"
      ]
     },
     "execution_count": 37,
     "metadata": {},
     "output_type": "execute_result"
    }
   ],
   "source": [
    "'''\n",
    "the most brute force method would be to go through every possible +- 1 iteration of every single number, and then test whether every iteration is a magic square.\n",
    "'''"
   ]
  },
  {
   "cell_type": "markdown",
   "metadata": {},
   "source": [
    "### Optimized"
   ]
  },
  {
   "cell_type": "markdown",
   "metadata": {},
   "source": [
    "#### Solving the Magic Square"
   ]
  },
  {
   "cell_type": "code",
   "execution_count": 1,
   "metadata": {},
   "outputs": [
    {
     "data": {
      "text/plain": [
       "'\\na faster method would be to directing our changes towards the rules of the magic square\\n\\nto do so, we need first distill the magic square down into mathematical rules.\\n\\nif we were to conceive of a 3x3 matrix where each number needs to be unique and range [1,9], the summation of all of these numbers is 45. specifically...\\nA B C\\nD E F\\nG H I\\n\\nΣ(ABCDEFGHI) = 45\\nbecause every row must be the same sum, we can divide 45/3 = 15, meaning every individual row must sum to 15. the same applies to every diagnol and column\\n\\nnext, observe that if we were to pick out these formauls from above...\\nmiddle row  Σ(DEF) = 15\\nmiddle colu Σ(BEH) = 15\\ndiag        Σ(AEI) = 15\\ndiag        Σ(CEG) = 15\\n\\nand summed these all up...\\nΣ(ABCD) + 4E + Σ(FGHI) = 60.\\n\\ntaking the equation above...\\nΣ(ABCDEFGHI) = 45\\nΣ(ABCD) + 1E + Σ(FGHI) = 45\\nand subtracting from ...\\nΣ(ABCD) + 4E + Σ(FGHI) = 60\\n\\nwe get 3E = 15, or E = 5. meaning the middle number must be a 5. this means that all the opposite ends of any line need to add up to 10 (aka 15 - middle number of 5)\\n\\nthus:\\nA + I = 10\\nB + H = 10\\nC + G = 10\\nD + F = 10\\n\\nthe only combinations of 2 variables adding up to 10 with unique values are...\\n1,9\\n2,8\\n3,7\\n4,6\\nand thus we know these are the mandatory edge-pairs.\\n\\nnext, lets look at the parity of the numbers to determine where teh edge-pairs go.\\nwith three numbers, these are all the possible combinations of odd (O) and even (E) to make an odd number. (we do this because one row must total 15, an odd number, and one row is 3 numbers)\\nE + O + E = O\\nE + E + O = O\\nO + O + O = O\\n\\nnow looking at the 3x3 matrix, we know that the middle is a 5, so replace with O\\n_ _ _\\n_ O _\\n_ _ _\\n\\nconverting the 1,9 ... 4,6 pairs into their O and E notations and plugging into the matrix, we get the combinations:\\nO E O      E O E\\nE O E -or- O O O\\nO E O      E O E\\nthese are the only two conceptions of O,E which result in an O at every possible row,col,diag.\\n\\nnext, notice how in this combination \\nO E O\\nE O E\\nO E O\\nif we were to plug in 1,9 for the corners\\n1 _ _\\n_ 5 _\\n_ _ 9\\nwe cannot put 6,7,8 in the same row or col as 9, lest we get a total sum of greater than 15 in that row or col.\\n(eg. if we did put 6 in same row as 9, we would get 9+6+x = 15, aand x would need to be 0 which is impossible. thus any number 6 or higher cannot be in the same row/col as 9)\\n\\nthis means we need to 6,7,8 in the spaces with x\\n1 x _\\nx 5 _\\n_ _ 9\\nwhich is impossible since we cannot put 3 numbers into 2 spaces.\\n\\nthus, we know that \\n'"
      ]
     },
     "execution_count": 1,
     "metadata": {},
     "output_type": "execute_result"
    }
   ],
   "source": [
    "'''\n",
    "a faster method would be to directing our changes towards the rules of the magic square\n",
    "\n",
    "to do so, we need first distill the magic square down into mathematical rules.\n",
    "\n",
    "if we were to conceive of a 3x3 matrix where each number needs to be unique and range [1,9], the summation of all of these numbers is 45. specifically...\n",
    "A B C\n",
    "D E F\n",
    "G H I\n",
    "\n",
    "Σ(ABCDEFGHI) = 45\n",
    "because every row must be the same sum, we can divide 45/3 = 15, meaning every individual row must sum to 15. the same applies to every diagnol and column\n",
    "\n",
    "next, observe that if we were to pick out these formauls from above...\n",
    "middle row  Σ(DEF) = 15\n",
    "middle colu Σ(BEH) = 15\n",
    "diag        Σ(AEI) = 15\n",
    "diag        Σ(CEG) = 15\n",
    "\n",
    "and summed these all up...\n",
    "Σ(ABCD) + 4E + Σ(FGHI) = 60.\n",
    "\n",
    "taking the equation above...\n",
    "Σ(ABCDEFGHI) = 45\n",
    "Σ(ABCD) + 1E + Σ(FGHI) = 45\n",
    "and subtracting from ...\n",
    "Σ(ABCD) + 4E + Σ(FGHI) = 60\n",
    "\n",
    "we get 3E = 15, or E = 5. meaning the middle number must be a 5. this means that all the opposite ends of any line need to add up to 10 (aka 15 - middle number of 5)\n",
    "\n",
    "thus:\n",
    "A + I = 10\n",
    "B + H = 10\n",
    "C + G = 10\n",
    "D + F = 10\n",
    "\n",
    "the only combinations of 2 variables adding up to 10 with unique values are...\n",
    "1,9\n",
    "2,8\n",
    "3,7\n",
    "4,6\n",
    "and thus we know these are the mandatory edge-pairs.\n",
    "\n",
    "next, lets look at the parity of the numbers to determine where teh edge-pairs go.\n",
    "with three numbers, these are all the possible combinations of odd (O) and even (E) to make an odd number. (we do this because one row must total 15, an odd number, and one row is 3 numbers)\n",
    "E + O + E = O\n",
    "E + E + O = O\n",
    "O + O + O = O\n",
    "\n",
    "now looking at the 3x3 matrix, we know that the middle is a 5, so replace with O\n",
    "_ _ _\n",
    "_ O _\n",
    "_ _ _\n",
    "\n",
    "converting the 1,9 ... 4,6 pairs into their O and E notations and plugging into the matrix, we get the combinations:\n",
    "O E O      E O E\n",
    "E O E -or- O O O\n",
    "O E O      E O E\n",
    "these are the only two conceptions of O,E which result in an O at every possible row,col,diag.\n",
    "\n",
    "next, notice how in this combination \n",
    "O E O\n",
    "E O E\n",
    "O E O\n",
    "if we were to plug in 1,9 for the corners\n",
    "1 _ _\n",
    "_ 5 _\n",
    "_ _ 9\n",
    "we cannot put 6,7,8 in the same row or col as 9, lest we get a total sum of greater than 15 in that row or col.\n",
    "(eg. if we did put 6 in same row as 9, we would get 9+6+x = 15, aand x would need to be 0 which is impossible. thus any number 6 or higher cannot be in the same row/col as 9)\n",
    "\n",
    "this means we need to 6,7,8 in the spaces with x\n",
    "1 x _\n",
    "x 5 _\n",
    "_ _ 9\n",
    "which is impossible since we cannot put 3 numbers into 2 spaces.\n",
    "\n",
    "thus, we know that\n",
    "E O E\n",
    "O O O\n",
    "E O E\n",
    "\n",
    "is the number correct orientation. plugging in all the numbers, we get\n",
    "2 9 4\n",
    "7 5 3\n",
    "6 1 8\n",
    "as one of the possible magic squares, with all possible magic squares being a rotation or reflection.\n",
    "'''"
   ]
  },
  {
   "cell_type": "markdown",
   "metadata": {},
   "source": [
    "#### Generating the Magic Squares"
   ]
  },
  {
   "cell_type": "code",
   "execution_count": 15,
   "metadata": {},
   "outputs": [
    {
     "data": {
      "text/plain": [
       "'\\nnow that we have established a \"seed\" magic square and all possible iterations of it\\n(eg. seed + its 3 rotations + seed\\'s reflection aka transpose + transpose\\'s 3 rotations = 8 total magic squares)\\n\\nwe can generate our magic square and then compare any given matrix to the 8 magic squares\\n'"
      ]
     },
     "execution_count": 15,
     "metadata": {},
     "output_type": "execute_result"
    }
   ],
   "source": [
    "'''\n",
    "now that we have established a \"base\" magic square and all possible iterations of it\n",
    "(eg. base + its 3 rotations + base's reflection aka transpose + reflections's 3 rotations = 8 total magic squares)\n",
    "\n",
    "we can generate our magic square and then compare any given matrix to the 8 magic squares\n",
    "'''"
   ]
  },
  {
   "cell_type": "code",
   "execution_count": 32,
   "metadata": {},
   "outputs": [],
   "source": [
    "def transpose(matrix):\n",
    "    transposed = [list(i) for i in list(zip(*matrix))]\n",
    "    return transposed"
   ]
  },
  {
   "cell_type": "code",
   "execution_count": 33,
   "metadata": {},
   "outputs": [],
   "source": [
    "def rotate(matrix):\n",
    "    n = len(matrix)\n",
    "    rotated = [[0 for i in range(n)] for j in range(n)]\n",
    "    rotated[1][1]= 5\n",
    "    for i in range(0, (n + 1) // 2):\n",
    "        for j in range(0, n // 2):\n",
    "            rotated[i][j] = matrix[n - j - 1][i]\n",
    "            rotated[n - j - 1][i] = matrix[n - i - 1][n - j - 1]\n",
    "            rotated[n - i - 1][n - j - 1] = matrix[j][n - i - 1]\n",
    "            rotated[j][n - i - 1] = matrix[i][j]\n",
    "    return(rotated)"
   ]
  },
  {
   "cell_type": "code",
   "execution_count": 40,
   "metadata": {},
   "outputs": [],
   "source": [
    "base = [[2, 9, 4], [7, 5, 3], [6, 1, 8]]\n",
    "\n",
    "to_be_rotated = [base, transpose(base)]\n",
    "magic_squares = []\n",
    "for i in to_be_rotated:\n",
    "    current_square = i\n",
    "    magic_squares.append(current_square)\n",
    "    for j in range(0, 3):\n",
    "        magic_squares.append(rotate(current_square))\n",
    "        current_square = rotate(current_square)"
   ]
  },
  {
   "cell_type": "code",
   "execution_count": 41,
   "metadata": {},
   "outputs": [
    {
     "data": {
      "text/plain": [
       "[[[2, 9, 4], [7, 5, 3], [6, 1, 8]],\n",
       " [[6, 7, 2], [1, 5, 9], [8, 3, 4]],\n",
       " [[8, 1, 6], [3, 5, 7], [4, 9, 2]],\n",
       " [[4, 3, 8], [9, 5, 1], [2, 7, 6]],\n",
       " [[2, 7, 6], [9, 5, 1], [4, 3, 8]],\n",
       " [[4, 9, 2], [3, 5, 7], [8, 1, 6]],\n",
       " [[8, 3, 4], [1, 5, 9], [6, 7, 2]],\n",
       " [[6, 1, 8], [7, 5, 3], [2, 9, 4]]]"
      ]
     },
     "execution_count": 41,
     "metadata": {},
     "output_type": "execute_result"
    }
   ],
   "source": [
    "magic_squares"
   ]
  },
  {
   "cell_type": "markdown",
   "metadata": {},
   "source": [
    "#### Applying Magic Square to the Problem"
   ]
  },
  {
   "cell_type": "code",
   "execution_count": null,
   "metadata": {},
   "outputs": [],
   "source": [
    "'''\n",
    "for a given matrix, we can brute force check every value in it with the corresponding value in the magic square. take the absolute value of the difference, then keep a rolling sum of all the 9 numberes in the matrix.\n",
    "\n",
    "once done, move onto the remaining magic squares and do the same. the end result will give the min work \n",
    "'''"
   ]
  },
  {
   "cell_type": "code",
   "execution_count": 43,
   "metadata": {},
   "outputs": [],
   "source": [
    "def optimized(matrix):\n",
    "    for i in range(0, len(magic_squares)):\n",
    "        work = 0\n",
    "        for j in range(0, len(matrix)):\n",
    "            for k in range(0, len(matrix)):\n",
    "                work += abs(matrix[j][k] - magic_squares[i][j][k])\n",
    "        if i == 0:\n",
    "            lowest_work = work\n",
    "        else:\n",
    "            if work < lowest_work:\n",
    "                lowest_work = work\n",
    "    return lowest_work"
   ]
  },
  {
   "cell_type": "markdown",
   "metadata": {},
   "source": [
    "## Testing"
   ]
  },
  {
   "cell_type": "code",
   "execution_count": 44,
   "metadata": {},
   "outputs": [],
   "source": [
    "'''\n",
    "Sample Input 0\n",
    "4 9 2\n",
    "3 5 7\n",
    "8 1 5\n",
    "\n",
    "Sample Output 0\n",
    "1\n",
    "'''"
   ]
  },
  {
   "cell_type": "code",
   "execution_count": 44,
   "metadata": {},
   "outputs": [
    {
     "name": "stdout",
     "output_type": "stream",
     "text": [
      "1\n"
     ]
    }
   ],
   "source": [
    "a = [[4,9,2], [3,5,7], [8,1,5]]\n",
    "print(optimized(a))"
   ]
  },
  {
   "cell_type": "code",
   "execution_count": null,
   "metadata": {},
   "outputs": [],
   "source": [
    "'''\n",
    "Sample Input 1\n",
    "4 8 2\n",
    "4 5 7\n",
    "6 1 6\n",
    "\n",
    "Sample Output 1\n",
    "4\n",
    "'''"
   ]
  },
  {
   "cell_type": "code",
   "execution_count": 45,
   "metadata": {},
   "outputs": [
    {
     "name": "stdout",
     "output_type": "stream",
     "text": [
      "4\n"
     ]
    }
   ],
   "source": [
    "b = [[4,8,2], [4,5,7], [6,1,6]]\n",
    "print(optimized(b))"
   ]
  },
  {
   "cell_type": "code",
   "execution_count": null,
   "metadata": {},
   "outputs": [],
   "source": [
    "'''\n",
    "Passed 0-22 test cases\n",
    "'''"
   ]
  }
 ],
 "metadata": {
  "interpreter": {
   "hash": "bc3210eb0411503d9a54e82308439f2538c49d86b5a7c00e1ae895fbe28c5986"
  },
  "kernelspec": {
   "display_name": "Python 3.8.12 ('PythonData')",
   "language": "python",
   "name": "python3"
  },
  "language_info": {
   "codemirror_mode": {
    "name": "ipython",
    "version": 3
   },
   "file_extension": ".py",
   "mimetype": "text/x-python",
   "name": "python",
   "nbconvert_exporter": "python",
   "pygments_lexer": "ipython3",
   "version": "3.8.12"
  },
  "orig_nbformat": 4
 },
 "nbformat": 4,
 "nbformat_minor": 2
}
