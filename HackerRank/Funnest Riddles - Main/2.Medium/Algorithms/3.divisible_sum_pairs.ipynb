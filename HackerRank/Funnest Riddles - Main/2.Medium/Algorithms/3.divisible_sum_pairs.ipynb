{
 "cells": [
  {
   "cell_type": "markdown",
   "metadata": {},
   "source": [
    "# Divisible Sum Pairs"
   ]
  },
  {
   "cell_type": "code",
   "execution_count": null,
   "metadata": {},
   "outputs": [],
   "source": [
    "'''\n",
    "Subdomain: Implementation\n",
    "'''"
   ]
  },
  {
   "cell_type": "markdown",
   "metadata": {},
   "source": [
    "## Problem Statement"
   ]
  },
  {
   "cell_type": "code",
   "execution_count": 2,
   "metadata": {},
   "outputs": [
    {
     "data": {
      "text/plain": [
       "'\\nGiven an array of integers and a positive integer k, determine the number of (i,j) pairs where i<j and ar[i] + ar[j] is divisible by k.\\n\\nExample\\nar = [1,2,3,4,5,6]\\nk=5\\n\\nThree pairs meet the criteria: [1,4], [2,3], and [4,6].\\n\\nFunction Description\\nComplete the divisibleSumPairs function in the editor below.\\n\\ndivisibleSumPairs has the following parameter(s):\\n\\nint n: the length of array ar \\nint ar[n]: an array of integers\\nint k: the integer divisor\\n\\nReturns\\n- int: the number of pairs\\n\\nInput Format\\nThe first line contains 2 space-separated integers, n and k.\\nThe second line contains n space-separated integers, each a value of arr[i].\\n\\nConstraints\\n2 <= n <= 100\\n1 <= k <= 100\\n1 <= ar[i] <= 100\\n'"
      ]
     },
     "execution_count": 2,
     "metadata": {},
     "output_type": "execute_result"
    }
   ],
   "source": [
    "'''\n",
    "Given an array of integers and a positive integer k, determine the number of (i,j) pairs where i<j and ar[i] + ar[j] is divisible by k.\n",
    "\n",
    "Example\n",
    "ar = [1,2,3,4,5,6]\n",
    "k=5\n",
    "\n",
    "Three pairs meet the criteria: [1,4], [2,3], and [4,6].\n",
    "\n",
    "Function Description\n",
    "Complete the divisibleSumPairs function in the editor below.\n",
    "\n",
    "divisibleSumPairs has the following parameter(s):\n",
    "\n",
    "int n: the length of array ar \n",
    "int ar[n]: an array of integers\n",
    "int k: the integer divisor\n",
    "\n",
    "Returns\n",
    "- int: the number of pairs\n",
    "\n",
    "Input Format\n",
    "The first line contains 2 space-separated integers, n and k.\n",
    "The second line contains n space-separated integers, each a value of arr[i].\n",
    "\n",
    "Constraints\n",
    "2 <= n <= 100\n",
    "1 <= k <= 100\n",
    "1 <= ar[i] <= 100\n",
    "'''"
   ]
  },
  {
   "cell_type": "markdown",
   "metadata": {},
   "source": [
    "## Given Test Cases"
   ]
  },
  {
   "cell_type": "code",
   "execution_count": 3,
   "metadata": {},
   "outputs": [
    {
     "data": {
      "text/plain": [
       "'\\nSample Input\\nSTDIN           Function\\n-----           --------\\n6 3             n = 6, k = 3\\n1 3 2 6 1 2     ar = [1, 3, 2, 6, 1, 2]\\n\\nSample Output\\n5\\n'"
      ]
     },
     "execution_count": 3,
     "metadata": {},
     "output_type": "execute_result"
    }
   ],
   "source": [
    "'''\n",
    "Sample Input\n",
    "STDIN           Function\n",
    "-----           --------\n",
    "6 3             n = 6, k = 3\n",
    "1 3 2 6 1 2     ar = [1, 3, 2, 6, 1, 2]\n",
    "\n",
    "Sample Output\n",
    "5\n",
    "'''"
   ]
  },
  {
   "cell_type": "markdown",
   "metadata": {},
   "source": [
    "### Data Setup"
   ]
  },
  {
   "cell_type": "code",
   "execution_count": 19,
   "metadata": {},
   "outputs": [],
   "source": [
    "n = 6\n",
    "k = 3\n",
    "arr = [1, 3, 2, 6, 1, 2]"
   ]
  },
  {
   "cell_type": "markdown",
   "metadata": {},
   "source": [
    "## Strategy and Solution"
   ]
  },
  {
   "cell_type": "markdown",
   "metadata": {},
   "source": [
    "### Brute Force O(n^2)"
   ]
  },
  {
   "cell_type": "code",
   "execution_count": 4,
   "metadata": {},
   "outputs": [
    {
     "data": {
      "text/plain": [
       "'\\niterate through the entire array, counting all the (-) values and divide the counter by the len.\\n\\ndo the same two more times with (+), (0)\\n'"
      ]
     },
     "execution_count": 4,
     "metadata": {},
     "output_type": "execute_result"
    }
   ],
   "source": [
    "'''\n",
    "we can take every possible combination (double for loop) of 2 ints (nC2) and then modulo that with k. whenever the result is 0, increment a counter and return that counter.\n",
    "O(nC2) = O((n^2 - n)/2) = O(n^2)\n",
    "\n",
    "in code, we will iterate through modified arrs such that for a[i], 0 <= i <= len(arr) - 1 \n",
    "and the inner arr a[i], i+1 <= j <= len(arr)\n",
    "\n",
    "here is visual representation of the the above array modifications\n",
    "the top - is the arr for i (outer for loop)\n",
    "- - - - -\n",
    "1,2,3,4,5,6\n",
    "  - - - - -\n",
    "the bottom - is the arr for j (inner for loop)\n",
    "\n",
    "this will allow us to capture every possible combination nC2\n",
    "'''"
   ]
  },
  {
   "cell_type": "code",
   "execution_count": 6,
   "metadata": {},
   "outputs": [],
   "source": [
    "def brute(n, k, arr):\n",
    "    #n = len(ar)\n",
    "    counter = 0\n",
    "    for i in range(0, n-1):\n",
    "        for j in range(i+1, n):\n",
    "            if ((arr[i] + arr[j]) % k == 0):\n",
    "                counter += 1\n",
    "    return counter"
   ]
  },
  {
   "cell_type": "code",
   "execution_count": 20,
   "metadata": {},
   "outputs": [
    {
     "data": {
      "text/plain": [
       "5"
      ]
     },
     "execution_count": 20,
     "metadata": {},
     "output_type": "execute_result"
    }
   ],
   "source": [
    "brute(n,k,arr)"
   ]
  },
  {
   "cell_type": "markdown",
   "metadata": {},
   "source": [
    "### Optimized Solution O(n)"
   ]
  },
  {
   "cell_type": "code",
   "execution_count": null,
   "metadata": {},
   "outputs": [],
   "source": [
    "'''\n",
    "We can optimize this solution with a little bit of logic.\n",
    "\n",
    "To start we can write this general statement, where A,B,C are non-negative integers\n",
    "A + B = C\n",
    "\n",
    "Given that we want to find all sum of pairs that are divisible by k, we can write this:\n",
    "(A + B) % k = C % k, where C % k = 0.\n",
    "\n",
    "Observe the fact that if C % k = 0, C must be some whole integer that is not only divisible by k, but also a mutiple of k.\n",
    "For example, if k = 5, we know that any multiple of 5 must still be divisible by k. (eg. C = 10, which is 2 multiples of 5, is still divisible by k = 5)\n",
    "Observe also that the smallest non-0 instance of C is k itself, since we know that k % k = 0, and k / k = 1. \n",
    "1 is the smallest possible non-negative quotient we will get, meaning that k is the smallest multiple of k (multiple of 1)\n",
    "Let's work with the simplest case where C = k, since we know if we find A and B that add up to k, we know transitively that some larger multiple of (A+B) will be C, and C is divisible by k\n",
    "\n",
    "Thus:\n",
    "A + B = k\n",
    "and the logical statement following\n",
    "(A+B) % k = k % k, where k % k = 0.\n",
    "\n",
    "arbitrarily solve for B, we know that\n",
    "A + B = k\n",
    "B = k - A\n",
    "and plugging in...\n",
    "(A + (k - A)) % k = k % k\n",
    "\n",
    "using the distributive property of modulo, we know that\n",
    "[(A)%k + (k-A)%k] % k = k % k\n",
    "\n",
    "simplifying...\n",
    "A%k + (k-A)%k = k \n",
    "\n",
    "and thus, we are looking for the integer pair A%k and (k-A)%k.\n",
    "explicitly, let's say k = 6, and we arbitrarily set A%k = 1. plugging this in, we know that\n",
    "A%6 = 1\n",
    "\n",
    "what are the values of A such that A%6 = 1? it's all the integers with the remainder 1 when we divide it by 6!\n",
    "so the set of numbers {1, 7, 13, 19...}\n",
    "and the complement (k-A)%k, which after plugging in the example numbers, we derive to be {5, 11, 17, 23...}\n",
    "\n",
    "we now know that we want to find the complement \"C%k\" integers, aka complement of remainders after dividing by 6 such that the remainders when added up = 6.\n",
    "--\n",
    "\n",
    "moving onto the problem statement, we can classify all the integers in our array into their remainders. we can do this with a dictionary, storing the integers themselves as the values and the key to be the\n",
    "remainder after dividing the integer by k. I will refer to all the integers that % k = 1 as \"remainder class 1\", all integers that % k = 2 as \"remainder class 2\", etc. i will abbreviate \"remainder class\" as \"RC\"\n",
    "\n",
    "having done so, we know that the complement RC that add up to k are the sums that are divisble by k\n",
    "aka, RC 1 + RC 5 = somethign divisible by k=6 and so on,\n",
    "\n",
    "so we can find all the combinations of pairs of integers such that a pair contains 1 integer from different complementary RC to get the answer.\n",
    "\n",
    "there are some caveats, which can be highlighted with an example\n",
    "\n",
    "eg) [1,3,4,7,8,9,10,12,13,18,20]; k = 6\n",
    "the dictionary of RC:\n",
    "0: 12,18\n",
    "1: 1,7,13\n",
    "2: 8,20\n",
    "3: 3,9\n",
    "4: 4,10\n",
    "\n",
    "we want the complementary RCs, so we know that the number of combinations of integers from RC2 and RC4 work.\n",
    "so in the above example, 2 items in RC2 * 2 items in RC4 = 4. there are 4 sums that are divisble by k\n",
    "\n",
    "for RC1, we need a complementary RC5, of which none exist in the array, and thus, no sum combination with any number in RC1 will give somethign divisble by k.\n",
    "\n",
    "for RC0, we know that the complementary RC is 6, but %k = 0 is the same cycle of %k = 6. thus, rather than between two remainder classes, we actually want the combination of integers\n",
    "WITHIN RC0, since an RC0 is the same as RC6. we can do nCr or combination formula. since sum is of 2, we want nC2, which simplifies down to (n^2 - n)/2\n",
    "\n",
    "in the above example, given that RC0 has 2 integers, we do 2C2 = 1, so only 1 sum that is diviisble by k\n",
    "\n",
    "similarly, for RC3, the complement of RC3 is RC(6-3) which is itself again. thus, we would do another combination formula WITHIN the same RC. observe how in any k such that k%2 = 0,\n",
    "we will have some RC(k/2) whose complement is itself, and thus, need to check if k%2 = 0. \n",
    "\n",
    "in the above example, RC3 has 2 integers, so we do 2C2 = 1, so another sum.\n",
    "\n",
    "THUS in the general form,\n",
    "\n",
    "nC2 of RC0\n",
    "+\n",
    "E(length(RC a) * length(RC k-a))\n",
    "+\n",
    "nC2 of RC(k/2) ----- only if k%2 = 0\n",
    "=\n",
    "total number of sums that are divisible by k\n",
    "\n",
    "where length(RC a) means the total number of integers within remainder class a and length(RC b) means the total number of integers within the complementary RC.\n",
    "'''"
   ]
  },
  {
   "cell_type": "code",
   "execution_count": null,
   "metadata": {},
   "outputs": [],
   "source": [
    "'''\n",
    "another small improvement, since the problem statement doesn't require us to return the pairs, rather than storing our remainder classes in a dictionary, we can store them in a list\n",
    "\n",
    "the list represents the frequency of the remainder classes; specifically, the element at each index position represents the frequnecy of that index'th remainder class.\n",
    "eg)\n",
    "[1,5,7,8,12,13,20]; k = 5\n",
    "0: 5,20\n",
    "1: 1\n",
    "2: 7,12\n",
    "3: 8,13\n",
    "\n",
    "in this \"freq list\" format is...\n",
    "[2,1,2,2]\n",
    "where @ i = 0, arr[i] = 2 because RC0 has two values (5,20) in the dictionary format\n",
    "\n",
    "observe that possible remainder classes is always going to be integers less than k, so for example with k=5, all the unqiue remainder classes are 0,1,2,3,4\n",
    "'''"
   ]
  },
  {
   "cell_type": "code",
   "execution_count": 32,
   "metadata": {},
   "outputs": [],
   "source": [
    "def optimized(k, arr):\n",
    "    #instantiates list of frequencies of all possible remainder classes, setting all freqs to 0 to start off\n",
    "    freq_ls = [0 for _ in range(0,k)]\n",
    "\n",
    "    #populate freq\n",
    "    for integer in arr:\n",
    "        freq_ls[integer % k] += 1\n",
    "\n",
    "    #compute number of valid combinations\n",
    "    counter = 0\n",
    "    \n",
    "    counter += ((freq_ls[0])^2 - freq_ls[0]) / 2 #computing RC0, this formula is nC2, aka (n^2 - n)/2\n",
    "    if k % 2 == 0:\n",
    "        counter += ((freq_ls[k/2])^2 - freq_ls[k/2]) / 2 #computing RC(k/2), this formula is nC2, aka (n^2 - n)/2\n",
    "\n",
    "    for i in range(1, round(k/2)): #computing the remaining complement RC\n",
    "        counter += freq_ls[i] * freq_ls[k-i]\n",
    "\n",
    "    return int(counter)"
   ]
  },
  {
   "cell_type": "code",
   "execution_count": 33,
   "metadata": {},
   "outputs": [
    {
     "data": {
      "text/plain": [
       "5"
      ]
     },
     "execution_count": 33,
     "metadata": {},
     "output_type": "execute_result"
    }
   ],
   "source": [
    "optimized(k, arr)"
   ]
  },
  {
   "cell_type": "markdown",
   "metadata": {},
   "source": [
    "## Testing"
   ]
  },
  {
   "cell_type": "code",
   "execution_count": null,
   "metadata": {},
   "outputs": [],
   "source": [
    "'''\n",
    "Passed all test cases\n",
    "'''"
   ]
  }
 ],
 "metadata": {
  "interpreter": {
   "hash": "bc3210eb0411503d9a54e82308439f2538c49d86b5a7c00e1ae895fbe28c5986"
  },
  "kernelspec": {
   "display_name": "Python 3.8.12 ('PythonData')",
   "language": "python",
   "name": "python3"
  },
  "language_info": {
   "codemirror_mode": {
    "name": "ipython",
    "version": 3
   },
   "file_extension": ".py",
   "mimetype": "text/x-python",
   "name": "python",
   "nbconvert_exporter": "python",
   "pygments_lexer": "ipython3",
   "version": "3.8.12"
  },
  "orig_nbformat": 4
 },
 "nbformat": 4,
 "nbformat_minor": 2
}
