{
 "cells": [
  {
   "cell_type": "markdown",
   "metadata": {},
   "source": [
    "# Contains Duplicate"
   ]
  },
  {
   "cell_type": "code",
   "execution_count": 18,
   "metadata": {},
   "outputs": [
    {
     "data": {
      "text/plain": [
       "'\\nDifficulty: Easy\\n'"
      ]
     },
     "execution_count": 18,
     "metadata": {},
     "output_type": "execute_result"
    }
   ],
   "source": [
    "'''\n",
    "Difficulty: Easy\n",
    "'''"
   ]
  },
  {
   "cell_type": "markdown",
   "metadata": {},
   "source": [
    "## Problem Statement"
   ]
  },
  {
   "cell_type": "code",
   "execution_count": 19,
   "metadata": {},
   "outputs": [
    {
     "data": {
      "text/plain": [
       "'\\nGiven an integer array nums, return true if any value appears at least twice in the array, and return false if every element is distinct.\\n\\nExample 1:\\nInput: nums = [1,2,3,1]\\nOutput: true\\n\\nExample 2:\\nInput: nums = [1,2,3,4]\\nOutput: false\\n\\nExample 3:\\nInput: nums = [1,1,1,3,3,4,3,2,4,2]\\nOutput: true\\n \\n\\nConstraints:\\n1 <= nums.length <= 10^5\\n-10^9 <= nums[i] <= 10^9\\n'"
      ]
     },
     "execution_count": 19,
     "metadata": {},
     "output_type": "execute_result"
    }
   ],
   "source": [
    "'''\n",
    "Given an integer array nums, return true if any value appears at least twice in the array, and return false if every element is distinct.\n",
    "\n",
    "Example 1:\n",
    "Input: nums = [1,2,3,1]\n",
    "Output: true\n",
    "\n",
    "Example 2:\n",
    "Input: nums = [1,2,3,4]\n",
    "Output: false\n",
    "\n",
    "Example 3:\n",
    "Input: nums = [1,1,1,3,3,4,3,2,4,2]\n",
    "Output: true\n",
    " \n",
    "\n",
    "Constraints:\n",
    "1 <= nums.length <= 10^5\n",
    "-10^9 <= nums[i] <= 10^9\n",
    "'''"
   ]
  },
  {
   "cell_type": "markdown",
   "metadata": {},
   "source": [
    "## Given Test Cases"
   ]
  },
  {
   "cell_type": "code",
   "execution_count": 20,
   "metadata": {},
   "outputs": [
    {
     "data": {
      "text/plain": [
       "'\\nExample 1:\\nInput: nums = [1,2,3,1]\\nOutput: true\\n\\nExample 2:\\nInput: nums = [1,2,3,4]\\nOutput: false\\n\\nExample 3:\\nInput: nums = [1,1,1,3,3,4,3,2,4,2]\\nOutput: true\\n'"
      ]
     },
     "execution_count": 20,
     "metadata": {},
     "output_type": "execute_result"
    }
   ],
   "source": [
    "'''\n",
    "Example 1:\n",
    "Input: nums = [1,2,3,1]\n",
    "Output: true\n",
    "\n",
    "Example 2:\n",
    "Input: nums = [1,2,3,4]\n",
    "Output: false\n",
    "\n",
    "Example 3:\n",
    "Input: nums = [1,1,1,3,3,4,3,2,4,2]\n",
    "Output: true\n",
    "'''"
   ]
  },
  {
   "cell_type": "markdown",
   "metadata": {},
   "source": [
    "### Data Setup"
   ]
  },
  {
   "cell_type": "code",
   "execution_count": 21,
   "metadata": {},
   "outputs": [],
   "source": [
    "nums1 = [1,2,3,1]\n",
    "nums2 = [1,2,3,4]\n",
    "nums3 = [1,1,1,3,3,4,3,2,4,2]"
   ]
  },
  {
   "cell_type": "markdown",
   "metadata": {},
   "source": [
    "## Strategy and Solution"
   ]
  },
  {
   "cell_type": "markdown",
   "metadata": {},
   "source": [
    "### Brute Force O(n2)"
   ]
  },
  {
   "cell_type": "code",
   "execution_count": 22,
   "metadata": {},
   "outputs": [
    {
     "data": {
      "text/plain": [
       "\"\\ndouble for-loop. for the every int in nums, iterate through every other nums to see if there is a duplicate\\n\\nwe can heavily improve on this because the sample space that we're checking is so large\\n\""
      ]
     },
     "execution_count": 22,
     "metadata": {},
     "output_type": "execute_result"
    }
   ],
   "source": [
    "'''\n",
    "double for-loop. for the every int in nums, iterate through every other nums to see if there is a duplicate\n",
    "\n",
    "we can heavily improve on this because the sample space that we're checking is so large\n",
    "'''"
   ]
  },
  {
   "cell_type": "markdown",
   "metadata": {},
   "source": [
    "### Faster Solution O(nlogn)"
   ]
  },
  {
   "cell_type": "code",
   "execution_count": 23,
   "metadata": {},
   "outputs": [
    {
     "data": {
      "text/plain": [
       "'\\nsort nums O(nlogn).\\n\\nthis ensures that duplicates will be adjacent because they are the same value\\n\\nthen, iterate through the list O(n), checking to see if current int is the same as as the next int. the moment they match, return the value.\\n\\nthis reduces our search space to only O(n), but we spend O(nlogn) time sorting it. can still be improved\\n'"
      ]
     },
     "execution_count": 23,
     "metadata": {},
     "output_type": "execute_result"
    }
   ],
   "source": [
    "'''\n",
    "sort nums O(nlogn).\n",
    "\n",
    "this ensures that duplicates will be adjacent because they are the same value\n",
    "\n",
    "then, iterate through the list O(n), checking to see if current int is the same as as the next int. the moment they match, return the value.\n",
    "\n",
    "this reduces our search space to only O(n), but we spend O(nlogn) time sorting it. can still be improved\n",
    "'''"
   ]
  },
  {
   "cell_type": "markdown",
   "metadata": {},
   "source": [
    "### Fastest Solution O(n), all cases is O(n)"
   ]
  },
  {
   "cell_type": "code",
   "execution_count": 24,
   "metadata": {},
   "outputs": [
    {
     "data": {
      "text/plain": [
       "'\\nrather than sorting it, we can take advantage of a native Python function -> set()\\n\\nO(n) looping through the array to convert it into a set.\\n\\nafterwards, O(1) to check if the length of the set is the same as the length of original.\\n\\nif is it, return False; else return True.\\n\\nfirstly, this strategy removes the nlogn sort time.\\nnext, we can transform the array (using O(n) time) into another structure that gives us insight\\nlastly, we can reduce our search time to O(1) when we compare the lengths of these structures\\n'"
      ]
     },
     "execution_count": 24,
     "metadata": {},
     "output_type": "execute_result"
    }
   ],
   "source": [
    "'''\n",
    "rather than sorting it, we can take advantage of a native Python function -> set()\n",
    "\n",
    "O(n) looping through the array to convert it into a set.\n",
    "\n",
    "afterwards, O(1) to check if the length of the set is the same as the length of original.\n",
    "\n",
    "if is it, return False; else return True.\n",
    "\n",
    "firstly, this strategy removes the nlogn sort time.\n",
    "next, we can transform the array (using O(n) time) into another structure that gives us insight\n",
    "lastly, we can reduce our search time to O(1) when we compare the lengths of these structures\n",
    "'''"
   ]
  },
  {
   "cell_type": "code",
   "execution_count": 25,
   "metadata": {},
   "outputs": [],
   "source": [
    "def containsDuplicate(nums):\n",
    "    set_nums = set(nums)\n",
    "    if len(set_nums) != set(nums):\n",
    "        return True\n",
    "    else:\n",
    "        return False"
   ]
  },
  {
   "cell_type": "code",
   "execution_count": null,
   "metadata": {},
   "outputs": [],
   "source": [
    "#cleaner code\n",
    "def containsDuplicate(nums):\n",
    "    return len(nums) > len(set(nums))"
   ]
  },
  {
   "cell_type": "markdown",
   "metadata": {},
   "source": [
    "### Fastest Solution O(n), best case is O(1), worst case is O(n)"
   ]
  },
  {
   "cell_type": "code",
   "execution_count": 26,
   "metadata": {},
   "outputs": [
    {
     "data": {
      "text/plain": [
       "'\\nwe can make a minor improvement by tweaking to the code to stop early if it doesnt need to traverse the whole nums array\\n\\nthe issue with the above solution is that it will always recreate the set, which in turn will always take O(n) runtime.\\n\\nwe can improve upon this manually coding the creation of the set ourselves. this way, we can add an early break in the code if we identify a duplicate before the entire completion of the set\\n'"
      ]
     },
     "execution_count": 26,
     "metadata": {},
     "output_type": "execute_result"
    }
   ],
   "source": [
    "'''\n",
    "we can make a minor improvement by tweaking to the code to stop early if it doesnt need to traverse the whole nums array\n",
    "\n",
    "the issue with the above solution is that it will always recreate the set, which in turn will always take O(n) runtime.\n",
    "\n",
    "we can improve upon this manually coding the creation of the set ourselves. this way, we can add an early break in the code if we identify a duplicate before the entire completion of the set\n",
    "'''"
   ]
  },
  {
   "cell_type": "code",
   "execution_count": 27,
   "metadata": {},
   "outputs": [],
   "source": [
    "def containsDuplicate2(nums):\n",
    "    set_nums = []\n",
    "    for i in nums:\n",
    "        if i in set_nums:\n",
    "            return True\n",
    "        else:\n",
    "            set_nums.append(i)\n",
    "    return False"
   ]
  },
  {
   "cell_type": "markdown",
   "metadata": {},
   "source": [
    "## Testing"
   ]
  },
  {
   "cell_type": "code",
   "execution_count": 28,
   "metadata": {},
   "outputs": [
    {
     "name": "stdout",
     "output_type": "stream",
     "text": [
      "TrueFalseTrue\n"
     ]
    }
   ],
   "source": [
    "print(f\"\\\n",
    "{containsDuplicate2(nums1)}\\\n",
    "{containsDuplicate2(nums2)}\\\n",
    "{containsDuplicate2(nums3)}\")"
   ]
  },
  {
   "cell_type": "code",
   "execution_count": 29,
   "metadata": {},
   "outputs": [
    {
     "data": {
      "text/plain": [
       "'\\nPassed all test cases\\n'"
      ]
     },
     "execution_count": 29,
     "metadata": {},
     "output_type": "execute_result"
    }
   ],
   "source": [
    "'''\n",
    "Passed all test cases\n",
    "'''"
   ]
  }
 ],
 "metadata": {
  "interpreter": {
   "hash": "bc3210eb0411503d9a54e82308439f2538c49d86b5a7c00e1ae895fbe28c5986"
  },
  "kernelspec": {
   "display_name": "Python 3.8.12 ('PythonData')",
   "language": "python",
   "name": "python3"
  },
  "language_info": {
   "codemirror_mode": {
    "name": "ipython",
    "version": 3
   },
   "file_extension": ".py",
   "mimetype": "text/x-python",
   "name": "python",
   "nbconvert_exporter": "python",
   "pygments_lexer": "ipython3",
   "version": "3.8.12"
  },
  "orig_nbformat": 4
 },
 "nbformat": 4,
 "nbformat_minor": 2
}
