{
 "cells": [
  {
   "cell_type": "code",
   "execution_count": null,
   "metadata": {},
   "outputs": [],
   "source": [
    "'''\n",
    "On your turn, you roll D6.\n",
    "\n",
    "Gain points equal to the face value of your roll, but if you roll a 1, you lose all the points you've accumlated for the round.\n",
    "\n",
    "After you roll a non-1, you can either pocket the points and pass the turn to the next player or you can roll again.\n",
    "\n",
    "The goal is to get to 30 points before you opponent.\n",
    "\n",
    "Below is the code/solution to help you with this game!\n",
    "'''"
   ]
  },
  {
   "cell_type": "code",
   "execution_count": 9,
   "metadata": {},
   "outputs": [],
   "source": [
    "import random"
   ]
  },
  {
   "cell_type": "code",
   "execution_count": 23,
   "metadata": {},
   "outputs": [],
   "source": [
    "def roll():\n",
    "    result = random.randint(1,6)\n",
    "    print(f\"Rolled a {result}\")\n",
    "    return result"
   ]
  },
  {
   "cell_type": "code",
   "execution_count": 14,
   "metadata": {},
   "outputs": [
    {
     "data": {
      "text/plain": [
       "6"
      ]
     },
     "execution_count": 14,
     "metadata": {},
     "output_type": "execute_result"
    }
   ],
   "source": [
    "roll()"
   ]
  },
  {
   "cell_type": "code",
   "execution_count": 24,
   "metadata": {},
   "outputs": [
    {
     "name": "stdout",
     "output_type": "stream",
     "text": [
      "Welcome to Greedy Pig, the dice game!\n",
      "Your turn!\n",
      "Rolled a 1\n",
      "C 0 | T(A) 0 | T(B) 0. Whoops.\n",
      "Rolled a 1\n",
      "C 0 | T(A) 0 | T(B) 0. Whoops.\n",
      "Rolled a 3\n",
      "C 3 | T(A) 0 | T(B) 0. Value.\n",
      "Rolled a 1\n",
      "C 0 | T(A) 0 | T(B) 0. Whoops.\n",
      "Rolled a 4\n",
      "C 4 | T(A) 0 | T(B) 0. Value.\n",
      "Rolled a 1\n",
      "C 0 | T(A) 0 | T(B) 0. Whoops.\n",
      "Rolled a 2\n",
      "C 2 | T(A) 0 | T(B) 0. Value.\n",
      "Rolled a 4\n",
      "C 6 | T(A) 0 | T(B) 0. Value.\n",
      "Rolled a 6\n",
      "C 12 | T(A) 0 | T(B) 0. Value.\n",
      "Rolled a 3\n",
      "C 15 | T(A) 0 | T(B) 0. Value.\n",
      "Rolled a 1\n",
      "C 0 | T(A) 0 | T(B) 0. Whoops.\n",
      "Rolled a 5\n",
      "C 5 | T(A) 0 | T(B) 0. Value.\n",
      "Rolled a 3\n",
      "C 8 | T(A) 0 | T(B) 0. Value.\n",
      "Opp turn!\n",
      "Rolled a 1\n",
      "C 0 | T(A) 8 | T(B) 0.\n",
      "Rolled a 4\n",
      "R 4 | C 4 | T(A) 8 | T(B) 0.\n",
      "Rolled a 6\n",
      "R 6 | C 10 | T(A) 8 | T(B) 0.\n",
      "Your turn!\n",
      "Rolled a 4\n",
      "C 4 | T(A) 8 | T(B) 10. Value.\n",
      "Opp turn!\n",
      "Rolled a 2\n",
      "R 2 | C 2 | T(A) 12 | T(B) 10.\n",
      "Rolled a 2\n",
      "R 2 | C 4 | T(A) 12 | T(B) 10.\n",
      "Your turn!\n",
      "Rolled a 3\n",
      "C 3 | T(A) 12 | T(B) 14. Value.\n",
      "Opp turn!\n",
      "Rolled a 6\n",
      "R 6 | C 6 | T(A) 15 | T(B) 20.\n",
      "Opponent won... Final score: [15, 14]\n"
     ]
    }
   ],
   "source": [
    "you_win = False\n",
    "else_win = False\n",
    "is_your_turn = True\n",
    "winning_score = 20\n",
    "score = [0, 0]\n",
    "\n",
    "print('Welcome to Greedy Pig, the dice game!')\n",
    "while (you_win == False) & (else_win == False):\n",
    "    # your turn\n",
    "    print('Your turn!')\n",
    "    turn_score = 0\n",
    "    while is_your_turn == True:\n",
    "        outcome = roll()\n",
    "        if outcome == 1:\n",
    "            turn_score = 0\n",
    "            print(f\"C {turn_score} | T(A) {score[0]} | T(B) {score[1]}. Whoops.\")\n",
    "        else:\n",
    "            turn_score += outcome\n",
    "            print(f\"C {turn_score} | T(A) {score[0]} | T(B) {score[1]}. Value.\")\n",
    "            user_input = input(\"Roll again? (y/*)\")\n",
    "            if user_input != 'y':\n",
    "                score[0] += turn_score\n",
    "                is_your_turn = False\n",
    "    \n",
    "    # opp turn\n",
    "    print('Opp turn!')\n",
    "    turn_score = 0\n",
    "    while is_your_turn == False:\n",
    "        outcome = roll()\n",
    "        if outcome == 1:\n",
    "            turn_score = 0\n",
    "            print(f\"C {turn_score} | T(A) {score[0]} | T(B) {score[1]}.\")\n",
    "        else:\n",
    "            turn_score += outcome\n",
    "            if turn_score + score[1] >= winning_score:\n",
    "                else_win = True\n",
    "                print(f\"R {outcome} | C {turn_score} | T(A) {score[0]} | T(B) {score[1] + turn_score}.\")\n",
    "                break\n",
    "            print(f\"R {outcome} | C {turn_score} | T(A) {score[0]} | T(B) {score[1]}.\")\n",
    "            rand_choice = random.randint(0,1)\n",
    "            if rand_choice == 0:\n",
    "                score[1] += turn_score\n",
    "                is_your_turn = True\n",
    "if you_win == True:\n",
    "    print(f\"You win! Final score: {score}!\")\n",
    "else:\n",
    "    print(f\"Opponent won... Final score: {score}\")"
   ]
  },
  {
   "cell_type": "code",
   "execution_count": null,
   "metadata": {},
   "outputs": [],
   "source": []
  }
 ],
 "metadata": {
  "interpreter": {
   "hash": "ea2b65024e24df10fa5992686c1c8510a4831519011fa6b2d6f1788e8385f578"
  },
  "kernelspec": {
   "display_name": "Python 3.8.12 64-bit ('PythonData': conda)",
   "language": "python",
   "name": "python3"
  },
  "language_info": {
   "codemirror_mode": {
    "name": "ipython",
    "version": 3
   },
   "file_extension": ".py",
   "mimetype": "text/x-python",
   "name": "python",
   "nbconvert_exporter": "python",
   "pygments_lexer": "ipython3",
   "version": "3.8.12"
  },
  "orig_nbformat": 4
 },
 "nbformat": 4,
 "nbformat_minor": 2
}
